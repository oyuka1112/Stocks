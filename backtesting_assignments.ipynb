{
 "cells": [
  {
   "cell_type": "code",
   "execution_count": 2,
   "id": "34516119",
   "metadata": {},
   "outputs": [],
   "source": [
    "from diff_cap_packages import filters"
   ]
  },
  {
   "cell_type": "code",
   "execution_count": 29,
   "id": "ef2d085b",
   "metadata": {},
   "outputs": [
    {
     "name": "stdout",
     "output_type": "stream",
     "text": [
      "Oyuka ('2005-08-09', '2008-10-10')\n",
      "Aalyan ('2008-10-13', '2011-12-13')\n",
      "Shahbab ('2011-12-14', '2015-02-20')\n",
      "Patryk ('2015-02-23', '2018-04-25')\n",
      "Varun ('2018-04-26', '2021-06-29')\n"
     ]
    }
   ],
   "source": [
    "def get_date_range(n):\n",
    "    df = filters.prices.tail(4001).iloc[800*(n-1):800*n]\n",
    "    return df.iloc[0, 0], df.iloc[-1,0]\n",
    "    \n",
    "names = [\"Oyuka\", \"Aalyan\", \"Shahbab\", \"Patryk\", \"Varun\"]\n",
    "for i in range(1, 6):\n",
    "    print(names[i-1], get_date_range(i))"
   ]
  }
 ],
 "metadata": {
  "kernelspec": {
   "display_name": "Python 3",
   "language": "python",
   "name": "python3"
  },
  "language_info": {
   "codemirror_mode": {
    "name": "ipython",
    "version": 3
   },
   "file_extension": ".py",
   "mimetype": "text/x-python",
   "name": "python",
   "nbconvert_exporter": "python",
   "pygments_lexer": "ipython3",
   "version": "3.9.6"
  }
 },
 "nbformat": 4,
 "nbformat_minor": 5
}
