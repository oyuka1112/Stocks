{
 "cells": [
  {
   "cell_type": "code",
   "execution_count": 1,
   "metadata": {},
   "outputs": [],
   "source": [
    "import pandas as pd\n",
    "import numpy as np\n",
    "import matplotlib.pyplot as plt\n",
    "import datetime\n",
    "import seaborn as sns\n",
    "import warnings\n",
    "warnings.filterwarnings('ignore')"
   ]
  },
  {
   "cell_type": "code",
   "execution_count": 2,
   "metadata": {},
   "outputs": [],
   "source": [
    "listings = pd.read_csv(\"../data/listings.csv\")\n",
    "prices = pd.read_csv(\"../data/stock_prices.csv\")\n",
    "volumes = pd.read_csv(\"../data/stock_volumes.csv\")\n",
    "market_caps = pd.read_csv(\"../data/stock_mktcaps.csv\")"
   ]
  },
  {
   "cell_type": "code",
   "execution_count": 3,
   "metadata": {},
   "outputs": [],
   "source": [
    "missing = market_caps.isna().sum()\n",
    "for i in missing.index:    \n",
    "    if missing[i] >= 1:\n",
    "        market_caps = market_caps.drop(columns=[i])\n",
    "\n"
   ]
  },
  {
   "cell_type": "code",
   "execution_count": 4,
   "metadata": {
    "scrolled": true
   },
   "outputs": [],
   "source": [
    "market_caps[\"date\"] = pd.to_datetime(market_caps['date'])\n",
    "\n",
    "market_caps = market_caps.set_index(\"date\")\n"
   ]
  },
  {
   "cell_type": "code",
   "execution_count": 5,
   "metadata": {},
   "outputs": [],
   "source": [
    "market_caps = market_caps.apply(np.float64)"
   ]
  },
  {
   "cell_type": "code",
   "execution_count": 6,
   "metadata": {},
   "outputs": [
    {
     "data": {
      "text/plain": [
       "930060    float64\n",
       "699903    float64\n",
       "879841    float64\n",
       "314909    float64\n",
       "15362F    float64\n",
       "           ...   \n",
       "362603    float64\n",
       "502585    float64\n",
       "152288    float64\n",
       "779661    float64\n",
       "317449    float64\n",
       "Length: 224, dtype: object"
      ]
     },
     "execution_count": 6,
     "metadata": {},
     "output_type": "execute_result"
    }
   ],
   "source": [
    "market_caps.dtypes"
   ]
  },
  {
   "cell_type": "markdown",
   "metadata": {},
   "source": [
    "**CLUSTERING Market Caps**"
   ]
  },
  {
   "cell_type": "code",
   "execution_count": 41,
   "metadata": {},
   "outputs": [],
   "source": [
    "from sklearn.cluster import KMeans"
   ]
  },
  {
   "cell_type": "code",
   "execution_count": 42,
   "metadata": {},
   "outputs": [
    {
     "data": {
      "text/plain": [
       "KMeans(n_clusters=5)"
      ]
     },
     "execution_count": 42,
     "metadata": {},
     "output_type": "execute_result"
    }
   ],
   "source": [
    "km = KMeans(n_clusters=5)\n",
    "km.fit(market_caps[list(market_caps.columns)])\n"
   ]
  },
  {
   "cell_type": "code",
   "execution_count": 43,
   "metadata": {},
   "outputs": [],
   "source": [
    "clusters = pd.DataFrame(km.cluster_centers_, columns=list(market_caps.columns), index=['Cluster1', 'Cluster2', 'Cluster3', 'Cluster4', 'Cluster5'])"
   ]
  },
  {
   "cell_type": "code",
   "execution_count": 44,
   "metadata": {
    "scrolled": true
   },
   "outputs": [
    {
     "data": {
      "text/html": [
       "<div>\n",
       "<style scoped>\n",
       "    .dataframe tbody tr th:only-of-type {\n",
       "        vertical-align: middle;\n",
       "    }\n",
       "\n",
       "    .dataframe tbody tr th {\n",
       "        vertical-align: top;\n",
       "    }\n",
       "\n",
       "    .dataframe thead th {\n",
       "        text-align: right;\n",
       "    }\n",
       "</style>\n",
       "<table border=\"1\" class=\"dataframe\">\n",
       "  <thead>\n",
       "    <tr style=\"text-align: right;\">\n",
       "      <th></th>\n",
       "      <th>930060</th>\n",
       "      <th>699903</th>\n",
       "      <th>879841</th>\n",
       "      <th>314909</th>\n",
       "      <th>15362F</th>\n",
       "      <th>315452</th>\n",
       "      <th>884570</th>\n",
       "      <th>992762</th>\n",
       "      <th>879650</th>\n",
       "      <th>315449</th>\n",
       "      <th>...</th>\n",
       "      <th>936980</th>\n",
       "      <th>361367</th>\n",
       "      <th>152198</th>\n",
       "      <th>871347</th>\n",
       "      <th>362603</th>\n",
       "      <th>502585</th>\n",
       "      <th>152288</th>\n",
       "      <th>779661</th>\n",
       "      <th>317449</th>\n",
       "      <th>Cluster</th>\n",
       "    </tr>\n",
       "    <tr>\n",
       "      <th>date</th>\n",
       "      <th></th>\n",
       "      <th></th>\n",
       "      <th></th>\n",
       "      <th></th>\n",
       "      <th></th>\n",
       "      <th></th>\n",
       "      <th></th>\n",
       "      <th></th>\n",
       "      <th></th>\n",
       "      <th></th>\n",
       "      <th></th>\n",
       "      <th></th>\n",
       "      <th></th>\n",
       "      <th></th>\n",
       "      <th></th>\n",
       "      <th></th>\n",
       "      <th></th>\n",
       "      <th></th>\n",
       "      <th></th>\n",
       "      <th></th>\n",
       "      <th></th>\n",
       "    </tr>\n",
       "  </thead>\n",
       "  <tbody>\n",
       "    <tr>\n",
       "      <td>2003-01-02</td>\n",
       "      <td>2658.66</td>\n",
       "      <td>547.34</td>\n",
       "      <td>674.37</td>\n",
       "      <td>20901.61</td>\n",
       "      <td>392.39</td>\n",
       "      <td>268.07</td>\n",
       "      <td>1983.24</td>\n",
       "      <td>2784.07</td>\n",
       "      <td>483.04</td>\n",
       "      <td>1585.67</td>\n",
       "      <td>...</td>\n",
       "      <td>2240.00</td>\n",
       "      <td>16.35</td>\n",
       "      <td>26.20</td>\n",
       "      <td>53.90</td>\n",
       "      <td>214.82</td>\n",
       "      <td>20.54</td>\n",
       "      <td>14.10</td>\n",
       "      <td>2835.91</td>\n",
       "      <td>1195.35</td>\n",
       "      <td>5</td>\n",
       "    </tr>\n",
       "    <tr>\n",
       "      <td>2003-01-03</td>\n",
       "      <td>2679.51</td>\n",
       "      <td>547.34</td>\n",
       "      <td>674.37</td>\n",
       "      <td>21305.57</td>\n",
       "      <td>388.42</td>\n",
       "      <td>268.07</td>\n",
       "      <td>1937.44</td>\n",
       "      <td>2858.64</td>\n",
       "      <td>483.04</td>\n",
       "      <td>1609.16</td>\n",
       "      <td>...</td>\n",
       "      <td>2240.00</td>\n",
       "      <td>16.35</td>\n",
       "      <td>26.20</td>\n",
       "      <td>53.90</td>\n",
       "      <td>214.82</td>\n",
       "      <td>20.54</td>\n",
       "      <td>14.10</td>\n",
       "      <td>2855.47</td>\n",
       "      <td>1195.35</td>\n",
       "      <td>5</td>\n",
       "    </tr>\n",
       "    <tr>\n",
       "      <td>2003-01-06</td>\n",
       "      <td>2669.09</td>\n",
       "      <td>547.34</td>\n",
       "      <td>674.37</td>\n",
       "      <td>21729.07</td>\n",
       "      <td>388.42</td>\n",
       "      <td>270.19</td>\n",
       "      <td>1937.44</td>\n",
       "      <td>2982.93</td>\n",
       "      <td>483.04</td>\n",
       "      <td>1609.16</td>\n",
       "      <td>...</td>\n",
       "      <td>2240.00</td>\n",
       "      <td>16.35</td>\n",
       "      <td>18.71</td>\n",
       "      <td>53.90</td>\n",
       "      <td>240.75</td>\n",
       "      <td>20.54</td>\n",
       "      <td>14.10</td>\n",
       "      <td>2865.25</td>\n",
       "      <td>1195.35</td>\n",
       "      <td>5</td>\n",
       "    </tr>\n",
       "    <tr>\n",
       "      <td>2003-01-07</td>\n",
       "      <td>2658.66</td>\n",
       "      <td>547.34</td>\n",
       "      <td>668.55</td>\n",
       "      <td>23129.91</td>\n",
       "      <td>388.42</td>\n",
       "      <td>270.19</td>\n",
       "      <td>1937.44</td>\n",
       "      <td>3082.36</td>\n",
       "      <td>483.04</td>\n",
       "      <td>1585.67</td>\n",
       "      <td>...</td>\n",
       "      <td>2240.00</td>\n",
       "      <td>19.32</td>\n",
       "      <td>18.71</td>\n",
       "      <td>53.90</td>\n",
       "      <td>240.75</td>\n",
       "      <td>20.54</td>\n",
       "      <td>14.10</td>\n",
       "      <td>2884.80</td>\n",
       "      <td>1195.35</td>\n",
       "      <td>5</td>\n",
       "    </tr>\n",
       "    <tr>\n",
       "      <td>2003-01-08</td>\n",
       "      <td>2658.66</td>\n",
       "      <td>547.34</td>\n",
       "      <td>668.55</td>\n",
       "      <td>22308.95</td>\n",
       "      <td>388.42</td>\n",
       "      <td>270.19</td>\n",
       "      <td>1937.44</td>\n",
       "      <td>3057.51</td>\n",
       "      <td>483.04</td>\n",
       "      <td>1550.43</td>\n",
       "      <td>...</td>\n",
       "      <td>2240.00</td>\n",
       "      <td>19.32</td>\n",
       "      <td>18.71</td>\n",
       "      <td>53.90</td>\n",
       "      <td>240.75</td>\n",
       "      <td>20.65</td>\n",
       "      <td>14.10</td>\n",
       "      <td>2894.58</td>\n",
       "      <td>1157.99</td>\n",
       "      <td>5</td>\n",
       "    </tr>\n",
       "    <tr>\n",
       "      <td>...</td>\n",
       "      <td>...</td>\n",
       "      <td>...</td>\n",
       "      <td>...</td>\n",
       "      <td>...</td>\n",
       "      <td>...</td>\n",
       "      <td>...</td>\n",
       "      <td>...</td>\n",
       "      <td>...</td>\n",
       "      <td>...</td>\n",
       "      <td>...</td>\n",
       "      <td>...</td>\n",
       "      <td>...</td>\n",
       "      <td>...</td>\n",
       "      <td>...</td>\n",
       "      <td>...</td>\n",
       "      <td>...</td>\n",
       "      <td>...</td>\n",
       "      <td>...</td>\n",
       "      <td>...</td>\n",
       "      <td>...</td>\n",
       "      <td>...</td>\n",
       "    </tr>\n",
       "    <tr>\n",
       "      <td>2021-06-24</td>\n",
       "      <td>10915.28</td>\n",
       "      <td>86.36</td>\n",
       "      <td>760.07</td>\n",
       "      <td>113598.50</td>\n",
       "      <td>13739.52</td>\n",
       "      <td>659.73</td>\n",
       "      <td>2658.56</td>\n",
       "      <td>556.53</td>\n",
       "      <td>545.55</td>\n",
       "      <td>2607.55</td>\n",
       "      <td>...</td>\n",
       "      <td>44604.41</td>\n",
       "      <td>1680.98</td>\n",
       "      <td>132.46</td>\n",
       "      <td>2873.02</td>\n",
       "      <td>1431.21</td>\n",
       "      <td>622.73</td>\n",
       "      <td>2599.43</td>\n",
       "      <td>37927.40</td>\n",
       "      <td>21410.80</td>\n",
       "      <td>3</td>\n",
       "    </tr>\n",
       "    <tr>\n",
       "      <td>2021-06-25</td>\n",
       "      <td>10884.50</td>\n",
       "      <td>86.36</td>\n",
       "      <td>760.07</td>\n",
       "      <td>114861.70</td>\n",
       "      <td>13739.52</td>\n",
       "      <td>661.93</td>\n",
       "      <td>2658.56</td>\n",
       "      <td>556.53</td>\n",
       "      <td>545.55</td>\n",
       "      <td>2607.55</td>\n",
       "      <td>...</td>\n",
       "      <td>44604.41</td>\n",
       "      <td>1715.28</td>\n",
       "      <td>132.46</td>\n",
       "      <td>2873.02</td>\n",
       "      <td>1374.83</td>\n",
       "      <td>622.73</td>\n",
       "      <td>2530.42</td>\n",
       "      <td>37405.35</td>\n",
       "      <td>21212.56</td>\n",
       "      <td>3</td>\n",
       "    </tr>\n",
       "    <tr>\n",
       "      <td>2021-06-28</td>\n",
       "      <td>10736.07</td>\n",
       "      <td>86.36</td>\n",
       "      <td>760.07</td>\n",
       "      <td>111606.30</td>\n",
       "      <td>13739.52</td>\n",
       "      <td>625.64</td>\n",
       "      <td>2658.56</td>\n",
       "      <td>556.53</td>\n",
       "      <td>545.55</td>\n",
       "      <td>2607.55</td>\n",
       "      <td>...</td>\n",
       "      <td>44604.41</td>\n",
       "      <td>1654.02</td>\n",
       "      <td>132.46</td>\n",
       "      <td>2873.02</td>\n",
       "      <td>1379.17</td>\n",
       "      <td>622.73</td>\n",
       "      <td>2530.42</td>\n",
       "      <td>37146.55</td>\n",
       "      <td>21225.77</td>\n",
       "      <td>3</td>\n",
       "    </tr>\n",
       "    <tr>\n",
       "      <td>2021-06-29</td>\n",
       "      <td>10920.78</td>\n",
       "      <td>86.36</td>\n",
       "      <td>760.07</td>\n",
       "      <td>114514.10</td>\n",
       "      <td>13739.52</td>\n",
       "      <td>648.73</td>\n",
       "      <td>2658.56</td>\n",
       "      <td>556.53</td>\n",
       "      <td>545.55</td>\n",
       "      <td>2607.55</td>\n",
       "      <td>...</td>\n",
       "      <td>44604.41</td>\n",
       "      <td>1651.57</td>\n",
       "      <td>132.46</td>\n",
       "      <td>2873.02</td>\n",
       "      <td>1379.17</td>\n",
       "      <td>622.73</td>\n",
       "      <td>2507.41</td>\n",
       "      <td>37371.88</td>\n",
       "      <td>21291.86</td>\n",
       "      <td>3</td>\n",
       "    </tr>\n",
       "    <tr>\n",
       "      <td>2021-06-30</td>\n",
       "      <td>10808.63</td>\n",
       "      <td>86.36</td>\n",
       "      <td>760.07</td>\n",
       "      <td>115056.60</td>\n",
       "      <td>13739.52</td>\n",
       "      <td>571.76</td>\n",
       "      <td>2658.56</td>\n",
       "      <td>556.53</td>\n",
       "      <td>545.55</td>\n",
       "      <td>2607.55</td>\n",
       "      <td>...</td>\n",
       "      <td>44604.41</td>\n",
       "      <td>1694.46</td>\n",
       "      <td>132.46</td>\n",
       "      <td>2873.02</td>\n",
       "      <td>1370.49</td>\n",
       "      <td>619.42</td>\n",
       "      <td>2541.92</td>\n",
       "      <td>37258.10</td>\n",
       "      <td>22031.98</td>\n",
       "      <td>3</td>\n",
       "    </tr>\n",
       "  </tbody>\n",
       "</table>\n",
       "<p>4656 rows × 225 columns</p>\n",
       "</div>"
      ],
      "text/plain": [
       "              930060  699903  879841     314909    15362F  315452   884570  \\\n",
       "date                                                                         \n",
       "2003-01-02   2658.66  547.34  674.37   20901.61    392.39  268.07  1983.24   \n",
       "2003-01-03   2679.51  547.34  674.37   21305.57    388.42  268.07  1937.44   \n",
       "2003-01-06   2669.09  547.34  674.37   21729.07    388.42  270.19  1937.44   \n",
       "2003-01-07   2658.66  547.34  668.55   23129.91    388.42  270.19  1937.44   \n",
       "2003-01-08   2658.66  547.34  668.55   22308.95    388.42  270.19  1937.44   \n",
       "...              ...     ...     ...        ...       ...     ...      ...   \n",
       "2021-06-24  10915.28   86.36  760.07  113598.50  13739.52  659.73  2658.56   \n",
       "2021-06-25  10884.50   86.36  760.07  114861.70  13739.52  661.93  2658.56   \n",
       "2021-06-28  10736.07   86.36  760.07  111606.30  13739.52  625.64  2658.56   \n",
       "2021-06-29  10920.78   86.36  760.07  114514.10  13739.52  648.73  2658.56   \n",
       "2021-06-30  10808.63   86.36  760.07  115056.60  13739.52  571.76  2658.56   \n",
       "\n",
       "             992762  879650   315449  ...    936980   361367  152198   871347  \\\n",
       "date                                  ...                                       \n",
       "2003-01-02  2784.07  483.04  1585.67  ...   2240.00    16.35   26.20    53.90   \n",
       "2003-01-03  2858.64  483.04  1609.16  ...   2240.00    16.35   26.20    53.90   \n",
       "2003-01-06  2982.93  483.04  1609.16  ...   2240.00    16.35   18.71    53.90   \n",
       "2003-01-07  3082.36  483.04  1585.67  ...   2240.00    19.32   18.71    53.90   \n",
       "2003-01-08  3057.51  483.04  1550.43  ...   2240.00    19.32   18.71    53.90   \n",
       "...             ...     ...      ...  ...       ...      ...     ...      ...   \n",
       "2021-06-24   556.53  545.55  2607.55  ...  44604.41  1680.98  132.46  2873.02   \n",
       "2021-06-25   556.53  545.55  2607.55  ...  44604.41  1715.28  132.46  2873.02   \n",
       "2021-06-28   556.53  545.55  2607.55  ...  44604.41  1654.02  132.46  2873.02   \n",
       "2021-06-29   556.53  545.55  2607.55  ...  44604.41  1651.57  132.46  2873.02   \n",
       "2021-06-30   556.53  545.55  2607.55  ...  44604.41  1694.46  132.46  2873.02   \n",
       "\n",
       "             362603  502585   152288    779661    317449  Cluster  \n",
       "date                                                               \n",
       "2003-01-02   214.82   20.54    14.10   2835.91   1195.35        5  \n",
       "2003-01-03   214.82   20.54    14.10   2855.47   1195.35        5  \n",
       "2003-01-06   240.75   20.54    14.10   2865.25   1195.35        5  \n",
       "2003-01-07   240.75   20.54    14.10   2884.80   1195.35        5  \n",
       "2003-01-08   240.75   20.65    14.10   2894.58   1157.99        5  \n",
       "...             ...     ...      ...       ...       ...      ...  \n",
       "2021-06-24  1431.21  622.73  2599.43  37927.40  21410.80        3  \n",
       "2021-06-25  1374.83  622.73  2530.42  37405.35  21212.56        3  \n",
       "2021-06-28  1379.17  622.73  2530.42  37146.55  21225.77        3  \n",
       "2021-06-29  1379.17  622.73  2507.41  37371.88  21291.86        3  \n",
       "2021-06-30  1370.49  619.42  2541.92  37258.10  22031.98        3  \n",
       "\n",
       "[4656 rows x 225 columns]"
      ]
     },
     "execution_count": 44,
     "metadata": {},
     "output_type": "execute_result"
    }
   ],
   "source": [
    "market_caps['Cluster'] = km.labels_ + 1\n",
    "market_caps"
   ]
  },
  {
   "cell_type": "code",
   "execution_count": 11,
   "metadata": {},
   "outputs": [],
   "source": [
    "inertia = []\n",
    "for k in range(1 , 21):\n",
    "    estimator = KMeans(n_clusters=k)\n",
    "    estimator.fit(market_caps[list(market_caps.columns)])\n",
    "    inertia.append(estimator.inertia_)"
   ]
  },
  {
   "cell_type": "code",
   "execution_count": 12,
   "metadata": {
    "scrolled": true
   },
   "outputs": [
    {
     "data": {
      "text/plain": [
       "<matplotlib.axes._subplots.AxesSubplot at 0x1a1e6ff890>"
      ]
     },
     "execution_count": 12,
     "metadata": {},
     "output_type": "execute_result"
    },
    {
     "data": {
      "image/png": "[encoded data removed]",
      "text/plain": [
       "<Figure size 432x288 with 1 Axes>"
      ]
     },
     "metadata": {
      "needs_background": "light"
     },
     "output_type": "display_data"
    }
   ],
   "source": [
    "sns.pointplot(np.arange(1,21), inertia)"
   ]
  },
  {
   "cell_type": "code",
   "execution_count": 49,
   "metadata": {},
   "outputs": [
    {
     "data": {
      "text/plain": [
       "<seaborn.axisgrid.FacetGrid at 0x1b259938d0>"
      ]
     },
     "execution_count": 49,
     "metadata": {},
     "output_type": "execute_result"
    },
    {
     "data": {
      "image/png": "[encoded data removed]",
      "text/plain": [
       "<Figure size 431.5x360 with 1 Axes>"
      ]
     },
     "metadata": {
      "needs_background": "light"
     },
     "output_type": "display_data"
    }
   ],
   "source": [
    "sns.relplot(x=\"930060\", y=\"699903\", data=market_caps, hue=\"Cluster\")"
   ]
  },
  {
   "cell_type": "code",
   "execution_count": null,
   "metadata": {},
   "outputs": [],
   "source": []
  }
 ],
 "metadata": {
  "kernelspec": {
   "display_name": "Python 3",
   "language": "python",
   "name": "python3"
  },
  "language_info": {
   "codemirror_mode": {
    "name": "ipython",
    "version": 3
   },
   "file_extension": ".py",
   "mimetype": "text/x-python",
   "name": "python",
   "nbconvert_exporter": "python",
   "pygments_lexer": "ipython3",
   "version": "3.7.4"
  }
 },
 "nbformat": 4,
 "nbformat_minor": 5
}
