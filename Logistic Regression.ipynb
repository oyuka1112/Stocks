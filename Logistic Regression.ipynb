{
 "cells": [
  {
   "cell_type": "code",
   "execution_count": 1,
   "metadata": {},
   "outputs": [],
   "source": [
    "from diff_cap_packages import Xy\n",
    "from diff_cap_packages import ta\n",
    "import pandas as pd\n",
    "import numpy as np\n",
    "import matplotlib.pyplot as plt\n",
    "import statsmodels.api as sm"
   ]
  },
  {
   "cell_type": "code",
   "execution_count": 2,
   "metadata": {},
   "outputs": [],
   "source": [
    "df = Xy.get_prices_df()"
   ]
  },
  {
   "cell_type": "code",
   "execution_count": 3,
   "metadata": {},
   "outputs": [
    {
     "data": {
      "text/html": [
       "<div>\n",
       "<style scoped>\n",
       "    .dataframe tbody tr th:only-of-type {\n",
       "        vertical-align: middle;\n",
       "    }\n",
       "\n",
       "    .dataframe tbody tr th {\n",
       "        vertical-align: top;\n",
       "    }\n",
       "\n",
       "    .dataframe thead th {\n",
       "        text-align: right;\n",
       "    }\n",
       "</style>\n",
       "<table border=\"1\" class=\"dataframe\">\n",
       "  <thead>\n",
       "    <tr style=\"text-align: right;\">\n",
       "      <th></th>\n",
       "      <th>930060</th>\n",
       "      <th>699903</th>\n",
       "      <th>879841</th>\n",
       "      <th>314909</th>\n",
       "      <th>15362F</th>\n",
       "      <th>315452</th>\n",
       "      <th>884570</th>\n",
       "      <th>992762</th>\n",
       "      <th>879650</th>\n",
       "      <th>315449</th>\n",
       "      <th>...</th>\n",
       "      <th>9511Z8</th>\n",
       "      <th>95335N</th>\n",
       "      <th>96147L</th>\n",
       "      <th>9664FT</th>\n",
       "      <th>9664FU</th>\n",
       "      <th>9911WP</th>\n",
       "      <th>9930FR</th>\n",
       "      <th>99142R</th>\n",
       "      <th>2569A8</th>\n",
       "      <th>2579PR</th>\n",
       "    </tr>\n",
       "    <tr>\n",
       "      <th>date</th>\n",
       "      <th></th>\n",
       "      <th></th>\n",
       "      <th></th>\n",
       "      <th></th>\n",
       "      <th></th>\n",
       "      <th></th>\n",
       "      <th></th>\n",
       "      <th></th>\n",
       "      <th></th>\n",
       "      <th></th>\n",
       "      <th></th>\n",
       "      <th></th>\n",
       "      <th></th>\n",
       "      <th></th>\n",
       "      <th></th>\n",
       "      <th></th>\n",
       "      <th></th>\n",
       "      <th></th>\n",
       "      <th></th>\n",
       "      <th></th>\n",
       "      <th></th>\n",
       "    </tr>\n",
       "  </thead>\n",
       "  <tbody>\n",
       "    <tr>\n",
       "      <td>2003-01-02</td>\n",
       "      <td>25.50</td>\n",
       "      <td>1.47</td>\n",
       "      <td>5.80</td>\n",
       "      <td>32.08</td>\n",
       "      <td>9.90</td>\n",
       "      <td>6.14</td>\n",
       "      <td>5.63</td>\n",
       "      <td>1.99</td>\n",
       "      <td>1.70</td>\n",
       "      <td>13.5</td>\n",
       "      <td>...</td>\n",
       "      <td>NaN</td>\n",
       "      <td>NaN</td>\n",
       "      <td>NaN</td>\n",
       "      <td>NaN</td>\n",
       "      <td>NaN</td>\n",
       "      <td>NaN</td>\n",
       "      <td>NaN</td>\n",
       "      <td>NaN</td>\n",
       "      <td>NaN</td>\n",
       "      <td>NaN</td>\n",
       "    </tr>\n",
       "    <tr>\n",
       "      <td>2003-01-03</td>\n",
       "      <td>25.70</td>\n",
       "      <td>1.47</td>\n",
       "      <td>5.80</td>\n",
       "      <td>32.70</td>\n",
       "      <td>9.80</td>\n",
       "      <td>6.14</td>\n",
       "      <td>5.50</td>\n",
       "      <td>2.04</td>\n",
       "      <td>1.70</td>\n",
       "      <td>13.7</td>\n",
       "      <td>...</td>\n",
       "      <td>NaN</td>\n",
       "      <td>NaN</td>\n",
       "      <td>NaN</td>\n",
       "      <td>NaN</td>\n",
       "      <td>NaN</td>\n",
       "      <td>NaN</td>\n",
       "      <td>NaN</td>\n",
       "      <td>NaN</td>\n",
       "      <td>NaN</td>\n",
       "      <td>NaN</td>\n",
       "    </tr>\n",
       "    <tr>\n",
       "      <td>2003-01-06</td>\n",
       "      <td>25.60</td>\n",
       "      <td>1.47</td>\n",
       "      <td>5.80</td>\n",
       "      <td>33.35</td>\n",
       "      <td>9.80</td>\n",
       "      <td>6.19</td>\n",
       "      <td>5.50</td>\n",
       "      <td>2.13</td>\n",
       "      <td>1.70</td>\n",
       "      <td>13.7</td>\n",
       "      <td>...</td>\n",
       "      <td>NaN</td>\n",
       "      <td>NaN</td>\n",
       "      <td>NaN</td>\n",
       "      <td>NaN</td>\n",
       "      <td>NaN</td>\n",
       "      <td>NaN</td>\n",
       "      <td>NaN</td>\n",
       "      <td>NaN</td>\n",
       "      <td>NaN</td>\n",
       "      <td>NaN</td>\n",
       "    </tr>\n",
       "    <tr>\n",
       "      <td>2003-01-07</td>\n",
       "      <td>25.50</td>\n",
       "      <td>1.47</td>\n",
       "      <td>5.75</td>\n",
       "      <td>35.50</td>\n",
       "      <td>9.80</td>\n",
       "      <td>6.19</td>\n",
       "      <td>5.50</td>\n",
       "      <td>2.20</td>\n",
       "      <td>1.70</td>\n",
       "      <td>13.5</td>\n",
       "      <td>...</td>\n",
       "      <td>NaN</td>\n",
       "      <td>NaN</td>\n",
       "      <td>NaN</td>\n",
       "      <td>NaN</td>\n",
       "      <td>NaN</td>\n",
       "      <td>NaN</td>\n",
       "      <td>NaN</td>\n",
       "      <td>NaN</td>\n",
       "      <td>NaN</td>\n",
       "      <td>NaN</td>\n",
       "    </tr>\n",
       "    <tr>\n",
       "      <td>2003-01-08</td>\n",
       "      <td>25.50</td>\n",
       "      <td>1.47</td>\n",
       "      <td>5.75</td>\n",
       "      <td>34.24</td>\n",
       "      <td>9.80</td>\n",
       "      <td>6.19</td>\n",
       "      <td>5.50</td>\n",
       "      <td>2.18</td>\n",
       "      <td>1.70</td>\n",
       "      <td>13.2</td>\n",
       "      <td>...</td>\n",
       "      <td>NaN</td>\n",
       "      <td>NaN</td>\n",
       "      <td>NaN</td>\n",
       "      <td>NaN</td>\n",
       "      <td>NaN</td>\n",
       "      <td>NaN</td>\n",
       "      <td>NaN</td>\n",
       "      <td>NaN</td>\n",
       "      <td>NaN</td>\n",
       "      <td>NaN</td>\n",
       "    </tr>\n",
       "    <tr>\n",
       "      <td>...</td>\n",
       "      <td>...</td>\n",
       "      <td>...</td>\n",
       "      <td>...</td>\n",
       "      <td>...</td>\n",
       "      <td>...</td>\n",
       "      <td>...</td>\n",
       "      <td>...</td>\n",
       "      <td>...</td>\n",
       "      <td>...</td>\n",
       "      <td>...</td>\n",
       "      <td>...</td>\n",
       "      <td>...</td>\n",
       "      <td>...</td>\n",
       "      <td>...</td>\n",
       "      <td>...</td>\n",
       "      <td>...</td>\n",
       "      <td>...</td>\n",
       "      <td>...</td>\n",
       "      <td>...</td>\n",
       "      <td>...</td>\n",
       "      <td>...</td>\n",
       "    </tr>\n",
       "    <tr>\n",
       "      <td>2021-06-24</td>\n",
       "      <td>99.28</td>\n",
       "      <td>0.02</td>\n",
       "      <td>7.60</td>\n",
       "      <td>134.00</td>\n",
       "      <td>57.01</td>\n",
       "      <td>6.00</td>\n",
       "      <td>7.08</td>\n",
       "      <td>0.39</td>\n",
       "      <td>1.92</td>\n",
       "      <td>22.2</td>\n",
       "      <td>...</td>\n",
       "      <td>1385.99</td>\n",
       "      <td>484.44</td>\n",
       "      <td>60.47</td>\n",
       "      <td>43.77</td>\n",
       "      <td>43.99</td>\n",
       "      <td>0.94</td>\n",
       "      <td>119.50</td>\n",
       "      <td>91.77</td>\n",
       "      <td>532.00</td>\n",
       "      <td>36.47</td>\n",
       "    </tr>\n",
       "    <tr>\n",
       "      <td>2021-06-25</td>\n",
       "      <td>99.00</td>\n",
       "      <td>0.02</td>\n",
       "      <td>7.60</td>\n",
       "      <td>135.49</td>\n",
       "      <td>57.01</td>\n",
       "      <td>6.02</td>\n",
       "      <td>7.08</td>\n",
       "      <td>0.39</td>\n",
       "      <td>1.92</td>\n",
       "      <td>22.2</td>\n",
       "      <td>...</td>\n",
       "      <td>1379.04</td>\n",
       "      <td>491.00</td>\n",
       "      <td>59.50</td>\n",
       "      <td>44.25</td>\n",
       "      <td>43.95</td>\n",
       "      <td>0.93</td>\n",
       "      <td>120.33</td>\n",
       "      <td>90.98</td>\n",
       "      <td>535.10</td>\n",
       "      <td>37.12</td>\n",
       "    </tr>\n",
       "    <tr>\n",
       "      <td>2021-06-28</td>\n",
       "      <td>97.65</td>\n",
       "      <td>0.02</td>\n",
       "      <td>7.60</td>\n",
       "      <td>131.65</td>\n",
       "      <td>57.01</td>\n",
       "      <td>5.69</td>\n",
       "      <td>7.08</td>\n",
       "      <td>0.39</td>\n",
       "      <td>1.92</td>\n",
       "      <td>22.2</td>\n",
       "      <td>...</td>\n",
       "      <td>1396.07</td>\n",
       "      <td>480.00</td>\n",
       "      <td>59.54</td>\n",
       "      <td>43.22</td>\n",
       "      <td>43.69</td>\n",
       "      <td>0.90</td>\n",
       "      <td>120.00</td>\n",
       "      <td>90.54</td>\n",
       "      <td>536.65</td>\n",
       "      <td>37.49</td>\n",
       "    </tr>\n",
       "    <tr>\n",
       "      <td>2021-06-29</td>\n",
       "      <td>99.33</td>\n",
       "      <td>0.02</td>\n",
       "      <td>7.60</td>\n",
       "      <td>135.08</td>\n",
       "      <td>57.01</td>\n",
       "      <td>5.90</td>\n",
       "      <td>7.08</td>\n",
       "      <td>0.39</td>\n",
       "      <td>1.92</td>\n",
       "      <td>22.2</td>\n",
       "      <td>...</td>\n",
       "      <td>1424.84</td>\n",
       "      <td>479.20</td>\n",
       "      <td>59.52</td>\n",
       "      <td>43.37</td>\n",
       "      <td>44.03</td>\n",
       "      <td>0.95</td>\n",
       "      <td>117.51</td>\n",
       "      <td>90.12</td>\n",
       "      <td>536.65</td>\n",
       "      <td>38.05</td>\n",
       "    </tr>\n",
       "    <tr>\n",
       "      <td>2021-06-30</td>\n",
       "      <td>98.31</td>\n",
       "      <td>0.02</td>\n",
       "      <td>7.60</td>\n",
       "      <td>135.72</td>\n",
       "      <td>57.01</td>\n",
       "      <td>5.20</td>\n",
       "      <td>7.08</td>\n",
       "      <td>0.39</td>\n",
       "      <td>1.92</td>\n",
       "      <td>22.2</td>\n",
       "      <td>...</td>\n",
       "      <td>1404.84</td>\n",
       "      <td>474.60</td>\n",
       "      <td>59.66</td>\n",
       "      <td>42.75</td>\n",
       "      <td>43.78</td>\n",
       "      <td>0.90</td>\n",
       "      <td>109.99</td>\n",
       "      <td>91.01</td>\n",
       "      <td>530.11</td>\n",
       "      <td>38.80</td>\n",
       "    </tr>\n",
       "  </tbody>\n",
       "</table>\n",
       "<p>4656 rows × 376 columns</p>\n",
       "</div>"
      ],
      "text/plain": [
       "            930060  699903  879841  314909  15362F  315452  884570  992762  \\\n",
       "date                                                                         \n",
       "2003-01-02   25.50    1.47    5.80   32.08    9.90    6.14    5.63    1.99   \n",
       "2003-01-03   25.70    1.47    5.80   32.70    9.80    6.14    5.50    2.04   \n",
       "2003-01-06   25.60    1.47    5.80   33.35    9.80    6.19    5.50    2.13   \n",
       "2003-01-07   25.50    1.47    5.75   35.50    9.80    6.19    5.50    2.20   \n",
       "2003-01-08   25.50    1.47    5.75   34.24    9.80    6.19    5.50    2.18   \n",
       "...            ...     ...     ...     ...     ...     ...     ...     ...   \n",
       "2021-06-24   99.28    0.02    7.60  134.00   57.01    6.00    7.08    0.39   \n",
       "2021-06-25   99.00    0.02    7.60  135.49   57.01    6.02    7.08    0.39   \n",
       "2021-06-28   97.65    0.02    7.60  131.65   57.01    5.69    7.08    0.39   \n",
       "2021-06-29   99.33    0.02    7.60  135.08   57.01    5.90    7.08    0.39   \n",
       "2021-06-30   98.31    0.02    7.60  135.72   57.01    5.20    7.08    0.39   \n",
       "\n",
       "            879650  315449  ...   9511Z8  95335N  96147L  9664FT  9664FU  \\\n",
       "date                        ...                                            \n",
       "2003-01-02    1.70    13.5  ...      NaN     NaN     NaN     NaN     NaN   \n",
       "2003-01-03    1.70    13.7  ...      NaN     NaN     NaN     NaN     NaN   \n",
       "2003-01-06    1.70    13.7  ...      NaN     NaN     NaN     NaN     NaN   \n",
       "2003-01-07    1.70    13.5  ...      NaN     NaN     NaN     NaN     NaN   \n",
       "2003-01-08    1.70    13.2  ...      NaN     NaN     NaN     NaN     NaN   \n",
       "...            ...     ...  ...      ...     ...     ...     ...     ...   \n",
       "2021-06-24    1.92    22.2  ...  1385.99  484.44   60.47   43.77   43.99   \n",
       "2021-06-25    1.92    22.2  ...  1379.04  491.00   59.50   44.25   43.95   \n",
       "2021-06-28    1.92    22.2  ...  1396.07  480.00   59.54   43.22   43.69   \n",
       "2021-06-29    1.92    22.2  ...  1424.84  479.20   59.52   43.37   44.03   \n",
       "2021-06-30    1.92    22.2  ...  1404.84  474.60   59.66   42.75   43.78   \n",
       "\n",
       "            9911WP  9930FR  99142R  2569A8  2579PR  \n",
       "date                                                \n",
       "2003-01-02     NaN     NaN     NaN     NaN     NaN  \n",
       "2003-01-03     NaN     NaN     NaN     NaN     NaN  \n",
       "2003-01-06     NaN     NaN     NaN     NaN     NaN  \n",
       "2003-01-07     NaN     NaN     NaN     NaN     NaN  \n",
       "2003-01-08     NaN     NaN     NaN     NaN     NaN  \n",
       "...            ...     ...     ...     ...     ...  \n",
       "2021-06-24    0.94  119.50   91.77  532.00   36.47  \n",
       "2021-06-25    0.93  120.33   90.98  535.10   37.12  \n",
       "2021-06-28    0.90  120.00   90.54  536.65   37.49  \n",
       "2021-06-29    0.95  117.51   90.12  536.65   38.05  \n",
       "2021-06-30    0.90  109.99   91.01  530.11   38.80  \n",
       "\n",
       "[4656 rows x 376 columns]"
      ]
     },
     "execution_count": 3,
     "metadata": {},
     "output_type": "execute_result"
    }
   ],
   "source": [
    "df"
   ]
  },
  {
   "cell_type": "code",
   "execution_count": 4,
   "metadata": {},
   "outputs": [],
   "source": [
    "x,y = Xy.get_market_Xy(target_id=\"930060\")"
   ]
  },
  {
   "cell_type": "code",
   "execution_count": 5,
   "metadata": {},
   "outputs": [],
   "source": [
    "df = y[\"930060 +0 day\"].pct_change() * 100\n",
    "df = df.rename(\"Today\")\n",
    "df = df.reset_index()"
   ]
  },
  {
   "cell_type": "code",
   "execution_count": 6,
   "metadata": {},
   "outputs": [],
   "source": [
    "for i in range(1,6):\n",
    "    df[\"Lag \" + str(i)] = df[\"Today\"].shift(i)"
   ]
  },
  {
   "cell_type": "code",
   "execution_count": 7,
   "metadata": {},
   "outputs": [
    {
     "data": {
      "text/html": [
       "<div>\n",
       "<style scoped>\n",
       "    .dataframe tbody tr th:only-of-type {\n",
       "        vertical-align: middle;\n",
       "    }\n",
       "\n",
       "    .dataframe tbody tr th {\n",
       "        vertical-align: top;\n",
       "    }\n",
       "\n",
       "    .dataframe thead th {\n",
       "        text-align: right;\n",
       "    }\n",
       "</style>\n",
       "<table border=\"1\" class=\"dataframe\">\n",
       "  <thead>\n",
       "    <tr style=\"text-align: right;\">\n",
       "      <th></th>\n",
       "      <th>date</th>\n",
       "      <th>Today</th>\n",
       "      <th>Lag 1</th>\n",
       "      <th>Lag 2</th>\n",
       "      <th>Lag 3</th>\n",
       "      <th>Lag 4</th>\n",
       "      <th>Lag 5</th>\n",
       "    </tr>\n",
       "  </thead>\n",
       "  <tbody>\n",
       "    <tr>\n",
       "      <td>0</td>\n",
       "      <td>2003-01-02</td>\n",
       "      <td>NaN</td>\n",
       "      <td>NaN</td>\n",
       "      <td>NaN</td>\n",
       "      <td>NaN</td>\n",
       "      <td>NaN</td>\n",
       "      <td>NaN</td>\n",
       "    </tr>\n",
       "    <tr>\n",
       "      <td>1</td>\n",
       "      <td>2003-01-03</td>\n",
       "      <td>0.784314</td>\n",
       "      <td>NaN</td>\n",
       "      <td>NaN</td>\n",
       "      <td>NaN</td>\n",
       "      <td>NaN</td>\n",
       "      <td>NaN</td>\n",
       "    </tr>\n",
       "    <tr>\n",
       "      <td>2</td>\n",
       "      <td>2003-01-06</td>\n",
       "      <td>-0.389105</td>\n",
       "      <td>0.784314</td>\n",
       "      <td>NaN</td>\n",
       "      <td>NaN</td>\n",
       "      <td>NaN</td>\n",
       "      <td>NaN</td>\n",
       "    </tr>\n",
       "    <tr>\n",
       "      <td>3</td>\n",
       "      <td>2003-01-07</td>\n",
       "      <td>-0.390625</td>\n",
       "      <td>-0.389105</td>\n",
       "      <td>0.784314</td>\n",
       "      <td>NaN</td>\n",
       "      <td>NaN</td>\n",
       "      <td>NaN</td>\n",
       "    </tr>\n",
       "    <tr>\n",
       "      <td>4</td>\n",
       "      <td>2003-01-08</td>\n",
       "      <td>0.000000</td>\n",
       "      <td>-0.390625</td>\n",
       "      <td>-0.389105</td>\n",
       "      <td>0.784314</td>\n",
       "      <td>NaN</td>\n",
       "      <td>NaN</td>\n",
       "    </tr>\n",
       "    <tr>\n",
       "      <td>...</td>\n",
       "      <td>...</td>\n",
       "      <td>...</td>\n",
       "      <td>...</td>\n",
       "      <td>...</td>\n",
       "      <td>...</td>\n",
       "      <td>...</td>\n",
       "      <td>...</td>\n",
       "    </tr>\n",
       "    <tr>\n",
       "      <td>4651</td>\n",
       "      <td>2021-06-24</td>\n",
       "      <td>0.000000</td>\n",
       "      <td>0.996948</td>\n",
       "      <td>1.602067</td>\n",
       "      <td>-0.606123</td>\n",
       "      <td>-3.355838</td>\n",
       "      <td>-2.194601</td>\n",
       "    </tr>\n",
       "    <tr>\n",
       "      <td>4652</td>\n",
       "      <td>2021-06-25</td>\n",
       "      <td>-0.282031</td>\n",
       "      <td>0.000000</td>\n",
       "      <td>0.996948</td>\n",
       "      <td>1.602067</td>\n",
       "      <td>-0.606123</td>\n",
       "      <td>-3.355838</td>\n",
       "    </tr>\n",
       "    <tr>\n",
       "      <td>4653</td>\n",
       "      <td>2021-06-28</td>\n",
       "      <td>-1.363636</td>\n",
       "      <td>-0.282031</td>\n",
       "      <td>0.000000</td>\n",
       "      <td>0.996948</td>\n",
       "      <td>1.602067</td>\n",
       "      <td>-0.606123</td>\n",
       "    </tr>\n",
       "    <tr>\n",
       "      <td>4654</td>\n",
       "      <td>2021-06-29</td>\n",
       "      <td>1.720430</td>\n",
       "      <td>-1.363636</td>\n",
       "      <td>-0.282031</td>\n",
       "      <td>0.000000</td>\n",
       "      <td>0.996948</td>\n",
       "      <td>1.602067</td>\n",
       "    </tr>\n",
       "    <tr>\n",
       "      <td>4655</td>\n",
       "      <td>2021-06-30</td>\n",
       "      <td>-1.026880</td>\n",
       "      <td>1.720430</td>\n",
       "      <td>-1.363636</td>\n",
       "      <td>-0.282031</td>\n",
       "      <td>0.000000</td>\n",
       "      <td>0.996948</td>\n",
       "    </tr>\n",
       "  </tbody>\n",
       "</table>\n",
       "<p>4656 rows × 7 columns</p>\n",
       "</div>"
      ],
      "text/plain": [
       "           date     Today     Lag 1     Lag 2     Lag 3     Lag 4     Lag 5\n",
       "0    2003-01-02       NaN       NaN       NaN       NaN       NaN       NaN\n",
       "1    2003-01-03  0.784314       NaN       NaN       NaN       NaN       NaN\n",
       "2    2003-01-06 -0.389105  0.784314       NaN       NaN       NaN       NaN\n",
       "3    2003-01-07 -0.390625 -0.389105  0.784314       NaN       NaN       NaN\n",
       "4    2003-01-08  0.000000 -0.390625 -0.389105  0.784314       NaN       NaN\n",
       "...         ...       ...       ...       ...       ...       ...       ...\n",
       "4651 2021-06-24  0.000000  0.996948  1.602067 -0.606123 -3.355838 -2.194601\n",
       "4652 2021-06-25 -0.282031  0.000000  0.996948  1.602067 -0.606123 -3.355838\n",
       "4653 2021-06-28 -1.363636 -0.282031  0.000000  0.996948  1.602067 -0.606123\n",
       "4654 2021-06-29  1.720430 -1.363636 -0.282031  0.000000  0.996948  1.602067\n",
       "4655 2021-06-30 -1.026880  1.720430 -1.363636 -0.282031  0.000000  0.996948\n",
       "\n",
       "[4656 rows x 7 columns]"
      ]
     },
     "execution_count": 7,
     "metadata": {},
     "output_type": "execute_result"
    }
   ],
   "source": [
    "df"
   ]
  },
  {
   "cell_type": "code",
   "execution_count": 8,
   "metadata": {},
   "outputs": [],
   "source": [
    "volume = Xy.get_volumes_df()"
   ]
  },
  {
   "cell_type": "code",
   "execution_count": 9,
   "metadata": {},
   "outputs": [],
   "source": [
    "df[\"Volume\"] = volume[\"930060\"].shift(1).values"
   ]
  },
  {
   "cell_type": "code",
   "execution_count": 10,
   "metadata": {},
   "outputs": [],
   "source": [
    "df = df.dropna()"
   ]
  },
  {
   "cell_type": "code",
   "execution_count": 11,
   "metadata": {},
   "outputs": [
    {
     "data": {
      "text/html": [
       "<div>\n",
       "<style scoped>\n",
       "    .dataframe tbody tr th:only-of-type {\n",
       "        vertical-align: middle;\n",
       "    }\n",
       "\n",
       "    .dataframe tbody tr th {\n",
       "        vertical-align: top;\n",
       "    }\n",
       "\n",
       "    .dataframe thead th {\n",
       "        text-align: right;\n",
       "    }\n",
       "</style>\n",
       "<table border=\"1\" class=\"dataframe\">\n",
       "  <thead>\n",
       "    <tr style=\"text-align: right;\">\n",
       "      <th></th>\n",
       "      <th>date</th>\n",
       "      <th>Today</th>\n",
       "      <th>Lag 1</th>\n",
       "      <th>Lag 2</th>\n",
       "      <th>Lag 3</th>\n",
       "      <th>Lag 4</th>\n",
       "      <th>Lag 5</th>\n",
       "      <th>Volume</th>\n",
       "    </tr>\n",
       "  </thead>\n",
       "  <tbody>\n",
       "    <tr>\n",
       "      <td>6</td>\n",
       "      <td>2003-01-10</td>\n",
       "      <td>0.393701</td>\n",
       "      <td>-0.392157</td>\n",
       "      <td>0.000000</td>\n",
       "      <td>-0.390625</td>\n",
       "      <td>-0.389105</td>\n",
       "      <td>0.784314</td>\n",
       "      <td>161.2</td>\n",
       "    </tr>\n",
       "    <tr>\n",
       "      <td>7</td>\n",
       "      <td>2003-01-13</td>\n",
       "      <td>0.000000</td>\n",
       "      <td>0.393701</td>\n",
       "      <td>-0.392157</td>\n",
       "      <td>0.000000</td>\n",
       "      <td>-0.390625</td>\n",
       "      <td>-0.389105</td>\n",
       "      <td>195.0</td>\n",
       "    </tr>\n",
       "    <tr>\n",
       "      <td>8</td>\n",
       "      <td>2003-01-14</td>\n",
       "      <td>0.392157</td>\n",
       "      <td>0.000000</td>\n",
       "      <td>0.393701</td>\n",
       "      <td>-0.392157</td>\n",
       "      <td>0.000000</td>\n",
       "      <td>-0.390625</td>\n",
       "      <td>555.3</td>\n",
       "    </tr>\n",
       "    <tr>\n",
       "      <td>9</td>\n",
       "      <td>2003-01-15</td>\n",
       "      <td>0.000000</td>\n",
       "      <td>0.392157</td>\n",
       "      <td>0.000000</td>\n",
       "      <td>0.393701</td>\n",
       "      <td>-0.392157</td>\n",
       "      <td>0.000000</td>\n",
       "      <td>54.5</td>\n",
       "    </tr>\n",
       "    <tr>\n",
       "      <td>10</td>\n",
       "      <td>2003-01-16</td>\n",
       "      <td>0.195312</td>\n",
       "      <td>0.000000</td>\n",
       "      <td>0.392157</td>\n",
       "      <td>0.000000</td>\n",
       "      <td>0.393701</td>\n",
       "      <td>-0.392157</td>\n",
       "      <td>45.0</td>\n",
       "    </tr>\n",
       "    <tr>\n",
       "      <td>...</td>\n",
       "      <td>...</td>\n",
       "      <td>...</td>\n",
       "      <td>...</td>\n",
       "      <td>...</td>\n",
       "      <td>...</td>\n",
       "      <td>...</td>\n",
       "      <td>...</td>\n",
       "      <td>...</td>\n",
       "    </tr>\n",
       "    <tr>\n",
       "      <td>4651</td>\n",
       "      <td>2021-06-24</td>\n",
       "      <td>0.000000</td>\n",
       "      <td>0.996948</td>\n",
       "      <td>1.602067</td>\n",
       "      <td>-0.606123</td>\n",
       "      <td>-3.355838</td>\n",
       "      <td>-2.194601</td>\n",
       "      <td>196.5</td>\n",
       "    </tr>\n",
       "    <tr>\n",
       "      <td>4652</td>\n",
       "      <td>2021-06-25</td>\n",
       "      <td>-0.282031</td>\n",
       "      <td>0.000000</td>\n",
       "      <td>0.996948</td>\n",
       "      <td>1.602067</td>\n",
       "      <td>-0.606123</td>\n",
       "      <td>-3.355838</td>\n",
       "      <td>62.4</td>\n",
       "    </tr>\n",
       "    <tr>\n",
       "      <td>4653</td>\n",
       "      <td>2021-06-28</td>\n",
       "      <td>-1.363636</td>\n",
       "      <td>-0.282031</td>\n",
       "      <td>0.000000</td>\n",
       "      <td>0.996948</td>\n",
       "      <td>1.602067</td>\n",
       "      <td>-0.606123</td>\n",
       "      <td>83.5</td>\n",
       "    </tr>\n",
       "    <tr>\n",
       "      <td>4654</td>\n",
       "      <td>2021-06-29</td>\n",
       "      <td>1.720430</td>\n",
       "      <td>-1.363636</td>\n",
       "      <td>-0.282031</td>\n",
       "      <td>0.000000</td>\n",
       "      <td>0.996948</td>\n",
       "      <td>1.602067</td>\n",
       "      <td>92.1</td>\n",
       "    </tr>\n",
       "    <tr>\n",
       "      <td>4655</td>\n",
       "      <td>2021-06-30</td>\n",
       "      <td>-1.026880</td>\n",
       "      <td>1.720430</td>\n",
       "      <td>-1.363636</td>\n",
       "      <td>-0.282031</td>\n",
       "      <td>0.000000</td>\n",
       "      <td>0.996948</td>\n",
       "      <td>87.3</td>\n",
       "    </tr>\n",
       "  </tbody>\n",
       "</table>\n",
       "<p>4497 rows × 8 columns</p>\n",
       "</div>"
      ],
      "text/plain": [
       "           date     Today     Lag 1     Lag 2     Lag 3     Lag 4     Lag 5  \\\n",
       "6    2003-01-10  0.393701 -0.392157  0.000000 -0.390625 -0.389105  0.784314   \n",
       "7    2003-01-13  0.000000  0.393701 -0.392157  0.000000 -0.390625 -0.389105   \n",
       "8    2003-01-14  0.392157  0.000000  0.393701 -0.392157  0.000000 -0.390625   \n",
       "9    2003-01-15  0.000000  0.392157  0.000000  0.393701 -0.392157  0.000000   \n",
       "10   2003-01-16  0.195312  0.000000  0.392157  0.000000  0.393701 -0.392157   \n",
       "...         ...       ...       ...       ...       ...       ...       ...   \n",
       "4651 2021-06-24  0.000000  0.996948  1.602067 -0.606123 -3.355838 -2.194601   \n",
       "4652 2021-06-25 -0.282031  0.000000  0.996948  1.602067 -0.606123 -3.355838   \n",
       "4653 2021-06-28 -1.363636 -0.282031  0.000000  0.996948  1.602067 -0.606123   \n",
       "4654 2021-06-29  1.720430 -1.363636 -0.282031  0.000000  0.996948  1.602067   \n",
       "4655 2021-06-30 -1.026880  1.720430 -1.363636 -0.282031  0.000000  0.996948   \n",
       "\n",
       "      Volume  \n",
       "6      161.2  \n",
       "7      195.0  \n",
       "8      555.3  \n",
       "9       54.5  \n",
       "10      45.0  \n",
       "...      ...  \n",
       "4651   196.5  \n",
       "4652    62.4  \n",
       "4653    83.5  \n",
       "4654    92.1  \n",
       "4655    87.3  \n",
       "\n",
       "[4497 rows x 8 columns]"
      ]
     },
     "execution_count": 11,
     "metadata": {},
     "output_type": "execute_result"
    }
   ],
   "source": [
    "df"
   ]
  },
  {
   "cell_type": "code",
   "execution_count": 12,
   "metadata": {},
   "outputs": [
    {
     "name": "stderr",
     "output_type": "stream",
     "text": [
      "/opt/anaconda3/lib/python3.7/site-packages/ipykernel_launcher.py:1: SettingWithCopyWarning: \n",
      "A value is trying to be set on a copy of a slice from a DataFrame.\n",
      "Try using .loc[row_indexer,col_indexer] = value instead\n",
      "\n",
      "See the caveats in the documentation: http://pandas.pydata.org/pandas-docs/stable/user_guide/indexing.html#returning-a-view-versus-a-copy\n",
      "  \"\"\"Entry point for launching an IPython kernel.\n"
     ]
    }
   ],
   "source": [
    "df[\"Direction\"] = [1 if i > 0 else 0 for i in df[\"Today\"]]"
   ]
  },
  {
   "cell_type": "code",
   "execution_count": 13,
   "metadata": {},
   "outputs": [
    {
     "data": {
      "text/html": [
       "<div>\n",
       "<style scoped>\n",
       "    .dataframe tbody tr th:only-of-type {\n",
       "        vertical-align: middle;\n",
       "    }\n",
       "\n",
       "    .dataframe tbody tr th {\n",
       "        vertical-align: top;\n",
       "    }\n",
       "\n",
       "    .dataframe thead th {\n",
       "        text-align: right;\n",
       "    }\n",
       "</style>\n",
       "<table border=\"1\" class=\"dataframe\">\n",
       "  <thead>\n",
       "    <tr style=\"text-align: right;\">\n",
       "      <th></th>\n",
       "      <th>date</th>\n",
       "      <th>Today</th>\n",
       "      <th>Lag 1</th>\n",
       "      <th>Lag 2</th>\n",
       "      <th>Lag 3</th>\n",
       "      <th>Lag 4</th>\n",
       "      <th>Lag 5</th>\n",
       "      <th>Volume</th>\n",
       "      <th>Direction</th>\n",
       "    </tr>\n",
       "  </thead>\n",
       "  <tbody>\n",
       "    <tr>\n",
       "      <td>6</td>\n",
       "      <td>2003-01-10</td>\n",
       "      <td>0.393701</td>\n",
       "      <td>-0.392157</td>\n",
       "      <td>0.000000</td>\n",
       "      <td>-0.390625</td>\n",
       "      <td>-0.389105</td>\n",
       "      <td>0.784314</td>\n",
       "      <td>161.2</td>\n",
       "      <td>1</td>\n",
       "    </tr>\n",
       "    <tr>\n",
       "      <td>7</td>\n",
       "      <td>2003-01-13</td>\n",
       "      <td>0.000000</td>\n",
       "      <td>0.393701</td>\n",
       "      <td>-0.392157</td>\n",
       "      <td>0.000000</td>\n",
       "      <td>-0.390625</td>\n",
       "      <td>-0.389105</td>\n",
       "      <td>195.0</td>\n",
       "      <td>0</td>\n",
       "    </tr>\n",
       "    <tr>\n",
       "      <td>8</td>\n",
       "      <td>2003-01-14</td>\n",
       "      <td>0.392157</td>\n",
       "      <td>0.000000</td>\n",
       "      <td>0.393701</td>\n",
       "      <td>-0.392157</td>\n",
       "      <td>0.000000</td>\n",
       "      <td>-0.390625</td>\n",
       "      <td>555.3</td>\n",
       "      <td>1</td>\n",
       "    </tr>\n",
       "    <tr>\n",
       "      <td>9</td>\n",
       "      <td>2003-01-15</td>\n",
       "      <td>0.000000</td>\n",
       "      <td>0.392157</td>\n",
       "      <td>0.000000</td>\n",
       "      <td>0.393701</td>\n",
       "      <td>-0.392157</td>\n",
       "      <td>0.000000</td>\n",
       "      <td>54.5</td>\n",
       "      <td>0</td>\n",
       "    </tr>\n",
       "    <tr>\n",
       "      <td>10</td>\n",
       "      <td>2003-01-16</td>\n",
       "      <td>0.195312</td>\n",
       "      <td>0.000000</td>\n",
       "      <td>0.392157</td>\n",
       "      <td>0.000000</td>\n",
       "      <td>0.393701</td>\n",
       "      <td>-0.392157</td>\n",
       "      <td>45.0</td>\n",
       "      <td>1</td>\n",
       "    </tr>\n",
       "    <tr>\n",
       "      <td>...</td>\n",
       "      <td>...</td>\n",
       "      <td>...</td>\n",
       "      <td>...</td>\n",
       "      <td>...</td>\n",
       "      <td>...</td>\n",
       "      <td>...</td>\n",
       "      <td>...</td>\n",
       "      <td>...</td>\n",
       "      <td>...</td>\n",
       "    </tr>\n",
       "    <tr>\n",
       "      <td>4651</td>\n",
       "      <td>2021-06-24</td>\n",
       "      <td>0.000000</td>\n",
       "      <td>0.996948</td>\n",
       "      <td>1.602067</td>\n",
       "      <td>-0.606123</td>\n",
       "      <td>-3.355838</td>\n",
       "      <td>-2.194601</td>\n",
       "      <td>196.5</td>\n",
       "      <td>0</td>\n",
       "    </tr>\n",
       "    <tr>\n",
       "      <td>4652</td>\n",
       "      <td>2021-06-25</td>\n",
       "      <td>-0.282031</td>\n",
       "      <td>0.000000</td>\n",
       "      <td>0.996948</td>\n",
       "      <td>1.602067</td>\n",
       "      <td>-0.606123</td>\n",
       "      <td>-3.355838</td>\n",
       "      <td>62.4</td>\n",
       "      <td>0</td>\n",
       "    </tr>\n",
       "    <tr>\n",
       "      <td>4653</td>\n",
       "      <td>2021-06-28</td>\n",
       "      <td>-1.363636</td>\n",
       "      <td>-0.282031</td>\n",
       "      <td>0.000000</td>\n",
       "      <td>0.996948</td>\n",
       "      <td>1.602067</td>\n",
       "      <td>-0.606123</td>\n",
       "      <td>83.5</td>\n",
       "      <td>0</td>\n",
       "    </tr>\n",
       "    <tr>\n",
       "      <td>4654</td>\n",
       "      <td>2021-06-29</td>\n",
       "      <td>1.720430</td>\n",
       "      <td>-1.363636</td>\n",
       "      <td>-0.282031</td>\n",
       "      <td>0.000000</td>\n",
       "      <td>0.996948</td>\n",
       "      <td>1.602067</td>\n",
       "      <td>92.1</td>\n",
       "      <td>1</td>\n",
       "    </tr>\n",
       "    <tr>\n",
       "      <td>4655</td>\n",
       "      <td>2021-06-30</td>\n",
       "      <td>-1.026880</td>\n",
       "      <td>1.720430</td>\n",
       "      <td>-1.363636</td>\n",
       "      <td>-0.282031</td>\n",
       "      <td>0.000000</td>\n",
       "      <td>0.996948</td>\n",
       "      <td>87.3</td>\n",
       "      <td>0</td>\n",
       "    </tr>\n",
       "  </tbody>\n",
       "</table>\n",
       "<p>4497 rows × 9 columns</p>\n",
       "</div>"
      ],
      "text/plain": [
       "           date     Today     Lag 1     Lag 2     Lag 3     Lag 4     Lag 5  \\\n",
       "6    2003-01-10  0.393701 -0.392157  0.000000 -0.390625 -0.389105  0.784314   \n",
       "7    2003-01-13  0.000000  0.393701 -0.392157  0.000000 -0.390625 -0.389105   \n",
       "8    2003-01-14  0.392157  0.000000  0.393701 -0.392157  0.000000 -0.390625   \n",
       "9    2003-01-15  0.000000  0.392157  0.000000  0.393701 -0.392157  0.000000   \n",
       "10   2003-01-16  0.195312  0.000000  0.392157  0.000000  0.393701 -0.392157   \n",
       "...         ...       ...       ...       ...       ...       ...       ...   \n",
       "4651 2021-06-24  0.000000  0.996948  1.602067 -0.606123 -3.355838 -2.194601   \n",
       "4652 2021-06-25 -0.282031  0.000000  0.996948  1.602067 -0.606123 -3.355838   \n",
       "4653 2021-06-28 -1.363636 -0.282031  0.000000  0.996948  1.602067 -0.606123   \n",
       "4654 2021-06-29  1.720430 -1.363636 -0.282031  0.000000  0.996948  1.602067   \n",
       "4655 2021-06-30 -1.026880  1.720430 -1.363636 -0.282031  0.000000  0.996948   \n",
       "\n",
       "      Volume  Direction  \n",
       "6      161.2          1  \n",
       "7      195.0          0  \n",
       "8      555.3          1  \n",
       "9       54.5          0  \n",
       "10      45.0          1  \n",
       "...      ...        ...  \n",
       "4651   196.5          0  \n",
       "4652    62.4          0  \n",
       "4653    83.5          0  \n",
       "4654    92.1          1  \n",
       "4655    87.3          0  \n",
       "\n",
       "[4497 rows x 9 columns]"
      ]
     },
     "execution_count": 13,
     "metadata": {},
     "output_type": "execute_result"
    }
   ],
   "source": [
    "df"
   ]
  },
  {
   "cell_type": "code",
   "execution_count": 14,
   "metadata": {},
   "outputs": [
    {
     "name": "stderr",
     "output_type": "stream",
     "text": [
      "/opt/anaconda3/lib/python3.7/site-packages/numpy/core/fromnumeric.py:2495: FutureWarning: Method .ptp is deprecated and will be removed in a future version. Use numpy.ptp instead.\n",
      "  return ptp(axis=axis, out=out, **kwargs)\n"
     ]
    }
   ],
   "source": [
    "df = sm.add_constant(df)"
   ]
  },
  {
   "cell_type": "code",
   "execution_count": 15,
   "metadata": {},
   "outputs": [
    {
     "data": {
      "text/html": [
       "<div>\n",
       "<style scoped>\n",
       "    .dataframe tbody tr th:only-of-type {\n",
       "        vertical-align: middle;\n",
       "    }\n",
       "\n",
       "    .dataframe tbody tr th {\n",
       "        vertical-align: top;\n",
       "    }\n",
       "\n",
       "    .dataframe thead th {\n",
       "        text-align: right;\n",
       "    }\n",
       "</style>\n",
       "<table border=\"1\" class=\"dataframe\">\n",
       "  <thead>\n",
       "    <tr style=\"text-align: right;\">\n",
       "      <th></th>\n",
       "      <th>const</th>\n",
       "      <th>date</th>\n",
       "      <th>Today</th>\n",
       "      <th>Lag 1</th>\n",
       "      <th>Lag 2</th>\n",
       "      <th>Lag 3</th>\n",
       "      <th>Lag 4</th>\n",
       "      <th>Lag 5</th>\n",
       "      <th>Volume</th>\n",
       "      <th>Direction</th>\n",
       "    </tr>\n",
       "  </thead>\n",
       "  <tbody>\n",
       "    <tr>\n",
       "      <td>6</td>\n",
       "      <td>1.0</td>\n",
       "      <td>2003-01-10</td>\n",
       "      <td>0.393701</td>\n",
       "      <td>-0.392157</td>\n",
       "      <td>0.000000</td>\n",
       "      <td>-0.390625</td>\n",
       "      <td>-0.389105</td>\n",
       "      <td>0.784314</td>\n",
       "      <td>161.2</td>\n",
       "      <td>1</td>\n",
       "    </tr>\n",
       "    <tr>\n",
       "      <td>7</td>\n",
       "      <td>1.0</td>\n",
       "      <td>2003-01-13</td>\n",
       "      <td>0.000000</td>\n",
       "      <td>0.393701</td>\n",
       "      <td>-0.392157</td>\n",
       "      <td>0.000000</td>\n",
       "      <td>-0.390625</td>\n",
       "      <td>-0.389105</td>\n",
       "      <td>195.0</td>\n",
       "      <td>0</td>\n",
       "    </tr>\n",
       "    <tr>\n",
       "      <td>8</td>\n",
       "      <td>1.0</td>\n",
       "      <td>2003-01-14</td>\n",
       "      <td>0.392157</td>\n",
       "      <td>0.000000</td>\n",
       "      <td>0.393701</td>\n",
       "      <td>-0.392157</td>\n",
       "      <td>0.000000</td>\n",
       "      <td>-0.390625</td>\n",
       "      <td>555.3</td>\n",
       "      <td>1</td>\n",
       "    </tr>\n",
       "    <tr>\n",
       "      <td>9</td>\n",
       "      <td>1.0</td>\n",
       "      <td>2003-01-15</td>\n",
       "      <td>0.000000</td>\n",
       "      <td>0.392157</td>\n",
       "      <td>0.000000</td>\n",
       "      <td>0.393701</td>\n",
       "      <td>-0.392157</td>\n",
       "      <td>0.000000</td>\n",
       "      <td>54.5</td>\n",
       "      <td>0</td>\n",
       "    </tr>\n",
       "    <tr>\n",
       "      <td>10</td>\n",
       "      <td>1.0</td>\n",
       "      <td>2003-01-16</td>\n",
       "      <td>0.195312</td>\n",
       "      <td>0.000000</td>\n",
       "      <td>0.392157</td>\n",
       "      <td>0.000000</td>\n",
       "      <td>0.393701</td>\n",
       "      <td>-0.392157</td>\n",
       "      <td>45.0</td>\n",
       "      <td>1</td>\n",
       "    </tr>\n",
       "    <tr>\n",
       "      <td>...</td>\n",
       "      <td>...</td>\n",
       "      <td>...</td>\n",
       "      <td>...</td>\n",
       "      <td>...</td>\n",
       "      <td>...</td>\n",
       "      <td>...</td>\n",
       "      <td>...</td>\n",
       "      <td>...</td>\n",
       "      <td>...</td>\n",
       "      <td>...</td>\n",
       "    </tr>\n",
       "    <tr>\n",
       "      <td>4651</td>\n",
       "      <td>1.0</td>\n",
       "      <td>2021-06-24</td>\n",
       "      <td>0.000000</td>\n",
       "      <td>0.996948</td>\n",
       "      <td>1.602067</td>\n",
       "      <td>-0.606123</td>\n",
       "      <td>-3.355838</td>\n",
       "      <td>-2.194601</td>\n",
       "      <td>196.5</td>\n",
       "      <td>0</td>\n",
       "    </tr>\n",
       "    <tr>\n",
       "      <td>4652</td>\n",
       "      <td>1.0</td>\n",
       "      <td>2021-06-25</td>\n",
       "      <td>-0.282031</td>\n",
       "      <td>0.000000</td>\n",
       "      <td>0.996948</td>\n",
       "      <td>1.602067</td>\n",
       "      <td>-0.606123</td>\n",
       "      <td>-3.355838</td>\n",
       "      <td>62.4</td>\n",
       "      <td>0</td>\n",
       "    </tr>\n",
       "    <tr>\n",
       "      <td>4653</td>\n",
       "      <td>1.0</td>\n",
       "      <td>2021-06-28</td>\n",
       "      <td>-1.363636</td>\n",
       "      <td>-0.282031</td>\n",
       "      <td>0.000000</td>\n",
       "      <td>0.996948</td>\n",
       "      <td>1.602067</td>\n",
       "      <td>-0.606123</td>\n",
       "      <td>83.5</td>\n",
       "      <td>0</td>\n",
       "    </tr>\n",
       "    <tr>\n",
       "      <td>4654</td>\n",
       "      <td>1.0</td>\n",
       "      <td>2021-06-29</td>\n",
       "      <td>1.720430</td>\n",
       "      <td>-1.363636</td>\n",
       "      <td>-0.282031</td>\n",
       "      <td>0.000000</td>\n",
       "      <td>0.996948</td>\n",
       "      <td>1.602067</td>\n",
       "      <td>92.1</td>\n",
       "      <td>1</td>\n",
       "    </tr>\n",
       "    <tr>\n",
       "      <td>4655</td>\n",
       "      <td>1.0</td>\n",
       "      <td>2021-06-30</td>\n",
       "      <td>-1.026880</td>\n",
       "      <td>1.720430</td>\n",
       "      <td>-1.363636</td>\n",
       "      <td>-0.282031</td>\n",
       "      <td>0.000000</td>\n",
       "      <td>0.996948</td>\n",
       "      <td>87.3</td>\n",
       "      <td>0</td>\n",
       "    </tr>\n",
       "  </tbody>\n",
       "</table>\n",
       "<p>4497 rows × 10 columns</p>\n",
       "</div>"
      ],
      "text/plain": [
       "      const       date     Today     Lag 1     Lag 2     Lag 3     Lag 4  \\\n",
       "6       1.0 2003-01-10  0.393701 -0.392157  0.000000 -0.390625 -0.389105   \n",
       "7       1.0 2003-01-13  0.000000  0.393701 -0.392157  0.000000 -0.390625   \n",
       "8       1.0 2003-01-14  0.392157  0.000000  0.393701 -0.392157  0.000000   \n",
       "9       1.0 2003-01-15  0.000000  0.392157  0.000000  0.393701 -0.392157   \n",
       "10      1.0 2003-01-16  0.195312  0.000000  0.392157  0.000000  0.393701   \n",
       "...     ...        ...       ...       ...       ...       ...       ...   \n",
       "4651    1.0 2021-06-24  0.000000  0.996948  1.602067 -0.606123 -3.355838   \n",
       "4652    1.0 2021-06-25 -0.282031  0.000000  0.996948  1.602067 -0.606123   \n",
       "4653    1.0 2021-06-28 -1.363636 -0.282031  0.000000  0.996948  1.602067   \n",
       "4654    1.0 2021-06-29  1.720430 -1.363636 -0.282031  0.000000  0.996948   \n",
       "4655    1.0 2021-06-30 -1.026880  1.720430 -1.363636 -0.282031  0.000000   \n",
       "\n",
       "         Lag 5  Volume  Direction  \n",
       "6     0.784314   161.2          1  \n",
       "7    -0.389105   195.0          0  \n",
       "8    -0.390625   555.3          1  \n",
       "9     0.000000    54.5          0  \n",
       "10   -0.392157    45.0          1  \n",
       "...        ...     ...        ...  \n",
       "4651 -2.194601   196.5          0  \n",
       "4652 -3.355838    62.4          0  \n",
       "4653 -0.606123    83.5          0  \n",
       "4654  1.602067    92.1          1  \n",
       "4655  0.996948    87.3          0  \n",
       "\n",
       "[4497 rows x 10 columns]"
      ]
     },
     "execution_count": 15,
     "metadata": {},
     "output_type": "execute_result"
    }
   ],
   "source": [
    "df"
   ]
  },
  {
   "cell_type": "code",
   "execution_count": 16,
   "metadata": {},
   "outputs": [],
   "source": [
    "X = df[[\"const\", \"Lag 1\", \"Lag 2\", \"Lag 3\", \"Lag 4\", \"Lag 5\", \"Volume\"]]\n",
    "Y = df.Direction"
   ]
  },
  {
   "cell_type": "code",
   "execution_count": null,
   "metadata": {},
   "outputs": [],
   "source": [
    "model = sm.Logit(Y,X)"
   ]
  },
  {
   "cell_type": "code",
   "execution_count": null,
   "metadata": {},
   "outputs": [],
   "source": [
    "result = model.fit()"
   ]
  },
  {
   "cell_type": "code",
   "execution_count": null,
   "metadata": {},
   "outputs": [],
   "source": [
    "result.summary()"
   ]
  },
  {
   "cell_type": "code",
   "execution_count": null,
   "metadata": {},
   "outputs": [],
   "source": [
    "prediction = result.predict(X)\n",
    "prediction"
   ]
  },
  {
   "cell_type": "code",
   "execution_count": null,
   "metadata": {},
   "outputs": [],
   "source": [
    "def confusion_matrix(act,pred):\n",
    "    predtrans = [\"Up\" if i > .5 else \"Down\" for i in pred]\n",
    "    actuals = [\"Up\" if i > 0 else \"Down\" for i in act]\n",
    "    confusion_matrix = pd.crosstab(pd.Series(actuals), pd.Series(predtrans), rownames=[\"Actual\"], colnames=[\"Predicted\"])\n",
    "    \n",
    "    return confusion_matrix"
   ]
  },
  {
   "cell_type": "code",
   "execution_count": null,
   "metadata": {},
   "outputs": [],
   "source": [
    "confusion_matrix(Y, prediction)"
   ]
  },
  {
   "cell_type": "code",
   "execution_count": null,
   "metadata": {},
   "outputs": [],
   "source": [
    "len(df)"
   ]
  },
  {
   "cell_type": "code",
   "execution_count": null,
   "metadata": {},
   "outputs": [],
   "source": [
    "(2410+43)/4497"
   ]
  },
  {
   "cell_type": "code",
   "execution_count": null,
   "metadata": {},
   "outputs": [],
   "source": [
    "x_train = df[df.date.dt.year < 2018][[\"const\", \"Lag 1\", \"Lag 2\", \"Lag 3\", \"Lag 4\", \"Lag 5\", \"Volume\"]]\n",
    "y_train = df[df.date.dt.year < 2018][\"Direction\"]\n",
    "\n",
    "x_test = df[df.date.dt.year >=2018][[\"const\", \"Lag 1\", \"Lag 2\", \"Lag 3\", \"Lag 4\", \"Lag 5\", \"Volume\"]]\n",
    "y_test = df[df.date.dt.year >= 2018][\"Direction\"]\n"
   ]
  },
  {
   "cell_type": "code",
   "execution_count": null,
   "metadata": {},
   "outputs": [],
   "source": [
    "len(x_train)"
   ]
  },
  {
   "cell_type": "code",
   "execution_count": null,
   "metadata": {},
   "outputs": [],
   "source": [
    "len(x_test)"
   ]
  },
  {
   "cell_type": "code",
   "execution_count": null,
   "metadata": {},
   "outputs": [],
   "source": [
    "model = sm.Logit(y_train,x_train)"
   ]
  },
  {
   "cell_type": "code",
   "execution_count": null,
   "metadata": {},
   "outputs": [],
   "source": [
    "result = model.fit()"
   ]
  },
  {
   "cell_type": "code",
   "execution_count": null,
   "metadata": {},
   "outputs": [],
   "source": [
    "prediction = result.predict(x_test)"
   ]
  },
  {
   "cell_type": "code",
   "execution_count": null,
   "metadata": {},
   "outputs": [],
   "source": [
    "confusion_matrix(y_test,prediction)"
   ]
  },
  {
   "cell_type": "code",
   "execution_count": null,
   "metadata": {},
   "outputs": [],
   "source": [
    "(425+8)/len(x_test)"
   ]
  },
  {
   "cell_type": "code",
   "execution_count": null,
   "metadata": {
    "scrolled": true
   },
   "outputs": [],
   "source": [
    "prediction"
   ]
  },
  {
   "cell_type": "code",
   "execution_count": 19,
   "metadata": {},
   "outputs": [
    {
     "data": {
      "text/plain": [
       "LogisticRegression(C=0.05, multi_class='ovr', random_state=0,\n",
       "                   solver='liblinear')"
      ]
     },
     "execution_count": 19,
     "metadata": {},
     "output_type": "execute_result"
    }
   ],
   "source": [
    "from sklearn.preprocessing import StandardScaler\n",
    "from sklearn.linear_model import LogisticRegression\n",
    "from sklearn.model_selection import train_test_split\n",
    "from sklearn.metrics import classification_report, confusion_matrix\n",
    "\n",
    "x_train, x_test, y_train, y_test = train_test_split(X, Y, test_size=0.2, random_state=0)\n",
    "\n",
    "model = LogisticRegression(solver='liblinear', C=0.05, multi_class='ovr',\n",
    "                           random_state=0)\n",
    "model.fit(x_train, y_train)\n",
    "\n",
    "scaler = StandardScaler()\n",
    "x_train = scaler.fit_transform(x_train)\n",
    "x_test = scaler.transform(x_test)\n",
    "len(x_train)\n",
    "y_pred = model.predict(x_test)\n",
    "LogisticRegression(C=0.05, class_weight=None, dual=False, fit_intercept=True,\n",
    "                   intercept_scaling=1, l1_ratio=None, max_iter=100,\n",
    "                   multi_class='ovr', n_jobs=None, penalty='l2', random_state=0,\n",
    "                   solver='liblinear', tol=0.0001, verbose=0, warm_start=False)\n"
   ]
  },
  {
   "cell_type": "code",
   "execution_count": 27,
   "metadata": {
    "scrolled": true
   },
   "outputs": [
    {
     "data": {
      "text/plain": [
       "1467    1\n",
       "4603    1\n",
       "3992    0\n",
       "1042    1\n",
       "4206    1\n",
       "       ..\n",
       "2804    1\n",
       "3827    0\n",
       "3835    0\n",
       "3693    0\n",
       "2183    0\n",
       "Name: Direction, Length: 900, dtype: int64"
      ]
     },
     "execution_count": 27,
     "metadata": {},
     "output_type": "execute_result"
    }
   ],
   "source": [
    "y_test"
   ]
  },
  {
   "cell_type": "code",
   "execution_count": 28,
   "metadata": {},
   "outputs": [
    {
     "data": {
      "text/plain": [
       "array([0, 0, 1, 0, 0, 0, 0, 0, 0, 0, 0, 0, 0, 0, 0, 0, 0, 0, 0, 0, 1, 0,\n",
       "       0, 0, 0, 0, 0, 0, 0, 1, 0, 0, 0, 0, 0, 0, 0, 0, 0, 0, 0, 0, 0, 0,\n",
       "       0, 0, 0, 1, 1, 0, 0, 0, 0, 0, 0, 0, 0, 0, 0, 0, 0, 0, 1, 0, 0, 0,\n",
       "       0, 0, 0, 0, 0, 0, 0, 0, 0, 0, 0, 0, 0, 0, 0, 0, 0, 0, 0, 0, 0, 0,\n",
       "       0, 0, 0, 0, 0, 0, 0, 1, 0, 0, 0, 0, 0, 0, 0, 0, 1, 0, 0, 0, 0, 0,\n",
       "       0, 0, 0, 0, 0, 0, 0, 0, 0, 0, 0, 0, 0, 0, 0, 0, 0, 1, 0, 0, 0, 0,\n",
       "       0, 0, 0, 0, 0, 0, 0, 0, 0, 0, 0, 0, 0, 0, 0, 0, 0, 0, 0, 0, 0, 0,\n",
       "       0, 0, 0, 0, 0, 0, 0, 0, 0, 0, 0, 0, 0, 0, 0, 0, 0, 0, 0, 0, 0, 0,\n",
       "       1, 0, 0, 0, 0, 0, 0, 0, 0, 0, 0, 0, 0, 0, 0, 0, 0, 0, 0, 0, 0, 0,\n",
       "       0, 0, 0, 0, 0, 0, 0, 0, 0, 0, 0, 0, 1, 0, 0, 0, 0, 0, 0, 0, 0, 0,\n",
       "       1, 0, 0, 0, 0, 0, 1, 0, 0, 0, 0, 0, 0, 0, 0, 0, 0, 0, 0, 0, 0, 0,\n",
       "       0, 0, 0, 0, 0, 0, 0, 0, 0, 0, 0, 1, 0, 0, 0, 0, 0, 0, 0, 0, 0, 1,\n",
       "       0, 1, 0, 0, 0, 0, 1, 0, 0, 0, 0, 0, 0, 0, 0, 0, 0, 0, 0, 0, 0, 0,\n",
       "       0, 0, 0, 0, 0, 0, 0, 0, 0, 0, 0, 0, 0, 0, 0, 0, 0, 1, 0, 0, 0, 0,\n",
       "       0, 0, 0, 0, 0, 0, 0, 0, 0, 0, 0, 0, 0, 0, 0, 0, 0, 0, 0, 0, 0, 1,\n",
       "       0, 0, 0, 0, 0, 0, 0, 0, 0, 0, 0, 0, 0, 0, 0, 0, 0, 0, 0, 1, 0, 0,\n",
       "       0, 0, 0, 0, 0, 0, 0, 0, 0, 0, 0, 0, 0, 0, 0, 0, 0, 1, 0, 0, 0, 0,\n",
       "       0, 0, 0, 0, 0, 0, 0, 1, 0, 0, 0, 1, 0, 0, 0, 0, 0, 0, 0, 0, 0, 0,\n",
       "       0, 0, 0, 0, 0, 0, 0, 0, 0, 0, 0, 0, 1, 0, 0, 0, 0, 0, 0, 0, 0, 0,\n",
       "       0, 0, 0, 0, 0, 0, 0, 0, 0, 0, 1, 0, 0, 0, 0, 0, 0, 0, 0, 0, 0, 0,\n",
       "       0, 0, 0, 0, 0, 0, 0, 0, 0, 0, 0, 0, 0, 0, 0, 1, 0, 0, 0, 0, 0, 0,\n",
       "       0, 0, 0, 0, 0, 0, 1, 0, 0, 0, 0, 0, 0, 0, 0, 0, 0, 0, 0, 0, 0, 0,\n",
       "       0, 0, 0, 0, 0, 0, 1, 0, 0, 0, 0, 0, 0, 0, 0, 0, 0, 0, 0, 1, 0, 0,\n",
       "       1, 0, 0, 0, 0, 0, 0, 1, 0, 0, 0, 0, 0, 0, 0, 0, 0, 0, 0, 0, 0, 0,\n",
       "       1, 0, 0, 0, 0, 0, 0, 0, 1, 0, 0, 0, 0, 0, 0, 0, 0, 0, 1, 0, 0, 1,\n",
       "       0, 0, 0, 0, 0, 0, 0, 0, 0, 0, 0, 0, 0, 0, 0, 0, 0, 0, 0, 0, 0, 0,\n",
       "       0, 0, 0, 0, 0, 0, 0, 0, 0, 0, 0, 0, 0, 0, 0, 0, 0, 0, 0, 0, 0, 0,\n",
       "       0, 0, 0, 0, 0, 0, 0, 1, 1, 0, 0, 0, 0, 0, 0, 0, 0, 0, 0, 0, 0, 1,\n",
       "       0, 0, 0, 0, 0, 0, 0, 0, 0, 1, 0, 0, 0, 0, 0, 0, 0, 0, 0, 0, 0, 0,\n",
       "       0, 0, 0, 0, 0, 0, 1, 0, 0, 0, 0, 0, 0, 0, 0, 0, 0, 0, 0, 1, 0, 0,\n",
       "       0, 0, 0, 0, 0, 0, 0, 0, 0, 0, 0, 0, 0, 0, 0, 0, 0, 0, 1, 0, 0, 0,\n",
       "       0, 0, 0, 0, 1, 0, 0, 0, 0, 0, 0, 1, 0, 0, 0, 0, 0, 0, 0, 0, 0, 0,\n",
       "       0, 0, 0, 0, 0, 0, 0, 0, 0, 0, 0, 1, 0, 0, 0, 1, 0, 0, 1, 0, 0, 1,\n",
       "       0, 0, 0, 0, 0, 0, 0, 0, 0, 0, 0, 0, 0, 0, 0, 0, 0, 0, 0, 0, 1, 0,\n",
       "       0, 0, 0, 0, 0, 0, 0, 0, 0, 0, 0, 0, 0, 0, 0, 0, 0, 0, 0, 0, 1, 0,\n",
       "       0, 0, 0, 0, 0, 0, 0, 0, 0, 0, 0, 0, 0, 0, 0, 0, 0, 0, 1, 0, 0, 1,\n",
       "       0, 0, 0, 1, 0, 0, 0, 0, 0, 0, 0, 0, 0, 0, 1, 0, 0, 0, 1, 0, 0, 0,\n",
       "       0, 0, 0, 0, 0, 0, 0, 0, 0, 0, 0, 0, 0, 0, 1, 0, 0, 0, 0, 0, 0, 0,\n",
       "       0, 0, 0, 0, 0, 0, 0, 0, 0, 0, 1, 0, 0, 0, 0, 0, 0, 0, 0, 0, 0, 0,\n",
       "       0, 0, 0, 0, 0, 0, 1, 0, 0, 0, 0, 0, 0, 0, 0, 0, 0, 0, 0, 0, 0, 0,\n",
       "       0, 0, 0, 0, 0, 0, 0, 0, 0, 1, 0, 0, 0, 0, 0, 0, 0, 0, 0, 0])"
      ]
     },
     "execution_count": 28,
     "metadata": {},
     "output_type": "execute_result"
    }
   ],
   "source": [
    "y_pred"
   ]
  },
  {
   "cell_type": "code",
   "execution_count": 20,
   "metadata": {},
   "outputs": [
    {
     "data": {
      "text/plain": [
       "array([[462,  35],\n",
       "       [379,  24]])"
      ]
     },
     "execution_count": 20,
     "metadata": {},
     "output_type": "execute_result"
    }
   ],
   "source": [
    "confusion_matrix(y_test, y_pred)\n"
   ]
  },
  {
   "cell_type": "code",
   "execution_count": 26,
   "metadata": {},
   "outputs": [
    {
     "data": {
      "text/plain": [
       "0.54"
      ]
     },
     "execution_count": 26,
     "metadata": {},
     "output_type": "execute_result"
    }
   ],
   "source": [
    "model.score(x_train, y_train)\n",
    "model.score(x_test, y_test)"
   ]
  },
  {
   "cell_type": "code",
   "execution_count": 24,
   "metadata": {},
   "outputs": [
    {
     "name": "stdout",
     "output_type": "stream",
     "text": [
      "[[462  35]\n",
      " [379  24]]\n"
     ]
    },
    {
     "ename": "IndexError",
     "evalue": "index 2 is out of bounds for axis 1 with size 2",
     "output_type": "error",
     "traceback": [
      "\u001b[0;31m---------------------------------------------------------------------------\u001b[0m",
      "\u001b[0;31mIndexError\u001b[0m                                Traceback (most recent call last)",
      "\u001b[0;32m<ipython-input-24-f22bf78e1299>\u001b[0m in \u001b[0;36m<module>\u001b[0;34m\u001b[0m\n\u001b[1;32m     11\u001b[0m \u001b[0;32mfor\u001b[0m \u001b[0mi\u001b[0m \u001b[0;32min\u001b[0m \u001b[0mrange\u001b[0m\u001b[0;34m(\u001b[0m\u001b[0;36m10\u001b[0m\u001b[0;34m)\u001b[0m\u001b[0;34m:\u001b[0m\u001b[0;34m\u001b[0m\u001b[0;34m\u001b[0m\u001b[0m\n\u001b[1;32m     12\u001b[0m     \u001b[0;32mfor\u001b[0m \u001b[0mj\u001b[0m \u001b[0;32min\u001b[0m \u001b[0mrange\u001b[0m\u001b[0;34m(\u001b[0m\u001b[0;36m10\u001b[0m\u001b[0;34m)\u001b[0m\u001b[0;34m:\u001b[0m\u001b[0;34m\u001b[0m\u001b[0;34m\u001b[0m\u001b[0m\n\u001b[0;32m---> 13\u001b[0;31m         \u001b[0max\u001b[0m\u001b[0;34m.\u001b[0m\u001b[0mtext\u001b[0m\u001b[0;34m(\u001b[0m\u001b[0mj\u001b[0m\u001b[0;34m,\u001b[0m \u001b[0mi\u001b[0m\u001b[0;34m,\u001b[0m \u001b[0mcm\u001b[0m\u001b[0;34m[\u001b[0m\u001b[0mi\u001b[0m\u001b[0;34m,\u001b[0m \u001b[0mj\u001b[0m\u001b[0;34m]\u001b[0m\u001b[0;34m,\u001b[0m \u001b[0mha\u001b[0m\u001b[0;34m=\u001b[0m\u001b[0;34m'center'\u001b[0m\u001b[0;34m,\u001b[0m \u001b[0mva\u001b[0m\u001b[0;34m=\u001b[0m\u001b[0;34m'center'\u001b[0m\u001b[0;34m,\u001b[0m \u001b[0mcolor\u001b[0m\u001b[0;34m=\u001b[0m\u001b[0;34m'white'\u001b[0m\u001b[0;34m)\u001b[0m\u001b[0;34m\u001b[0m\u001b[0;34m\u001b[0m\u001b[0m\n\u001b[0m\u001b[1;32m     14\u001b[0m \u001b[0mplt\u001b[0m\u001b[0;34m.\u001b[0m\u001b[0mshow\u001b[0m\u001b[0;34m(\u001b[0m\u001b[0;34m)\u001b[0m\u001b[0;34m\u001b[0m\u001b[0;34m\u001b[0m\u001b[0m\n",
      "\u001b[0;31mIndexError\u001b[0m: index 2 is out of bounds for axis 1 with size 2"
     ]
    },
    {
     "data": {
      "image/png": "[encoded data removed]",
      "text/plain": [
       "<Figure size 576x576 with 1 Axes>"
      ]
     },
     "metadata": {
      "needs_background": "light"
     },
     "output_type": "display_data"
    }
   ],
   "source": [
    "cm = confusion_matrix(y_test, y_pred)\n",
    "print(cm)\n",
    "fig, ax = plt.subplots(figsize=(8, 8))\n",
    "ax.imshow(cm)\n",
    "ax.grid(False)\n",
    "ax.set_xlabel('Predicted outputs')\n",
    "ax.set_ylabel('Actual outputs')\n",
    "ax.xaxis.set(ticks=range(10))\n",
    "ax.yaxis.set(ticks=range(10))\n",
    "ax.set_ylim(9.5, -0.5)\n",
    "for i in range(10):\n",
    "    for j in range(10):\n",
    "        ax.text(j, i, cm[i, j], ha='center', va='center', color='white')\n",
    "plt.show()"
   ]
  },
  {
   "cell_type": "code",
   "execution_count": 29,
   "metadata": {},
   "outputs": [
    {
     "name": "stdout",
     "output_type": "stream",
     "text": [
      "              precision    recall  f1-score   support\n",
      "\n",
      "           0       0.55      0.93      0.69       497\n",
      "           1       0.41      0.06      0.10       403\n",
      "\n",
      "    accuracy                           0.54       900\n",
      "   macro avg       0.48      0.49      0.40       900\n",
      "weighted avg       0.49      0.54      0.43       900\n",
      "\n"
     ]
    }
   ],
   "source": [
    "print(classification_report(y_test, y_pred))"
   ]
  },
  {
   "cell_type": "code",
   "execution_count": 30,
   "metadata": {},
   "outputs": [
    {
     "data": {
      "image/png": "[encoded data removed]",
      "text/plain": [
       "<Figure size 576x576 with 1 Axes>"
      ]
     },
     "metadata": {
      "needs_background": "light"
     },
     "output_type": "display_data"
    }
   ],
   "source": [
    "cm = confusion_matrix(y_test, y_pred)\n",
    "\n",
    "fig, ax = plt.subplots(figsize=(8, 8))\n",
    "ax.imshow(cm)\n",
    "ax.grid(False)\n",
    "ax.xaxis.set(ticks=(0, 1), ticklabels=('Predicted 0s', 'Predicted 1s'))\n",
    "ax.yaxis.set(ticks=(0, 1), ticklabels=('Actual 0s', 'Actual 1s'))\n",
    "ax.set_ylim(1.5, -0.5)\n",
    "for i in range(2):\n",
    "    for j in range(2):\n",
    "        ax.text(j, i, cm[i, j], ha='center', va='center', color='red')\n",
    "plt.show()"
   ]
  },
  {
   "cell_type": "code",
   "execution_count": 32,
   "metadata": {},
   "outputs": [
    {
     "data": {
      "text/plain": [
       "LogisticRegression(C=10.0, random_state=0, solver='liblinear')"
      ]
     },
     "execution_count": 32,
     "metadata": {},
     "output_type": "execute_result"
    }
   ],
   "source": [
    "model = LogisticRegression(solver='liblinear', C=10.0, random_state=0)\n",
    "model.fit(X, Y)"
   ]
  },
  {
   "cell_type": "code",
   "execution_count": 33,
   "metadata": {},
   "outputs": [
    {
     "data": {
      "text/plain": [
       "array([-0.0887462])"
      ]
     },
     "execution_count": 33,
     "metadata": {},
     "output_type": "execute_result"
    }
   ],
   "source": [
    "model.intercept_"
   ]
  },
  {
   "cell_type": "code",
   "execution_count": 34,
   "metadata": {},
   "outputs": [
    {
     "data": {
      "text/plain": [
       "array([[-8.87461995e-02, -2.53328309e-02, -1.46051927e-02,\n",
       "         3.86830814e-02, -1.50855512e-02, -1.69282763e-02,\n",
       "        -2.62749569e-05]])"
      ]
     },
     "execution_count": 34,
     "metadata": {},
     "output_type": "execute_result"
    }
   ],
   "source": [
    "model.coef_"
   ]
  },
  {
   "cell_type": "code",
   "execution_count": 36,
   "metadata": {},
   "outputs": [
    {
     "data": {
      "text/plain": [
       "array([[0.54842555, 0.45157445],\n",
       "       [0.54348545, 0.45651455],\n",
       "       [0.55141517, 0.44858483],\n",
       "       ...,\n",
       "       [0.53690381, 0.46309619],\n",
       "       [0.54572395, 0.45427605],\n",
       "       [0.55755373, 0.44244627]])"
      ]
     },
     "execution_count": 36,
     "metadata": {},
     "output_type": "execute_result"
    }
   ],
   "source": [
    "model.predict_proba(X)"
   ]
  },
  {
   "cell_type": "code",
   "execution_count": 37,
   "metadata": {},
   "outputs": [
    {
     "data": {
      "text/plain": [
       "array([0, 0, 0, ..., 0, 0, 0])"
      ]
     },
     "execution_count": 37,
     "metadata": {},
     "output_type": "execute_result"
    }
   ],
   "source": [
    "model.predict(X)"
   ]
  },
  {
   "cell_type": "code",
   "execution_count": 39,
   "metadata": {},
   "outputs": [
    {
     "data": {
      "text/plain": [
       "0.5454747609517456"
      ]
     },
     "execution_count": 39,
     "metadata": {},
     "output_type": "execute_result"
    }
   ],
   "source": [
    "model.score(X, Y)"
   ]
  },
  {
   "cell_type": "code",
   "execution_count": 46,
   "metadata": {},
   "outputs": [
    {
     "data": {
      "text/plain": [
       "array([[2410,   44],\n",
       "       [2000,   43]])"
      ]
     },
     "execution_count": 46,
     "metadata": {},
     "output_type": "execute_result"
    }
   ],
   "source": [
    "confusion_matrix(Y, model.predict(X))"
   ]
  },
  {
   "cell_type": "code",
   "execution_count": 43,
   "metadata": {},
   "outputs": [
    {
     "name": "stdout",
     "output_type": "stream",
     "text": [
      "              precision    recall  f1-score   support\n",
      "\n",
      "           0       0.55      0.98      0.70      2454\n",
      "           1       0.49      0.02      0.04      2043\n",
      "\n",
      "    accuracy                           0.55      4497\n",
      "   macro avg       0.52      0.50      0.37      4497\n",
      "weighted avg       0.52      0.55      0.40      4497\n",
      "\n"
     ]
    }
   ],
   "source": [
    "print(classification_report(Y, model.predict(X)))"
   ]
  },
  {
   "cell_type": "code",
   "execution_count": null,
   "metadata": {},
   "outputs": [],
   "source": []
  }
 ],
 "metadata": {
  "kernelspec": {
   "display_name": "Python 3",
   "language": "python",
   "name": "python3"
  },
  "language_info": {
   "codemirror_mode": {
    "name": "ipython",
    "version": 3
   },
   "file_extension": ".py",
   "mimetype": "text/x-python",
   "name": "python",
   "nbconvert_exporter": "python",
   "pygments_lexer": "ipython3",
   "version": "3.7.4"
  }
 },
 "nbformat": 4,
 "nbformat_minor": 2
}
