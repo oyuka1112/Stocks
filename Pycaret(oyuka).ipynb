{
 "cells": [
  {
   "cell_type": "code",
   "execution_count": 1,
   "id": "d45b19a4",
   "metadata": {},
   "outputs": [],
   "source": [
    "from diff_cap_packages import filters, stock_selection\n",
    "import pandas as pd\n",
    "import numpy as np\n",
    "import os\n",
    "from tqdm import tqdm\n",
    "%config Completer.use_jedi=False"
   ]
  },
  {
   "cell_type": "code",
   "execution_count": 2,
   "id": "a21b6690",
   "metadata": {
    "scrolled": true
   },
   "outputs": [
    {
     "data": {
      "text/plain": [
       "(80,\n",
       " array(['2005-08-09', '2005-08-23', '2005-09-07', '2005-09-21',\n",
       "        '2005-10-05', '2005-10-19', '2005-11-02', '2005-11-16',\n",
       "        '2005-12-01', '2005-12-15', '2005-12-30', '2006-01-17',\n",
       "        '2006-01-31', '2006-02-14', '2006-03-01', '2006-03-15',\n",
       "        '2006-03-29', '2006-04-12', '2006-04-27', '2006-05-11',\n",
       "        '2006-05-25', '2006-06-09', '2006-06-23', '2006-07-10',\n",
       "        '2006-07-24', '2006-08-07', '2006-08-21', '2006-09-05',\n",
       "        '2006-09-19', '2006-10-03', '2006-10-17', '2006-10-31',\n",
       "        '2006-11-14', '2006-11-29', '2006-12-13', '2006-12-28',\n",
       "        '2007-01-16', '2007-01-30', '2007-02-13', '2007-02-28',\n",
       "        '2007-03-14', '2007-03-28', '2007-04-12', '2007-04-26',\n",
       "        '2007-05-10', '2007-05-24', '2007-06-08', '2007-06-22',\n",
       "        '2007-07-09', '2007-07-23', '2007-08-06', '2007-08-20',\n",
       "        '2007-09-04', '2007-09-18', '2007-10-02', '2007-10-16',\n",
       "        '2007-10-30', '2007-11-13', '2007-11-28', '2007-12-12',\n",
       "        '2007-12-27', '2008-01-11', '2008-01-28', '2008-02-11',\n",
       "        '2008-02-26', '2008-03-11', '2008-03-26', '2008-04-09',\n",
       "        '2008-04-23', '2008-05-07', '2008-05-21', '2008-06-05',\n",
       "        '2008-06-19', '2008-07-03', '2008-07-18', '2008-08-01',\n",
       "        '2008-08-15', '2008-08-29', '2008-09-15', '2008-09-29'],\n",
       "       dtype=object))"
      ]
     },
     "execution_count": 2,
     "metadata": {},
     "output_type": "execute_result"
    }
   ],
   "source": [
    "start_date_backtesting = '2005-08-09'\n",
    "end_date_backtesting = '2008-10-10'\n",
    "step_backtesting = 10\n",
    "\n",
    "dates = filters.prices.loc[start_date_backtesting:end_date_backtesting:step_backtesting].index.strftime(\"%Y-%m-%d\").values\n",
    "len(dates), dates"
   ]
  },
  {
   "cell_type": "code",
   "execution_count": 3,
   "id": "a446d7e9",
   "metadata": {
    "scrolled": true
   },
   "outputs": [
    {
     "name": "stderr",
     "output_type": "stream",
     "text": [
      " 15%|█▌        | 13/85 [00:00<00:00, 125.47it/s]"
     ]
    },
    {
     "name": "stdout",
     "output_type": "stream",
     "text": [
      "--------------------\n",
      "[ 1/80 ]\n",
      "Starting: 2005-08-09. Using data from the previous 200 days to train.\n",
      "Model already trained and saved. Loading directly...\n"
     ]
    },
    {
     "name": "stderr",
     "output_type": "stream",
     "text": [
      "100%|██████████| 85/85 [00:00<00:00, 134.83it/s]\n",
      " 18%|█▊        | 15/85 [00:00<00:00, 142.44it/s]"
     ]
    },
    {
     "name": "stdout",
     "output_type": "stream",
     "text": [
      "Loading saved predictions...\n",
      "Finished.\n",
      "--------------------\n",
      "--------------------\n",
      "[ 2/80 ]\n",
      "Starting: 2005-08-23. Using data from the previous 200 days to train.\n",
      "Model already trained and saved. Loading directly...\n"
     ]
    },
    {
     "name": "stderr",
     "output_type": "stream",
     "text": [
      "100%|██████████| 85/85 [00:00<00:00, 141.88it/s]\n",
      " 20%|██        | 17/85 [00:00<00:00, 169.78it/s]"
     ]
    },
    {
     "name": "stdout",
     "output_type": "stream",
     "text": [
      "Loading saved predictions...\n",
      "Finished.\n",
      "--------------------\n",
      "--------------------\n",
      "[ 3/80 ]\n",
      "Starting: 2005-09-07. Using data from the previous 200 days to train.\n",
      "Model already trained and saved. Loading directly...\n"
     ]
    },
    {
     "name": "stderr",
     "output_type": "stream",
     "text": [
      "100%|██████████| 85/85 [00:00<00:00, 133.07it/s]\n",
      " 20%|██        | 17/85 [00:00<00:00, 161.44it/s]"
     ]
    },
    {
     "name": "stdout",
     "output_type": "stream",
     "text": [
      "Loading saved predictions...\n",
      "Finished.\n",
      "--------------------\n",
      "--------------------\n",
      "[ 4/80 ]\n",
      "Starting: 2005-09-21. Using data from the previous 200 days to train.\n",
      "Model already trained and saved. Loading directly...\n"
     ]
    },
    {
     "name": "stderr",
     "output_type": "stream",
     "text": [
      "100%|██████████| 85/85 [00:00<00:00, 157.87it/s]\n",
      " 15%|█▌        | 13/85 [00:00<00:00, 123.44it/s]"
     ]
    },
    {
     "name": "stdout",
     "output_type": "stream",
     "text": [
      "Loading saved predictions...\n",
      "Finished.\n",
      "--------------------\n",
      "--------------------\n",
      "[ 5/80 ]\n",
      "Starting: 2005-10-05. Using data from the previous 200 days to train.\n",
      "Model already trained and saved. Loading directly...\n"
     ]
    },
    {
     "name": "stderr",
     "output_type": "stream",
     "text": [
      "100%|██████████| 85/85 [00:00<00:00, 141.08it/s]\n",
      " 19%|█▉        | 16/85 [00:00<00:00, 158.97it/s]"
     ]
    },
    {
     "name": "stdout",
     "output_type": "stream",
     "text": [
      "Loading saved predictions...\n",
      "Finished.\n",
      "--------------------\n",
      "--------------------\n",
      "[ 6/80 ]\n",
      "Starting: 2005-10-19. Using data from the previous 200 days to train.\n",
      "Model already trained and saved. Loading directly...\n"
     ]
    },
    {
     "name": "stderr",
     "output_type": "stream",
     "text": [
      "100%|██████████| 85/85 [00:00<00:00, 143.74it/s]\n",
      " 19%|█▉        | 16/85 [00:00<00:00, 152.21it/s]"
     ]
    },
    {
     "name": "stdout",
     "output_type": "stream",
     "text": [
      "Loading saved predictions...\n",
      "Finished.\n",
      "--------------------\n",
      "--------------------\n",
      "[ 7/80 ]\n",
      "Starting: 2005-11-02. Using data from the previous 200 days to train.\n",
      "Model already trained and saved. Loading directly...\n"
     ]
    },
    {
     "name": "stderr",
     "output_type": "stream",
     "text": [
      "100%|██████████| 85/85 [00:00<00:00, 151.60it/s]\n",
      " 19%|█▉        | 16/85 [00:00<00:00, 152.66it/s]"
     ]
    },
    {
     "name": "stdout",
     "output_type": "stream",
     "text": [
      "Loading saved predictions...\n",
      "Finished.\n",
      "--------------------\n",
      "--------------------\n",
      "[ 8/80 ]\n",
      "Starting: 2005-11-16. Using data from the previous 200 days to train.\n",
      "Model already trained and saved. Loading directly...\n"
     ]
    },
    {
     "name": "stderr",
     "output_type": "stream",
     "text": [
      "100%|██████████| 85/85 [00:00<00:00, 149.04it/s]\n",
      " 19%|█▉        | 16/85 [00:00<00:00, 153.89it/s]"
     ]
    },
    {
     "name": "stdout",
     "output_type": "stream",
     "text": [
      "Loading saved predictions...\n",
      "Finished.\n",
      "--------------------\n",
      "--------------------\n",
      "[ 9/80 ]\n",
      "Starting: 2005-12-01. Using data from the previous 200 days to train.\n",
      "Model already trained and saved. Loading directly...\n"
     ]
    },
    {
     "name": "stderr",
     "output_type": "stream",
     "text": [
      "100%|██████████| 85/85 [00:00<00:00, 151.83it/s]\n",
      " 19%|█▉        | 16/85 [00:00<00:00, 159.09it/s]"
     ]
    },
    {
     "name": "stdout",
     "output_type": "stream",
     "text": [
      "Loading saved predictions...\n",
      "Finished.\n",
      "--------------------\n",
      "--------------------\n",
      "[ 10/80 ]\n",
      "Starting: 2005-12-15. Using data from the previous 200 days to train.\n",
      "Model already trained and saved. Loading directly...\n"
     ]
    },
    {
     "name": "stderr",
     "output_type": "stream",
     "text": [
      "100%|██████████| 85/85 [00:00<00:00, 135.72it/s]\n",
      " 20%|██        | 17/85 [00:00<00:00, 169.32it/s]"
     ]
    },
    {
     "name": "stdout",
     "output_type": "stream",
     "text": [
      "Loading saved predictions...\n",
      "Finished.\n",
      "--------------------\n",
      "--------------------\n",
      "[ 11/80 ]\n",
      "Starting: 2005-12-30. Using data from the previous 200 days to train.\n",
      "Model already trained and saved. Loading directly...\n"
     ]
    },
    {
     "name": "stderr",
     "output_type": "stream",
     "text": [
      "100%|██████████| 85/85 [00:00<00:00, 163.40it/s]\n",
      " 18%|█▊        | 15/85 [00:00<00:00, 149.87it/s]"
     ]
    },
    {
     "name": "stdout",
     "output_type": "stream",
     "text": [
      "Loading saved predictions...\n",
      "Finished.\n",
      "--------------------\n",
      "--------------------\n",
      "[ 12/80 ]\n",
      "Starting: 2006-01-17. Using data from the previous 200 days to train.\n",
      "Model already trained and saved. Loading directly...\n"
     ]
    },
    {
     "name": "stderr",
     "output_type": "stream",
     "text": [
      "100%|██████████| 85/85 [00:00<00:00, 154.60it/s]\n",
      " 21%|██        | 18/85 [00:00<00:00, 173.91it/s]"
     ]
    },
    {
     "name": "stdout",
     "output_type": "stream",
     "text": [
      "Loading saved predictions...\n",
      "Finished.\n",
      "--------------------\n",
      "--------------------\n",
      "[ 13/80 ]\n",
      "Starting: 2006-01-31. Using data from the previous 200 days to train.\n",
      "Model already trained and saved. Loading directly...\n"
     ]
    },
    {
     "name": "stderr",
     "output_type": "stream",
     "text": [
      "100%|██████████| 85/85 [00:00<00:00, 166.98it/s]\n",
      " 21%|██        | 18/85 [00:00<00:00, 169.18it/s]"
     ]
    },
    {
     "name": "stdout",
     "output_type": "stream",
     "text": [
      "Loading saved predictions...\n",
      "Finished.\n",
      "--------------------\n",
      "--------------------\n",
      "[ 14/80 ]\n",
      "Starting: 2006-02-14. Using data from the previous 200 days to train.\n",
      "Model already trained and saved. Loading directly...\n"
     ]
    },
    {
     "name": "stderr",
     "output_type": "stream",
     "text": [
      "100%|██████████| 85/85 [00:00<00:00, 159.63it/s]\n",
      " 18%|█▊        | 15/85 [00:00<00:00, 147.79it/s]"
     ]
    },
    {
     "name": "stdout",
     "output_type": "stream",
     "text": [
      "Loading saved predictions...\n",
      "Finished.\n",
      "--------------------\n",
      "--------------------\n",
      "[ 15/80 ]\n",
      "Starting: 2006-03-01. Using data from the previous 200 days to train.\n",
      "Model already trained and saved. Loading directly...\n"
     ]
    },
    {
     "name": "stderr",
     "output_type": "stream",
     "text": [
      "100%|██████████| 85/85 [00:00<00:00, 154.07it/s]\n",
      " 20%|██        | 17/85 [00:00<00:00, 166.67it/s]"
     ]
    },
    {
     "name": "stdout",
     "output_type": "stream",
     "text": [
      "Loading saved predictions...\n",
      "Finished.\n",
      "--------------------\n",
      "--------------------\n",
      "[ 16/80 ]\n",
      "Starting: 2006-03-15. Using data from the previous 200 days to train.\n",
      "Model already trained and saved. Loading directly...\n"
     ]
    },
    {
     "name": "stderr",
     "output_type": "stream",
     "text": [
      "100%|██████████| 85/85 [00:00<00:00, 137.70it/s]\n",
      " 18%|█▊        | 15/85 [00:00<00:00, 147.74it/s]"
     ]
    },
    {
     "name": "stdout",
     "output_type": "stream",
     "text": [
      "Loading saved predictions...\n",
      "Finished.\n",
      "--------------------\n",
      "--------------------\n",
      "[ 17/80 ]\n",
      "Starting: 2006-03-29. Using data from the previous 200 days to train.\n",
      "Model already trained and saved. Loading directly...\n"
     ]
    },
    {
     "name": "stderr",
     "output_type": "stream",
     "text": [
      "100%|██████████| 85/85 [00:00<00:00, 141.33it/s]\n",
      " 20%|██        | 17/85 [00:00<00:00, 161.97it/s]"
     ]
    },
    {
     "name": "stdout",
     "output_type": "stream",
     "text": [
      "Loading saved predictions...\n",
      "Finished.\n",
      "--------------------\n",
      "--------------------\n",
      "[ 18/80 ]\n",
      "Starting: 2006-04-12. Using data from the previous 200 days to train.\n",
      "Model already trained and saved. Loading directly...\n"
     ]
    },
    {
     "name": "stderr",
     "output_type": "stream",
     "text": [
      "100%|██████████| 85/85 [00:00<00:00, 152.13it/s]\n",
      " 18%|█▊        | 15/85 [00:00<00:00, 144.77it/s]"
     ]
    },
    {
     "name": "stdout",
     "output_type": "stream",
     "text": [
      "Loading saved predictions...\n",
      "Finished.\n",
      "--------------------\n",
      "--------------------\n",
      "[ 19/80 ]\n",
      "Starting: 2006-04-27. Using data from the previous 200 days to train.\n",
      "Model already trained and saved. Loading directly...\n"
     ]
    },
    {
     "name": "stderr",
     "output_type": "stream",
     "text": [
      "100%|██████████| 85/85 [00:00<00:00, 148.88it/s]\n",
      " 19%|█▉        | 16/85 [00:00<00:00, 157.16it/s]"
     ]
    },
    {
     "name": "stdout",
     "output_type": "stream",
     "text": [
      "Loading saved predictions...\n",
      "Finished.\n",
      "--------------------\n",
      "--------------------\n",
      "[ 20/80 ]\n",
      "Starting: 2006-05-11. Using data from the previous 200 days to train.\n",
      "Model already trained and saved. Loading directly...\n"
     ]
    },
    {
     "name": "stderr",
     "output_type": "stream",
     "text": [
      "100%|██████████| 85/85 [00:00<00:00, 157.63it/s]\n",
      " 19%|█▉        | 16/85 [00:00<00:00, 152.75it/s]"
     ]
    },
    {
     "name": "stdout",
     "output_type": "stream",
     "text": [
      "Loading saved predictions...\n",
      "Finished.\n",
      "--------------------\n",
      "--------------------\n",
      "[ 21/80 ]\n",
      "Starting: 2006-05-25. Using data from the previous 200 days to train.\n",
      "Model already trained and saved. Loading directly...\n"
     ]
    },
    {
     "name": "stderr",
     "output_type": "stream",
     "text": [
      "100%|██████████| 85/85 [00:00<00:00, 165.03it/s]\n",
      " 21%|██        | 18/85 [00:00<00:00, 174.65it/s]"
     ]
    },
    {
     "name": "stdout",
     "output_type": "stream",
     "text": [
      "Loading saved predictions...\n",
      "Finished.\n",
      "--------------------\n",
      "--------------------\n",
      "[ 22/80 ]\n",
      "Starting: 2006-06-09. Using data from the previous 200 days to train.\n",
      "Model already trained and saved. Loading directly...\n"
     ]
    },
    {
     "name": "stderr",
     "output_type": "stream",
     "text": [
      "100%|██████████| 85/85 [00:00<00:00, 151.81it/s]\n",
      " 20%|██        | 17/85 [00:00<00:00, 168.97it/s]"
     ]
    },
    {
     "name": "stdout",
     "output_type": "stream",
     "text": [
      "Loading saved predictions...\n",
      "Finished.\n",
      "--------------------\n",
      "--------------------\n",
      "[ 23/80 ]\n",
      "Starting: 2006-06-23. Using data from the previous 200 days to train.\n",
      "Model already trained and saved. Loading directly...\n"
     ]
    },
    {
     "name": "stderr",
     "output_type": "stream",
     "text": [
      "100%|██████████| 85/85 [00:00<00:00, 171.72it/s]\n"
     ]
    },
    {
     "name": "stdout",
     "output_type": "stream",
     "text": [
      "Predictions not detected. Calculating and saving...\n"
     ]
    },
    {
     "name": "stderr",
     "output_type": "stream",
     "text": [
      "100%|██████████| 85/85 [00:16<00:00,  5.20it/s]\n"
     ]
    },
    {
     "name": "stdout",
     "output_type": "stream",
     "text": [
      "Finished.\n",
      "--------------------\n",
      "--------------------\n",
      "[ 24/80 ]\n",
      "Starting: 2006-07-10. Using data from the previous 200 days to train.\n"
     ]
    },
    {
     "name": "stderr",
     "output_type": "stream",
     "text": [
      "100%|██████████| 85/85 [00:35<00:00,  2.40it/s]\n",
      "100%|██████████| 85/85 [00:00<00:00, 162.80it/s]"
     ]
    },
    {
     "name": "stdout",
     "output_type": "stream",
     "text": [
      "Predictions not detected. Calculating and saving...\n"
     ]
    },
    {
     "name": "stderr",
     "output_type": "stream",
     "text": [
      "\n",
      "100%|██████████| 85/85 [00:16<00:00,  5.09it/s]\n"
     ]
    },
    {
     "name": "stdout",
     "output_type": "stream",
     "text": [
      "Finished.\n",
      "--------------------\n",
      "--------------------\n",
      "[ 25/80 ]\n",
      "Starting: 2006-07-24. Using data from the previous 200 days to train.\n"
     ]
    },
    {
     "name": "stderr",
     "output_type": "stream",
     "text": [
      "100%|██████████| 85/85 [00:32<00:00,  2.64it/s]\n",
      "100%|██████████| 85/85 [00:00<00:00, 168.73it/s]\n"
     ]
    },
    {
     "name": "stdout",
     "output_type": "stream",
     "text": [
      "Predictions not detected. Calculating and saving...\n"
     ]
    },
    {
     "name": "stderr",
     "output_type": "stream",
     "text": [
      "100%|██████████| 85/85 [00:17<00:00,  4.95it/s]"
     ]
    },
    {
     "name": "stdout",
     "output_type": "stream",
     "text": [
      "Finished.\n",
      "--------------------\n",
      "--------------------\n",
      "[ 26/80 ]\n",
      "Starting: 2006-08-07. Using data from the previous 200 days to train.\n"
     ]
    },
    {
     "name": "stderr",
     "output_type": "stream",
     "text": [
      "\n",
      "100%|██████████| 85/85 [00:29<00:00,  2.85it/s]\n",
      "100%|██████████| 85/85 [00:00<00:00, 210.89it/s]\n"
     ]
    },
    {
     "name": "stdout",
     "output_type": "stream",
     "text": [
      "Predictions not detected. Calculating and saving...\n"
     ]
    },
    {
     "name": "stderr",
     "output_type": "stream",
     "text": [
      "100%|██████████| 85/85 [00:18<00:00,  4.47it/s]\n"
     ]
    },
    {
     "name": "stdout",
     "output_type": "stream",
     "text": [
      "Finished.\n",
      "--------------------\n",
      "--------------------\n",
      "[ 27/80 ]\n",
      "Starting: 2006-08-21. Using data from the previous 200 days to train.\n"
     ]
    },
    {
     "name": "stderr",
     "output_type": "stream",
     "text": [
      "100%|██████████| 85/85 [00:31<00:00,  2.71it/s]\n",
      "100%|██████████| 85/85 [00:00<00:00, 188.74it/s]"
     ]
    },
    {
     "name": "stdout",
     "output_type": "stream",
     "text": [
      "Predictions not detected. Calculating and saving...\n"
     ]
    },
    {
     "name": "stderr",
     "output_type": "stream",
     "text": [
      "\n",
      "100%|██████████| 85/85 [00:16<00:00,  5.26it/s]\n"
     ]
    },
    {
     "name": "stdout",
     "output_type": "stream",
     "text": [
      "Finished.\n",
      "--------------------\n",
      "--------------------\n",
      "[ 28/80 ]\n",
      "Starting: 2006-09-05. Using data from the previous 200 days to train.\n"
     ]
    },
    {
     "name": "stderr",
     "output_type": "stream",
     "text": [
      "100%|██████████| 85/85 [00:29<00:00,  2.88it/s]\n",
      "100%|██████████| 85/85 [00:00<00:00, 188.73it/s]"
     ]
    },
    {
     "name": "stdout",
     "output_type": "stream",
     "text": [
      "Predictions not detected. Calculating and saving...\n"
     ]
    },
    {
     "name": "stderr",
     "output_type": "stream",
     "text": [
      "\n",
      "100%|██████████| 85/85 [00:15<00:00,  5.37it/s]\n"
     ]
    },
    {
     "name": "stdout",
     "output_type": "stream",
     "text": [
      "Finished.\n",
      "--------------------\n",
      "--------------------\n",
      "[ 29/80 ]\n",
      "Starting: 2006-09-19. Using data from the previous 200 days to train.\n"
     ]
    },
    {
     "name": "stderr",
     "output_type": "stream",
     "text": [
      "100%|██████████| 85/85 [00:28<00:00,  2.94it/s]\n",
      "100%|██████████| 85/85 [00:00<00:00, 191.68it/s]"
     ]
    },
    {
     "name": "stdout",
     "output_type": "stream",
     "text": [
      "Predictions not detected. Calculating and saving...\n"
     ]
    },
    {
     "name": "stderr",
     "output_type": "stream",
     "text": [
      "\n",
      "100%|██████████| 85/85 [00:17<00:00,  4.89it/s]"
     ]
    },
    {
     "name": "stdout",
     "output_type": "stream",
     "text": [
      "Finished.\n",
      "--------------------\n",
      "--------------------\n",
      "[ 30/80 ]\n",
      "Starting: 2006-10-03. Using data from the previous 200 days to train.\n"
     ]
    },
    {
     "name": "stderr",
     "output_type": "stream",
     "text": [
      "\n",
      "100%|██████████| 85/85 [00:30<00:00,  2.78it/s]\n",
      "100%|██████████| 85/85 [00:00<00:00, 191.34it/s]"
     ]
    },
    {
     "name": "stdout",
     "output_type": "stream",
     "text": [
      "Predictions not detected. Calculating and saving...\n"
     ]
    },
    {
     "name": "stderr",
     "output_type": "stream",
     "text": [
      "\n",
      "100%|██████████| 85/85 [00:16<00:00,  5.15it/s]"
     ]
    },
    {
     "name": "stdout",
     "output_type": "stream",
     "text": [
      "Finished.\n",
      "--------------------\n",
      "--------------------\n",
      "[ 31/80 ]\n",
      "Starting: 2006-10-17. Using data from the previous 200 days to train.\n"
     ]
    },
    {
     "name": "stderr",
     "output_type": "stream",
     "text": [
      "\n",
      "100%|██████████| 86/86 [00:30<00:00,  2.82it/s]\n",
      "100%|██████████| 86/86 [00:00<00:00, 182.22it/s]"
     ]
    },
    {
     "name": "stdout",
     "output_type": "stream",
     "text": [
      "Predictions not detected. Calculating and saving...\n"
     ]
    },
    {
     "name": "stderr",
     "output_type": "stream",
     "text": [
      "\n",
      "100%|██████████| 86/86 [00:16<00:00,  5.09it/s]"
     ]
    },
    {
     "name": "stdout",
     "output_type": "stream",
     "text": [
      "Finished.\n",
      "--------------------\n",
      "--------------------\n",
      "[ 32/80 ]\n",
      "Starting: 2006-10-31. Using data from the previous 200 days to train.\n"
     ]
    },
    {
     "name": "stderr",
     "output_type": "stream",
     "text": [
      "\n",
      "100%|██████████| 86/86 [00:31<00:00,  2.75it/s]\n",
      "100%|██████████| 86/86 [00:00<00:00, 135.02it/s]"
     ]
    },
    {
     "name": "stdout",
     "output_type": "stream",
     "text": [
      "Predictions not detected. Calculating and saving...\n"
     ]
    },
    {
     "name": "stderr",
     "output_type": "stream",
     "text": [
      "\n",
      "100%|██████████| 86/86 [00:18<00:00,  4.74it/s]\n"
     ]
    },
    {
     "name": "stdout",
     "output_type": "stream",
     "text": [
      "Finished.\n",
      "--------------------\n",
      "--------------------\n",
      "[ 33/80 ]\n",
      "Starting: 2006-11-14. Using data from the previous 200 days to train.\n"
     ]
    },
    {
     "name": "stderr",
     "output_type": "stream",
     "text": [
      "100%|██████████| 86/86 [00:32<00:00,  2.66it/s]\n",
      "100%|██████████| 86/86 [00:00<00:00, 179.77it/s]"
     ]
    },
    {
     "name": "stdout",
     "output_type": "stream",
     "text": [
      "Predictions not detected. Calculating and saving...\n"
     ]
    },
    {
     "name": "stderr",
     "output_type": "stream",
     "text": [
      "\n",
      "100%|██████████| 86/86 [00:16<00:00,  5.14it/s]\n"
     ]
    },
    {
     "name": "stdout",
     "output_type": "stream",
     "text": [
      "Finished.\n",
      "--------------------\n",
      "--------------------\n",
      "[ 34/80 ]\n",
      "Starting: 2006-11-29. Using data from the previous 200 days to train.\n"
     ]
    },
    {
     "name": "stderr",
     "output_type": "stream",
     "text": [
      "100%|██████████| 86/86 [00:30<00:00,  2.82it/s]\n",
      "100%|██████████| 86/86 [00:00<00:00, 184.76it/s]"
     ]
    },
    {
     "name": "stdout",
     "output_type": "stream",
     "text": [
      "Predictions not detected. Calculating and saving...\n"
     ]
    },
    {
     "name": "stderr",
     "output_type": "stream",
     "text": [
      "\n",
      "100%|██████████| 86/86 [00:16<00:00,  5.17it/s]"
     ]
    },
    {
     "name": "stdout",
     "output_type": "stream",
     "text": [
      "Finished.\n",
      "--------------------\n",
      "--------------------\n",
      "[ 35/80 ]\n",
      "Starting: 2006-12-13. Using data from the previous 200 days to train.\n"
     ]
    },
    {
     "name": "stderr",
     "output_type": "stream",
     "text": [
      "\n",
      "100%|██████████| 86/86 [00:30<00:00,  2.83it/s]\n",
      "100%|██████████| 86/86 [00:00<00:00, 172.11it/s]\n"
     ]
    },
    {
     "name": "stdout",
     "output_type": "stream",
     "text": [
      "Predictions not detected. Calculating and saving...\n"
     ]
    },
    {
     "name": "stderr",
     "output_type": "stream",
     "text": [
      "100%|██████████| 86/86 [00:19<00:00,  4.42it/s]"
     ]
    },
    {
     "name": "stdout",
     "output_type": "stream",
     "text": [
      "Finished.\n",
      "--------------------\n",
      "--------------------\n",
      "[ 36/80 ]\n",
      "Starting: 2006-12-28. Using data from the previous 200 days to train.\n"
     ]
    },
    {
     "name": "stderr",
     "output_type": "stream",
     "text": [
      "\n",
      "100%|██████████| 86/86 [00:34<00:00,  2.50it/s]\n",
      "100%|██████████| 86/86 [00:00<00:00, 173.98it/s]\n"
     ]
    },
    {
     "name": "stdout",
     "output_type": "stream",
     "text": [
      "Predictions not detected. Calculating and saving...\n"
     ]
    },
    {
     "name": "stderr",
     "output_type": "stream",
     "text": [
      "100%|██████████| 86/86 [00:17<00:00,  4.90it/s]\n"
     ]
    },
    {
     "name": "stdout",
     "output_type": "stream",
     "text": [
      "Finished.\n",
      "--------------------\n",
      "--------------------\n",
      "[ 37/80 ]\n",
      "Starting: 2007-01-16. Using data from the previous 200 days to train.\n"
     ]
    },
    {
     "name": "stderr",
     "output_type": "stream",
     "text": [
      "100%|██████████| 86/86 [00:34<00:00,  2.51it/s]\n",
      "100%|██████████| 86/86 [00:00<00:00, 153.40it/s]"
     ]
    },
    {
     "name": "stdout",
     "output_type": "stream",
     "text": [
      "Predictions not detected. Calculating and saving...\n"
     ]
    },
    {
     "name": "stderr",
     "output_type": "stream",
     "text": [
      "\n",
      "100%|██████████| 86/86 [00:20<00:00,  4.19it/s]\n"
     ]
    },
    {
     "name": "stdout",
     "output_type": "stream",
     "text": [
      "Finished.\n",
      "--------------------\n",
      "--------------------\n",
      "[ 38/80 ]\n",
      "Starting: 2007-01-30. Using data from the previous 200 days to train.\n"
     ]
    },
    {
     "name": "stderr",
     "output_type": "stream",
     "text": [
      "100%|██████████| 86/86 [00:35<00:00,  2.42it/s]\n",
      "100%|██████████| 86/86 [00:00<00:00, 160.12it/s]"
     ]
    },
    {
     "name": "stdout",
     "output_type": "stream",
     "text": [
      "Predictions not detected. Calculating and saving...\n"
     ]
    },
    {
     "name": "stderr",
     "output_type": "stream",
     "text": [
      "\n",
      "100%|██████████| 86/86 [00:19<00:00,  4.40it/s]"
     ]
    },
    {
     "name": "stdout",
     "output_type": "stream",
     "text": [
      "Finished.\n",
      "--------------------\n",
      "--------------------\n",
      "[ 39/80 ]\n",
      "Starting: 2007-02-13. Using data from the previous 200 days to train.\n"
     ]
    },
    {
     "name": "stderr",
     "output_type": "stream",
     "text": [
      "\n",
      "100%|██████████| 86/86 [00:35<00:00,  2.42it/s]\n",
      "100%|██████████| 86/86 [00:00<00:00, 162.71it/s]"
     ]
    },
    {
     "name": "stdout",
     "output_type": "stream",
     "text": [
      "Predictions not detected. Calculating and saving...\n"
     ]
    },
    {
     "name": "stderr",
     "output_type": "stream",
     "text": [
      "\n",
      "100%|██████████| 86/86 [00:19<00:00,  4.32it/s]\n"
     ]
    },
    {
     "name": "stdout",
     "output_type": "stream",
     "text": [
      "Finished.\n",
      "--------------------\n",
      "--------------------\n",
      "[ 40/80 ]\n",
      "Starting: 2007-02-28. Using data from the previous 200 days to train.\n"
     ]
    },
    {
     "name": "stderr",
     "output_type": "stream",
     "text": [
      "100%|██████████| 86/86 [00:37<00:00,  2.27it/s]\n",
      "100%|██████████| 86/86 [00:00<00:00, 161.97it/s]"
     ]
    },
    {
     "name": "stdout",
     "output_type": "stream",
     "text": [
      "Predictions not detected. Calculating and saving...\n"
     ]
    },
    {
     "name": "stderr",
     "output_type": "stream",
     "text": [
      "\n",
      "100%|██████████| 86/86 [00:20<00:00,  4.14it/s]\n"
     ]
    },
    {
     "name": "stdout",
     "output_type": "stream",
     "text": [
      "Finished.\n",
      "--------------------\n",
      "--------------------\n",
      "[ 41/80 ]\n",
      "Starting: 2007-03-14. Using data from the previous 200 days to train.\n"
     ]
    },
    {
     "name": "stderr",
     "output_type": "stream",
     "text": [
      "100%|██████████| 86/86 [00:36<00:00,  2.38it/s]\n",
      "100%|██████████| 86/86 [00:00<00:00, 152.23it/s]"
     ]
    },
    {
     "name": "stdout",
     "output_type": "stream",
     "text": [
      "Predictions not detected. Calculating and saving...\n"
     ]
    },
    {
     "name": "stderr",
     "output_type": "stream",
     "text": [
      "\n",
      "100%|██████████| 86/86 [00:20<00:00,  4.27it/s]\n"
     ]
    },
    {
     "name": "stdout",
     "output_type": "stream",
     "text": [
      "Finished.\n",
      "--------------------\n",
      "--------------------\n",
      "[ 42/80 ]\n",
      "Starting: 2007-03-28. Using data from the previous 200 days to train.\n"
     ]
    },
    {
     "name": "stderr",
     "output_type": "stream",
     "text": [
      "100%|██████████| 87/87 [00:36<00:00,  2.36it/s]\n",
      "100%|██████████| 87/87 [00:00<00:00, 141.25it/s]"
     ]
    },
    {
     "name": "stdout",
     "output_type": "stream",
     "text": [
      "Predictions not detected. Calculating and saving...\n"
     ]
    },
    {
     "name": "stderr",
     "output_type": "stream",
     "text": [
      "\n",
      "100%|██████████| 87/87 [00:20<00:00,  4.24it/s]\n"
     ]
    },
    {
     "name": "stdout",
     "output_type": "stream",
     "text": [
      "Finished.\n",
      "--------------------\n",
      "--------------------\n",
      "[ 43/80 ]\n",
      "Starting: 2007-04-12. Using data from the previous 200 days to train.\n"
     ]
    },
    {
     "name": "stderr",
     "output_type": "stream",
     "text": [
      "100%|██████████| 87/87 [00:34<00:00,  2.49it/s]\n",
      "100%|██████████| 87/87 [00:00<00:00, 180.52it/s]"
     ]
    },
    {
     "name": "stdout",
     "output_type": "stream",
     "text": [
      "Predictions not detected. Calculating and saving...\n"
     ]
    },
    {
     "name": "stderr",
     "output_type": "stream",
     "text": [
      "\n",
      "100%|██████████| 87/87 [00:17<00:00,  4.98it/s]\n"
     ]
    },
    {
     "name": "stdout",
     "output_type": "stream",
     "text": [
      "Finished.\n",
      "--------------------\n",
      "--------------------\n",
      "[ 44/80 ]\n",
      "Starting: 2007-04-26. Using data from the previous 200 days to train.\n"
     ]
    },
    {
     "name": "stderr",
     "output_type": "stream",
     "text": [
      "100%|██████████| 87/87 [00:31<00:00,  2.78it/s]\n",
      "100%|██████████| 87/87 [00:00<00:00, 169.72it/s]\n"
     ]
    },
    {
     "name": "stdout",
     "output_type": "stream",
     "text": [
      "Predictions not detected. Calculating and saving...\n"
     ]
    },
    {
     "name": "stderr",
     "output_type": "stream",
     "text": [
      "100%|██████████| 87/87 [00:17<00:00,  4.99it/s]\n"
     ]
    },
    {
     "name": "stdout",
     "output_type": "stream",
     "text": [
      "Finished.\n",
      "--------------------\n",
      "--------------------\n",
      "[ 45/80 ]\n",
      "Starting: 2007-05-10. Using data from the previous 200 days to train.\n"
     ]
    },
    {
     "name": "stderr",
     "output_type": "stream",
     "text": [
      "100%|██████████| 87/87 [00:32<00:00,  2.71it/s]\n",
      "100%|██████████| 87/87 [00:00<00:00, 182.26it/s]"
     ]
    },
    {
     "name": "stdout",
     "output_type": "stream",
     "text": [
      "Predictions not detected. Calculating and saving...\n"
     ]
    },
    {
     "name": "stderr",
     "output_type": "stream",
     "text": [
      "\n",
      "100%|██████████| 87/87 [00:17<00:00,  5.03it/s]\n"
     ]
    },
    {
     "name": "stdout",
     "output_type": "stream",
     "text": [
      "Finished.\n",
      "--------------------\n",
      "--------------------\n",
      "[ 46/80 ]\n",
      "Starting: 2007-05-24. Using data from the previous 200 days to train.\n"
     ]
    },
    {
     "name": "stderr",
     "output_type": "stream",
     "text": [
      "100%|██████████| 87/87 [00:31<00:00,  2.77it/s]\n",
      "100%|██████████| 87/87 [00:00<00:00, 174.30it/s]\n"
     ]
    },
    {
     "name": "stdout",
     "output_type": "stream",
     "text": [
      "Predictions not detected. Calculating and saving...\n"
     ]
    },
    {
     "name": "stderr",
     "output_type": "stream",
     "text": [
      "100%|██████████| 87/87 [00:17<00:00,  5.01it/s]"
     ]
    },
    {
     "name": "stdout",
     "output_type": "stream",
     "text": [
      "Finished.\n",
      "--------------------\n",
      "--------------------\n",
      "[ 47/80 ]\n",
      "Starting: 2007-06-08. Using data from the previous 200 days to train.\n"
     ]
    },
    {
     "name": "stderr",
     "output_type": "stream",
     "text": [
      "\n",
      "100%|██████████| 87/87 [00:31<00:00,  2.74it/s]\n",
      "100%|██████████| 87/87 [00:00<00:00, 168.13it/s]"
     ]
    },
    {
     "name": "stdout",
     "output_type": "stream",
     "text": [
      "Predictions not detected. Calculating and saving...\n"
     ]
    },
    {
     "name": "stderr",
     "output_type": "stream",
     "text": [
      "\n",
      "100%|██████████| 87/87 [00:17<00:00,  4.86it/s]\n"
     ]
    },
    {
     "name": "stdout",
     "output_type": "stream",
     "text": [
      "Finished.\n",
      "--------------------\n",
      "--------------------\n",
      "[ 48/80 ]\n",
      "Starting: 2007-06-22. Using data from the previous 200 days to train.\n"
     ]
    },
    {
     "name": "stderr",
     "output_type": "stream",
     "text": [
      "100%|██████████| 87/87 [00:31<00:00,  2.73it/s]\n",
      "100%|██████████| 87/87 [00:00<00:00, 138.16it/s]"
     ]
    },
    {
     "name": "stdout",
     "output_type": "stream",
     "text": [
      "Predictions not detected. Calculating and saving...\n"
     ]
    },
    {
     "name": "stderr",
     "output_type": "stream",
     "text": [
      "\n",
      "100%|██████████| 87/87 [00:20<00:00,  4.21it/s]\n"
     ]
    },
    {
     "name": "stdout",
     "output_type": "stream",
     "text": [
      "Finished.\n",
      "--------------------\n",
      "--------------------\n",
      "[ 49/80 ]\n",
      "Starting: 2007-07-09. Using data from the previous 200 days to train.\n"
     ]
    },
    {
     "name": "stderr",
     "output_type": "stream",
     "text": [
      "100%|██████████| 87/87 [00:33<00:00,  2.59it/s]\n",
      "100%|██████████| 87/87 [00:00<00:00, 139.42it/s]"
     ]
    },
    {
     "name": "stdout",
     "output_type": "stream",
     "text": [
      "Predictions not detected. Calculating and saving...\n"
     ]
    },
    {
     "name": "stderr",
     "output_type": "stream",
     "text": [
      "\n",
      "100%|██████████| 87/87 [00:19<00:00,  4.53it/s]\n"
     ]
    },
    {
     "name": "stdout",
     "output_type": "stream",
     "text": [
      "Finished.\n",
      "--------------------\n",
      "--------------------\n",
      "[ 50/80 ]\n",
      "Starting: 2007-07-23. Using data from the previous 200 days to train.\n"
     ]
    },
    {
     "name": "stderr",
     "output_type": "stream",
     "text": [
      "100%|██████████| 87/87 [00:33<00:00,  2.60it/s]\n",
      "100%|██████████| 87/87 [00:00<00:00, 169.05it/s]"
     ]
    },
    {
     "name": "stdout",
     "output_type": "stream",
     "text": [
      "Predictions not detected. Calculating and saving...\n"
     ]
    },
    {
     "name": "stderr",
     "output_type": "stream",
     "text": [
      "\n",
      "100%|██████████| 87/87 [00:18<00:00,  4.83it/s]\n"
     ]
    },
    {
     "name": "stdout",
     "output_type": "stream",
     "text": [
      "Finished.\n",
      "--------------------\n",
      "--------------------\n",
      "[ 51/80 ]\n",
      "Starting: 2007-08-06. Using data from the previous 200 days to train.\n"
     ]
    },
    {
     "name": "stderr",
     "output_type": "stream",
     "text": [
      "100%|██████████| 87/87 [00:32<00:00,  2.64it/s]\n",
      "100%|██████████| 87/87 [00:00<00:00, 167.79it/s]"
     ]
    },
    {
     "name": "stdout",
     "output_type": "stream",
     "text": [
      "Predictions not detected. Calculating and saving...\n"
     ]
    },
    {
     "name": "stderr",
     "output_type": "stream",
     "text": [
      "\n",
      "100%|██████████| 87/87 [00:18<00:00,  4.73it/s]"
     ]
    },
    {
     "name": "stdout",
     "output_type": "stream",
     "text": [
      "Finished.\n",
      "--------------------\n",
      "--------------------\n",
      "[ 52/80 ]\n",
      "Starting: 2007-08-20. Using data from the previous 200 days to train.\n"
     ]
    },
    {
     "name": "stderr",
     "output_type": "stream",
     "text": [
      "\n",
      "100%|██████████| 87/87 [00:32<00:00,  2.66it/s]\n",
      "100%|██████████| 87/87 [00:00<00:00, 172.23it/s]\n"
     ]
    },
    {
     "name": "stdout",
     "output_type": "stream",
     "text": [
      "Predictions not detected. Calculating and saving...\n"
     ]
    },
    {
     "name": "stderr",
     "output_type": "stream",
     "text": [
      "100%|██████████| 87/87 [00:17<00:00,  4.83it/s]\n"
     ]
    },
    {
     "name": "stdout",
     "output_type": "stream",
     "text": [
      "Finished.\n",
      "--------------------\n",
      "--------------------\n",
      "[ 53/80 ]\n",
      "Starting: 2007-09-04. Using data from the previous 200 days to train.\n"
     ]
    },
    {
     "name": "stderr",
     "output_type": "stream",
     "text": [
      "100%|██████████| 87/87 [00:32<00:00,  2.70it/s]\n",
      "100%|██████████| 87/87 [00:00<00:00, 176.74it/s]\n"
     ]
    },
    {
     "name": "stdout",
     "output_type": "stream",
     "text": [
      "Predictions not detected. Calculating and saving...\n"
     ]
    },
    {
     "name": "stderr",
     "output_type": "stream",
     "text": [
      "100%|██████████| 87/87 [00:17<00:00,  4.94it/s]\n"
     ]
    },
    {
     "name": "stdout",
     "output_type": "stream",
     "text": [
      "Finished.\n",
      "--------------------\n",
      "--------------------\n",
      "[ 54/80 ]\n",
      "Starting: 2007-09-18. Using data from the previous 200 days to train.\n"
     ]
    },
    {
     "name": "stderr",
     "output_type": "stream",
     "text": [
      "100%|██████████| 89/89 [00:33<00:00,  2.66it/s]\n",
      "100%|██████████| 89/89 [00:00<00:00, 175.62it/s]\n"
     ]
    },
    {
     "name": "stdout",
     "output_type": "stream",
     "text": [
      "Predictions not detected. Calculating and saving...\n"
     ]
    },
    {
     "name": "stderr",
     "output_type": "stream",
     "text": [
      "100%|██████████| 89/89 [00:18<00:00,  4.81it/s]"
     ]
    },
    {
     "name": "stdout",
     "output_type": "stream",
     "text": [
      "Finished.\n",
      "--------------------\n",
      "--------------------\n",
      "[ 55/80 ]\n",
      "Starting: 2007-10-02. Using data from the previous 200 days to train.\n"
     ]
    },
    {
     "name": "stderr",
     "output_type": "stream",
     "text": [
      "\n",
      "100%|██████████| 89/89 [00:33<00:00,  2.66it/s]\n",
      "100%|██████████| 89/89 [00:00<00:00, 185.73it/s]"
     ]
    },
    {
     "name": "stdout",
     "output_type": "stream",
     "text": [
      "Predictions not detected. Calculating and saving...\n"
     ]
    },
    {
     "name": "stderr",
     "output_type": "stream",
     "text": [
      "\n",
      "100%|██████████| 89/89 [00:18<00:00,  4.84it/s]"
     ]
    },
    {
     "name": "stdout",
     "output_type": "stream",
     "text": [
      "Finished.\n",
      "--------------------\n",
      "--------------------\n",
      "[ 56/80 ]\n",
      "Starting: 2007-10-16. Using data from the previous 200 days to train.\n"
     ]
    },
    {
     "name": "stderr",
     "output_type": "stream",
     "text": [
      "\n",
      "100%|██████████| 89/89 [00:34<00:00,  2.60it/s]\n",
      "100%|██████████| 89/89 [00:00<00:00, 155.50it/s]"
     ]
    },
    {
     "name": "stdout",
     "output_type": "stream",
     "text": [
      "Predictions not detected. Calculating and saving...\n"
     ]
    },
    {
     "name": "stderr",
     "output_type": "stream",
     "text": [
      "\n",
      "100%|██████████| 89/89 [00:18<00:00,  4.75it/s]\n"
     ]
    },
    {
     "name": "stdout",
     "output_type": "stream",
     "text": [
      "Finished.\n",
      "--------------------\n",
      "--------------------\n",
      "[ 57/80 ]\n",
      "Starting: 2007-10-30. Using data from the previous 200 days to train.\n"
     ]
    },
    {
     "name": "stderr",
     "output_type": "stream",
     "text": [
      "100%|██████████| 89/89 [00:34<00:00,  2.60it/s]\n",
      "100%|██████████| 89/89 [00:00<00:00, 158.85it/s]"
     ]
    },
    {
     "name": "stdout",
     "output_type": "stream",
     "text": [
      "Predictions not detected. Calculating and saving...\n"
     ]
    },
    {
     "name": "stderr",
     "output_type": "stream",
     "text": [
      "\n",
      "100%|██████████| 89/89 [00:18<00:00,  4.82it/s]\n"
     ]
    },
    {
     "name": "stdout",
     "output_type": "stream",
     "text": [
      "Finished.\n",
      "--------------------\n",
      "--------------------\n",
      "[ 58/80 ]\n",
      "Starting: 2007-11-13. Using data from the previous 200 days to train.\n"
     ]
    },
    {
     "name": "stderr",
     "output_type": "stream",
     "text": [
      "100%|██████████| 89/89 [00:33<00:00,  2.68it/s]\n",
      "100%|██████████| 89/89 [00:00<00:00, 186.59it/s]"
     ]
    },
    {
     "name": "stdout",
     "output_type": "stream",
     "text": [
      "Predictions not detected. Calculating and saving...\n"
     ]
    },
    {
     "name": "stderr",
     "output_type": "stream",
     "text": [
      "\n",
      "100%|██████████| 89/89 [00:18<00:00,  4.84it/s]\n"
     ]
    },
    {
     "name": "stdout",
     "output_type": "stream",
     "text": [
      "Finished.\n",
      "--------------------\n",
      "--------------------\n",
      "[ 59/80 ]\n",
      "Starting: 2007-11-28. Using data from the previous 200 days to train.\n"
     ]
    },
    {
     "name": "stderr",
     "output_type": "stream",
     "text": [
      "100%|██████████| 89/89 [00:39<00:00,  2.23it/s]\n",
      "100%|██████████| 89/89 [00:00<00:00, 142.37it/s]"
     ]
    },
    {
     "name": "stdout",
     "output_type": "stream",
     "text": [
      "Predictions not detected. Calculating and saving...\n"
     ]
    },
    {
     "name": "stderr",
     "output_type": "stream",
     "text": [
      "\n",
      "100%|██████████| 89/89 [00:21<00:00,  4.14it/s]"
     ]
    },
    {
     "name": "stdout",
     "output_type": "stream",
     "text": [
      "Finished.\n",
      "--------------------\n",
      "--------------------\n",
      "[ 60/80 ]\n",
      "Starting: 2007-12-12. Using data from the previous 200 days to train.\n"
     ]
    },
    {
     "name": "stderr",
     "output_type": "stream",
     "text": [
      "\n",
      "100%|██████████| 89/89 [00:38<00:00,  2.29it/s]\n",
      "100%|██████████| 89/89 [00:00<00:00, 141.31it/s]"
     ]
    },
    {
     "name": "stdout",
     "output_type": "stream",
     "text": [
      "Predictions not detected. Calculating and saving...\n"
     ]
    },
    {
     "name": "stderr",
     "output_type": "stream",
     "text": [
      "\n",
      "100%|██████████| 89/89 [00:21<00:00,  4.22it/s]"
     ]
    },
    {
     "name": "stdout",
     "output_type": "stream",
     "text": [
      "Finished.\n",
      "--------------------\n",
      "--------------------\n",
      "[ 61/80 ]\n",
      "Starting: 2007-12-27. Using data from the previous 200 days to train.\n"
     ]
    },
    {
     "name": "stderr",
     "output_type": "stream",
     "text": [
      "\n",
      "100%|██████████| 89/89 [00:35<00:00,  2.51it/s]\n",
      "100%|██████████| 89/89 [00:00<00:00, 143.00it/s]\n"
     ]
    },
    {
     "name": "stdout",
     "output_type": "stream",
     "text": [
      "Predictions not detected. Calculating and saving...\n"
     ]
    },
    {
     "name": "stderr",
     "output_type": "stream",
     "text": [
      "100%|██████████| 89/89 [00:20<00:00,  4.45it/s]"
     ]
    },
    {
     "name": "stdout",
     "output_type": "stream",
     "text": [
      "Finished.\n",
      "--------------------\n",
      "--------------------\n",
      "[ 62/80 ]\n",
      "Starting: 2008-01-11. Using data from the previous 200 days to train.\n"
     ]
    },
    {
     "name": "stderr",
     "output_type": "stream",
     "text": [
      "\n",
      "100%|██████████| 90/90 [00:36<00:00,  2.45it/s]\n",
      "100%|██████████| 90/90 [00:00<00:00, 175.78it/s]"
     ]
    },
    {
     "name": "stdout",
     "output_type": "stream",
     "text": [
      "Predictions not detected. Calculating and saving...\n"
     ]
    },
    {
     "name": "stderr",
     "output_type": "stream",
     "text": [
      "\n",
      "100%|██████████| 90/90 [00:19<00:00,  4.65it/s]\n"
     ]
    },
    {
     "name": "stdout",
     "output_type": "stream",
     "text": [
      "Finished.\n",
      "--------------------\n",
      "--------------------\n",
      "[ 63/80 ]\n",
      "Starting: 2008-01-28. Using data from the previous 200 days to train.\n"
     ]
    },
    {
     "name": "stderr",
     "output_type": "stream",
     "text": [
      "100%|██████████| 90/90 [00:34<00:00,  2.60it/s]\n",
      "100%|██████████| 90/90 [00:00<00:00, 179.91it/s]\n"
     ]
    },
    {
     "name": "stdout",
     "output_type": "stream",
     "text": [
      "Predictions not detected. Calculating and saving...\n"
     ]
    },
    {
     "name": "stderr",
     "output_type": "stream",
     "text": [
      "100%|██████████| 90/90 [00:18<00:00,  4.81it/s]"
     ]
    },
    {
     "name": "stdout",
     "output_type": "stream",
     "text": [
      "Finished.\n",
      "--------------------\n",
      "--------------------\n",
      "[ 64/80 ]\n",
      "Starting: 2008-02-11. Using data from the previous 200 days to train.\n"
     ]
    },
    {
     "name": "stderr",
     "output_type": "stream",
     "text": [
      "\n",
      "100%|██████████| 90/90 [00:34<00:00,  2.60it/s]\n",
      "100%|██████████| 90/90 [00:00<00:00, 175.70it/s]"
     ]
    },
    {
     "name": "stdout",
     "output_type": "stream",
     "text": [
      "Predictions not detected. Calculating and saving...\n"
     ]
    },
    {
     "name": "stderr",
     "output_type": "stream",
     "text": [
      "\n",
      "100%|██████████| 90/90 [00:19<00:00,  4.73it/s]\n"
     ]
    },
    {
     "name": "stdout",
     "output_type": "stream",
     "text": [
      "Finished.\n",
      "--------------------\n",
      "--------------------\n",
      "[ 65/80 ]\n",
      "Starting: 2008-02-26. Using data from the previous 200 days to train.\n"
     ]
    },
    {
     "name": "stderr",
     "output_type": "stream",
     "text": [
      "100%|██████████| 90/90 [00:34<00:00,  2.64it/s]\n",
      "100%|██████████| 90/90 [00:00<00:00, 180.61it/s]\n"
     ]
    },
    {
     "name": "stdout",
     "output_type": "stream",
     "text": [
      "Predictions not detected. Calculating and saving...\n"
     ]
    },
    {
     "name": "stderr",
     "output_type": "stream",
     "text": [
      "100%|██████████| 90/90 [00:18<00:00,  4.85it/s]"
     ]
    },
    {
     "name": "stdout",
     "output_type": "stream",
     "text": [
      "Finished.\n",
      "--------------------\n",
      "--------------------\n",
      "[ 66/80 ]\n",
      "Starting: 2008-03-11. Using data from the previous 200 days to train.\n"
     ]
    },
    {
     "name": "stderr",
     "output_type": "stream",
     "text": [
      "\n",
      "100%|██████████| 90/90 [00:33<00:00,  2.66it/s]\n",
      "100%|██████████| 90/90 [00:00<00:00, 179.26it/s]\n"
     ]
    },
    {
     "name": "stdout",
     "output_type": "stream",
     "text": [
      "Predictions not detected. Calculating and saving...\n"
     ]
    },
    {
     "name": "stderr",
     "output_type": "stream",
     "text": [
      "100%|██████████| 90/90 [00:18<00:00,  4.85it/s]\n"
     ]
    },
    {
     "name": "stdout",
     "output_type": "stream",
     "text": [
      "Finished.\n",
      "--------------------\n",
      "--------------------\n",
      "[ 67/80 ]\n",
      "Starting: 2008-03-26. Using data from the previous 200 days to train.\n"
     ]
    },
    {
     "name": "stderr",
     "output_type": "stream",
     "text": [
      "100%|██████████| 90/90 [00:33<00:00,  2.69it/s]\n",
      "100%|██████████| 90/90 [00:00<00:00, 164.88it/s]"
     ]
    },
    {
     "name": "stdout",
     "output_type": "stream",
     "text": [
      "Predictions not detected. Calculating and saving...\n"
     ]
    },
    {
     "name": "stderr",
     "output_type": "stream",
     "text": [
      "\n",
      "100%|██████████| 90/90 [00:19<00:00,  4.67it/s]"
     ]
    },
    {
     "name": "stdout",
     "output_type": "stream",
     "text": [
      "Finished.\n",
      "--------------------\n",
      "--------------------\n",
      "[ 68/80 ]\n",
      "Starting: 2008-04-09. Using data from the previous 200 days to train.\n"
     ]
    },
    {
     "name": "stderr",
     "output_type": "stream",
     "text": [
      "\n",
      "100%|██████████| 91/91 [00:34<00:00,  2.65it/s]\n",
      "100%|██████████| 91/91 [00:00<00:00, 171.64it/s]"
     ]
    },
    {
     "name": "stdout",
     "output_type": "stream",
     "text": [
      "Predictions not detected. Calculating and saving...\n"
     ]
    },
    {
     "name": "stderr",
     "output_type": "stream",
     "text": [
      "\n",
      "100%|██████████| 91/91 [00:18<00:00,  4.80it/s]\n"
     ]
    },
    {
     "name": "stdout",
     "output_type": "stream",
     "text": [
      "Finished.\n",
      "--------------------\n",
      "--------------------\n",
      "[ 69/80 ]\n",
      "Starting: 2008-04-23. Using data from the previous 200 days to train.\n"
     ]
    },
    {
     "name": "stderr",
     "output_type": "stream",
     "text": [
      "100%|██████████| 92/92 [00:34<00:00,  2.64it/s]\n",
      "100%|██████████| 92/92 [00:00<00:00, 160.75it/s]"
     ]
    },
    {
     "name": "stdout",
     "output_type": "stream",
     "text": [
      "Predictions not detected. Calculating and saving...\n"
     ]
    },
    {
     "name": "stderr",
     "output_type": "stream",
     "text": [
      "\n",
      "100%|██████████| 92/92 [00:19<00:00,  4.61it/s]\n"
     ]
    },
    {
     "name": "stdout",
     "output_type": "stream",
     "text": [
      "Finished.\n",
      "--------------------\n",
      "--------------------\n",
      "[ 70/80 ]\n",
      "Starting: 2008-05-07. Using data from the previous 200 days to train.\n"
     ]
    },
    {
     "name": "stderr",
     "output_type": "stream",
     "text": [
      "100%|██████████| 92/92 [00:34<00:00,  2.63it/s]\n",
      "100%|██████████| 92/92 [00:00<00:00, 162.75it/s]"
     ]
    },
    {
     "name": "stdout",
     "output_type": "stream",
     "text": [
      "Predictions not detected. Calculating and saving...\n"
     ]
    },
    {
     "name": "stderr",
     "output_type": "stream",
     "text": [
      "\n",
      "100%|██████████| 92/92 [00:19<00:00,  4.66it/s]\n"
     ]
    },
    {
     "name": "stdout",
     "output_type": "stream",
     "text": [
      "Finished.\n",
      "--------------------\n",
      "--------------------\n",
      "[ 71/80 ]\n",
      "Starting: 2008-05-21. Using data from the previous 200 days to train.\n"
     ]
    },
    {
     "name": "stderr",
     "output_type": "stream",
     "text": [
      "100%|██████████| 93/93 [00:35<00:00,  2.63it/s]\n",
      "100%|██████████| 93/93 [00:00<00:00, 174.95it/s]"
     ]
    },
    {
     "name": "stdout",
     "output_type": "stream",
     "text": [
      "Predictions not detected. Calculating and saving...\n"
     ]
    },
    {
     "name": "stderr",
     "output_type": "stream",
     "text": [
      "\n",
      "100%|██████████| 93/93 [00:19<00:00,  4.78it/s]\n"
     ]
    },
    {
     "name": "stdout",
     "output_type": "stream",
     "text": [
      "Finished.\n",
      "--------------------\n",
      "--------------------\n",
      "[ 72/80 ]\n",
      "Starting: 2008-06-05. Using data from the previous 200 days to train.\n"
     ]
    },
    {
     "name": "stderr",
     "output_type": "stream",
     "text": [
      "100%|██████████| 94/94 [00:36<00:00,  2.59it/s]\n",
      "100%|██████████| 94/94 [00:00<00:00, 163.11it/s]"
     ]
    },
    {
     "name": "stdout",
     "output_type": "stream",
     "text": [
      "Predictions not detected. Calculating and saving...\n"
     ]
    },
    {
     "name": "stderr",
     "output_type": "stream",
     "text": [
      "\n",
      "100%|██████████| 94/94 [00:20<00:00,  4.67it/s]\n"
     ]
    },
    {
     "name": "stdout",
     "output_type": "stream",
     "text": [
      "Finished.\n",
      "--------------------\n",
      "--------------------\n",
      "[ 73/80 ]\n",
      "Starting: 2008-06-19. Using data from the previous 200 days to train.\n"
     ]
    },
    {
     "name": "stderr",
     "output_type": "stream",
     "text": [
      "100%|██████████| 95/95 [00:36<00:00,  2.62it/s]\n",
      "100%|██████████| 95/95 [00:00<00:00, 161.94it/s]"
     ]
    },
    {
     "name": "stdout",
     "output_type": "stream",
     "text": [
      "Predictions not detected. Calculating and saving...\n"
     ]
    },
    {
     "name": "stderr",
     "output_type": "stream",
     "text": [
      "\n",
      "100%|██████████| 95/95 [00:20<00:00,  4.55it/s]\n"
     ]
    },
    {
     "name": "stdout",
     "output_type": "stream",
     "text": [
      "Finished.\n",
      "--------------------\n",
      "--------------------\n",
      "[ 74/80 ]\n",
      "Starting: 2008-07-03. Using data from the previous 200 days to train.\n"
     ]
    },
    {
     "name": "stderr",
     "output_type": "stream",
     "text": [
      "100%|██████████| 95/95 [00:36<00:00,  2.61it/s]\n",
      "100%|██████████| 95/95 [00:00<00:00, 165.96it/s]"
     ]
    },
    {
     "name": "stdout",
     "output_type": "stream",
     "text": [
      "Predictions not detected. Calculating and saving...\n"
     ]
    },
    {
     "name": "stderr",
     "output_type": "stream",
     "text": [
      "\n",
      "100%|██████████| 95/95 [00:20<00:00,  4.57it/s]\n"
     ]
    },
    {
     "name": "stdout",
     "output_type": "stream",
     "text": [
      "Finished.\n",
      "--------------------\n",
      "--------------------\n",
      "[ 75/80 ]\n",
      "Starting: 2008-07-18. Using data from the previous 200 days to train.\n"
     ]
    },
    {
     "name": "stderr",
     "output_type": "stream",
     "text": [
      "100%|██████████| 95/95 [00:36<00:00,  2.61it/s]\n",
      "100%|██████████| 95/95 [00:00<00:00, 162.31it/s]\n"
     ]
    },
    {
     "name": "stdout",
     "output_type": "stream",
     "text": [
      "Predictions not detected. Calculating and saving...\n"
     ]
    },
    {
     "name": "stderr",
     "output_type": "stream",
     "text": [
      "100%|██████████| 95/95 [00:20<00:00,  4.56it/s]"
     ]
    },
    {
     "name": "stdout",
     "output_type": "stream",
     "text": [
      "Finished.\n",
      "--------------------\n",
      "--------------------\n",
      "[ 76/80 ]\n",
      "Starting: 2008-08-01. Using data from the previous 200 days to train.\n"
     ]
    },
    {
     "name": "stderr",
     "output_type": "stream",
     "text": [
      "\n",
      "100%|██████████| 95/95 [00:36<00:00,  2.61it/s]\n",
      "100%|██████████| 95/95 [00:00<00:00, 161.48it/s]"
     ]
    },
    {
     "name": "stdout",
     "output_type": "stream",
     "text": [
      "Predictions not detected. Calculating and saving...\n"
     ]
    },
    {
     "name": "stderr",
     "output_type": "stream",
     "text": [
      "\n",
      "100%|██████████| 95/95 [00:20<00:00,  4.56it/s]\n"
     ]
    },
    {
     "name": "stdout",
     "output_type": "stream",
     "text": [
      "Finished.\n",
      "--------------------\n",
      "--------------------\n",
      "[ 77/80 ]\n",
      "Starting: 2008-08-15. Using data from the previous 200 days to train.\n"
     ]
    },
    {
     "name": "stderr",
     "output_type": "stream",
     "text": [
      "100%|██████████| 95/95 [00:36<00:00,  2.59it/s]\n",
      "100%|██████████| 95/95 [00:00<00:00, 159.62it/s]\n"
     ]
    },
    {
     "name": "stdout",
     "output_type": "stream",
     "text": [
      "Predictions not detected. Calculating and saving...\n"
     ]
    },
    {
     "name": "stderr",
     "output_type": "stream",
     "text": [
      "100%|██████████| 95/95 [00:21<00:00,  4.41it/s]\n"
     ]
    },
    {
     "name": "stdout",
     "output_type": "stream",
     "text": [
      "Finished.\n",
      "--------------------\n",
      "--------------------\n",
      "[ 78/80 ]\n",
      "Starting: 2008-08-29. Using data from the previous 200 days to train.\n"
     ]
    },
    {
     "name": "stderr",
     "output_type": "stream",
     "text": [
      "100%|██████████| 97/97 [00:38<00:00,  2.53it/s]\n",
      "100%|██████████| 97/97 [00:00<00:00, 146.08it/s]"
     ]
    },
    {
     "name": "stdout",
     "output_type": "stream",
     "text": [
      "Predictions not detected. Calculating and saving...\n"
     ]
    },
    {
     "name": "stderr",
     "output_type": "stream",
     "text": [
      "\n",
      "100%|██████████| 97/97 [00:22<00:00,  4.35it/s]\n"
     ]
    },
    {
     "name": "stdout",
     "output_type": "stream",
     "text": [
      "Finished.\n",
      "--------------------\n",
      "--------------------\n",
      "[ 79/80 ]\n",
      "Starting: 2008-09-15. Using data from the previous 200 days to train.\n"
     ]
    },
    {
     "name": "stderr",
     "output_type": "stream",
     "text": [
      "100%|██████████| 97/97 [00:38<00:00,  2.52it/s]\n",
      "100%|██████████| 97/97 [00:00<00:00, 163.67it/s]\n"
     ]
    },
    {
     "name": "stdout",
     "output_type": "stream",
     "text": [
      "Predictions not detected. Calculating and saving...\n"
     ]
    },
    {
     "name": "stderr",
     "output_type": "stream",
     "text": [
      "100%|██████████| 97/97 [00:21<00:00,  4.53it/s]\n"
     ]
    },
    {
     "name": "stdout",
     "output_type": "stream",
     "text": [
      "Finished.\n",
      "--------------------\n",
      "--------------------\n",
      "[ 80/80 ]\n",
      "Starting: 2008-09-29. Using data from the previous 200 days to train.\n"
     ]
    },
    {
     "name": "stderr",
     "output_type": "stream",
     "text": [
      "100%|██████████| 97/97 [00:37<00:00,  2.62it/s]\n",
      "100%|██████████| 97/97 [00:00<00:00, 163.02it/s]\n"
     ]
    },
    {
     "name": "stdout",
     "output_type": "stream",
     "text": [
      "Predictions not detected. Calculating and saving...\n"
     ]
    },
    {
     "name": "stderr",
     "output_type": "stream",
     "text": [
      "100%|██████████| 97/97 [00:21<00:00,  4.56it/s]"
     ]
    },
    {
     "name": "stdout",
     "output_type": "stream",
     "text": [
      "Finished.\n",
      "--------------------\n"
     ]
    },
    {
     "name": "stderr",
     "output_type": "stream",
     "text": [
      "\n"
     ]
    }
   ],
   "source": [
    "# Trains and saves models\n",
    "# Creates and saves predictions\n",
    "# Display the process in a somewhat nice format\n",
    "\n",
    "num_days_back = 200\n",
    "for index, end_date in enumerate(dates):\n",
    "    parent_path = os.path.join('models', end_date + \"-linear-\" + str(num_days_back))\n",
    "    \n",
    "    print(\"--------------------\")\n",
    "    print(\"[\", str(index + 1) + \"/\" + str(len(dates)), \"]\")\n",
    "    print(\"Starting:\", end_date + \".\", \"Using data from the previous\", num_days_back, \"days to train.\")\n",
    "    \n",
    "    if not os.path.isfile(os.path.join(parent_path, 'completed.txt')):\n",
    "        stock_selection.make_and_store_linear_models(end_date, num_days_back, force_overwrite=True)\n",
    "    else:\n",
    "        print(\"Model already trained and saved. Loading directly...\")\n",
    "    \n",
    "    lrmodels = stock_selection.load_models(end_date, num_days_back)\n",
    "    stock_selection.get_predictions(lrmodels, end_date, num_days_back)\n",
    "    \n",
    "    print(\"Finished.\")\n",
    "    print(\"--------------------\")"
   ]
  },
  {
   "cell_type": "code",
   "execution_count": 4,
   "id": "175f4eb1",
   "metadata": {},
   "outputs": [
    {
     "name": "stderr",
     "output_type": "stream",
     "text": [
      " 26%|██▋       | 21/80 [00:00<00:00, 104.09it/s]"
     ]
    },
    {
     "name": "stdout",
     "output_type": "stream",
     "text": [
      "Loading saved predictions...\n",
      "Loading saved predictions...\n",
      "Loading saved predictions...\n",
      "Loading saved predictions...\n",
      "Loading saved predictions...\n",
      "Loading saved predictions...\n",
      "Loading saved predictions...\n",
      "Loading saved predictions...\n",
      "Loading saved predictions...\n",
      "Loading saved predictions...\n",
      "Loading saved predictions...\n",
      "Loading saved predictions...\n",
      "Loading saved predictions...\n",
      "Loading saved predictions...\n",
      "Loading saved predictions...\n",
      "Loading saved predictions...\n",
      "Loading saved predictions...\n",
      "Loading saved predictions...\n",
      "Loading saved predictions...\n",
      "Loading saved predictions...\n",
      "Loading saved predictions...\n"
     ]
    },
    {
     "name": "stderr",
     "output_type": "stream",
     "text": [
      " 56%|█████▋    | 45/80 [00:00<00:00, 112.10it/s]"
     ]
    },
    {
     "name": "stdout",
     "output_type": "stream",
     "text": [
      "Loading saved predictions...\n",
      "Loading saved predictions...\n",
      "Loading saved predictions...\n",
      "Loading saved predictions...\n",
      "Loading saved predictions...\n",
      "Loading saved predictions...\n",
      "Loading saved predictions...\n",
      "Loading saved predictions...\n",
      "Loading saved predictions...\n",
      "Loading saved predictions...\n",
      "Loading saved predictions...\n",
      "Loading saved predictions...\n",
      "Loading saved predictions...\n",
      "Loading saved predictions...\n",
      "Loading saved predictions...\n",
      "Loading saved predictions...\n",
      "Loading saved predictions...\n",
      "Loading saved predictions...\n",
      "Loading saved predictions...\n",
      "Loading saved predictions...\n",
      "Loading saved predictions...\n",
      "Loading saved predictions...\n",
      "Loading saved predictions...\n",
      "Loading saved predictions...\n"
     ]
    },
    {
     "name": "stderr",
     "output_type": "stream",
     "text": [
      "\r",
      " 71%|███████▏  | 57/80 [00:00<00:00, 109.19it/s]"
     ]
    },
    {
     "name": "stdout",
     "output_type": "stream",
     "text": [
      "Loading saved predictions...\n",
      "Loading saved predictions...\n",
      "Loading saved predictions...\n",
      "Loading saved predictions...\n",
      "Loading saved predictions...\n",
      "Loading saved predictions...\n",
      "Loading saved predictions...\n",
      "Loading saved predictions...\n",
      "Loading saved predictions...\n",
      "Loading saved predictions...\n",
      "Loading saved predictions...\n",
      "Loading saved predictions...\n",
      "Loading saved predictions...\n",
      "Loading saved predictions...\n",
      "Loading saved predictions...\n",
      "Loading saved predictions...\n",
      "Loading saved predictions...\n",
      "Loading saved predictions...\n",
      "Loading saved predictions...\n",
      "Loading saved predictions...\n",
      "Loading saved predictions...\n",
      "Loading saved predictions...\n"
     ]
    },
    {
     "name": "stderr",
     "output_type": "stream",
     "text": [
      "100%|██████████| 80/80 [00:00<00:00, 105.27it/s]"
     ]
    },
    {
     "name": "stdout",
     "output_type": "stream",
     "text": [
      "Loading saved predictions...\n",
      "Loading saved predictions...\n",
      "Loading saved predictions...\n",
      "Loading saved predictions...\n",
      "Loading saved predictions...\n",
      "Loading saved predictions...\n",
      "Loading saved predictions...\n",
      "Loading saved predictions...\n",
      "Loading saved predictions...\n",
      "Loading saved predictions...\n",
      "Loading saved predictions...\n",
      "Loading saved predictions...\n",
      "Loading saved predictions...\n"
     ]
    },
    {
     "name": "stderr",
     "output_type": "stream",
     "text": [
      "\n"
     ]
    }
   ],
   "source": [
    "# Gets the predictions from the saved files.\n",
    "\n",
    "all_predictions = dict.fromkeys(dates)\n",
    "\n",
    "num_days_back = 200\n",
    "for end_date in tqdm(dates):\n",
    "    all_predictions[end_date] = stock_selection.get_predictions(None, end_date, num_days_back)"
   ]
  },
  {
   "cell_type": "code",
   "execution_count": 5,
   "id": "7fa16abb",
   "metadata": {},
   "outputs": [],
   "source": [
    "all_returns = pd.DataFrame(index=dates)\n",
    "\n",
    "for date in dates:\n",
    "    predictions = all_predictions[date]\n",
    "    buy_sell = stock_selection.get_buy_sell(predictions)\n",
    "    all_returns.loc[date, \"actual next day returns\"] = stock_selection.get_actual_overall_pct_chg(buy_sell)"
   ]
  },
  {
   "cell_type": "code",
   "execution_count": 6,
   "id": "ae1456a6",
   "metadata": {},
   "outputs": [
    {
     "data": {
      "text/html": [
       "<div>\n",
       "<style scoped>\n",
       "    .dataframe tbody tr th:only-of-type {\n",
       "        vertical-align: middle;\n",
       "    }\n",
       "\n",
       "    .dataframe tbody tr th {\n",
       "        vertical-align: top;\n",
       "    }\n",
       "\n",
       "    .dataframe thead th {\n",
       "        text-align: right;\n",
       "    }\n",
       "</style>\n",
       "<table border=\"1\" class=\"dataframe\">\n",
       "  <thead>\n",
       "    <tr style=\"text-align: right;\">\n",
       "      <th></th>\n",
       "      <th>actual next day returns</th>\n",
       "      <th>cumulative returns</th>\n",
       "    </tr>\n",
       "  </thead>\n",
       "  <tbody>\n",
       "    <tr>\n",
       "      <th>2005-08-09</th>\n",
       "      <td>0.037740</td>\n",
       "      <td>0.037740</td>\n",
       "    </tr>\n",
       "    <tr>\n",
       "      <th>2005-08-23</th>\n",
       "      <td>0.006965</td>\n",
       "      <td>0.044968</td>\n",
       "    </tr>\n",
       "    <tr>\n",
       "      <th>2005-09-07</th>\n",
       "      <td>0.005388</td>\n",
       "      <td>0.050598</td>\n",
       "    </tr>\n",
       "    <tr>\n",
       "      <th>2005-09-21</th>\n",
       "      <td>-0.005054</td>\n",
       "      <td>0.045289</td>\n",
       "    </tr>\n",
       "    <tr>\n",
       "      <th>2005-10-05</th>\n",
       "      <td>0.005161</td>\n",
       "      <td>0.050683</td>\n",
       "    </tr>\n",
       "    <tr>\n",
       "      <th>2005-10-19</th>\n",
       "      <td>0.006477</td>\n",
       "      <td>0.057489</td>\n",
       "    </tr>\n",
       "    <tr>\n",
       "      <th>2005-11-02</th>\n",
       "      <td>-0.020825</td>\n",
       "      <td>0.035467</td>\n",
       "    </tr>\n",
       "    <tr>\n",
       "      <th>2005-11-16</th>\n",
       "      <td>-0.006366</td>\n",
       "      <td>0.028875</td>\n",
       "    </tr>\n",
       "    <tr>\n",
       "      <th>2005-12-01</th>\n",
       "      <td>0.000677</td>\n",
       "      <td>0.029572</td>\n",
       "    </tr>\n",
       "    <tr>\n",
       "      <th>2005-12-15</th>\n",
       "      <td>0.000000</td>\n",
       "      <td>0.029572</td>\n",
       "    </tr>\n",
       "    <tr>\n",
       "      <th>2005-12-30</th>\n",
       "      <td>0.005218</td>\n",
       "      <td>0.034944</td>\n",
       "    </tr>\n",
       "    <tr>\n",
       "      <th>2006-01-17</th>\n",
       "      <td>0.006505</td>\n",
       "      <td>0.041677</td>\n",
       "    </tr>\n",
       "    <tr>\n",
       "      <th>2006-01-31</th>\n",
       "      <td>-0.007558</td>\n",
       "      <td>0.033804</td>\n",
       "    </tr>\n",
       "    <tr>\n",
       "      <th>2006-02-14</th>\n",
       "      <td>-0.014725</td>\n",
       "      <td>0.018582</td>\n",
       "    </tr>\n",
       "    <tr>\n",
       "      <th>2006-03-01</th>\n",
       "      <td>-0.003566</td>\n",
       "      <td>0.014949</td>\n",
       "    </tr>\n",
       "    <tr>\n",
       "      <th>2006-03-15</th>\n",
       "      <td>0.007072</td>\n",
       "      <td>0.022127</td>\n",
       "    </tr>\n",
       "    <tr>\n",
       "      <th>2006-03-29</th>\n",
       "      <td>0.019923</td>\n",
       "      <td>0.042492</td>\n",
       "    </tr>\n",
       "    <tr>\n",
       "      <th>2006-04-12</th>\n",
       "      <td>0.001671</td>\n",
       "      <td>0.044233</td>\n",
       "    </tr>\n",
       "    <tr>\n",
       "      <th>2006-04-27</th>\n",
       "      <td>-0.002606</td>\n",
       "      <td>0.041512</td>\n",
       "    </tr>\n",
       "    <tr>\n",
       "      <th>2006-05-11</th>\n",
       "      <td>-0.004667</td>\n",
       "      <td>0.036651</td>\n",
       "    </tr>\n",
       "    <tr>\n",
       "      <th>2006-05-25</th>\n",
       "      <td>0.014710</td>\n",
       "      <td>0.051900</td>\n",
       "    </tr>\n",
       "    <tr>\n",
       "      <th>2006-06-09</th>\n",
       "      <td>0.017388</td>\n",
       "      <td>0.070190</td>\n",
       "    </tr>\n",
       "    <tr>\n",
       "      <th>2006-06-23</th>\n",
       "      <td>0.003603</td>\n",
       "      <td>0.074046</td>\n",
       "    </tr>\n",
       "    <tr>\n",
       "      <th>2006-07-10</th>\n",
       "      <td>-0.008193</td>\n",
       "      <td>0.065246</td>\n",
       "    </tr>\n",
       "    <tr>\n",
       "      <th>2006-07-24</th>\n",
       "      <td>0.005001</td>\n",
       "      <td>0.070574</td>\n",
       "    </tr>\n",
       "    <tr>\n",
       "      <th>2006-08-07</th>\n",
       "      <td>0.005505</td>\n",
       "      <td>0.076468</td>\n",
       "    </tr>\n",
       "    <tr>\n",
       "      <th>2006-08-21</th>\n",
       "      <td>0.002535</td>\n",
       "      <td>0.079196</td>\n",
       "    </tr>\n",
       "    <tr>\n",
       "      <th>2006-09-05</th>\n",
       "      <td>0.002113</td>\n",
       "      <td>0.081477</td>\n",
       "    </tr>\n",
       "    <tr>\n",
       "      <th>2006-09-19</th>\n",
       "      <td>0.004150</td>\n",
       "      <td>0.085965</td>\n",
       "    </tr>\n",
       "    <tr>\n",
       "      <th>2006-10-03</th>\n",
       "      <td>0.002306</td>\n",
       "      <td>0.088469</td>\n",
       "    </tr>\n",
       "    <tr>\n",
       "      <th>2006-10-17</th>\n",
       "      <td>-0.000172</td>\n",
       "      <td>0.088282</td>\n",
       "    </tr>\n",
       "    <tr>\n",
       "      <th>2006-10-31</th>\n",
       "      <td>0.003663</td>\n",
       "      <td>0.092268</td>\n",
       "    </tr>\n",
       "    <tr>\n",
       "      <th>2006-11-14</th>\n",
       "      <td>0.011995</td>\n",
       "      <td>0.105370</td>\n",
       "    </tr>\n",
       "    <tr>\n",
       "      <th>2006-11-29</th>\n",
       "      <td>0.003366</td>\n",
       "      <td>0.109091</td>\n",
       "    </tr>\n",
       "    <tr>\n",
       "      <th>2006-12-13</th>\n",
       "      <td>-0.001330</td>\n",
       "      <td>0.107616</td>\n",
       "    </tr>\n",
       "    <tr>\n",
       "      <th>2006-12-28</th>\n",
       "      <td>0.002180</td>\n",
       "      <td>0.110030</td>\n",
       "    </tr>\n",
       "    <tr>\n",
       "      <th>2007-01-16</th>\n",
       "      <td>-0.008795</td>\n",
       "      <td>0.100267</td>\n",
       "    </tr>\n",
       "    <tr>\n",
       "      <th>2007-01-30</th>\n",
       "      <td>0.001564</td>\n",
       "      <td>0.101988</td>\n",
       "    </tr>\n",
       "    <tr>\n",
       "      <th>2007-02-13</th>\n",
       "      <td>0.000594</td>\n",
       "      <td>0.102642</td>\n",
       "    </tr>\n",
       "    <tr>\n",
       "      <th>2007-02-28</th>\n",
       "      <td>0.019807</td>\n",
       "      <td>0.124482</td>\n",
       "    </tr>\n",
       "    <tr>\n",
       "      <th>2007-03-14</th>\n",
       "      <td>0.002393</td>\n",
       "      <td>0.127173</td>\n",
       "    </tr>\n",
       "    <tr>\n",
       "      <th>2007-03-28</th>\n",
       "      <td>-0.003130</td>\n",
       "      <td>0.123645</td>\n",
       "    </tr>\n",
       "    <tr>\n",
       "      <th>2007-04-12</th>\n",
       "      <td>0.003417</td>\n",
       "      <td>0.127485</td>\n",
       "    </tr>\n",
       "    <tr>\n",
       "      <th>2007-04-26</th>\n",
       "      <td>0.000000</td>\n",
       "      <td>0.127485</td>\n",
       "    </tr>\n",
       "    <tr>\n",
       "      <th>2007-05-10</th>\n",
       "      <td>0.002487</td>\n",
       "      <td>0.130289</td>\n",
       "    </tr>\n",
       "    <tr>\n",
       "      <th>2007-05-24</th>\n",
       "      <td>0.005317</td>\n",
       "      <td>0.136298</td>\n",
       "    </tr>\n",
       "    <tr>\n",
       "      <th>2007-06-08</th>\n",
       "      <td>0.005676</td>\n",
       "      <td>0.142747</td>\n",
       "    </tr>\n",
       "    <tr>\n",
       "      <th>2007-06-22</th>\n",
       "      <td>-0.020151</td>\n",
       "      <td>0.119719</td>\n",
       "    </tr>\n",
       "    <tr>\n",
       "      <th>2007-07-09</th>\n",
       "      <td>0.013234</td>\n",
       "      <td>0.134538</td>\n",
       "    </tr>\n",
       "    <tr>\n",
       "      <th>2007-07-23</th>\n",
       "      <td>-0.003354</td>\n",
       "      <td>0.130732</td>\n",
       "    </tr>\n",
       "    <tr>\n",
       "      <th>2007-08-06</th>\n",
       "      <td>-0.006716</td>\n",
       "      <td>0.123138</td>\n",
       "    </tr>\n",
       "    <tr>\n",
       "      <th>2007-08-20</th>\n",
       "      <td>0.001455</td>\n",
       "      <td>0.124772</td>\n",
       "    </tr>\n",
       "    <tr>\n",
       "      <th>2007-09-04</th>\n",
       "      <td>-0.002845</td>\n",
       "      <td>0.121572</td>\n",
       "    </tr>\n",
       "    <tr>\n",
       "      <th>2007-09-18</th>\n",
       "      <td>0.002723</td>\n",
       "      <td>0.124626</td>\n",
       "    </tr>\n",
       "    <tr>\n",
       "      <th>2007-10-02</th>\n",
       "      <td>0.008726</td>\n",
       "      <td>0.134440</td>\n",
       "    </tr>\n",
       "    <tr>\n",
       "      <th>2007-10-16</th>\n",
       "      <td>-0.001286</td>\n",
       "      <td>0.132980</td>\n",
       "    </tr>\n",
       "    <tr>\n",
       "      <th>2007-10-30</th>\n",
       "      <td>-0.009086</td>\n",
       "      <td>0.122687</td>\n",
       "    </tr>\n",
       "    <tr>\n",
       "      <th>2007-11-13</th>\n",
       "      <td>0.003374</td>\n",
       "      <td>0.126474</td>\n",
       "    </tr>\n",
       "    <tr>\n",
       "      <th>2007-11-28</th>\n",
       "      <td>0.001414</td>\n",
       "      <td>0.128067</td>\n",
       "    </tr>\n",
       "    <tr>\n",
       "      <th>2007-12-12</th>\n",
       "      <td>-0.000439</td>\n",
       "      <td>0.127571</td>\n",
       "    </tr>\n",
       "    <tr>\n",
       "      <th>2007-12-27</th>\n",
       "      <td>0.000186</td>\n",
       "      <td>0.127781</td>\n",
       "    </tr>\n",
       "    <tr>\n",
       "      <th>2008-01-11</th>\n",
       "      <td>0.022178</td>\n",
       "      <td>0.152793</td>\n",
       "    </tr>\n",
       "    <tr>\n",
       "      <th>2008-01-28</th>\n",
       "      <td>-0.016324</td>\n",
       "      <td>0.133974</td>\n",
       "    </tr>\n",
       "    <tr>\n",
       "      <th>2008-02-11</th>\n",
       "      <td>0.007945</td>\n",
       "      <td>0.142984</td>\n",
       "    </tr>\n",
       "    <tr>\n",
       "      <th>2008-02-26</th>\n",
       "      <td>-0.008082</td>\n",
       "      <td>0.133746</td>\n",
       "    </tr>\n",
       "    <tr>\n",
       "      <th>2008-03-11</th>\n",
       "      <td>-0.003845</td>\n",
       "      <td>0.129387</td>\n",
       "    </tr>\n",
       "    <tr>\n",
       "      <th>2008-03-26</th>\n",
       "      <td>-0.001143</td>\n",
       "      <td>0.128096</td>\n",
       "    </tr>\n",
       "    <tr>\n",
       "      <th>2008-04-09</th>\n",
       "      <td>0.006464</td>\n",
       "      <td>0.135388</td>\n",
       "    </tr>\n",
       "    <tr>\n",
       "      <th>2008-04-23</th>\n",
       "      <td>-0.009412</td>\n",
       "      <td>0.124701</td>\n",
       "    </tr>\n",
       "    <tr>\n",
       "      <th>2008-05-07</th>\n",
       "      <td>0.005159</td>\n",
       "      <td>0.130504</td>\n",
       "    </tr>\n",
       "    <tr>\n",
       "      <th>2008-05-21</th>\n",
       "      <td>-0.011133</td>\n",
       "      <td>0.117918</td>\n",
       "    </tr>\n",
       "    <tr>\n",
       "      <th>2008-06-05</th>\n",
       "      <td>-0.001588</td>\n",
       "      <td>0.116143</td>\n",
       "    </tr>\n",
       "    <tr>\n",
       "      <th>2008-06-19</th>\n",
       "      <td>-0.002923</td>\n",
       "      <td>0.112881</td>\n",
       "    </tr>\n",
       "    <tr>\n",
       "      <th>2008-07-03</th>\n",
       "      <td>0.015445</td>\n",
       "      <td>0.130069</td>\n",
       "    </tr>\n",
       "    <tr>\n",
       "      <th>2008-07-18</th>\n",
       "      <td>0.003521</td>\n",
       "      <td>0.134048</td>\n",
       "    </tr>\n",
       "    <tr>\n",
       "      <th>2008-08-01</th>\n",
       "      <td>0.006605</td>\n",
       "      <td>0.141539</td>\n",
       "    </tr>\n",
       "    <tr>\n",
       "      <th>2008-08-15</th>\n",
       "      <td>-0.018765</td>\n",
       "      <td>0.120118</td>\n",
       "    </tr>\n",
       "    <tr>\n",
       "      <th>2008-08-29</th>\n",
       "      <td>-0.008300</td>\n",
       "      <td>0.110821</td>\n",
       "    </tr>\n",
       "    <tr>\n",
       "      <th>2008-09-15</th>\n",
       "      <td>0.003447</td>\n",
       "      <td>0.114650</td>\n",
       "    </tr>\n",
       "    <tr>\n",
       "      <th>2008-09-29</th>\n",
       "      <td>0.020119</td>\n",
       "      <td>0.137075</td>\n",
       "    </tr>\n",
       "  </tbody>\n",
       "</table>\n",
       "</div>"
      ],
      "text/plain": [
       "            actual next day returns  cumulative returns\n",
       "2005-08-09                 0.037740            0.037740\n",
       "2005-08-23                 0.006965            0.044968\n",
       "2005-09-07                 0.005388            0.050598\n",
       "2005-09-21                -0.005054            0.045289\n",
       "2005-10-05                 0.005161            0.050683\n",
       "2005-10-19                 0.006477            0.057489\n",
       "2005-11-02                -0.020825            0.035467\n",
       "2005-11-16                -0.006366            0.028875\n",
       "2005-12-01                 0.000677            0.029572\n",
       "2005-12-15                 0.000000            0.029572\n",
       "2005-12-30                 0.005218            0.034944\n",
       "2006-01-17                 0.006505            0.041677\n",
       "2006-01-31                -0.007558            0.033804\n",
       "2006-02-14                -0.014725            0.018582\n",
       "2006-03-01                -0.003566            0.014949\n",
       "2006-03-15                 0.007072            0.022127\n",
       "2006-03-29                 0.019923            0.042492\n",
       "2006-04-12                 0.001671            0.044233\n",
       "2006-04-27                -0.002606            0.041512\n",
       "2006-05-11                -0.004667            0.036651\n",
       "2006-05-25                 0.014710            0.051900\n",
       "2006-06-09                 0.017388            0.070190\n",
       "2006-06-23                 0.003603            0.074046\n",
       "2006-07-10                -0.008193            0.065246\n",
       "2006-07-24                 0.005001            0.070574\n",
       "2006-08-07                 0.005505            0.076468\n",
       "2006-08-21                 0.002535            0.079196\n",
       "2006-09-05                 0.002113            0.081477\n",
       "2006-09-19                 0.004150            0.085965\n",
       "2006-10-03                 0.002306            0.088469\n",
       "2006-10-17                -0.000172            0.088282\n",
       "2006-10-31                 0.003663            0.092268\n",
       "2006-11-14                 0.011995            0.105370\n",
       "2006-11-29                 0.003366            0.109091\n",
       "2006-12-13                -0.001330            0.107616\n",
       "2006-12-28                 0.002180            0.110030\n",
       "2007-01-16                -0.008795            0.100267\n",
       "2007-01-30                 0.001564            0.101988\n",
       "2007-02-13                 0.000594            0.102642\n",
       "2007-02-28                 0.019807            0.124482\n",
       "2007-03-14                 0.002393            0.127173\n",
       "2007-03-28                -0.003130            0.123645\n",
       "2007-04-12                 0.003417            0.127485\n",
       "2007-04-26                 0.000000            0.127485\n",
       "2007-05-10                 0.002487            0.130289\n",
       "2007-05-24                 0.005317            0.136298\n",
       "2007-06-08                 0.005676            0.142747\n",
       "2007-06-22                -0.020151            0.119719\n",
       "2007-07-09                 0.013234            0.134538\n",
       "2007-07-23                -0.003354            0.130732\n",
       "2007-08-06                -0.006716            0.123138\n",
       "2007-08-20                 0.001455            0.124772\n",
       "2007-09-04                -0.002845            0.121572\n",
       "2007-09-18                 0.002723            0.124626\n",
       "2007-10-02                 0.008726            0.134440\n",
       "2007-10-16                -0.001286            0.132980\n",
       "2007-10-30                -0.009086            0.122687\n",
       "2007-11-13                 0.003374            0.126474\n",
       "2007-11-28                 0.001414            0.128067\n",
       "2007-12-12                -0.000439            0.127571\n",
       "2007-12-27                 0.000186            0.127781\n",
       "2008-01-11                 0.022178            0.152793\n",
       "2008-01-28                -0.016324            0.133974\n",
       "2008-02-11                 0.007945            0.142984\n",
       "2008-02-26                -0.008082            0.133746\n",
       "2008-03-11                -0.003845            0.129387\n",
       "2008-03-26                -0.001143            0.128096\n",
       "2008-04-09                 0.006464            0.135388\n",
       "2008-04-23                -0.009412            0.124701\n",
       "2008-05-07                 0.005159            0.130504\n",
       "2008-05-21                -0.011133            0.117918\n",
       "2008-06-05                -0.001588            0.116143\n",
       "2008-06-19                -0.002923            0.112881\n",
       "2008-07-03                 0.015445            0.130069\n",
       "2008-07-18                 0.003521            0.134048\n",
       "2008-08-01                 0.006605            0.141539\n",
       "2008-08-15                -0.018765            0.120118\n",
       "2008-08-29                -0.008300            0.110821\n",
       "2008-09-15                 0.003447            0.114650\n",
       "2008-09-29                 0.020119            0.137075"
      ]
     },
     "execution_count": 6,
     "metadata": {},
     "output_type": "execute_result"
    }
   ],
   "source": [
    "all_returns[\"cumulative returns\"] = [((np.array(all_returns.iloc[0 : idx+1, 0]) + 1).prod() - 1) for idx in range(0, all_returns.shape[0])]\n",
    "all_returns"
   ]
  },
  {
   "cell_type": "code",
   "execution_count": null,
   "id": "a1e33709",
   "metadata": {},
   "outputs": [],
   "source": [
    "\n",
    "end_date = \"2020-03-13\"\n",
    "num_days_back = 200\n",
    "pred = stock_selection.get_predictions(None, end_date, num_days_back)\n",
    "buy_sell = stock_selection.get_buy_sell(pred)\n",
    "analysis = stock_selection.get_buy_sell_analysis(buy_sell)\n",
    "# pred\n",
    "analysis\n",
    "# How Percent Change is Calculated\n",
    "# (analysis.iloc[0:5, 1].mean() - analysis.iloc[5:10, 1].mean())/2"
   ]
  },
  {
   "cell_type": "code",
   "execution_count": 7,
   "id": "104ba7e6",
   "metadata": {},
   "outputs": [
    {
     "name": "stdout",
     "output_type": "stream",
     "text": [
      "TRADING ON THE FOLLOWING DATES:\n",
      " ['2005-08-09' '2005-08-23' '2005-09-07' '2005-09-21' '2005-10-05'\n",
      " '2005-10-19' '2005-11-02' '2005-11-16' '2005-12-01' '2005-12-15'\n",
      " '2005-12-30' '2006-01-17' '2006-01-31' '2006-02-14' '2006-03-01'\n",
      " '2006-03-15' '2006-03-29' '2006-04-12' '2006-04-27' '2006-05-11'\n",
      " '2006-05-25' '2006-06-09' '2006-06-23' '2006-07-10' '2006-07-24'\n",
      " '2006-08-07' '2006-08-21' '2006-09-05' '2006-09-19' '2006-10-03'\n",
      " '2006-10-17' '2006-10-31' '2006-11-14' '2006-11-29' '2006-12-13'\n",
      " '2006-12-28' '2007-01-16' '2007-01-30' '2007-02-13' '2007-02-28'\n",
      " '2007-03-14' '2007-03-28' '2007-04-12' '2007-04-26' '2007-05-10'\n",
      " '2007-05-24' '2007-06-08' '2007-06-22' '2007-07-09' '2007-07-23'\n",
      " '2007-08-06' '2007-08-20' '2007-09-04' '2007-09-18' '2007-10-02'\n",
      " '2007-10-16' '2007-10-30' '2007-11-13' '2007-11-28' '2007-12-12'\n",
      " '2007-12-27' '2008-01-11' '2008-01-28' '2008-02-11' '2008-02-26'\n",
      " '2008-03-11' '2008-03-26' '2008-04-09' '2008-04-23' '2008-05-07'\n",
      " '2008-05-21' '2008-06-05' '2008-06-19' '2008-07-03' '2008-07-18'\n",
      " '2008-08-01' '2008-08-15' '2008-08-29' '2008-09-15' '2008-09-29'] \n",
      "\n",
      "If starting with 100 dollars,\n",
      "You'd end up with 113.70753209518837 dollars\n",
      "\n",
      "Overall percent change: 13.70753209518837%\n"
     ]
    }
   ],
   "source": [
    "starting_amount = 100\n",
    "\n",
    "end_amount = starting_amount\n",
    "for date in dates:\n",
    "    end_amount *= 1 + all_returns.loc[date, \"actual next day returns\"]\n",
    "\n",
    "print(\"TRADING ON THE FOLLOWING DATES:\\n\", dates, \"\\n\")\n",
    "print(\"If starting with\", starting_amount, \"dollars,\\nYou'd end up with\", end_amount, \"dollars\")\n",
    "print()\n",
    "print(\"Overall percent change:\", str(100 * (end_amount - starting_amount)/(starting_amount)) + \"%\")"
   ]
  },
  {
   "cell_type": "code",
   "execution_count": 8,
   "id": "9c463508",
   "metadata": {
    "scrolled": false
   },
   "outputs": [
    {
     "data": {
      "application/javascript": [
       "/* Put everything inside the global mpl namespace */\n",
       "/* global mpl */\n",
       "window.mpl = {};\n",
       "\n",
       "mpl.get_websocket_type = function () {\n",
       "    if (typeof WebSocket !== 'undefined') {\n",
       "        return WebSocket;\n",
       "    } else if (typeof MozWebSocket !== 'undefined') {\n",
       "        return MozWebSocket;\n",
       "    } else {\n",
       "        alert(\n",
       "            'Your browser does not have WebSocket support. ' +\n",
       "                'Please try Chrome, Safari or Firefox ≥ 6. ' +\n",
       "                'Firefox 4 and 5 are also supported but you ' +\n",
       "                'have to enable WebSockets in about:config.'\n",
       "        );\n",
       "    }\n",
       "};\n",
       "\n",
       "mpl.figure = function (figure_id, websocket, ondownload, parent_element) {\n",
       "    this.id = figure_id;\n",
       "\n",
       "    this.ws = websocket;\n",
       "\n",
       "    this.supports_binary = this.ws.binaryType !== undefined;\n",
       "\n",
       "    if (!this.supports_binary) {\n",
       "        var warnings = document.getElementById('mpl-warnings');\n",
       "        if (warnings) {\n",
       "            warnings.style.display = 'block';\n",
       "            warnings.textContent =\n",
       "                'This browser does not support binary websocket messages. ' +\n",
       "                'Performance may be slow.';\n",
       "        }\n",
       "    }\n",
       "\n",
       "    this.imageObj = new Image();\n",
       "\n",
       "    this.context = undefined;\n",
       "    this.message = undefined;\n",
       "    this.canvas = undefined;\n",
       "    this.rubberband_canvas = undefined;\n",
       "    this.rubberband_context = undefined;\n",
       "    this.format_dropdown = undefined;\n",
       "\n",
       "    this.image_mode = 'full';\n",
       "\n",
       "    this.root = document.createElement('div');\n",
       "    this.root.setAttribute('style', 'display: inline-block');\n",
       "    this._root_extra_style(this.root);\n",
       "\n",
       "    parent_element.appendChild(this.root);\n",
       "\n",
       "    this._init_header(this);\n",
       "    this._init_canvas(this);\n",
       "    this._init_toolbar(this);\n",
       "\n",
       "    var fig = this;\n",
       "\n",
       "    this.waiting = false;\n",
       "\n",
       "    this.ws.onopen = function () {\n",
       "        fig.send_message('supports_binary', { value: fig.supports_binary });\n",
       "        fig.send_message('send_image_mode', {});\n",
       "        if (fig.ratio !== 1) {\n",
       "            fig.send_message('set_dpi_ratio', { dpi_ratio: fig.ratio });\n",
       "        }\n",
       "        fig.send_message('refresh', {});\n",
       "    };\n",
       "\n",
       "    this.imageObj.onload = function () {\n",
       "        if (fig.image_mode === 'full') {\n",
       "            // Full images could contain transparency (where diff images\n",
       "            // almost always do), so we need to clear the canvas so that\n",
       "            // there is no ghosting.\n",
       "            fig.context.clearRect(0, 0, fig.canvas.width, fig.canvas.height);\n",
       "        }\n",
       "        fig.context.drawImage(fig.imageObj, 0, 0);\n",
       "    };\n",
       "\n",
       "    this.imageObj.onunload = function () {\n",
       "        fig.ws.close();\n",
       "    };\n",
       "\n",
       "    this.ws.onmessage = this._make_on_message_function(this);\n",
       "\n",
       "    this.ondownload = ondownload;\n",
       "};\n",
       "\n",
       "mpl.figure.prototype._init_header = function () {\n",
       "    var titlebar = document.createElement('div');\n",
       "    titlebar.classList =\n",
       "        'ui-dialog-titlebar ui-widget-header ui-corner-all ui-helper-clearfix';\n",
       "    var titletext = document.createElement('div');\n",
       "    titletext.classList = 'ui-dialog-title';\n",
       "    titletext.setAttribute(\n",
       "        'style',\n",
       "        'width: 100%; text-align: center; padding: 3px;'\n",
       "    );\n",
       "    titlebar.appendChild(titletext);\n",
       "    this.root.appendChild(titlebar);\n",
       "    this.header = titletext;\n",
       "};\n",
       "\n",
       "mpl.figure.prototype._canvas_extra_style = function (_canvas_div) {};\n",
       "\n",
       "mpl.figure.prototype._root_extra_style = function (_canvas_div) {};\n",
       "\n",
       "mpl.figure.prototype._init_canvas = function () {\n",
       "    var fig = this;\n",
       "\n",
       "    var canvas_div = (this.canvas_div = document.createElement('div'));\n",
       "    canvas_div.setAttribute(\n",
       "        'style',\n",
       "        'border: 1px solid #ddd;' +\n",
       "            'box-sizing: content-box;' +\n",
       "            'clear: both;' +\n",
       "            'min-height: 1px;' +\n",
       "            'min-width: 1px;' +\n",
       "            'outline: 0;' +\n",
       "            'overflow: hidden;' +\n",
       "            'position: relative;' +\n",
       "            'resize: both;'\n",
       "    );\n",
       "\n",
       "    function on_keyboard_event_closure(name) {\n",
       "        return function (event) {\n",
       "            return fig.key_event(event, name);\n",
       "        };\n",
       "    }\n",
       "\n",
       "    canvas_div.addEventListener(\n",
       "        'keydown',\n",
       "        on_keyboard_event_closure('key_press')\n",
       "    );\n",
       "    canvas_div.addEventListener(\n",
       "        'keyup',\n",
       "        on_keyboard_event_closure('key_release')\n",
       "    );\n",
       "\n",
       "    this._canvas_extra_style(canvas_div);\n",
       "    this.root.appendChild(canvas_div);\n",
       "\n",
       "    var canvas = (this.canvas = document.createElement('canvas'));\n",
       "    canvas.classList.add('mpl-canvas');\n",
       "    canvas.setAttribute('style', 'box-sizing: content-box;');\n",
       "\n",
       "    this.context = canvas.getContext('2d');\n",
       "\n",
       "    var backingStore =\n",
       "        this.context.backingStorePixelRatio ||\n",
       "        this.context.webkitBackingStorePixelRatio ||\n",
       "        this.context.mozBackingStorePixelRatio ||\n",
       "        this.context.msBackingStorePixelRatio ||\n",
       "        this.context.oBackingStorePixelRatio ||\n",
       "        this.context.backingStorePixelRatio ||\n",
       "        1;\n",
       "\n",
       "    this.ratio = (window.devicePixelRatio || 1) / backingStore;\n",
       "\n",
       "    var rubberband_canvas = (this.rubberband_canvas = document.createElement(\n",
       "        'canvas'\n",
       "    ));\n",
       "    rubberband_canvas.setAttribute(\n",
       "        'style',\n",
       "        'box-sizing: content-box; position: absolute; left: 0; top: 0; z-index: 1;'\n",
       "    );\n",
       "\n",
       "    // Apply a ponyfill if ResizeObserver is not implemented by browser.\n",
       "    if (this.ResizeObserver === undefined) {\n",
       "        if (window.ResizeObserver !== undefined) {\n",
       "            this.ResizeObserver = window.ResizeObserver;\n",
       "        } else {\n",
       "            var obs = _JSXTOOLS_RESIZE_OBSERVER({});\n",
       "            this.ResizeObserver = obs.ResizeObserver;\n",
       "        }\n",
       "    }\n",
       "\n",
       "    this.resizeObserverInstance = new this.ResizeObserver(function (entries) {\n",
       "        var nentries = entries.length;\n",
       "        for (var i = 0; i < nentries; i++) {\n",
       "            var entry = entries[i];\n",
       "            var width, height;\n",
       "            if (entry.contentBoxSize) {\n",
       "                if (entry.contentBoxSize instanceof Array) {\n",
       "                    // Chrome 84 implements new version of spec.\n",
       "                    width = entry.contentBoxSize[0].inlineSize;\n",
       "                    height = entry.contentBoxSize[0].blockSize;\n",
       "                } else {\n",
       "                    // Firefox implements old version of spec.\n",
       "                    width = entry.contentBoxSize.inlineSize;\n",
       "                    height = entry.contentBoxSize.blockSize;\n",
       "                }\n",
       "            } else {\n",
       "                // Chrome <84 implements even older version of spec.\n",
       "                width = entry.contentRect.width;\n",
       "                height = entry.contentRect.height;\n",
       "            }\n",
       "\n",
       "            // Keep the size of the canvas and rubber band canvas in sync with\n",
       "            // the canvas container.\n",
       "            if (entry.devicePixelContentBoxSize) {\n",
       "                // Chrome 84 implements new version of spec.\n",
       "                canvas.setAttribute(\n",
       "                    'width',\n",
       "                    entry.devicePixelContentBoxSize[0].inlineSize\n",
       "                );\n",
       "                canvas.setAttribute(\n",
       "                    'height',\n",
       "                    entry.devicePixelContentBoxSize[0].blockSize\n",
       "                );\n",
       "            } else {\n",
       "                canvas.setAttribute('width', width * fig.ratio);\n",
       "                canvas.setAttribute('height', height * fig.ratio);\n",
       "            }\n",
       "            canvas.setAttribute(\n",
       "                'style',\n",
       "                'width: ' + width + 'px; height: ' + height + 'px;'\n",
       "            );\n",
       "\n",
       "            rubberband_canvas.setAttribute('width', width);\n",
       "            rubberband_canvas.setAttribute('height', height);\n",
       "\n",
       "            // And update the size in Python. We ignore the initial 0/0 size\n",
       "            // that occurs as the element is placed into the DOM, which should\n",
       "            // otherwise not happen due to the minimum size styling.\n",
       "            if (fig.ws.readyState == 1 && width != 0 && height != 0) {\n",
       "                fig.request_resize(width, height);\n",
       "            }\n",
       "        }\n",
       "    });\n",
       "    this.resizeObserverInstance.observe(canvas_div);\n",
       "\n",
       "    function on_mouse_event_closure(name) {\n",
       "        return function (event) {\n",
       "            return fig.mouse_event(event, name);\n",
       "        };\n",
       "    }\n",
       "\n",
       "    rubberband_canvas.addEventListener(\n",
       "        'mousedown',\n",
       "        on_mouse_event_closure('button_press')\n",
       "    );\n",
       "    rubberband_canvas.addEventListener(\n",
       "        'mouseup',\n",
       "        on_mouse_event_closure('button_release')\n",
       "    );\n",
       "    // Throttle sequential mouse events to 1 every 20ms.\n",
       "    rubberband_canvas.addEventListener(\n",
       "        'mousemove',\n",
       "        on_mouse_event_closure('motion_notify')\n",
       "    );\n",
       "\n",
       "    rubberband_canvas.addEventListener(\n",
       "        'mouseenter',\n",
       "        on_mouse_event_closure('figure_enter')\n",
       "    );\n",
       "    rubberband_canvas.addEventListener(\n",
       "        'mouseleave',\n",
       "        on_mouse_event_closure('figure_leave')\n",
       "    );\n",
       "\n",
       "    canvas_div.addEventListener('wheel', function (event) {\n",
       "        if (event.deltaY < 0) {\n",
       "            event.step = 1;\n",
       "        } else {\n",
       "            event.step = -1;\n",
       "        }\n",
       "        on_mouse_event_closure('scroll')(event);\n",
       "    });\n",
       "\n",
       "    canvas_div.appendChild(canvas);\n",
       "    canvas_div.appendChild(rubberband_canvas);\n",
       "\n",
       "    this.rubberband_context = rubberband_canvas.getContext('2d');\n",
       "    this.rubberband_context.strokeStyle = '#000000';\n",
       "\n",
       "    this._resize_canvas = function (width, height, forward) {\n",
       "        if (forward) {\n",
       "            canvas_div.style.width = width + 'px';\n",
       "            canvas_div.style.height = height + 'px';\n",
       "        }\n",
       "    };\n",
       "\n",
       "    // Disable right mouse context menu.\n",
       "    this.rubberband_canvas.addEventListener('contextmenu', function (_e) {\n",
       "        event.preventDefault();\n",
       "        return false;\n",
       "    });\n",
       "\n",
       "    function set_focus() {\n",
       "        canvas.focus();\n",
       "        canvas_div.focus();\n",
       "    }\n",
       "\n",
       "    window.setTimeout(set_focus, 100);\n",
       "};\n",
       "\n",
       "mpl.figure.prototype._init_toolbar = function () {\n",
       "    var fig = this;\n",
       "\n",
       "    var toolbar = document.createElement('div');\n",
       "    toolbar.classList = 'mpl-toolbar';\n",
       "    this.root.appendChild(toolbar);\n",
       "\n",
       "    function on_click_closure(name) {\n",
       "        return function (_event) {\n",
       "            return fig.toolbar_button_onclick(name);\n",
       "        };\n",
       "    }\n",
       "\n",
       "    function on_mouseover_closure(tooltip) {\n",
       "        return function (event) {\n",
       "            if (!event.currentTarget.disabled) {\n",
       "                return fig.toolbar_button_onmouseover(tooltip);\n",
       "            }\n",
       "        };\n",
       "    }\n",
       "\n",
       "    fig.buttons = {};\n",
       "    var buttonGroup = document.createElement('div');\n",
       "    buttonGroup.classList = 'mpl-button-group';\n",
       "    for (var toolbar_ind in mpl.toolbar_items) {\n",
       "        var name = mpl.toolbar_items[toolbar_ind][0];\n",
       "        var tooltip = mpl.toolbar_items[toolbar_ind][1];\n",
       "        var image = mpl.toolbar_items[toolbar_ind][2];\n",
       "        var method_name = mpl.toolbar_items[toolbar_ind][3];\n",
       "\n",
       "        if (!name) {\n",
       "            /* Instead of a spacer, we start a new button group. */\n",
       "            if (buttonGroup.hasChildNodes()) {\n",
       "                toolbar.appendChild(buttonGroup);\n",
       "            }\n",
       "            buttonGroup = document.createElement('div');\n",
       "            buttonGroup.classList = 'mpl-button-group';\n",
       "            continue;\n",
       "        }\n",
       "\n",
       "        var button = (fig.buttons[name] = document.createElement('button'));\n",
       "        button.classList = 'mpl-widget';\n",
       "        button.setAttribute('role', 'button');\n",
       "        button.setAttribute('aria-disabled', 'false');\n",
       "        button.addEventListener('click', on_click_closure(method_name));\n",
       "        button.addEventListener('mouseover', on_mouseover_closure(tooltip));\n",
       "\n",
       "        var icon_img = document.createElement('img');\n",
       "        icon_img.src = '_images/' + image + '.png';\n",
       "        icon_img.srcset = '_images/' + image + '_large.png 2x';\n",
       "        icon_img.alt = tooltip;\n",
       "        button.appendChild(icon_img);\n",
       "\n",
       "        buttonGroup.appendChild(button);\n",
       "    }\n",
       "\n",
       "    if (buttonGroup.hasChildNodes()) {\n",
       "        toolbar.appendChild(buttonGroup);\n",
       "    }\n",
       "\n",
       "    var fmt_picker = document.createElement('select');\n",
       "    fmt_picker.classList = 'mpl-widget';\n",
       "    toolbar.appendChild(fmt_picker);\n",
       "    this.format_dropdown = fmt_picker;\n",
       "\n",
       "    for (var ind in mpl.extensions) {\n",
       "        var fmt = mpl.extensions[ind];\n",
       "        var option = document.createElement('option');\n",
       "        option.selected = fmt === mpl.default_extension;\n",
       "        option.innerHTML = fmt;\n",
       "        fmt_picker.appendChild(option);\n",
       "    }\n",
       "\n",
       "    var status_bar = document.createElement('span');\n",
       "    status_bar.classList = 'mpl-message';\n",
       "    toolbar.appendChild(status_bar);\n",
       "    this.message = status_bar;\n",
       "};\n",
       "\n",
       "mpl.figure.prototype.request_resize = function (x_pixels, y_pixels) {\n",
       "    // Request matplotlib to resize the figure. Matplotlib will then trigger a resize in the client,\n",
       "    // which will in turn request a refresh of the image.\n",
       "    this.send_message('resize', { width: x_pixels, height: y_pixels });\n",
       "};\n",
       "\n",
       "mpl.figure.prototype.send_message = function (type, properties) {\n",
       "    properties['type'] = type;\n",
       "    properties['figure_id'] = this.id;\n",
       "    this.ws.send(JSON.stringify(properties));\n",
       "};\n",
       "\n",
       "mpl.figure.prototype.send_draw_message = function () {\n",
       "    if (!this.waiting) {\n",
       "        this.waiting = true;\n",
       "        this.ws.send(JSON.stringify({ type: 'draw', figure_id: this.id }));\n",
       "    }\n",
       "};\n",
       "\n",
       "mpl.figure.prototype.handle_save = function (fig, _msg) {\n",
       "    var format_dropdown = fig.format_dropdown;\n",
       "    var format = format_dropdown.options[format_dropdown.selectedIndex].value;\n",
       "    fig.ondownload(fig, format);\n",
       "};\n",
       "\n",
       "mpl.figure.prototype.handle_resize = function (fig, msg) {\n",
       "    var size = msg['size'];\n",
       "    if (size[0] !== fig.canvas.width || size[1] !== fig.canvas.height) {\n",
       "        fig._resize_canvas(size[0], size[1], msg['forward']);\n",
       "        fig.send_message('refresh', {});\n",
       "    }\n",
       "};\n",
       "\n",
       "mpl.figure.prototype.handle_rubberband = function (fig, msg) {\n",
       "    var x0 = msg['x0'] / fig.ratio;\n",
       "    var y0 = (fig.canvas.height - msg['y0']) / fig.ratio;\n",
       "    var x1 = msg['x1'] / fig.ratio;\n",
       "    var y1 = (fig.canvas.height - msg['y1']) / fig.ratio;\n",
       "    x0 = Math.floor(x0) + 0.5;\n",
       "    y0 = Math.floor(y0) + 0.5;\n",
       "    x1 = Math.floor(x1) + 0.5;\n",
       "    y1 = Math.floor(y1) + 0.5;\n",
       "    var min_x = Math.min(x0, x1);\n",
       "    var min_y = Math.min(y0, y1);\n",
       "    var width = Math.abs(x1 - x0);\n",
       "    var height = Math.abs(y1 - y0);\n",
       "\n",
       "    fig.rubberband_context.clearRect(\n",
       "        0,\n",
       "        0,\n",
       "        fig.canvas.width / fig.ratio,\n",
       "        fig.canvas.height / fig.ratio\n",
       "    );\n",
       "\n",
       "    fig.rubberband_context.strokeRect(min_x, min_y, width, height);\n",
       "};\n",
       "\n",
       "mpl.figure.prototype.handle_figure_label = function (fig, msg) {\n",
       "    // Updates the figure title.\n",
       "    fig.header.textContent = msg['label'];\n",
       "};\n",
       "\n",
       "mpl.figure.prototype.handle_cursor = function (fig, msg) {\n",
       "    var cursor = msg['cursor'];\n",
       "    switch (cursor) {\n",
       "        case 0:\n",
       "            cursor = 'pointer';\n",
       "            break;\n",
       "        case 1:\n",
       "            cursor = 'default';\n",
       "            break;\n",
       "        case 2:\n",
       "            cursor = 'crosshair';\n",
       "            break;\n",
       "        case 3:\n",
       "            cursor = 'move';\n",
       "            break;\n",
       "    }\n",
       "    fig.rubberband_canvas.style.cursor = cursor;\n",
       "};\n",
       "\n",
       "mpl.figure.prototype.handle_message = function (fig, msg) {\n",
       "    fig.message.textContent = msg['message'];\n",
       "};\n",
       "\n",
       "mpl.figure.prototype.handle_draw = function (fig, _msg) {\n",
       "    // Request the server to send over a new figure.\n",
       "    fig.send_draw_message();\n",
       "};\n",
       "\n",
       "mpl.figure.prototype.handle_image_mode = function (fig, msg) {\n",
       "    fig.image_mode = msg['mode'];\n",
       "};\n",
       "\n",
       "mpl.figure.prototype.handle_history_buttons = function (fig, msg) {\n",
       "    for (var key in msg) {\n",
       "        if (!(key in fig.buttons)) {\n",
       "            continue;\n",
       "        }\n",
       "        fig.buttons[key].disabled = !msg[key];\n",
       "        fig.buttons[key].setAttribute('aria-disabled', !msg[key]);\n",
       "    }\n",
       "};\n",
       "\n",
       "mpl.figure.prototype.handle_navigate_mode = function (fig, msg) {\n",
       "    if (msg['mode'] === 'PAN') {\n",
       "        fig.buttons['Pan'].classList.add('active');\n",
       "        fig.buttons['Zoom'].classList.remove('active');\n",
       "    } else if (msg['mode'] === 'ZOOM') {\n",
       "        fig.buttons['Pan'].classList.remove('active');\n",
       "        fig.buttons['Zoom'].classList.add('active');\n",
       "    } else {\n",
       "        fig.buttons['Pan'].classList.remove('active');\n",
       "        fig.buttons['Zoom'].classList.remove('active');\n",
       "    }\n",
       "};\n",
       "\n",
       "mpl.figure.prototype.updated_canvas_event = function () {\n",
       "    // Called whenever the canvas gets updated.\n",
       "    this.send_message('ack', {});\n",
       "};\n",
       "\n",
       "// A function to construct a web socket function for onmessage handling.\n",
       "// Called in the figure constructor.\n",
       "mpl.figure.prototype._make_on_message_function = function (fig) {\n",
       "    return function socket_on_message(evt) {\n",
       "        if (evt.data instanceof Blob) {\n",
       "            /* FIXME: We get \"Resource interpreted as Image but\n",
       "             * transferred with MIME type text/plain:\" errors on\n",
       "             * Chrome.  But how to set the MIME type?  It doesn't seem\n",
       "             * to be part of the websocket stream */\n",
       "            evt.data.type = 'image/png';\n",
       "\n",
       "            /* Free the memory for the previous frames */\n",
       "            if (fig.imageObj.src) {\n",
       "                (window.URL || window.webkitURL).revokeObjectURL(\n",
       "                    fig.imageObj.src\n",
       "                );\n",
       "            }\n",
       "\n",
       "            fig.imageObj.src = (window.URL || window.webkitURL).createObjectURL(\n",
       "                evt.data\n",
       "            );\n",
       "            fig.updated_canvas_event();\n",
       "            fig.waiting = false;\n",
       "            return;\n",
       "        } else if (\n",
       "            typeof evt.data === 'string' &&\n",
       "            evt.data.slice(0, 21) === 'data:image/png;base64'\n",
       "        ) {\n",
       "            fig.imageObj.src = evt.data;\n",
       "            fig.updated_canvas_event();\n",
       "            fig.waiting = false;\n",
       "            return;\n",
       "        }\n",
       "\n",
       "        var msg = JSON.parse(evt.data);\n",
       "        var msg_type = msg['type'];\n",
       "\n",
       "        // Call the  \"handle_{type}\" callback, which takes\n",
       "        // the figure and JSON message as its only arguments.\n",
       "        try {\n",
       "            var callback = fig['handle_' + msg_type];\n",
       "        } catch (e) {\n",
       "            console.log(\n",
       "                \"No handler for the '\" + msg_type + \"' message type: \",\n",
       "                msg\n",
       "            );\n",
       "            return;\n",
       "        }\n",
       "\n",
       "        if (callback) {\n",
       "            try {\n",
       "                // console.log(\"Handling '\" + msg_type + \"' message: \", msg);\n",
       "                callback(fig, msg);\n",
       "            } catch (e) {\n",
       "                console.log(\n",
       "                    \"Exception inside the 'handler_\" + msg_type + \"' callback:\",\n",
       "                    e,\n",
       "                    e.stack,\n",
       "                    msg\n",
       "                );\n",
       "            }\n",
       "        }\n",
       "    };\n",
       "};\n",
       "\n",
       "// from http://stackoverflow.com/questions/1114465/getting-mouse-location-in-canvas\n",
       "mpl.findpos = function (e) {\n",
       "    //this section is from http://www.quirksmode.org/js/events_properties.html\n",
       "    var targ;\n",
       "    if (!e) {\n",
       "        e = window.event;\n",
       "    }\n",
       "    if (e.target) {\n",
       "        targ = e.target;\n",
       "    } else if (e.srcElement) {\n",
       "        targ = e.srcElement;\n",
       "    }\n",
       "    if (targ.nodeType === 3) {\n",
       "        // defeat Safari bug\n",
       "        targ = targ.parentNode;\n",
       "    }\n",
       "\n",
       "    // pageX,Y are the mouse positions relative to the document\n",
       "    var boundingRect = targ.getBoundingClientRect();\n",
       "    var x = e.pageX - (boundingRect.left + document.body.scrollLeft);\n",
       "    var y = e.pageY - (boundingRect.top + document.body.scrollTop);\n",
       "\n",
       "    return { x: x, y: y };\n",
       "};\n",
       "\n",
       "/*\n",
       " * return a copy of an object with only non-object keys\n",
       " * we need this to avoid circular references\n",
       " * http://stackoverflow.com/a/24161582/3208463\n",
       " */\n",
       "function simpleKeys(original) {\n",
       "    return Object.keys(original).reduce(function (obj, key) {\n",
       "        if (typeof original[key] !== 'object') {\n",
       "            obj[key] = original[key];\n",
       "        }\n",
       "        return obj;\n",
       "    }, {});\n",
       "}\n",
       "\n",
       "mpl.figure.prototype.mouse_event = function (event, name) {\n",
       "    var canvas_pos = mpl.findpos(event);\n",
       "\n",
       "    if (name === 'button_press') {\n",
       "        this.canvas.focus();\n",
       "        this.canvas_div.focus();\n",
       "    }\n",
       "\n",
       "    var x = canvas_pos.x * this.ratio;\n",
       "    var y = canvas_pos.y * this.ratio;\n",
       "\n",
       "    this.send_message(name, {\n",
       "        x: x,\n",
       "        y: y,\n",
       "        button: event.button,\n",
       "        step: event.step,\n",
       "        guiEvent: simpleKeys(event),\n",
       "    });\n",
       "\n",
       "    /* This prevents the web browser from automatically changing to\n",
       "     * the text insertion cursor when the button is pressed.  We want\n",
       "     * to control all of the cursor setting manually through the\n",
       "     * 'cursor' event from matplotlib */\n",
       "    event.preventDefault();\n",
       "    return false;\n",
       "};\n",
       "\n",
       "mpl.figure.prototype._key_event_extra = function (_event, _name) {\n",
       "    // Handle any extra behaviour associated with a key event\n",
       "};\n",
       "\n",
       "mpl.figure.prototype.key_event = function (event, name) {\n",
       "    // Prevent repeat events\n",
       "    if (name === 'key_press') {\n",
       "        if (event.which === this._key) {\n",
       "            return;\n",
       "        } else {\n",
       "            this._key = event.which;\n",
       "        }\n",
       "    }\n",
       "    if (name === 'key_release') {\n",
       "        this._key = null;\n",
       "    }\n",
       "\n",
       "    var value = '';\n",
       "    if (event.ctrlKey && event.which !== 17) {\n",
       "        value += 'ctrl+';\n",
       "    }\n",
       "    if (event.altKey && event.which !== 18) {\n",
       "        value += 'alt+';\n",
       "    }\n",
       "    if (event.shiftKey && event.which !== 16) {\n",
       "        value += 'shift+';\n",
       "    }\n",
       "\n",
       "    value += 'k';\n",
       "    value += event.which.toString();\n",
       "\n",
       "    this._key_event_extra(event, name);\n",
       "\n",
       "    this.send_message(name, { key: value, guiEvent: simpleKeys(event) });\n",
       "    return false;\n",
       "};\n",
       "\n",
       "mpl.figure.prototype.toolbar_button_onclick = function (name) {\n",
       "    if (name === 'download') {\n",
       "        this.handle_save(this, null);\n",
       "    } else {\n",
       "        this.send_message('toolbar_button', { name: name });\n",
       "    }\n",
       "};\n",
       "\n",
       "mpl.figure.prototype.toolbar_button_onmouseover = function (tooltip) {\n",
       "    this.message.textContent = tooltip;\n",
       "};\n",
       "\n",
       "///////////////// REMAINING CONTENT GENERATED BY embed_js.py /////////////////\n",
       "// prettier-ignore\n",
       "var _JSXTOOLS_RESIZE_OBSERVER=function(A){var t,i=new WeakMap,n=new WeakMap,a=new WeakMap,r=new WeakMap,o=new Set;function s(e){if(!(this instanceof s))throw new TypeError(\"Constructor requires 'new' operator\");i.set(this,e)}function h(){throw new TypeError(\"Function is not a constructor\")}function c(e,t,i,n){e=0 in arguments?Number(arguments[0]):0,t=1 in arguments?Number(arguments[1]):0,i=2 in arguments?Number(arguments[2]):0,n=3 in arguments?Number(arguments[3]):0,this.right=(this.x=this.left=e)+(this.width=i),this.bottom=(this.y=this.top=t)+(this.height=n),Object.freeze(this)}function d(){t=requestAnimationFrame(d);var s=new WeakMap,p=new Set;o.forEach((function(t){r.get(t).forEach((function(i){var r=t instanceof window.SVGElement,o=a.get(t),d=r?0:parseFloat(o.paddingTop),f=r?0:parseFloat(o.paddingRight),l=r?0:parseFloat(o.paddingBottom),u=r?0:parseFloat(o.paddingLeft),g=r?0:parseFloat(o.borderTopWidth),m=r?0:parseFloat(o.borderRightWidth),w=r?0:parseFloat(o.borderBottomWidth),b=u+f,F=d+l,v=(r?0:parseFloat(o.borderLeftWidth))+m,W=g+w,y=r?0:t.offsetHeight-W-t.clientHeight,E=r?0:t.offsetWidth-v-t.clientWidth,R=b+v,z=F+W,M=r?t.width:parseFloat(o.width)-R-E,O=r?t.height:parseFloat(o.height)-z-y;if(n.has(t)){var k=n.get(t);if(k[0]===M&&k[1]===O)return}n.set(t,[M,O]);var S=Object.create(h.prototype);S.target=t,S.contentRect=new c(u,d,M,O),s.has(i)||(s.set(i,[]),p.add(i)),s.get(i).push(S)}))})),p.forEach((function(e){i.get(e).call(e,s.get(e),e)}))}return s.prototype.observe=function(i){if(i instanceof window.Element){r.has(i)||(r.set(i,new Set),o.add(i),a.set(i,window.getComputedStyle(i)));var n=r.get(i);n.has(this)||n.add(this),cancelAnimationFrame(t),t=requestAnimationFrame(d)}},s.prototype.unobserve=function(i){if(i instanceof window.Element&&r.has(i)){var n=r.get(i);n.has(this)&&(n.delete(this),n.size||(r.delete(i),o.delete(i))),n.size||r.delete(i),o.size||cancelAnimationFrame(t)}},A.DOMRectReadOnly=c,A.ResizeObserver=s,A.ResizeObserverEntry=h,A}; // eslint-disable-line\n",
       "mpl.toolbar_items = [[\"Home\", \"Reset original view\", \"fa fa-home icon-home\", \"home\"], [\"Back\", \"Back to previous view\", \"fa fa-arrow-left icon-arrow-left\", \"back\"], [\"Forward\", \"Forward to next view\", \"fa fa-arrow-right icon-arrow-right\", \"forward\"], [\"\", \"\", \"\", \"\"], [\"Pan\", \"Left button pans, Right button zooms\\nx/y fixes axis, CTRL fixes aspect\", \"fa fa-arrows icon-move\", \"pan\"], [\"Zoom\", \"Zoom to rectangle\\nx/y fixes axis, CTRL fixes aspect\", \"fa fa-square-o icon-check-empty\", \"zoom\"], [\"\", \"\", \"\", \"\"], [\"Download\", \"Download plot\", \"fa fa-floppy-o icon-save\", \"download\"]];\n",
       "\n",
       "mpl.extensions = [\"eps\", \"jpeg\", \"pdf\", \"png\", \"ps\", \"raw\", \"svg\", \"tif\"];\n",
       "\n",
       "mpl.default_extension = \"png\";/* global mpl */\n",
       "\n",
       "var comm_websocket_adapter = function (comm) {\n",
       "    // Create a \"websocket\"-like object which calls the given IPython comm\n",
       "    // object with the appropriate methods. Currently this is a non binary\n",
       "    // socket, so there is still some room for performance tuning.\n",
       "    var ws = {};\n",
       "\n",
       "    ws.close = function () {\n",
       "        comm.close();\n",
       "    };\n",
       "    ws.send = function (m) {\n",
       "        //console.log('sending', m);\n",
       "        comm.send(m);\n",
       "    };\n",
       "    // Register the callback with on_msg.\n",
       "    comm.on_msg(function (msg) {\n",
       "        //console.log('receiving', msg['content']['data'], msg);\n",
       "        // Pass the mpl event to the overridden (by mpl) onmessage function.\n",
       "        ws.onmessage(msg['content']['data']);\n",
       "    });\n",
       "    return ws;\n",
       "};\n",
       "\n",
       "mpl.mpl_figure_comm = function (comm, msg) {\n",
       "    // This is the function which gets called when the mpl process\n",
       "    // starts-up an IPython Comm through the \"matplotlib\" channel.\n",
       "\n",
       "    var id = msg.content.data.id;\n",
       "    // Get hold of the div created by the display call when the Comm\n",
       "    // socket was opened in Python.\n",
       "    var element = document.getElementById(id);\n",
       "    var ws_proxy = comm_websocket_adapter(comm);\n",
       "\n",
       "    function ondownload(figure, _format) {\n",
       "        window.open(figure.canvas.toDataURL());\n",
       "    }\n",
       "\n",
       "    var fig = new mpl.figure(id, ws_proxy, ondownload, element);\n",
       "\n",
       "    // Call onopen now - mpl needs it, as it is assuming we've passed it a real\n",
       "    // web socket which is closed, not our websocket->open comm proxy.\n",
       "    ws_proxy.onopen();\n",
       "\n",
       "    fig.parent_element = element;\n",
       "    fig.cell_info = mpl.find_output_cell(\"<div id='\" + id + \"'></div>\");\n",
       "    if (!fig.cell_info) {\n",
       "        console.error('Failed to find cell for figure', id, fig);\n",
       "        return;\n",
       "    }\n",
       "    fig.cell_info[0].output_area.element.on(\n",
       "        'cleared',\n",
       "        { fig: fig },\n",
       "        fig._remove_fig_handler\n",
       "    );\n",
       "};\n",
       "\n",
       "mpl.figure.prototype.handle_close = function (fig, msg) {\n",
       "    var width = fig.canvas.width / fig.ratio;\n",
       "    fig.cell_info[0].output_area.element.off(\n",
       "        'cleared',\n",
       "        fig._remove_fig_handler\n",
       "    );\n",
       "    fig.resizeObserverInstance.unobserve(fig.canvas_div);\n",
       "\n",
       "    // Update the output cell to use the data from the current canvas.\n",
       "    fig.push_to_output();\n",
       "    var dataURL = fig.canvas.toDataURL();\n",
       "    // Re-enable the keyboard manager in IPython - without this line, in FF,\n",
       "    // the notebook keyboard shortcuts fail.\n",
       "    IPython.keyboard_manager.enable();\n",
       "    fig.parent_element.innerHTML =\n",
       "        '<img src=\"' + dataURL + '\" width=\"' + width + '\">';\n",
       "    fig.close_ws(fig, msg);\n",
       "};\n",
       "\n",
       "mpl.figure.prototype.close_ws = function (fig, msg) {\n",
       "    fig.send_message('closing', msg);\n",
       "    // fig.ws.close()\n",
       "};\n",
       "\n",
       "mpl.figure.prototype.push_to_output = function (_remove_interactive) {\n",
       "    // Turn the data on the canvas into data in the output cell.\n",
       "    var width = this.canvas.width / this.ratio;\n",
       "    var dataURL = this.canvas.toDataURL();\n",
       "    this.cell_info[1]['text/html'] =\n",
       "        '<img src=\"' + dataURL + '\" width=\"' + width + '\">';\n",
       "};\n",
       "\n",
       "mpl.figure.prototype.updated_canvas_event = function () {\n",
       "    // Tell IPython that the notebook contents must change.\n",
       "    IPython.notebook.set_dirty(true);\n",
       "    this.send_message('ack', {});\n",
       "    var fig = this;\n",
       "    // Wait a second, then push the new image to the DOM so\n",
       "    // that it is saved nicely (might be nice to debounce this).\n",
       "    setTimeout(function () {\n",
       "        fig.push_to_output();\n",
       "    }, 1000);\n",
       "};\n",
       "\n",
       "mpl.figure.prototype._init_toolbar = function () {\n",
       "    var fig = this;\n",
       "\n",
       "    var toolbar = document.createElement('div');\n",
       "    toolbar.classList = 'btn-toolbar';\n",
       "    this.root.appendChild(toolbar);\n",
       "\n",
       "    function on_click_closure(name) {\n",
       "        return function (_event) {\n",
       "            return fig.toolbar_button_onclick(name);\n",
       "        };\n",
       "    }\n",
       "\n",
       "    function on_mouseover_closure(tooltip) {\n",
       "        return function (event) {\n",
       "            if (!event.currentTarget.disabled) {\n",
       "                return fig.toolbar_button_onmouseover(tooltip);\n",
       "            }\n",
       "        };\n",
       "    }\n",
       "\n",
       "    fig.buttons = {};\n",
       "    var buttonGroup = document.createElement('div');\n",
       "    buttonGroup.classList = 'btn-group';\n",
       "    var button;\n",
       "    for (var toolbar_ind in mpl.toolbar_items) {\n",
       "        var name = mpl.toolbar_items[toolbar_ind][0];\n",
       "        var tooltip = mpl.toolbar_items[toolbar_ind][1];\n",
       "        var image = mpl.toolbar_items[toolbar_ind][2];\n",
       "        var method_name = mpl.toolbar_items[toolbar_ind][3];\n",
       "\n",
       "        if (!name) {\n",
       "            /* Instead of a spacer, we start a new button group. */\n",
       "            if (buttonGroup.hasChildNodes()) {\n",
       "                toolbar.appendChild(buttonGroup);\n",
       "            }\n",
       "            buttonGroup = document.createElement('div');\n",
       "            buttonGroup.classList = 'btn-group';\n",
       "            continue;\n",
       "        }\n",
       "\n",
       "        button = fig.buttons[name] = document.createElement('button');\n",
       "        button.classList = 'btn btn-default';\n",
       "        button.href = '#';\n",
       "        button.title = name;\n",
       "        button.innerHTML = '<i class=\"fa ' + image + ' fa-lg\"></i>';\n",
       "        button.addEventListener('click', on_click_closure(method_name));\n",
       "        button.addEventListener('mouseover', on_mouseover_closure(tooltip));\n",
       "        buttonGroup.appendChild(button);\n",
       "    }\n",
       "\n",
       "    if (buttonGroup.hasChildNodes()) {\n",
       "        toolbar.appendChild(buttonGroup);\n",
       "    }\n",
       "\n",
       "    // Add the status bar.\n",
       "    var status_bar = document.createElement('span');\n",
       "    status_bar.classList = 'mpl-message pull-right';\n",
       "    toolbar.appendChild(status_bar);\n",
       "    this.message = status_bar;\n",
       "\n",
       "    // Add the close button to the window.\n",
       "    var buttongrp = document.createElement('div');\n",
       "    buttongrp.classList = 'btn-group inline pull-right';\n",
       "    button = document.createElement('button');\n",
       "    button.classList = 'btn btn-mini btn-primary';\n",
       "    button.href = '#';\n",
       "    button.title = 'Stop Interaction';\n",
       "    button.innerHTML = '<i class=\"fa fa-power-off icon-remove icon-large\"></i>';\n",
       "    button.addEventListener('click', function (_evt) {\n",
       "        fig.handle_close(fig, {});\n",
       "    });\n",
       "    button.addEventListener(\n",
       "        'mouseover',\n",
       "        on_mouseover_closure('Stop Interaction')\n",
       "    );\n",
       "    buttongrp.appendChild(button);\n",
       "    var titlebar = this.root.querySelector('.ui-dialog-titlebar');\n",
       "    titlebar.insertBefore(buttongrp, titlebar.firstChild);\n",
       "};\n",
       "\n",
       "mpl.figure.prototype._remove_fig_handler = function (event) {\n",
       "    var fig = event.data.fig;\n",
       "    if (event.target !== this) {\n",
       "        // Ignore bubbled events from children.\n",
       "        return;\n",
       "    }\n",
       "    fig.close_ws(fig, {});\n",
       "};\n",
       "\n",
       "mpl.figure.prototype._root_extra_style = function (el) {\n",
       "    el.style.boxSizing = 'content-box'; // override notebook setting of border-box.\n",
       "};\n",
       "\n",
       "mpl.figure.prototype._canvas_extra_style = function (el) {\n",
       "    // this is important to make the div 'focusable\n",
       "    el.setAttribute('tabindex', 0);\n",
       "    // reach out to IPython and tell the keyboard manager to turn it's self\n",
       "    // off when our div gets focus\n",
       "\n",
       "    // location in version 3\n",
       "    if (IPython.notebook.keyboard_manager) {\n",
       "        IPython.notebook.keyboard_manager.register_events(el);\n",
       "    } else {\n",
       "        // location in version 2\n",
       "        IPython.keyboard_manager.register_events(el);\n",
       "    }\n",
       "};\n",
       "\n",
       "mpl.figure.prototype._key_event_extra = function (event, _name) {\n",
       "    var manager = IPython.notebook.keyboard_manager;\n",
       "    if (!manager) {\n",
       "        manager = IPython.keyboard_manager;\n",
       "    }\n",
       "\n",
       "    // Check for shift+enter\n",
       "    if (event.shiftKey && event.which === 13) {\n",
       "        this.canvas_div.blur();\n",
       "        // select the cell after this one\n",
       "        var index = IPython.notebook.find_cell_index(this.cell_info[0]);\n",
       "        IPython.notebook.select(index + 1);\n",
       "    }\n",
       "};\n",
       "\n",
       "mpl.figure.prototype.handle_save = function (fig, _msg) {\n",
       "    fig.ondownload(fig, null);\n",
       "};\n",
       "\n",
       "mpl.find_output_cell = function (html_output) {\n",
       "    // Return the cell and output element which can be found *uniquely* in the notebook.\n",
       "    // Note - this is a bit hacky, but it is done because the \"notebook_saving.Notebook\"\n",
       "    // IPython event is triggered only after the cells have been serialised, which for\n",
       "    // our purposes (turning an active figure into a static one), is too late.\n",
       "    var cells = IPython.notebook.get_cells();\n",
       "    var ncells = cells.length;\n",
       "    for (var i = 0; i < ncells; i++) {\n",
       "        var cell = cells[i];\n",
       "        if (cell.cell_type === 'code') {\n",
       "            for (var j = 0; j < cell.output_area.outputs.length; j++) {\n",
       "                var data = cell.output_area.outputs[j];\n",
       "                if (data.data) {\n",
       "                    // IPython >= 3 moved mimebundle to data attribute of output\n",
       "                    data = data.data;\n",
       "                }\n",
       "                if (data['text/html'] === html_output) {\n",
       "                    return [cell, data, j];\n",
       "                }\n",
       "            }\n",
       "        }\n",
       "    }\n",
       "};\n",
       "\n",
       "// Register the function which deals with the matplotlib target/channel.\n",
       "// The kernel may be null if the page has been refreshed.\n",
       "if (IPython.notebook.kernel !== null) {\n",
       "    IPython.notebook.kernel.comm_manager.register_target(\n",
       "        'matplotlib',\n",
       "        mpl.mpl_figure_comm\n",
       "    );\n",
       "}\n"
      ],
      "text/plain": [
       "<IPython.core.display.Javascript object>"
      ]
     },
     "metadata": {},
     "output_type": "display_data"
    },
    {
     "data": {
      "text/html": [
       "<img src=\"data:image/png;base64,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\" width=\"640\">"
      ],
      "text/plain": [
       "<IPython.core.display.HTML object>"
      ]
     },
     "metadata": {},
     "output_type": "display_data"
    },
    {
     "data": {
      "text/plain": [
       "<AxesSubplot:>"
      ]
     },
     "execution_count": 8,
     "metadata": {},
     "output_type": "execute_result"
    }
   ],
   "source": [
    "# Plot cumulative returns\n",
    "%matplotlib notebook\n",
    "(100*all_returns).drop(all_returns.columns[0], axis=1).plot()"
   ]
  },
  {
   "cell_type": "code",
   "execution_count": null,
   "id": "41b5b554",
   "metadata": {},
   "outputs": [],
   "source": []
  },
  {
   "cell_type": "code",
   "execution_count": 11,
   "id": "8d578522",
   "metadata": {},
   "outputs": [],
   "source": []
  },
  {
   "cell_type": "markdown",
   "id": "07c63d05",
   "metadata": {},
   "source": [
    "\n"
   ]
  },
  {
   "cell_type": "code",
   "execution_count": null,
   "id": "8937923b",
   "metadata": {},
   "outputs": [],
   "source": []
  },
  {
   "cell_type": "code",
   "execution_count": null,
   "id": "ce9b8877",
   "metadata": {},
   "outputs": [],
   "source": []
  },
  {
   "cell_type": "code",
   "execution_count": null,
   "id": "237c4c10",
   "metadata": {},
   "outputs": [],
   "source": []
  },
  {
   "cell_type": "code",
   "execution_count": null,
   "id": "9f7d38c2",
   "metadata": {},
   "outputs": [],
   "source": []
  }
 ],
 "metadata": {
  "kernelspec": {
   "display_name": "Python 3",
   "language": "python",
   "name": "python3"
  },
  "language_info": {
   "codemirror_mode": {
    "name": "ipython",
    "version": 3
   },
   "file_extension": ".py",
   "mimetype": "text/x-python",
   "name": "python",
   "nbconvert_exporter": "python",
   "pygments_lexer": "ipython3",
   "version": "3.8.8"
  }
 },
 "nbformat": 4,
 "nbformat_minor": 5
}
