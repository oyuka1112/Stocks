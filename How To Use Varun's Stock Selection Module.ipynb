{
 "cells": [
  {
   "cell_type": "markdown",
   "id": "102f43a1",
   "metadata": {},
   "source": [
    "# What does the `diff_cap_packages.stock_selection` module do?\n",
    "\n",
    "Primarily, `stock_selection` takes all the low-level functions in `models_` and combines them into high-level functions that we can use for back-testing.\n",
    "\n",
    "### Functions Explained:\n",
    "- `make_and_store_linear_models`\n",
    "- `load_models`\n",
    "- `get_predictions`\n",
    "- `get_buy_sell`\n",
    "- `get_buys_from_buy_sell`\n",
    "- `get_sells_from_buy_sell`\n",
    "- `get_buy_sell_analysis`\n",
    "- `get_predicted_overall_pct_chg`\n",
    "- `get_actual_overall_pct_chg`\n",
    "\n",
    "\n",
    "\n",
    "### Helpful Features:\n",
    "- Progress bars\n",
    "- Preliminary analysis\n",
    "    - Was the predicted action correct?\n",
    "        - How do \"holds\" fit into this?\n",
    "    - What was the predicted percentage gain for the day?\n",
    "    - What was the *actual* percentage gain for the day?"
   ]
  },
  {
   "cell_type": "markdown",
   "id": "8a586ddf",
   "metadata": {},
   "source": [
    "# Imports"
   ]
  },
  {
   "cell_type": "code",
   "execution_count": 1,
   "id": "84d37a35",
   "metadata": {},
   "outputs": [],
   "source": [
    "from diff_cap_packages import stock_selection"
   ]
  },
  {
   "cell_type": "code",
   "execution_count": 2,
   "id": "812eaf21",
   "metadata": {},
   "outputs": [],
   "source": [
    "# Used for debugging purposes, don't need to import to use stock_selection\n",
    "import importlib\n",
    "importlib.reload(stock_selection)\n",
    "%config Completer.use_jedi=False\n",
    "# Used for debugging purposes, don't need to import to use stock_selection"
   ]
  },
  {
   "cell_type": "markdown",
   "id": "62ab5c65",
   "metadata": {},
   "source": [
    "# Usage"
   ]
  },
  {
   "cell_type": "markdown",
   "id": "193b7629",
   "metadata": {},
   "source": [
    "## Preparation with models"
   ]
  },
  {
   "cell_type": "markdown",
   "id": "ba85935c",
   "metadata": {},
   "source": [
    "### `make_and_store_linear_models`\n",
    "This function takes a pretty significant amount of time to run (just under 5 minutes per date for me). It essentially combines all of the low-level PyCaret code found in the `models_` package to train and save models into the models folder of our repository. Once models have been saved once, however, we don't have to rerun this function; we can just load them in with the `load_models` function below.\n",
    "\n",
    "The path that models are saved to is `\"models/[DATE]-linear-[NUMBER_OF_DAYS]/[STOCKID].pkl\"`, but this is not needed to use the function.\n",
    "\n",
    "**By default: `force_overwrite` is set to False. (Why bother overwriting models that already exist and are saved?) When this is set to False, a `FileExistsError` error will occur if we already have saved models for that day. If you *really* want to, you can set this to True, but it's honestly just a waste of time to retrain hundreds of models.**\n",
    "\n",
    "- **ADDED FEATURE**: if the folder containing models does not contain a file called `\"completed.txt\"`, it is not considered to be a fully completed set of models. If you run the function on an \"uncompleted\" set of models, it will overwrite, regardless of the `force_overwrite` value. `force_overwrite` controls whether a completed set is overwritten. *The completed.txt file is now automatically added after all the models are created and saved.*"
   ]
  },
  {
   "cell_type": "code",
   "execution_count": 3,
   "id": "8ca4ca4d",
   "metadata": {},
   "outputs": [
    {
     "name": "stderr",
     "output_type": "stream",
     "text": [
      "100%|██████████| 134/134 [01:05<00:00,  2.03it/s]\n"
     ]
    }
   ],
   "source": [
    "num_days_back = 200\n",
    "end_date = '2021-06-16'\n",
    "start_date = stock_selection.get_start_date(end_date, num_days_back)\n",
    "\n",
    "stock_selection.make_and_store_linear_models(start_date, end_date, force_overwrite=False)"
   ]
  },
  {
   "cell_type": "markdown",
   "id": "0753b8d2",
   "metadata": {},
   "source": [
    "### `load_models`\n",
    "Use this function to load our saved pretrained models. These should ideally already be saved in the GitHub repository under the models folder. The format for the path to a specific model is `\"models/[DATE]-linear-[NUMBER_OF_DAYS]/[STOCKID].pkl\"`, but you don't need to know this to use the function.\n",
    "\n",
    "If they aren't saved, you will have to use the `make_and_store_linear_models` function above to train and save them—this takes a pretty long amount of time (anywhere from 5–10 minutes per date)."
   ]
  },
  {
   "cell_type": "code",
   "execution_count": null,
   "id": "17dbee74",
   "metadata": {},
   "outputs": [],
   "source": [
    "lrmodels = stock_selection.load_models(\"2021-06-16\")"
   ]
  },
  {
   "cell_type": "markdown",
   "id": "fcff036e",
   "metadata": {},
   "source": [
    "## Predictions"
   ]
  },
  {
   "cell_type": "markdown",
   "id": "74d727ba",
   "metadata": {},
   "source": [
    "### `get_predictions`\n",
    "This function takes the loaded models (`lrmodels`) that are obtained above and the date to predict from. \n",
    "\n",
    "**This date should be the same date as above, and it would be wise to just use a variable for the date to avoid issues.**\n",
    "\n",
    "For example, if the date given is `2021-06-29`, this function will output prediction information for every stock on `2021-06-30`."
   ]
  },
  {
   "cell_type": "code",
   "execution_count": null,
   "id": "e10c6be3",
   "metadata": {},
   "outputs": [],
   "source": [
    "predictions = stock_selection.get_predictions(lrmodels, \"2021-06-17\")"
   ]
  },
  {
   "cell_type": "markdown",
   "id": "6f4e644d",
   "metadata": {},
   "source": [
    "## Buying and short selling: which ones?"
   ]
  },
  {
   "cell_type": "markdown",
   "id": "33706318",
   "metadata": {},
   "source": [
    "### `get_buy_sell`\n",
    "This returns a `DataFrame` called `buy_sell`, which contains the aggregated information about which stocks the models are predicting to buy and which to short sell for the next day.\n",
    "\n",
    "- This function has an optional parameter `how_many`, which allows us to adjust how many stocks we want to buy or sell. By default this is set to 5 (5 long, 5 short)\n",
    "- This function also has another optional parameter called `abs_vol_thresh`, which is set to an arbitrary 0.08. This means that stocks that are predicted to move up or down 8% (±8%) over the next day are filtered out of the ranking. This can be fine tuned, but it seems to be performing well at 0.08."
   ]
  },
  {
   "cell_type": "code",
   "execution_count": null,
   "id": "567e9b93",
   "metadata": {},
   "outputs": [],
   "source": [
    "buy_sell = stock_selection.get_buy_sell(predictions)\n",
    "buy_sell"
   ]
  },
  {
   "cell_type": "markdown",
   "id": "9395088a",
   "metadata": {},
   "source": [
    "### `get_buys_from_buy_sell`\n",
    "Extracts the names of the stocks that the models say to buy."
   ]
  },
  {
   "cell_type": "code",
   "execution_count": null,
   "id": "e840286c",
   "metadata": {},
   "outputs": [],
   "source": [
    "stock_selection.get_buys_from_buy_sell(buy_sell)"
   ]
  },
  {
   "cell_type": "markdown",
   "id": "b54ab5e1",
   "metadata": {},
   "source": [
    "### `get_sells_from_buy_sell`\n",
    "Extracts the names of the stocks that the models say to short sell."
   ]
  },
  {
   "cell_type": "code",
   "execution_count": null,
   "id": "5d50be79",
   "metadata": {},
   "outputs": [],
   "source": [
    "stock_selection.get_sells_from_buy_sell(buy_sell)"
   ]
  },
  {
   "cell_type": "markdown",
   "id": "fb41199e",
   "metadata": {},
   "source": [
    "## Deeper analysis"
   ]
  },
  {
   "cell_type": "markdown",
   "id": "8808fe72",
   "metadata": {},
   "source": [
    "### `get_buy_sell_analysis`\n",
    "Returns a copy of the `buy_sell` DataFrame with additional analytical columns: `\"proper action\"` (what the correct move should have been for a particular stock and `\"ACCURATE\"`, which indicates whether or not the predicted action was correct.\n",
    "\n",
    "This function has a toggleable parameter: `lenient_on_holds`. When `True`, a position that did not move at all in reality (a \"HOLD\") is marked as a win, whereas it is marked as a loss when `False`. Test this one out if it doesn't make sense."
   ]
  },
  {
   "cell_type": "code",
   "execution_count": null,
   "id": "7bd7a970",
   "metadata": {},
   "outputs": [],
   "source": [
    "stock_selection.get_buy_sell_analysis(buy_sell, lenient_on_holds=True)"
   ]
  },
  {
   "cell_type": "markdown",
   "id": "22754db1",
   "metadata": {},
   "source": [
    "### `get_predicted_overall_pct_chg`\n",
    "Returns the overall portfolio's predicted daily percent change.\n",
    "\n",
    "Calculation:\n",
    "(average of the predicted % gain on the long stocks + the average of the predicted % gain on the short stocks) / 2"
   ]
  },
  {
   "cell_type": "code",
   "execution_count": null,
   "id": "98519a2b",
   "metadata": {},
   "outputs": [],
   "source": [
    "stock_selection.get_predicted_overall_pct_chg(buy_sell)"
   ]
  },
  {
   "cell_type": "markdown",
   "id": "29623e25",
   "metadata": {},
   "source": [
    "### `get_actual_overall_pct_chg`\n",
    "Returns the overall portfolio's **actual** daily percent change.\n",
    "\n",
    "Calculation:\n",
    "(average of the actual % gain on the long stocks + the average of the actual % gain on the short stocks) / 2"
   ]
  },
  {
   "cell_type": "code",
   "execution_count": null,
   "id": "5028f157",
   "metadata": {},
   "outputs": [],
   "source": [
    "stock_selection.get_actual_overall_pct_chg(buy_sell)"
   ]
  }
 ],
 "metadata": {
  "kernelspec": {
   "display_name": "Python 3",
   "language": "python",
   "name": "python3"
  },
  "language_info": {
   "codemirror_mode": {
    "name": "ipython",
    "version": 3
   },
   "file_extension": ".py",
   "mimetype": "text/x-python",
   "name": "python",
   "nbconvert_exporter": "python",
   "pygments_lexer": "ipython3",
   "version": "3.8.10"
  }
 },
 "nbformat": 4,
 "nbformat_minor": 5
}
