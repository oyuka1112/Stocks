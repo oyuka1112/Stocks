{
 "cells": [
  {
   "cell_type": "code",
   "execution_count": 3,
   "id": "28dbfea3",
   "metadata": {},
   "outputs": [
    {
     "data": {
      "text/plain": [
       "<module 'diff_cap_packages.Xy' from '/Users/varunsaini/github/Diff_Capital_Internship/diff_cap_packages/Xy.py'>"
      ]
     },
     "execution_count": 3,
     "metadata": {},
     "output_type": "execute_result"
    }
   ],
   "source": [
    "%config Completer.use_jedi=False\n",
    "from importlib import reload\n",
    "import pandas as pd\n",
    "import numpy as np\n",
    "from diff_cap_packages import Xy\n",
    "from diff_cap_packages import filters\n",
    "from diff_cap_packages import ta, models_\n",
    "reload(Xy)"
   ]
  },
  {
   "cell_type": "code",
   "execution_count": 26,
   "id": "391a3b00",
   "metadata": {},
   "outputs": [
    {
     "data": {
      "text/plain": [
       "LinearRegression()"
      ]
     },
     "execution_count": 26,
     "metadata": {},
     "output_type": "execute_result"
    }
   ],
   "source": [
    "from sklearn.linear_model import LinearRegression\n",
    "common_features = common_features = models_.get_common_features(\"2007-03-20\", 200)\n",
    "data = models_.get_dataframe_for_pycaret(\"930060\", \"2007-03-20\", 200, common_features)\n",
    "model = LinearRegression()\n",
    "model.fit(data.iloc[1:-1, :-1].fillna(method=\"bfill\"), data.iloc[1:-1, -1])\n",
    "# data.iloc[1:-1, :-1].fillna(method=\"bfill\").isna().any()\n",
    "# data.iloc[1:-1, :-1][\"36086P\"]"
   ]
  },
  {
   "cell_type": "code",
   "execution_count": null,
   "id": "2b3983ec",
   "metadata": {},
   "outputs": [],
   "source": [
    "stock_id = \"930060\"\n",
    "end_date = \"2021-06-29\"\n",
    "days = 150\n",
    "\n",
    "market_prices = delayed_prices = relevant_date_technicals = pd.DataFrame()\n",
    "\n",
    "market_prices = filters.get_dataframe_prices(days, end_date, nan_threshold=0)\n",
    "\n",
    "# delayed_prices = Xy.get_delayed_X(stock_id, end_date=end_date, days_before=days)\n",
    "\n",
    "technicals = Xy.get_market_Xy()[0].loc[:, [stock_id]]\n",
    "volume = filters.volumes.loc[:, stock_id]\n",
    "ta.add_ATR(technicals, inplace=True)\n",
    "ta.add_RSI(technicals, inplace=True)\n",
    "# ta.add_OBV(technicals, volume, inplace=True)\n",
    "\n",
    "technicals.drop(stock_id, axis=1, inplace=True)\n",
    "relevant_date_technicals = technicals.loc[:end_date].tail(days)\n",
    "relevant_date_technicals\n",
    "\n",
    "\n",
    "features = pd.concat([market_prices, delayed_prices, relevant_date_technicals], axis=1)\n",
    "features"
   ]
  },
  {
   "cell_type": "code",
   "execution_count": null,
   "id": "f7fbf510",
   "metadata": {
    "scrolled": false
   },
   "outputs": [],
   "source": [
    "target = Xy.get_market_Xy(stock_id, target_ahead_by=1)[1]\n",
    "target = target.loc[:end_date]\n",
    "target"
   ]
  },
  {
   "cell_type": "code",
   "execution_count": null,
   "id": "f573131b",
   "metadata": {},
   "outputs": [],
   "source": [
    "from diff_cap_packages import models_\n",
    "reload(models_)"
   ]
  },
  {
   "cell_type": "code",
   "execution_count": null,
   "id": "e4b26586",
   "metadata": {},
   "outputs": [],
   "source": [
    "common_features = models_.get_common_features('2008-12-30', 500)\n",
    "models_.get_dataframe_for_pycaret('930060', '2008-12-30', 500, common_features)"
   ]
  },
  {
   "cell_type": "code",
   "execution_count": null,
   "id": "0eefcd3f",
   "metadata": {},
   "outputs": [],
   "source": [
    "from diff_cap_packages import models_\n",
    "models_.get_target_for_stock('930060', '2008-12-30', 500)"
   ]
  },
  {
   "cell_type": "code",
   "execution_count": null,
   "id": "80274832",
   "metadata": {},
   "outputs": [],
   "source": [
    "from pycaret.regression import *\n",
    "features = models_.get_features_for_stock('930060', '2021-06-29', 200)\n",
    "target = models_.get_target_for_stock('930060', '2021-06-29', 200)\n",
    "data = pd.concat([features, target], axis=1)\n",
    "setup(data=data, target=data.columns[-1], train_size=0.8)"
   ]
  },
  {
   "cell_type": "code",
   "execution_count": null,
   "id": "cfec187a",
   "metadata": {},
   "outputs": [],
   "source": [
    "best = compare_models()"
   ]
  },
  {
   "cell_type": "code",
   "execution_count": null,
   "id": "75d21ba9",
   "metadata": {},
   "outputs": [],
   "source": [
    "prep_pipe = get_config('prep_pipe')\n",
    "transformed = prep_pipe.transform(features)\n",
    "\n",
    "# ax = target.plot()\n",
    "# pd.DataFrame(best.predict(transformed), index=future_idx).plot(ax=ax)\n",
    "\n",
    "# pd.DataFrame(best.predict(transformed), index=future_idx, columns=['tomorrow'])\n",
    "\n",
    "predicted = pd.DataFrame(best.predict(transformed), index=target.index)\n",
    "results = pd.concat([features.loc[:, '930060'], target, predicted], axis=1)\n",
    "results.columns = ['930060', 'actual next day', 'predicted next day']\n",
    "results[\"actual % chg\"] = (results[\"actual next day\"] - results[\"930060\"]) / results[\"930060\"]\n",
    "results[\"pred % chg\"] = (results[\"predicted next day\"] - results[\"930060\"]) / results[\"930060\"]\n",
    "results[\"% error\"] = (results[\"pred % chg\"] - results[\"actual % chg\"]) / results[\"actual % chg\"]\n",
    "results[\"buy?\"] = results[\"actual % chg\"] > 0\n",
    "results[\"pred buy?\"] = results[\"pred % chg\"] > 0\n",
    "# results.replace([np.inf, -np.inf], 0).mean()\n",
    "results['accurate'] = results[\"buy?\"] == results[\"pred buy?\"]\n",
    "results.sum()"
   ]
  },
  {
   "cell_type": "markdown",
   "id": "bcb05941",
   "metadata": {},
   "source": [
    "# TESTING MODELS_.PY"
   ]
  },
  {
   "cell_type": "code",
   "execution_count": null,
   "id": "a456e0cc",
   "metadata": {},
   "outputs": [],
   "source": [
    "from diff_cap_packages import models_"
   ]
  },
  {
   "cell_type": "code",
   "execution_count": null,
   "id": "602d2fb0",
   "metadata": {},
   "outputs": [],
   "source": [
    "data = models_.get_dataframe_for_pycaret(\"930060\", \"2021-06-29\", 500)"
   ]
  },
  {
   "cell_type": "code",
   "execution_count": null,
   "id": "26f58a6f",
   "metadata": {},
   "outputs": [],
   "source": [
    "models_.setup_pycaret(data)"
   ]
  },
  {
   "cell_type": "code",
   "execution_count": null,
   "id": "d3e252d8",
   "metadata": {},
   "outputs": [],
   "source": [
    "best = models_.get_best_model(data)"
   ]
  },
  {
   "cell_type": "code",
   "execution_count": null,
   "id": "36af39e2",
   "metadata": {},
   "outputs": [],
   "source": [
    "from diff_cap_packages import models_\n",
    "from pycaret.regression import *\n",
    "best = load_model(\"models/test_save\")\n",
    "\n",
    "features = models_.get_features_for_stock('930060', '2021-06-29', 200)\n",
    "target = models_.get_target_for_stock('930060', '2021-06-29', 200)\n",
    "\n",
    "results = models_.get_analysis(best, '930060', features, target)\n",
    "models_.get_accurate_predictions(results)"
   ]
  },
  {
   "cell_type": "markdown",
   "id": "16598403",
   "metadata": {},
   "source": [
    "# SCALING"
   ]
  },
  {
   "cell_type": "code",
   "execution_count": null,
   "id": "f0b2ac22",
   "metadata": {},
   "outputs": [],
   "source": [
    "from diff_cap_packages import models_\n",
    "from pycaret.regression import *\n",
    "\n",
    "end_date = '2021-06-29'\n",
    "days = 500\n",
    "\n",
    "investible_universe = models_.get_investible_universe(end_date, days)"
   ]
  },
  {
   "cell_type": "code",
   "execution_count": null,
   "id": "076ba7b9",
   "metadata": {},
   "outputs": [],
   "source": [
    "investible_universe"
   ]
  },
  {
   "cell_type": "code",
   "execution_count": null,
   "id": "a81baa6a",
   "metadata": {},
   "outputs": [],
   "source": [
    "# THIS TAKES A LOT OF TIME (MORE THAN ONE HOUR)\n",
    "# Make sure that, if you run this, you do it with a GPU (in Google Colab, for example)\n",
    "\n",
    "for count, stock in enumerate(investible_universe):\n",
    "  print(str(count + 1), \"out of\", len(investible_universe))\n",
    "  data = models_.get_dataframe_for_pycaret(stock, \"2021-06-29\", 500)\n",
    "  models_.setup_pycaret(data)\n",
    "#   best = models_.get_best_model(data)\n",
    "  best = create_model(\"lr\")\n",
    "  path_to_save = \"models/2021-06-29-linear-500test/\" + stock\n",
    "  save_model(best, path_to_save)\n",
    "  print(\"SAVED\", stock)"
   ]
  },
  {
   "cell_type": "markdown",
   "id": "4f653881",
   "metadata": {},
   "source": [
    "# Ranking"
   ]
  },
  {
   "cell_type": "markdown",
   "id": "ed981e64",
   "metadata": {},
   "source": [
    "## Using the Linear Regression Models"
   ]
  },
  {
   "cell_type": "code",
   "execution_count": null,
   "id": "74bf9105",
   "metadata": {},
   "outputs": [],
   "source": [
    "from diff_cap_packages import models_\n",
    "from pycaret.regression import *\n",
    "import pandas as pd\n",
    "\n",
    "end_date = '2021-06-29'\n",
    "days = 500\n",
    "\n",
    "investible_universe = models_.get_investible_universe(end_date, days)\n",
    "lrmodels = pd.DataFrame(index=investible_universe)\n",
    "\n",
    "for stock in investible_universe:\n",
    "    lrmodels.loc[stock, \"linear regression model\"] = load_model(\"models/2021-06-29-linear-500/\" + stock)"
   ]
  },
  {
   "cell_type": "code",
   "execution_count": null,
   "id": "770cb703",
   "metadata": {},
   "outputs": [],
   "source": [
    "for stock in investible_universe:\n",
    "    model = lrmodels.loc[stock, \"linear regression model\"]\n",
    "    features = models_.get_features_for_stock(stock, end_date, days)\n",
    "    target = models_.get_target_for_stock(stock, end_date, days)\n",
    "    \n",
    "    prediction = predict_model(model, features)\n",
    "    from sklearn.metrics import r2_score\n",
    "    r2 = r2_score(target, prediction[\"Label\"])\n",
    "    lrmodels.loc[stock, \"r2\"] = r2\n",
    "    \n",
    "    results = models_.get_analysis(model, stock, features, target)\n",
    "    accurate_predictions = models_.get_accurate_predictions(results)\n",
    "    lrmodels.loc[stock, \"prop_buy/sell_correct\"] = accurate_predictions[0]\n",
    "    \n",
    "    print(stock, r2, accurate_predictions[0])"
   ]
  },
  {
   "cell_type": "code",
   "execution_count": null,
   "id": "7e34c411",
   "metadata": {},
   "outputs": [],
   "source": [
    "models_sorted = lrmodels.sort_values(\"prop_buy/sell_correct\", ascending=False)\n",
    "models_sorted"
   ]
  },
  {
   "cell_type": "code",
   "execution_count": null,
   "id": "0e2e7af9",
   "metadata": {},
   "outputs": [],
   "source": [
    "predictions = pd.DataFrame(index=lrmodels.index, columns=[\"predicted % chg\", \"adjusted predicted % chg\"])\n",
    "\n",
    "for stock in investible_universe:\n",
    "    date = \"2021-06-29\" # Predicting for 2021-06-30\n",
    "    data = models_.get_dataframe_for_pycaret(stock, end_date, days)\n",
    "    model = lrmodels.loc[stock, \"linear regression model\"]\n",
    "    pred_perc_chg = (predict_model(model, data).loc[date, \"Label\"] - data.loc[date, stock]) / data.loc[date, stock]\n",
    "    predictions.loc[stock, \"predicted % chg\"] = pred_perc_chg\n",
    "    predictions.loc[stock, \"adjusted predicted % chg\"] = pred_perc_chg * lrmodels.loc[stock, \"prop_buy/sell_correct\"]\n",
    "    predictions.loc[stock, \"actual % chg\"] = (data.loc[date, stock + \" +1 day\"] - data.loc[date, stock]) / data.loc[date, stock]\n",
    "    "
   ]
  },
  {
   "cell_type": "code",
   "execution_count": null,
   "id": "6fcffa35",
   "metadata": {},
   "outputs": [],
   "source": [
    "predictions_sorted = predictions.sort_values(\"adjusted predicted % chg\")\n",
    "predictions_sorted = predictions_sorted[predictions_sorted[\"predicted % chg\"].abs() < 0.08]\n",
    "\n",
    "buy = predictions_sorted.tail(5)\n",
    "buy[\"predicted action\"] = \"BUY\"\n",
    "sell = predictions_sorted.head(5)\n",
    "sell[\"predicted action\"] = \"SELL\"\n",
    "buy_sell = pd.concat([buy, sell])\n",
    "\n",
    "predictions_sorted"
   ]
  },
  {
   "cell_type": "code",
   "execution_count": null,
   "id": "553670fc",
   "metadata": {},
   "outputs": [],
   "source": [
    "for stock in buy_sell.index:\n",
    "    model = lrmodels.loc[stock, \"linear regression model\"]\n",
    "    features = models_.get_features_for_stock(stock, end_date, days)\n",
    "    target = models_.get_target_for_stock(stock, end_date, days)\n",
    "\n",
    "    results = models_.get_analysis(model, stock, features, target)\n",
    "    if results.loc[end_date, \"buy?\"] == True:\n",
    "        buy_sell.loc[stock, \"proper action\"] = \"BUY\"\n",
    "    else:\n",
    "        buy_sell.loc[stock, \"proper action\"] = \"SELL\"\n",
    "    \n",
    "    buy_sell[\"correct?\"] = buy_sell[\"predicted action\"] == buy_sell[\"proper action\"]\n",
    "       \n",
    "    \n",
    "print(\"Cumulative Profit %:\", buy_sell.head(5)[\"actual % chg\"].mean() - buy_sell.tail(5)[\"actual % chg\"].mean())\n",
    "buy_sell"
   ]
  },
  {
   "cell_type": "markdown",
   "id": "c73d416c",
   "metadata": {},
   "source": [
    "## Using the \"Best\" Models"
   ]
  },
  {
   "cell_type": "code",
   "execution_count": null,
   "id": "540c3f31",
   "metadata": {},
   "outputs": [],
   "source": [
    "from diff_cap_packages import models_\n",
    "from pycaret.regression import *\n",
    "\n",
    "end_date = '2021-06-29'\n",
    "days = 200\n",
    "\n",
    "investible_universe = models_.get_investible_universe(end_date, days)\n",
    "best_models = pd.DataFrame(index=investible_universe)\n",
    "\n",
    "for stock in investible_universe:\n",
    "    best_models.loc[stock, \"linear regression model\"] = load_model(\"models/best_models/\" + stock)"
   ]
  },
  {
   "cell_type": "markdown",
   "id": "f71fbba2",
   "metadata": {},
   "source": [
    "# Testing stock_selection.py"
   ]
  },
  {
   "cell_type": "code",
   "execution_count": null,
   "id": "a8bad8b1",
   "metadata": {},
   "outputs": [],
   "source": [
    "from diff_cap_packages import stock_selection\n",
    "import importlib\n",
    "importlib.reload(stock_selection)\n",
    "%config Completer.use_jedi=False"
   ]
  },
  {
   "cell_type": "code",
   "execution_count": null,
   "id": "c3e53f76",
   "metadata": {},
   "outputs": [],
   "source": [
    "# Use to load in trained models.\n",
    "lrmodels = stock_selection.load_models(\"2021-06-29\")"
   ]
  },
  {
   "cell_type": "code",
   "execution_count": null,
   "id": "703697f8",
   "metadata": {},
   "outputs": [],
   "source": [
    "# Gets predictions for the day AFTER the date you input. \n",
    "# This date should ideally match the date in the block above.\n",
    "predictions = stock_selection.get_predictions(lrmodels, \"2021-06-29\")"
   ]
  },
  {
   "cell_type": "code",
   "execution_count": null,
   "id": "da62518e",
   "metadata": {},
   "outputs": [],
   "source": [
    "# Contains information about which stocks to buy and which to short sell for the next day.\n",
    "buy_sell = stock_selection.get_buy_sell(predictions)\n",
    "buy_sell"
   ]
  },
  {
   "cell_type": "code",
   "execution_count": null,
   "id": "2c4606cf",
   "metadata": {},
   "outputs": [],
   "source": [
    "# Get the stocks that the models say to buy\n",
    "stock_selection.get_buys_from_buy_sell(buy_sell)"
   ]
  },
  {
   "cell_type": "code",
   "execution_count": null,
   "id": "be089441",
   "metadata": {},
   "outputs": [],
   "source": [
    "# Get the stocks that the models say to short sell\n",
    "stock_selection.get_sells_from_buy_sell(buy_sell)"
   ]
  },
  {
   "cell_type": "code",
   "execution_count": null,
   "id": "283f3570",
   "metadata": {},
   "outputs": [],
   "source": [
    "# Look at a deeper analysis of the performance of the models\n",
    "# lenient_on_holds is toggleable (technically, if the stock doesn't move, it isn't a loss)\n",
    "stock_selection.get_buy_sell_analysis(buy_sell, lenient_on_holds=True)"
   ]
  },
  {
   "cell_type": "code",
   "execution_count": null,
   "id": "6630eec0",
   "metadata": {},
   "outputs": [],
   "source": [
    "# Get predicted daily % change\n",
    "stock_selection.get_predicted_overall_pct_chg(buy_sell)"
   ]
  },
  {
   "cell_type": "code",
   "execution_count": null,
   "id": "7d092ab0",
   "metadata": {},
   "outputs": [],
   "source": [
    "# Get actual daily % change\n",
    "stock_selection.get_actual_overall_pct_chg(buy_sell)"
   ]
  },
  {
   "cell_type": "code",
   "execution_count": null,
   "id": "f14fe220",
   "metadata": {},
   "outputs": [],
   "source": [
    "from diff_cap_packages import models_\n",
    "from sklearn.linear_model import LinearRegression\n",
    "common_features = models_.get_common_features(end_date=\"2021-06-29\", num_days=200)\n",
    "data = models_.get_dataframe_for_pycaret(\"930060\", \"2021-06-29\", 200, common_features)\n",
    "X = data.iloc[1:-1, :-1]\n",
    "y = data.iloc[1:-1, -1]\n",
    "model = LinearRegression()\n",
    "model.fit(X, y)"
   ]
  },
  {
   "cell_type": "code",
   "execution_count": null,
   "id": "1c64f2e2",
   "metadata": {},
   "outputs": [],
   "source": [
    "Xtest = models_.get_dataframe_for_pycaret(\"930060\", \"2021-06-29\", 200, common_features).iloc[[-1]].iloc[:, :-1]\n",
    "model.predict(Xtest)[0]"
   ]
  },
  {
   "cell_type": "code",
   "execution_count": null,
   "id": "0a5b8df7",
   "metadata": {},
   "outputs": [],
   "source": [
    "models_.get_dataframe_for_pycaret(\"930060\", \"2021-06-29\", 200, common_features).iloc[[-1]].iloc[:, :-1]"
   ]
  },
  {
   "cell_type": "code",
   "execution_count": 1,
   "id": "7d89965d",
   "metadata": {},
   "outputs": [
    {
     "name": "stdout",
     "output_type": "stream",
     "text": [
      "--------------------\n",
      "[ 1/1 ]\n",
      "Starting: 2010-05-10. Using data from the previous 200 days to train.\n",
      "This set of models is completely trained already.\n",
      "Set force_overwrite to True if you want to overwrite it.\n"
     ]
    },
    {
     "name": "stderr",
     "output_type": "stream",
     "text": [
      "100%|██████████| 82/82 [00:06<00:00, 12.88it/s]\n",
      "100%|██████████| 82/82 [00:00<00:00, 5473.33it/s]"
     ]
    },
    {
     "name": "stdout",
     "output_type": "stream",
     "text": [
      "Finished.\n",
      "--------------------\n"
     ]
    },
    {
     "name": "stderr",
     "output_type": "stream",
     "text": [
      "\n"
     ]
    }
   ],
   "source": [
    "from diff_cap_packages import stock_selection\n",
    "\n",
    "\n",
    "dates = [\"2010-05-10\"]\n",
    "\n",
    "num_days_back = 200\n",
    "for index, end_date in enumerate(dates):\n",
    "    \n",
    "    print(\"--------------------\")\n",
    "    print(\"[\", str(index + 1) + \"/\" + str(len(dates)), \"]\")\n",
    "    print(\"Starting:\", end_date + \".\", \"Using data from the previous\", num_days_back, \"days to train.\")\n",
    "    \n",
    "    stock_selection.make_and_store_linear_models(end_date, num_days_back, force_overwrite=True, pycaret=False)\n",
    "\n",
    "    \n",
    "    lrmodels = stock_selection.load_models(end_date, num_days_back, pycaret=False)\n",
    "    predictions = stock_selection.get_predictions(lrmodels, end_date, num_days_back, pycaret=False, message=False)\n",
    "    \n",
    "    print(\"Finished.\")\n",
    "    print(\"--------------------\")"
   ]
  },
  {
   "cell_type": "code",
   "execution_count": 2,
   "id": "029fc212",
   "metadata": {},
   "outputs": [
    {
     "name": "stderr",
     "output_type": "stream",
     "text": [
      "100%|██████████| 10/10 [00:00<00:00, 1770.27it/s]\n"
     ]
    },
    {
     "data": {
      "text/html": [
       "<div>\n",
       "<style scoped>\n",
       "    .dataframe tbody tr th:only-of-type {\n",
       "        vertical-align: middle;\n",
       "    }\n",
       "\n",
       "    .dataframe tbody tr th {\n",
       "        vertical-align: top;\n",
       "    }\n",
       "\n",
       "    .dataframe thead th {\n",
       "        text-align: right;\n",
       "    }\n",
       "</style>\n",
       "<table border=\"1\" class=\"dataframe\">\n",
       "  <thead>\n",
       "    <tr style=\"text-align: right;\">\n",
       "      <th></th>\n",
       "      <th>predicted % chg</th>\n",
       "      <th>actual % chg</th>\n",
       "      <th>predicted action</th>\n",
       "      <th>proper action</th>\n",
       "      <th>ACCURATE (HOLD = True)</th>\n",
       "    </tr>\n",
       "  </thead>\n",
       "  <tbody>\n",
       "    <tr>\n",
       "      <th>317449</th>\n",
       "      <td>0.077706</td>\n",
       "      <td>0.049231</td>\n",
       "      <td>BUY</td>\n",
       "      <td>BUY</td>\n",
       "      <td>True</td>\n",
       "    </tr>\n",
       "    <tr>\n",
       "      <th>50762X</th>\n",
       "      <td>0.043513</td>\n",
       "      <td>-0.008060</td>\n",
       "      <td>BUY</td>\n",
       "      <td>SELL</td>\n",
       "      <td>False</td>\n",
       "    </tr>\n",
       "    <tr>\n",
       "      <th>317381</th>\n",
       "      <td>0.042808</td>\n",
       "      <td>0.022700</td>\n",
       "      <td>BUY</td>\n",
       "      <td>BUY</td>\n",
       "      <td>True</td>\n",
       "    </tr>\n",
       "    <tr>\n",
       "      <th>152204</th>\n",
       "      <td>0.037145</td>\n",
       "      <td>0.005828</td>\n",
       "      <td>BUY</td>\n",
       "      <td>BUY</td>\n",
       "      <td>True</td>\n",
       "    </tr>\n",
       "    <tr>\n",
       "      <th>317446</th>\n",
       "      <td>0.035047</td>\n",
       "      <td>-0.032755</td>\n",
       "      <td>BUY</td>\n",
       "      <td>SELL</td>\n",
       "      <td>False</td>\n",
       "    </tr>\n",
       "    <tr>\n",
       "      <th>152162</th>\n",
       "      <td>-0.036368</td>\n",
       "      <td>0.004180</td>\n",
       "      <td>SELL</td>\n",
       "      <td>BUY</td>\n",
       "      <td>False</td>\n",
       "    </tr>\n",
       "    <tr>\n",
       "      <th>923904</th>\n",
       "      <td>-0.036929</td>\n",
       "      <td>-0.027286</td>\n",
       "      <td>SELL</td>\n",
       "      <td>SELL</td>\n",
       "      <td>True</td>\n",
       "    </tr>\n",
       "    <tr>\n",
       "      <th>930523</th>\n",
       "      <td>-0.048335</td>\n",
       "      <td>-0.023102</td>\n",
       "      <td>SELL</td>\n",
       "      <td>SELL</td>\n",
       "      <td>True</td>\n",
       "    </tr>\n",
       "    <tr>\n",
       "      <th>950511</th>\n",
       "      <td>-0.053363</td>\n",
       "      <td>0.054054</td>\n",
       "      <td>SELL</td>\n",
       "      <td>BUY</td>\n",
       "      <td>False</td>\n",
       "    </tr>\n",
       "    <tr>\n",
       "      <th>916481</th>\n",
       "      <td>-0.064689</td>\n",
       "      <td>-0.023150</td>\n",
       "      <td>SELL</td>\n",
       "      <td>SELL</td>\n",
       "      <td>True</td>\n",
       "    </tr>\n",
       "  </tbody>\n",
       "</table>\n",
       "</div>"
      ],
      "text/plain": [
       "       predicted % chg  actual % chg predicted action proper action  \\\n",
       "317449        0.077706      0.049231              BUY           BUY   \n",
       "50762X        0.043513     -0.008060              BUY          SELL   \n",
       "317381        0.042808      0.022700              BUY           BUY   \n",
       "152204        0.037145      0.005828              BUY           BUY   \n",
       "317446        0.035047     -0.032755              BUY          SELL   \n",
       "152162       -0.036368      0.004180             SELL           BUY   \n",
       "923904       -0.036929     -0.027286             SELL          SELL   \n",
       "930523       -0.048335     -0.023102             SELL          SELL   \n",
       "950511       -0.053363      0.054054             SELL           BUY   \n",
       "916481       -0.064689     -0.023150             SELL          SELL   \n",
       "\n",
       "       ACCURATE (HOLD = True)  \n",
       "317449                   True  \n",
       "50762X                  False  \n",
       "317381                   True  \n",
       "152204                   True  \n",
       "317446                  False  \n",
       "152162                  False  \n",
       "923904                   True  \n",
       "930523                   True  \n",
       "950511                  False  \n",
       "916481                   True  "
      ]
     },
     "execution_count": 2,
     "metadata": {},
     "output_type": "execute_result"
    }
   ],
   "source": [
    "buy_sell = stock_selection.get_buy_sell(predictions)\n",
    "analysis = stock_selection.get_buy_sell_analysis(buy_sell)\n",
    "analysis\n"
   ]
  }
 ],
 "metadata": {
  "kernelspec": {
   "display_name": "Python 3",
   "language": "python",
   "name": "python3"
  },
  "language_info": {
   "codemirror_mode": {
    "name": "ipython",
    "version": 3
   },
   "file_extension": ".py",
   "mimetype": "text/x-python",
   "name": "python",
   "nbconvert_exporter": "python",
   "pygments_lexer": "ipython3",
   "version": "3.9.6"
  }
 },
 "nbformat": 4,
 "nbformat_minor": 5
}
