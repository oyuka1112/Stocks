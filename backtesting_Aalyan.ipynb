{
 "cells": [
  {
   "cell_type": "code",
   "execution_count": 1,
   "id": "34516119",
   "metadata": {},
   "outputs": [],
   "source": [
    "from diff_cap_packages import filters, stock_selection\n",
    "import pandas as pd\n",
    "import numpy as np\n",
    "import os\n",
    "from tqdm import tqdm\n",
    "%config Completer.use_jedi=False"
   ]
  },
  {
   "cell_type": "code",
   "execution_count": 2,
   "id": "b035bb76",
   "metadata": {},
   "outputs": [
    {
     "data": {
      "text/plain": [
       "(80,\n",
       " array(['2008-10-13', '2008-10-27', '2008-11-10', '2008-11-24',\n",
       "        '2008-12-09', '2008-12-23', '2009-01-08', '2009-01-23',\n",
       "        '2009-02-06', '2009-02-23', '2009-03-09', '2009-03-23',\n",
       "        '2009-04-06', '2009-04-21', '2009-05-05', '2009-05-19',\n",
       "        '2009-06-03', '2009-06-17', '2009-07-01', '2009-07-16',\n",
       "        '2009-07-30', '2009-08-13', '2009-08-27', '2009-09-11',\n",
       "        '2009-09-25', '2009-10-09', '2009-10-23', '2009-11-06',\n",
       "        '2009-11-20', '2009-12-07', '2009-12-21', '2010-01-06',\n",
       "        '2010-01-21', '2010-02-04', '2010-02-19', '2010-03-05',\n",
       "        '2010-03-19', '2010-04-05', '2010-04-19', '2010-05-03',\n",
       "        '2010-05-17', '2010-06-01', '2010-06-15', '2010-06-29',\n",
       "        '2010-07-14', '2010-07-28', '2010-08-11', '2010-08-25',\n",
       "        '2010-09-09', '2010-09-23', '2010-10-07', '2010-10-21',\n",
       "        '2010-11-04', '2010-11-18', '2010-12-03', '2010-12-17',\n",
       "        '2011-01-03', '2011-01-18', '2011-02-01', '2011-02-15',\n",
       "        '2011-03-02', '2011-03-16', '2011-03-30', '2011-04-13',\n",
       "        '2011-04-28', '2011-05-12', '2011-05-26', '2011-06-10',\n",
       "        '2011-06-24', '2011-07-11', '2011-07-25', '2011-08-08',\n",
       "        '2011-08-22', '2011-09-06', '2011-09-20', '2011-10-04',\n",
       "        '2011-10-18', '2011-11-01', '2011-11-15', '2011-11-30'],\n",
       "       dtype=object))"
      ]
     },
     "execution_count": 2,
     "metadata": {},
     "output_type": "execute_result"
    }
   ],
   "source": [
    "start_date_backtesting = \"2008-10-13\"\n",
    "end_date_backtesting = '2011-12-13'\n",
    "step_backtesting = 10\n",
    "\n",
    "dates = filters.prices.loc[start_date_backtesting:end_date_backtesting:step_backtesting].index.strftime(\"%Y-%m-%d\").values\n",
    "len(dates), dates"
   ]
  },
  {
   "cell_type": "code",
   "execution_count": 3,
   "id": "596094c5",
   "metadata": {},
   "outputs": [
    {
     "name": "stdout",
     "output_type": "stream",
     "text": [
      "--------------------\n",
      "[ 1/80 ]\n",
      "Starting: 2008-10-13. Using data from the previous 200 days to train.\n"
     ]
    },
    {
     "name": "stderr",
     "output_type": "stream",
     "text": [
      "100%|██████████| 77/77 [01:38<00:00,  1.29s/it]\n",
      "100%|██████████| 77/77 [00:00<00:00, 103.06it/s]"
     ]
    },
    {
     "name": "stdout",
     "output_type": "stream",
     "text": [
      "Predictions not detected. Calculating and saving...\n"
     ]
    },
    {
     "name": "stderr",
     "output_type": "stream",
     "text": [
      "\n",
      "100%|██████████| 77/77 [00:50<00:00,  1.53it/s]"
     ]
    },
    {
     "name": "stdout",
     "output_type": "stream",
     "text": [
      "Finished.\n",
      "--------------------\n",
      "--------------------\n",
      "[ 2/80 ]\n",
      "Starting: 2008-10-27. Using data from the previous 200 days to train.\n"
     ]
    },
    {
     "name": "stderr",
     "output_type": "stream",
     "text": [
      "\n",
      "100%|██████████| 77/77 [01:46<00:00,  1.38s/it]\n",
      "100%|██████████| 77/77 [00:00<00:00, 87.93it/s]"
     ]
    },
    {
     "name": "stdout",
     "output_type": "stream",
     "text": [
      "Predictions not detected. Calculating and saving...\n"
     ]
    },
    {
     "name": "stderr",
     "output_type": "stream",
     "text": [
      "\n",
      "100%|██████████| 77/77 [00:48<00:00,  1.58it/s]"
     ]
    },
    {
     "name": "stdout",
     "output_type": "stream",
     "text": [
      "Finished.\n",
      "--------------------\n",
      "--------------------\n",
      "[ 3/80 ]\n",
      "Starting: 2008-11-10. Using data from the previous 200 days to train.\n"
     ]
    },
    {
     "name": "stderr",
     "output_type": "stream",
     "text": [
      "\n",
      "100%|██████████| 77/77 [01:28<00:00,  1.15s/it]\n",
      "100%|██████████| 77/77 [00:00<00:00, 90.97it/s] \n"
     ]
    },
    {
     "name": "stdout",
     "output_type": "stream",
     "text": [
      "Predictions not detected. Calculating and saving...\n"
     ]
    },
    {
     "name": "stderr",
     "output_type": "stream",
     "text": [
      "100%|██████████| 77/77 [00:50<00:00,  1.53it/s]"
     ]
    },
    {
     "name": "stdout",
     "output_type": "stream",
     "text": [
      "Finished.\n",
      "--------------------\n",
      "--------------------\n",
      "[ 4/80 ]\n",
      "Starting: 2008-11-24. Using data from the previous 200 days to train.\n"
     ]
    },
    {
     "name": "stderr",
     "output_type": "stream",
     "text": [
      "\n",
      "100%|██████████| 77/77 [01:32<00:00,  1.21s/it]\n",
      "100%|██████████| 77/77 [00:01<00:00, 54.90it/s]\n"
     ]
    },
    {
     "name": "stdout",
     "output_type": "stream",
     "text": [
      "Predictions not detected. Calculating and saving...\n"
     ]
    },
    {
     "name": "stderr",
     "output_type": "stream",
     "text": [
      "100%|██████████| 77/77 [00:45<00:00,  1.70it/s]"
     ]
    },
    {
     "name": "stdout",
     "output_type": "stream",
     "text": [
      "Finished.\n",
      "--------------------\n",
      "--------------------\n",
      "[ 5/80 ]\n",
      "Starting: 2008-12-09. Using data from the previous 200 days to train.\n"
     ]
    },
    {
     "name": "stderr",
     "output_type": "stream",
     "text": [
      "\n",
      "100%|██████████| 77/77 [01:35<00:00,  1.24s/it]\n",
      "100%|██████████| 77/77 [00:00<00:00, 96.76it/s] \n"
     ]
    },
    {
     "name": "stdout",
     "output_type": "stream",
     "text": [
      "Predictions not detected. Calculating and saving...\n"
     ]
    },
    {
     "name": "stderr",
     "output_type": "stream",
     "text": [
      "100%|██████████| 77/77 [00:46<00:00,  1.67it/s]"
     ]
    },
    {
     "name": "stdout",
     "output_type": "stream",
     "text": [
      "Finished.\n",
      "--------------------\n",
      "--------------------\n",
      "[ 6/80 ]\n",
      "Starting: 2008-12-23. Using data from the previous 200 days to train.\n"
     ]
    },
    {
     "name": "stderr",
     "output_type": "stream",
     "text": [
      "\n",
      "100%|██████████| 77/77 [01:41<00:00,  1.32s/it]\n",
      "100%|██████████| 77/77 [00:00<00:00, 90.54it/s] \n"
     ]
    },
    {
     "name": "stdout",
     "output_type": "stream",
     "text": [
      "Predictions not detected. Calculating and saving...\n"
     ]
    },
    {
     "name": "stderr",
     "output_type": "stream",
     "text": [
      "100%|██████████| 77/77 [00:46<00:00,  1.66it/s]"
     ]
    },
    {
     "name": "stdout",
     "output_type": "stream",
     "text": [
      "Finished.\n",
      "--------------------\n",
      "--------------------\n",
      "[ 7/80 ]\n",
      "Starting: 2009-01-08. Using data from the previous 200 days to train.\n"
     ]
    },
    {
     "name": "stderr",
     "output_type": "stream",
     "text": [
      "\n",
      "100%|██████████| 77/77 [01:32<00:00,  1.20s/it]\n",
      "100%|██████████| 77/77 [00:00<00:00, 92.66it/s] \n"
     ]
    },
    {
     "name": "stdout",
     "output_type": "stream",
     "text": [
      "Predictions not detected. Calculating and saving...\n"
     ]
    },
    {
     "name": "stderr",
     "output_type": "stream",
     "text": [
      "100%|██████████| 77/77 [00:46<00:00,  1.65it/s]"
     ]
    },
    {
     "name": "stdout",
     "output_type": "stream",
     "text": [
      "Finished.\n",
      "--------------------\n",
      "--------------------\n",
      "[ 8/80 ]\n",
      "Starting: 2009-01-23. Using data from the previous 200 days to train.\n"
     ]
    },
    {
     "name": "stderr",
     "output_type": "stream",
     "text": [
      "\n",
      "100%|██████████| 77/77 [01:34<00:00,  1.22s/it]\n",
      "100%|██████████| 77/77 [00:00<00:00, 99.79it/s] "
     ]
    },
    {
     "name": "stdout",
     "output_type": "stream",
     "text": [
      "Predictions not detected. Calculating and saving...\n"
     ]
    },
    {
     "name": "stderr",
     "output_type": "stream",
     "text": [
      "\n",
      "100%|██████████| 77/77 [00:53<00:00,  1.43it/s]"
     ]
    },
    {
     "name": "stdout",
     "output_type": "stream",
     "text": [
      "Finished.\n",
      "--------------------\n",
      "--------------------\n",
      "[ 9/80 ]\n",
      "Starting: 2009-02-06. Using data from the previous 200 days to train.\n"
     ]
    },
    {
     "name": "stderr",
     "output_type": "stream",
     "text": [
      "\n",
      "100%|██████████| 77/77 [01:33<00:00,  1.21s/it]\n",
      "100%|██████████| 77/77 [00:01<00:00, 65.41it/s]\n"
     ]
    },
    {
     "name": "stdout",
     "output_type": "stream",
     "text": [
      "Predictions not detected. Calculating and saving...\n"
     ]
    },
    {
     "name": "stderr",
     "output_type": "stream",
     "text": [
      "100%|██████████| 77/77 [00:45<00:00,  1.68it/s]\n"
     ]
    },
    {
     "name": "stdout",
     "output_type": "stream",
     "text": [
      "Finished.\n",
      "--------------------\n",
      "--------------------\n",
      "[ 10/80 ]\n",
      "Starting: 2009-02-23. Using data from the previous 200 days to train.\n"
     ]
    },
    {
     "name": "stderr",
     "output_type": "stream",
     "text": [
      "100%|██████████| 77/77 [01:32<00:00,  1.21s/it]\n",
      "100%|██████████| 77/77 [00:00<00:00, 89.82it/s]"
     ]
    },
    {
     "name": "stdout",
     "output_type": "stream",
     "text": [
      "Predictions not detected. Calculating and saving...\n"
     ]
    },
    {
     "name": "stderr",
     "output_type": "stream",
     "text": [
      "\n",
      "100%|██████████| 77/77 [00:45<00:00,  1.70it/s]"
     ]
    },
    {
     "name": "stdout",
     "output_type": "stream",
     "text": [
      "Finished.\n",
      "--------------------\n",
      "--------------------\n",
      "[ 11/80 ]\n",
      "Starting: 2009-03-09. Using data from the previous 200 days to train.\n"
     ]
    },
    {
     "name": "stderr",
     "output_type": "stream",
     "text": [
      "\n",
      "100%|██████████| 77/77 [01:33<00:00,  1.21s/it]\n",
      "100%|██████████| 77/77 [00:00<00:00, 88.09it/s]"
     ]
    },
    {
     "name": "stdout",
     "output_type": "stream",
     "text": [
      "Predictions not detected. Calculating and saving...\n"
     ]
    },
    {
     "name": "stderr",
     "output_type": "stream",
     "text": [
      "\n",
      "100%|██████████| 77/77 [00:46<00:00,  1.67it/s]"
     ]
    },
    {
     "name": "stdout",
     "output_type": "stream",
     "text": [
      "Finished.\n",
      "--------------------\n",
      "--------------------\n",
      "[ 12/80 ]\n",
      "Starting: 2009-03-23. Using data from the previous 200 days to train.\n"
     ]
    },
    {
     "name": "stderr",
     "output_type": "stream",
     "text": [
      "\n",
      "100%|██████████| 77/77 [01:31<00:00,  1.18s/it]\n",
      "100%|██████████| 77/77 [00:00<00:00, 90.85it/s]"
     ]
    },
    {
     "name": "stdout",
     "output_type": "stream",
     "text": [
      "Predictions not detected. Calculating and saving...\n"
     ]
    },
    {
     "name": "stderr",
     "output_type": "stream",
     "text": [
      "\n",
      "100%|██████████| 77/77 [00:45<00:00,  1.69it/s]"
     ]
    },
    {
     "name": "stdout",
     "output_type": "stream",
     "text": [
      "Finished.\n",
      "--------------------\n",
      "--------------------\n",
      "[ 13/80 ]\n",
      "Starting: 2009-04-06. Using data from the previous 200 days to train.\n"
     ]
    },
    {
     "name": "stderr",
     "output_type": "stream",
     "text": [
      "\n",
      "100%|██████████| 77/77 [01:33<00:00,  1.22s/it]\n",
      "100%|██████████| 77/77 [00:00<00:00, 78.20it/s]\n"
     ]
    },
    {
     "name": "stdout",
     "output_type": "stream",
     "text": [
      "Predictions not detected. Calculating and saving...\n"
     ]
    },
    {
     "name": "stderr",
     "output_type": "stream",
     "text": [
      "100%|██████████| 77/77 [00:46<00:00,  1.65it/s]"
     ]
    },
    {
     "name": "stdout",
     "output_type": "stream",
     "text": [
      "Finished.\n",
      "--------------------\n",
      "--------------------\n",
      "[ 14/80 ]\n",
      "Starting: 2009-04-21. Using data from the previous 200 days to train.\n"
     ]
    },
    {
     "name": "stderr",
     "output_type": "stream",
     "text": [
      "\n",
      "100%|██████████| 77/77 [01:55<00:00,  1.50s/it]\n",
      "100%|██████████| 77/77 [00:01<00:00, 76.29it/s]\n"
     ]
    },
    {
     "name": "stdout",
     "output_type": "stream",
     "text": [
      "Predictions not detected. Calculating and saving...\n"
     ]
    },
    {
     "name": "stderr",
     "output_type": "stream",
     "text": [
      "100%|██████████| 77/77 [01:11<00:00,  1.08it/s]\n"
     ]
    },
    {
     "name": "stdout",
     "output_type": "stream",
     "text": [
      "Finished.\n",
      "--------------------\n",
      "--------------------\n",
      "[ 15/80 ]\n",
      "Starting: 2009-05-05. Using data from the previous 200 days to train.\n"
     ]
    },
    {
     "name": "stderr",
     "output_type": "stream",
     "text": [
      "100%|██████████| 77/77 [02:19<00:00,  1.82s/it]\n",
      "100%|██████████| 77/77 [00:00<00:00, 101.88it/s]"
     ]
    },
    {
     "name": "stdout",
     "output_type": "stream",
     "text": [
      "Predictions not detected. Calculating and saving...\n"
     ]
    },
    {
     "name": "stderr",
     "output_type": "stream",
     "text": [
      "\n",
      "100%|██████████| 77/77 [00:42<00:00,  1.80it/s]"
     ]
    },
    {
     "name": "stdout",
     "output_type": "stream",
     "text": [
      "Finished.\n",
      "--------------------\n",
      "--------------------\n",
      "[ 16/80 ]\n",
      "Starting: 2009-05-19. Using data from the previous 200 days to train.\n"
     ]
    },
    {
     "name": "stderr",
     "output_type": "stream",
     "text": [
      "\n",
      "100%|██████████| 77/77 [01:20<00:00,  1.04s/it]\n",
      "100%|██████████| 77/77 [00:00<00:00, 105.08it/s]"
     ]
    },
    {
     "name": "stdout",
     "output_type": "stream",
     "text": [
      "Predictions not detected. Calculating and saving...\n"
     ]
    },
    {
     "name": "stderr",
     "output_type": "stream",
     "text": [
      "\n",
      "100%|██████████| 77/77 [00:36<00:00,  2.13it/s]"
     ]
    },
    {
     "name": "stdout",
     "output_type": "stream",
     "text": [
      "Finished.\n",
      "--------------------\n",
      "--------------------\n",
      "[ 17/80 ]\n",
      "Starting: 2009-06-03. Using data from the previous 200 days to train.\n"
     ]
    },
    {
     "name": "stderr",
     "output_type": "stream",
     "text": [
      "\n",
      "100%|██████████| 77/77 [01:13<00:00,  1.05it/s]\n",
      "100%|██████████| 77/77 [00:00<00:00, 95.00it/s] "
     ]
    },
    {
     "name": "stdout",
     "output_type": "stream",
     "text": [
      "Predictions not detected. Calculating and saving...\n"
     ]
    },
    {
     "name": "stderr",
     "output_type": "stream",
     "text": [
      "\n",
      "100%|██████████| 77/77 [00:39<00:00,  1.96it/s]"
     ]
    },
    {
     "name": "stdout",
     "output_type": "stream",
     "text": [
      "Finished.\n",
      "--------------------\n",
      "--------------------\n",
      "[ 18/80 ]\n",
      "Starting: 2009-06-17. Using data from the previous 200 days to train.\n"
     ]
    },
    {
     "name": "stderr",
     "output_type": "stream",
     "text": [
      "\n",
      "100%|██████████| 78/78 [01:16<00:00,  1.03it/s]\n",
      "100%|██████████| 78/78 [00:00<00:00, 90.15it/s]\n"
     ]
    },
    {
     "name": "stdout",
     "output_type": "stream",
     "text": [
      "Predictions not detected. Calculating and saving...\n"
     ]
    },
    {
     "name": "stderr",
     "output_type": "stream",
     "text": [
      "100%|██████████| 78/78 [00:36<00:00,  2.12it/s]\n"
     ]
    },
    {
     "name": "stdout",
     "output_type": "stream",
     "text": [
      "Finished.\n",
      "--------------------\n",
      "--------------------\n",
      "[ 19/80 ]\n",
      "Starting: 2009-07-01. Using data from the previous 200 days to train.\n"
     ]
    },
    {
     "name": "stderr",
     "output_type": "stream",
     "text": [
      "100%|██████████| 78/78 [01:13<00:00,  1.07it/s]\n",
      "100%|██████████| 78/78 [00:00<00:00, 113.43it/s]"
     ]
    },
    {
     "name": "stdout",
     "output_type": "stream",
     "text": [
      "Predictions not detected. Calculating and saving...\n"
     ]
    },
    {
     "name": "stderr",
     "output_type": "stream",
     "text": [
      "\n",
      "100%|██████████| 78/78 [00:37<00:00,  2.09it/s]"
     ]
    },
    {
     "name": "stdout",
     "output_type": "stream",
     "text": [
      "Finished.\n",
      "--------------------\n",
      "--------------------\n",
      "[ 20/80 ]\n",
      "Starting: 2009-07-16. Using data from the previous 200 days to train.\n"
     ]
    },
    {
     "name": "stderr",
     "output_type": "stream",
     "text": [
      "\n",
      "100%|██████████| 78/78 [01:13<00:00,  1.06it/s]\n",
      "100%|██████████| 78/78 [00:00<00:00, 83.30it/s] "
     ]
    },
    {
     "name": "stdout",
     "output_type": "stream",
     "text": [
      "Predictions not detected. Calculating and saving...\n"
     ]
    },
    {
     "name": "stderr",
     "output_type": "stream",
     "text": [
      "\n",
      "100%|██████████| 78/78 [00:44<00:00,  1.75it/s]\n"
     ]
    },
    {
     "name": "stdout",
     "output_type": "stream",
     "text": [
      "Finished.\n",
      "--------------------\n",
      "--------------------\n",
      "[ 21/80 ]\n",
      "Starting: 2009-07-30. Using data from the previous 200 days to train.\n"
     ]
    },
    {
     "name": "stderr",
     "output_type": "stream",
     "text": [
      "100%|██████████| 78/78 [08:40<00:00,  6.67s/it]  \n",
      "100%|██████████| 78/78 [00:00<00:00, 100.55it/s]"
     ]
    },
    {
     "name": "stdout",
     "output_type": "stream",
     "text": [
      "Predictions not detected. Calculating and saving...\n"
     ]
    },
    {
     "name": "stderr",
     "output_type": "stream",
     "text": [
      "\n",
      "100%|██████████| 78/78 [00:38<00:00,  2.01it/s]\n"
     ]
    },
    {
     "name": "stdout",
     "output_type": "stream",
     "text": [
      "Finished.\n",
      "--------------------\n",
      "--------------------\n",
      "[ 22/80 ]\n",
      "Starting: 2009-08-13. Using data from the previous 200 days to train.\n"
     ]
    },
    {
     "name": "stderr",
     "output_type": "stream",
     "text": [
      "100%|██████████| 80/80 [01:16<00:00,  1.05it/s]\n",
      "100%|██████████| 80/80 [00:00<00:00, 101.73it/s]"
     ]
    },
    {
     "name": "stdout",
     "output_type": "stream",
     "text": [
      "Predictions not detected. Calculating and saving...\n"
     ]
    },
    {
     "name": "stderr",
     "output_type": "stream",
     "text": [
      "\n",
      "100%|██████████| 80/80 [00:37<00:00,  2.12it/s]\n"
     ]
    },
    {
     "name": "stdout",
     "output_type": "stream",
     "text": [
      "Finished.\n",
      "--------------------\n",
      "--------------------\n",
      "[ 23/80 ]\n",
      "Starting: 2009-08-27. Using data from the previous 200 days to train.\n"
     ]
    },
    {
     "name": "stderr",
     "output_type": "stream",
     "text": [
      "100%|██████████| 80/80 [01:12<00:00,  1.10it/s]\n",
      "100%|██████████| 80/80 [00:00<00:00, 96.48it/s] \n"
     ]
    },
    {
     "name": "stdout",
     "output_type": "stream",
     "text": [
      "Predictions not detected. Calculating and saving...\n"
     ]
    },
    {
     "name": "stderr",
     "output_type": "stream",
     "text": [
      "100%|██████████| 80/80 [00:39<00:00,  2.01it/s]\n"
     ]
    },
    {
     "name": "stdout",
     "output_type": "stream",
     "text": [
      "Finished.\n",
      "--------------------\n",
      "--------------------\n",
      "[ 24/80 ]\n",
      "Starting: 2009-09-11. Using data from the previous 200 days to train.\n"
     ]
    },
    {
     "name": "stderr",
     "output_type": "stream",
     "text": [
      "100%|██████████| 80/80 [01:15<00:00,  1.06it/s]\n",
      "100%|██████████| 80/80 [00:00<00:00, 102.72it/s]"
     ]
    },
    {
     "name": "stdout",
     "output_type": "stream",
     "text": [
      "Predictions not detected. Calculating and saving...\n"
     ]
    },
    {
     "name": "stderr",
     "output_type": "stream",
     "text": [
      "\n",
      "100%|██████████| 80/80 [00:42<00:00,  1.86it/s]\n"
     ]
    },
    {
     "name": "stdout",
     "output_type": "stream",
     "text": [
      "Finished.\n",
      "--------------------\n",
      "--------------------\n",
      "[ 25/80 ]\n",
      "Starting: 2009-09-25. Using data from the previous 200 days to train.\n"
     ]
    },
    {
     "name": "stderr",
     "output_type": "stream",
     "text": [
      "100%|██████████| 80/80 [01:13<00:00,  1.08it/s]\n",
      "100%|██████████| 80/80 [00:00<00:00, 94.16it/s]\n"
     ]
    },
    {
     "name": "stdout",
     "output_type": "stream",
     "text": [
      "Predictions not detected. Calculating and saving...\n"
     ]
    },
    {
     "name": "stderr",
     "output_type": "stream",
     "text": [
      "100%|██████████| 80/80 [00:38<00:00,  2.09it/s]\n"
     ]
    },
    {
     "name": "stdout",
     "output_type": "stream",
     "text": [
      "Finished.\n",
      "--------------------\n",
      "--------------------\n",
      "[ 26/80 ]\n",
      "Starting: 2009-10-09. Using data from the previous 200 days to train.\n"
     ]
    },
    {
     "name": "stderr",
     "output_type": "stream",
     "text": [
      "100%|██████████| 80/80 [01:13<00:00,  1.09it/s]\n",
      "100%|██████████| 80/80 [00:00<00:00, 91.94it/s] "
     ]
    },
    {
     "name": "stdout",
     "output_type": "stream",
     "text": [
      "Predictions not detected. Calculating and saving...\n"
     ]
    },
    {
     "name": "stderr",
     "output_type": "stream",
     "text": [
      "\n",
      "100%|██████████| 80/80 [00:37<00:00,  2.11it/s]\n"
     ]
    },
    {
     "name": "stdout",
     "output_type": "stream",
     "text": [
      "Finished.\n",
      "--------------------\n",
      "--------------------\n",
      "[ 27/80 ]\n",
      "Starting: 2009-10-23. Using data from the previous 200 days to train.\n"
     ]
    },
    {
     "name": "stderr",
     "output_type": "stream",
     "text": [
      "100%|██████████| 80/80 [01:15<00:00,  1.06it/s]\n",
      "100%|██████████| 80/80 [00:00<00:00, 113.90it/s]\n"
     ]
    },
    {
     "name": "stdout",
     "output_type": "stream",
     "text": [
      "Predictions not detected. Calculating and saving...\n"
     ]
    },
    {
     "name": "stderr",
     "output_type": "stream",
     "text": [
      "100%|██████████| 80/80 [00:37<00:00,  2.11it/s]"
     ]
    },
    {
     "name": "stdout",
     "output_type": "stream",
     "text": [
      "Finished.\n",
      "--------------------\n",
      "--------------------\n",
      "[ 28/80 ]\n",
      "Starting: 2009-11-06. Using data from the previous 200 days to train.\n"
     ]
    },
    {
     "name": "stderr",
     "output_type": "stream",
     "text": [
      "\n",
      "100%|██████████| 80/80 [01:18<00:00,  1.02it/s]\n",
      "100%|██████████| 80/80 [00:00<00:00, 94.19it/s]"
     ]
    },
    {
     "name": "stdout",
     "output_type": "stream",
     "text": [
      "Predictions not detected. Calculating and saving...\n"
     ]
    },
    {
     "name": "stderr",
     "output_type": "stream",
     "text": [
      "\n",
      "100%|██████████| 80/80 [00:41<00:00,  1.93it/s]"
     ]
    },
    {
     "name": "stdout",
     "output_type": "stream",
     "text": [
      "Finished.\n",
      "--------------------\n",
      "--------------------\n",
      "[ 29/80 ]\n",
      "Starting: 2009-11-20. Using data from the previous 200 days to train.\n"
     ]
    },
    {
     "name": "stderr",
     "output_type": "stream",
     "text": [
      "\n",
      "100%|██████████| 80/80 [01:20<00:00,  1.00s/it]\n",
      "100%|██████████| 80/80 [00:00<00:00, 99.80it/s] \n"
     ]
    },
    {
     "name": "stdout",
     "output_type": "stream",
     "text": [
      "Predictions not detected. Calculating and saving...\n"
     ]
    },
    {
     "name": "stderr",
     "output_type": "stream",
     "text": [
      "100%|██████████| 80/80 [00:38<00:00,  2.09it/s]"
     ]
    },
    {
     "name": "stdout",
     "output_type": "stream",
     "text": [
      "Finished.\n",
      "--------------------\n",
      "--------------------\n",
      "[ 30/80 ]\n",
      "Starting: 2009-12-07. Using data from the previous 200 days to train.\n"
     ]
    },
    {
     "name": "stderr",
     "output_type": "stream",
     "text": [
      "\n",
      "100%|██████████| 80/80 [01:15<00:00,  1.06it/s]\n",
      "100%|██████████| 80/80 [00:00<00:00, 93.51it/s]\n"
     ]
    },
    {
     "name": "stdout",
     "output_type": "stream",
     "text": [
      "Predictions not detected. Calculating and saving...\n"
     ]
    },
    {
     "name": "stderr",
     "output_type": "stream",
     "text": [
      "100%|██████████| 80/80 [00:41<00:00,  1.92it/s]\n"
     ]
    },
    {
     "name": "stdout",
     "output_type": "stream",
     "text": [
      "Finished.\n",
      "--------------------\n",
      "--------------------\n",
      "[ 31/80 ]\n",
      "Starting: 2009-12-21. Using data from the previous 200 days to train.\n"
     ]
    },
    {
     "name": "stderr",
     "output_type": "stream",
     "text": [
      "100%|██████████| 80/80 [01:19<00:00,  1.01it/s]\n",
      "100%|██████████| 80/80 [00:00<00:00, 109.76it/s]\n"
     ]
    },
    {
     "name": "stdout",
     "output_type": "stream",
     "text": [
      "Predictions not detected. Calculating and saving...\n"
     ]
    },
    {
     "name": "stderr",
     "output_type": "stream",
     "text": [
      "100%|██████████| 80/80 [00:37<00:00,  2.11it/s]\n"
     ]
    },
    {
     "name": "stdout",
     "output_type": "stream",
     "text": [
      "Finished.\n",
      "--------------------\n",
      "--------------------\n",
      "[ 32/80 ]\n",
      "Starting: 2010-01-06. Using data from the previous 200 days to train.\n"
     ]
    },
    {
     "name": "stderr",
     "output_type": "stream",
     "text": [
      "100%|██████████| 80/80 [01:14<00:00,  1.08it/s]\n",
      "100%|██████████| 80/80 [00:00<00:00, 120.02it/s]"
     ]
    },
    {
     "name": "stdout",
     "output_type": "stream",
     "text": [
      "Predictions not detected. Calculating and saving...\n"
     ]
    },
    {
     "name": "stderr",
     "output_type": "stream",
     "text": [
      "\n",
      "100%|██████████| 80/80 [00:38<00:00,  2.10it/s]"
     ]
    },
    {
     "name": "stdout",
     "output_type": "stream",
     "text": [
      "Finished.\n",
      "--------------------\n",
      "--------------------\n",
      "[ 33/80 ]\n",
      "Starting: 2010-01-21. Using data from the previous 200 days to train.\n"
     ]
    },
    {
     "name": "stderr",
     "output_type": "stream",
     "text": [
      "\n",
      "100%|██████████| 80/80 [01:15<00:00,  1.06it/s]\n",
      "100%|██████████| 80/80 [00:00<00:00, 100.04it/s]\n"
     ]
    },
    {
     "name": "stdout",
     "output_type": "stream",
     "text": [
      "Predictions not detected. Calculating and saving...\n"
     ]
    },
    {
     "name": "stderr",
     "output_type": "stream",
     "text": [
      "100%|██████████| 80/80 [00:44<00:00,  1.79it/s]\n"
     ]
    },
    {
     "name": "stdout",
     "output_type": "stream",
     "text": [
      "Finished.\n",
      "--------------------\n",
      "--------------------\n",
      "[ 34/80 ]\n",
      "Starting: 2010-02-04. Using data from the previous 200 days to train.\n"
     ]
    },
    {
     "name": "stderr",
     "output_type": "stream",
     "text": [
      "100%|██████████| 81/81 [01:29<00:00,  1.10s/it]\n",
      "100%|██████████| 81/81 [00:00<00:00, 99.83it/s] \n"
     ]
    },
    {
     "name": "stdout",
     "output_type": "stream",
     "text": [
      "Predictions not detected. Calculating and saving...\n"
     ]
    },
    {
     "name": "stderr",
     "output_type": "stream",
     "text": [
      "100%|██████████| 81/81 [00:38<00:00,  2.11it/s]\n"
     ]
    },
    {
     "name": "stdout",
     "output_type": "stream",
     "text": [
      "Finished.\n",
      "--------------------\n",
      "--------------------\n",
      "[ 35/80 ]\n",
      "Starting: 2010-02-19. Using data from the previous 200 days to train.\n"
     ]
    },
    {
     "name": "stderr",
     "output_type": "stream",
     "text": [
      "100%|██████████| 81/81 [01:35<00:00,  1.17s/it]\n",
      "100%|██████████| 81/81 [00:00<00:00, 97.48it/s] \n"
     ]
    },
    {
     "name": "stdout",
     "output_type": "stream",
     "text": [
      "Predictions not detected. Calculating and saving...\n"
     ]
    },
    {
     "name": "stderr",
     "output_type": "stream",
     "text": [
      "100%|██████████| 81/81 [00:44<00:00,  1.83it/s]"
     ]
    },
    {
     "name": "stdout",
     "output_type": "stream",
     "text": [
      "Finished.\n",
      "--------------------\n",
      "--------------------\n",
      "[ 36/80 ]\n",
      "Starting: 2010-03-05. Using data from the previous 200 days to train.\n"
     ]
    },
    {
     "name": "stderr",
     "output_type": "stream",
     "text": [
      "\n",
      "100%|██████████| 82/82 [01:18<00:00,  1.04it/s]\n",
      "100%|██████████| 82/82 [00:00<00:00, 103.83it/s]\n"
     ]
    },
    {
     "name": "stdout",
     "output_type": "stream",
     "text": [
      "Predictions not detected. Calculating and saving...\n"
     ]
    },
    {
     "name": "stderr",
     "output_type": "stream",
     "text": [
      "100%|██████████| 82/82 [00:40<00:00,  2.03it/s]\n"
     ]
    },
    {
     "name": "stdout",
     "output_type": "stream",
     "text": [
      "Finished.\n",
      "--------------------\n",
      "--------------------\n",
      "[ 37/80 ]\n",
      "Starting: 2010-03-19. Using data from the previous 200 days to train.\n"
     ]
    },
    {
     "name": "stderr",
     "output_type": "stream",
     "text": [
      "100%|██████████| 82/82 [01:22<00:00,  1.00s/it]\n",
      "100%|██████████| 82/82 [00:00<00:00, 100.28it/s]\n"
     ]
    },
    {
     "name": "stdout",
     "output_type": "stream",
     "text": [
      "Predictions not detected. Calculating and saving...\n"
     ]
    },
    {
     "name": "stderr",
     "output_type": "stream",
     "text": [
      "100%|██████████| 82/82 [00:39<00:00,  2.07it/s]\n"
     ]
    },
    {
     "name": "stdout",
     "output_type": "stream",
     "text": [
      "Finished.\n",
      "--------------------\n",
      "--------------------\n",
      "[ 38/80 ]\n",
      "Starting: 2010-04-05. Using data from the previous 200 days to train.\n"
     ]
    },
    {
     "name": "stderr",
     "output_type": "stream",
     "text": [
      "100%|██████████| 82/82 [01:18<00:00,  1.05it/s]\n",
      "100%|██████████| 82/82 [00:01<00:00, 78.43it/s]"
     ]
    },
    {
     "name": "stdout",
     "output_type": "stream",
     "text": [
      "Predictions not detected. Calculating and saving...\n"
     ]
    },
    {
     "name": "stderr",
     "output_type": "stream",
     "text": [
      "\n",
      "100%|██████████| 82/82 [00:39<00:00,  2.06it/s]\n"
     ]
    },
    {
     "name": "stdout",
     "output_type": "stream",
     "text": [
      "Finished.\n",
      "--------------------\n",
      "--------------------\n",
      "[ 39/80 ]\n",
      "Starting: 2010-04-19. Using data from the previous 200 days to train.\n"
     ]
    },
    {
     "name": "stderr",
     "output_type": "stream",
     "text": [
      "100%|██████████| 82/82 [01:16<00:00,  1.07it/s]\n",
      "100%|██████████| 82/82 [00:00<00:00, 124.55it/s]"
     ]
    },
    {
     "name": "stdout",
     "output_type": "stream",
     "text": [
      "Predictions not detected. Calculating and saving...\n"
     ]
    },
    {
     "name": "stderr",
     "output_type": "stream",
     "text": [
      "\n",
      "100%|██████████| 82/82 [00:39<00:00,  2.09it/s]"
     ]
    },
    {
     "name": "stdout",
     "output_type": "stream",
     "text": [
      "Finished.\n",
      "--------------------\n",
      "--------------------\n",
      "[ 40/80 ]\n",
      "Starting: 2010-05-03. Using data from the previous 200 days to train.\n"
     ]
    },
    {
     "name": "stderr",
     "output_type": "stream",
     "text": [
      "\n",
      "100%|██████████| 82/82 [01:23<00:00,  1.01s/it]\n",
      "100%|██████████| 82/82 [00:00<00:00, 101.25it/s]\n"
     ]
    },
    {
     "name": "stdout",
     "output_type": "stream",
     "text": [
      "Predictions not detected. Calculating and saving...\n"
     ]
    },
    {
     "name": "stderr",
     "output_type": "stream",
     "text": [
      "100%|██████████| 82/82 [00:39<00:00,  2.05it/s]\n"
     ]
    },
    {
     "name": "stdout",
     "output_type": "stream",
     "text": [
      "Finished.\n",
      "--------------------\n",
      "--------------------\n",
      "[ 41/80 ]\n",
      "Starting: 2010-05-17. Using data from the previous 200 days to train.\n"
     ]
    },
    {
     "name": "stderr",
     "output_type": "stream",
     "text": [
      "100%|██████████| 82/82 [01:22<00:00,  1.01s/it]\n",
      "100%|██████████| 82/82 [00:00<00:00, 101.55it/s]\n"
     ]
    },
    {
     "name": "stdout",
     "output_type": "stream",
     "text": [
      "Predictions not detected. Calculating and saving...\n"
     ]
    },
    {
     "name": "stderr",
     "output_type": "stream",
     "text": [
      "100%|██████████| 82/82 [00:49<00:00,  1.65it/s]"
     ]
    },
    {
     "name": "stdout",
     "output_type": "stream",
     "text": [
      "Finished.\n",
      "--------------------\n",
      "--------------------\n",
      "[ 42/80 ]\n",
      "Starting: 2010-06-01. Using data from the previous 200 days to train.\n"
     ]
    },
    {
     "name": "stderr",
     "output_type": "stream",
     "text": [
      "\n",
      "100%|██████████| 82/82 [01:36<00:00,  1.18s/it]\n",
      "100%|██████████| 82/82 [00:01<00:00, 81.57it/s]\n"
     ]
    },
    {
     "name": "stdout",
     "output_type": "stream",
     "text": [
      "Predictions not detected. Calculating and saving...\n"
     ]
    },
    {
     "name": "stderr",
     "output_type": "stream",
     "text": [
      "100%|██████████| 82/82 [00:48<00:00,  1.70it/s]\n"
     ]
    },
    {
     "name": "stdout",
     "output_type": "stream",
     "text": [
      "Finished.\n",
      "--------------------\n",
      "--------------------\n",
      "[ 43/80 ]\n",
      "Starting: 2010-06-15. Using data from the previous 200 days to train.\n"
     ]
    },
    {
     "name": "stderr",
     "output_type": "stream",
     "text": [
      "100%|██████████| 82/82 [01:43<00:00,  1.27s/it]\n",
      "100%|██████████| 82/82 [00:00<00:00, 96.11it/s]"
     ]
    },
    {
     "name": "stdout",
     "output_type": "stream",
     "text": [
      "Predictions not detected. Calculating and saving...\n"
     ]
    },
    {
     "name": "stderr",
     "output_type": "stream",
     "text": [
      "\n",
      "100%|██████████| 82/82 [00:43<00:00,  1.89it/s]\n"
     ]
    },
    {
     "name": "stdout",
     "output_type": "stream",
     "text": [
      "Finished.\n",
      "--------------------\n",
      "--------------------\n",
      "[ 44/80 ]\n",
      "Starting: 2010-06-29. Using data from the previous 200 days to train.\n"
     ]
    },
    {
     "name": "stderr",
     "output_type": "stream",
     "text": [
      "100%|██████████| 83/83 [01:33<00:00,  1.13s/it]\n",
      "100%|██████████| 83/83 [00:00<00:00, 90.56it/s]\n"
     ]
    },
    {
     "name": "stdout",
     "output_type": "stream",
     "text": [
      "Predictions not detected. Calculating and saving...\n"
     ]
    },
    {
     "name": "stderr",
     "output_type": "stream",
     "text": [
      "100%|██████████| 83/83 [00:48<00:00,  1.70it/s]\n"
     ]
    },
    {
     "name": "stdout",
     "output_type": "stream",
     "text": [
      "Finished.\n",
      "--------------------\n",
      "--------------------\n",
      "[ 45/80 ]\n",
      "Starting: 2010-07-14. Using data from the previous 200 days to train.\n"
     ]
    },
    {
     "name": "stderr",
     "output_type": "stream",
     "text": [
      "100%|██████████| 83/83 [01:43<00:00,  1.25s/it]\n",
      "100%|██████████| 83/83 [00:00<00:00, 96.83it/s]"
     ]
    },
    {
     "name": "stdout",
     "output_type": "stream",
     "text": [
      "Predictions not detected. Calculating and saving...\n"
     ]
    },
    {
     "name": "stderr",
     "output_type": "stream",
     "text": [
      "\n",
      "100%|██████████| 83/83 [00:40<00:00,  2.06it/s]\n"
     ]
    },
    {
     "name": "stdout",
     "output_type": "stream",
     "text": [
      "Finished.\n",
      "--------------------\n",
      "--------------------\n",
      "[ 46/80 ]\n",
      "Starting: 2010-07-28. Using data from the previous 200 days to train.\n"
     ]
    },
    {
     "name": "stderr",
     "output_type": "stream",
     "text": [
      "100%|██████████| 83/83 [01:17<00:00,  1.07it/s]\n",
      "100%|██████████| 83/83 [00:01<00:00, 82.79it/s]\n"
     ]
    },
    {
     "name": "stdout",
     "output_type": "stream",
     "text": [
      "Predictions not detected. Calculating and saving...\n"
     ]
    },
    {
     "name": "stderr",
     "output_type": "stream",
     "text": [
      "100%|██████████| 83/83 [00:40<00:00,  2.07it/s]"
     ]
    },
    {
     "name": "stdout",
     "output_type": "stream",
     "text": [
      "Finished.\n",
      "--------------------\n",
      "--------------------\n",
      "[ 47/80 ]\n",
      "Starting: 2010-08-11. Using data from the previous 200 days to train.\n"
     ]
    },
    {
     "name": "stderr",
     "output_type": "stream",
     "text": [
      "\n",
      "100%|██████████| 85/85 [01:33<00:00,  1.11s/it]\n",
      "100%|██████████| 85/85 [00:01<00:00, 74.59it/s]"
     ]
    },
    {
     "name": "stdout",
     "output_type": "stream",
     "text": [
      "Predictions not detected. Calculating and saving...\n"
     ]
    },
    {
     "name": "stderr",
     "output_type": "stream",
     "text": [
      "\n",
      "100%|██████████| 85/85 [01:08<00:00,  1.24it/s]\n"
     ]
    },
    {
     "name": "stdout",
     "output_type": "stream",
     "text": [
      "Finished.\n",
      "--------------------\n",
      "--------------------\n",
      "[ 48/80 ]\n",
      "Starting: 2010-08-25. Using data from the previous 200 days to train.\n"
     ]
    },
    {
     "name": "stderr",
     "output_type": "stream",
     "text": [
      "100%|██████████| 85/85 [01:40<00:00,  1.18s/it]\n",
      "100%|██████████| 85/85 [00:00<00:00, 119.03it/s]\n"
     ]
    },
    {
     "name": "stdout",
     "output_type": "stream",
     "text": [
      "Predictions not detected. Calculating and saving...\n"
     ]
    },
    {
     "name": "stderr",
     "output_type": "stream",
     "text": [
      "100%|██████████| 85/85 [00:41<00:00,  2.05it/s]"
     ]
    },
    {
     "name": "stdout",
     "output_type": "stream",
     "text": [
      "Finished.\n",
      "--------------------\n",
      "--------------------\n",
      "[ 49/80 ]\n",
      "Starting: 2010-09-09. Using data from the previous 200 days to train.\n"
     ]
    },
    {
     "name": "stderr",
     "output_type": "stream",
     "text": [
      "\n",
      "100%|██████████| 85/85 [01:20<00:00,  1.05it/s]\n",
      "100%|██████████| 85/85 [00:01<00:00, 73.32it/s]\n"
     ]
    },
    {
     "name": "stdout",
     "output_type": "stream",
     "text": [
      "Predictions not detected. Calculating and saving...\n"
     ]
    },
    {
     "name": "stderr",
     "output_type": "stream",
     "text": [
      "100%|██████████| 85/85 [00:42<00:00,  1.98it/s]"
     ]
    },
    {
     "name": "stdout",
     "output_type": "stream",
     "text": [
      "Finished.\n",
      "--------------------\n",
      "--------------------\n",
      "[ 50/80 ]\n",
      "Starting: 2010-09-23. Using data from the previous 200 days to train.\n"
     ]
    },
    {
     "name": "stderr",
     "output_type": "stream",
     "text": [
      "\n",
      "100%|██████████| 85/85 [01:30<00:00,  1.07s/it]\n",
      "100%|██████████| 85/85 [00:00<00:00, 98.32it/s] "
     ]
    },
    {
     "name": "stdout",
     "output_type": "stream",
     "text": [
      "Predictions not detected. Calculating and saving...\n"
     ]
    },
    {
     "name": "stderr",
     "output_type": "stream",
     "text": [
      "\n",
      "100%|██████████| 85/85 [00:46<00:00,  1.81it/s]"
     ]
    },
    {
     "name": "stdout",
     "output_type": "stream",
     "text": [
      "Finished.\n",
      "--------------------\n",
      "--------------------\n",
      "[ 51/80 ]\n",
      "Starting: 2010-10-07. Using data from the previous 200 days to train.\n"
     ]
    },
    {
     "name": "stderr",
     "output_type": "stream",
     "text": [
      "\n",
      "100%|██████████| 85/85 [01:21<00:00,  1.04it/s]\n",
      "100%|██████████| 85/85 [00:00<00:00, 96.94it/s] "
     ]
    },
    {
     "name": "stdout",
     "output_type": "stream",
     "text": [
      "Predictions not detected. Calculating and saving...\n"
     ]
    },
    {
     "name": "stderr",
     "output_type": "stream",
     "text": [
      "\n",
      "100%|██████████| 85/85 [00:47<00:00,  1.80it/s]\n"
     ]
    },
    {
     "name": "stdout",
     "output_type": "stream",
     "text": [
      "Finished.\n",
      "--------------------\n",
      "--------------------\n",
      "[ 52/80 ]\n",
      "Starting: 2010-10-21. Using data from the previous 200 days to train.\n"
     ]
    },
    {
     "name": "stderr",
     "output_type": "stream",
     "text": [
      "100%|██████████| 85/85 [01:22<00:00,  1.03it/s]\n",
      "100%|██████████| 85/85 [00:01<00:00, 77.90it/s]\n"
     ]
    },
    {
     "name": "stdout",
     "output_type": "stream",
     "text": [
      "Predictions not detected. Calculating and saving...\n"
     ]
    },
    {
     "name": "stderr",
     "output_type": "stream",
     "text": [
      "100%|██████████| 85/85 [00:41<00:00,  2.03it/s]"
     ]
    },
    {
     "name": "stdout",
     "output_type": "stream",
     "text": [
      "Finished.\n",
      "--------------------\n",
      "--------------------\n",
      "[ 53/80 ]\n",
      "Starting: 2010-11-04. Using data from the previous 200 days to train.\n"
     ]
    },
    {
     "name": "stderr",
     "output_type": "stream",
     "text": [
      "\n",
      "100%|██████████| 85/85 [01:22<00:00,  1.02it/s]\n",
      "100%|██████████| 85/85 [00:00<00:00, 97.10it/s] "
     ]
    },
    {
     "name": "stdout",
     "output_type": "stream",
     "text": [
      "Predictions not detected. Calculating and saving...\n"
     ]
    },
    {
     "name": "stderr",
     "output_type": "stream",
     "text": [
      "\n",
      "100%|██████████| 85/85 [00:40<00:00,  2.10it/s]"
     ]
    },
    {
     "name": "stdout",
     "output_type": "stream",
     "text": [
      "Finished.\n",
      "--------------------\n",
      "--------------------\n",
      "[ 54/80 ]\n",
      "Starting: 2010-11-18. Using data from the previous 200 days to train.\n"
     ]
    },
    {
     "name": "stderr",
     "output_type": "stream",
     "text": [
      "\n",
      "100%|██████████| 85/85 [01:21<00:00,  1.04it/s]\n",
      "100%|██████████| 85/85 [00:01<00:00, 79.80it/s]"
     ]
    },
    {
     "name": "stdout",
     "output_type": "stream",
     "text": [
      "Predictions not detected. Calculating and saving...\n"
     ]
    },
    {
     "name": "stderr",
     "output_type": "stream",
     "text": [
      "\n",
      "100%|██████████| 85/85 [00:45<00:00,  1.88it/s]"
     ]
    },
    {
     "name": "stdout",
     "output_type": "stream",
     "text": [
      "Finished.\n",
      "--------------------\n",
      "--------------------\n",
      "[ 55/80 ]\n",
      "Starting: 2010-12-03. Using data from the previous 200 days to train.\n"
     ]
    },
    {
     "name": "stderr",
     "output_type": "stream",
     "text": [
      "\n",
      "100%|██████████| 85/85 [01:20<00:00,  1.05it/s]\n",
      "100%|██████████| 85/85 [00:00<00:00, 86.39it/s]\n"
     ]
    },
    {
     "name": "stdout",
     "output_type": "stream",
     "text": [
      "Predictions not detected. Calculating and saving...\n"
     ]
    },
    {
     "name": "stderr",
     "output_type": "stream",
     "text": [
      "100%|██████████| 85/85 [00:41<00:00,  2.05it/s]"
     ]
    },
    {
     "name": "stdout",
     "output_type": "stream",
     "text": [
      "Finished.\n",
      "--------------------\n",
      "--------------------\n",
      "[ 56/80 ]\n",
      "Starting: 2010-12-17. Using data from the previous 200 days to train.\n"
     ]
    },
    {
     "name": "stderr",
     "output_type": "stream",
     "text": [
      "\n",
      "100%|██████████| 85/85 [01:23<00:00,  1.02it/s]\n",
      "100%|██████████| 85/85 [00:00<00:00, 97.78it/s] "
     ]
    },
    {
     "name": "stdout",
     "output_type": "stream",
     "text": [
      "Predictions not detected. Calculating and saving...\n"
     ]
    },
    {
     "name": "stderr",
     "output_type": "stream",
     "text": [
      "\n",
      "100%|██████████| 85/85 [01:09<00:00,  1.23it/s]"
     ]
    },
    {
     "name": "stdout",
     "output_type": "stream",
     "text": [
      "Finished.\n",
      "--------------------\n",
      "--------------------\n",
      "[ 57/80 ]\n",
      "Starting: 2011-01-03. Using data from the previous 200 days to train.\n"
     ]
    },
    {
     "name": "stderr",
     "output_type": "stream",
     "text": [
      "\n",
      "100%|██████████| 85/85 [01:38<00:00,  1.15s/it]\n",
      "100%|██████████| 85/85 [00:00<00:00, 103.21it/s]\n"
     ]
    },
    {
     "name": "stdout",
     "output_type": "stream",
     "text": [
      "Predictions not detected. Calculating and saving...\n"
     ]
    },
    {
     "name": "stderr",
     "output_type": "stream",
     "text": [
      "100%|██████████| 85/85 [00:57<00:00,  1.48it/s]"
     ]
    },
    {
     "name": "stdout",
     "output_type": "stream",
     "text": [
      "Finished.\n",
      "--------------------\n",
      "--------------------\n",
      "[ 58/80 ]\n",
      "Starting: 2011-01-18. Using data from the previous 200 days to train.\n"
     ]
    },
    {
     "name": "stderr",
     "output_type": "stream",
     "text": [
      "\n",
      "100%|██████████| 85/85 [01:40<00:00,  1.18s/it]\n",
      "100%|██████████| 85/85 [00:00<00:00, 97.19it/s] "
     ]
    },
    {
     "name": "stdout",
     "output_type": "stream",
     "text": [
      "Predictions not detected. Calculating and saving...\n"
     ]
    },
    {
     "name": "stderr",
     "output_type": "stream",
     "text": [
      "\n",
      "100%|██████████| 85/85 [00:42<00:00,  1.98it/s]"
     ]
    },
    {
     "name": "stdout",
     "output_type": "stream",
     "text": [
      "Finished.\n",
      "--------------------\n",
      "--------------------\n",
      "[ 59/80 ]\n",
      "Starting: 2011-02-01. Using data from the previous 200 days to train.\n"
     ]
    },
    {
     "name": "stderr",
     "output_type": "stream",
     "text": [
      "\n",
      "100%|██████████| 85/85 [01:19<00:00,  1.07it/s]\n",
      "100%|██████████| 85/85 [00:00<00:00, 109.72it/s]"
     ]
    },
    {
     "name": "stdout",
     "output_type": "stream",
     "text": [
      "Predictions not detected. Calculating and saving...\n"
     ]
    },
    {
     "name": "stderr",
     "output_type": "stream",
     "text": [
      "\n",
      "100%|██████████| 85/85 [00:41<00:00,  2.06it/s]"
     ]
    },
    {
     "name": "stdout",
     "output_type": "stream",
     "text": [
      "Finished.\n",
      "--------------------\n",
      "--------------------\n",
      "[ 60/80 ]\n",
      "Starting: 2011-02-15. Using data from the previous 200 days to train.\n"
     ]
    },
    {
     "name": "stderr",
     "output_type": "stream",
     "text": [
      "\n",
      "100%|██████████| 85/85 [01:48<00:00,  1.28s/it]\n",
      "100%|██████████| 85/85 [00:00<00:00, 89.19it/s]\n"
     ]
    },
    {
     "name": "stdout",
     "output_type": "stream",
     "text": [
      "Predictions not detected. Calculating and saving...\n"
     ]
    },
    {
     "name": "stderr",
     "output_type": "stream",
     "text": [
      "100%|██████████| 85/85 [00:55<00:00,  1.54it/s]"
     ]
    },
    {
     "name": "stdout",
     "output_type": "stream",
     "text": [
      "Finished.\n",
      "--------------------\n",
      "--------------------\n",
      "[ 61/80 ]\n",
      "Starting: 2011-03-02. Using data from the previous 200 days to train.\n"
     ]
    },
    {
     "name": "stderr",
     "output_type": "stream",
     "text": [
      "\n",
      "100%|██████████| 86/86 [01:21<00:00,  1.05it/s]\n",
      "100%|██████████| 86/86 [00:00<00:00, 103.56it/s]\n"
     ]
    },
    {
     "name": "stdout",
     "output_type": "stream",
     "text": [
      "Predictions not detected. Calculating and saving...\n"
     ]
    },
    {
     "name": "stderr",
     "output_type": "stream",
     "text": [
      "100%|██████████| 86/86 [00:41<00:00,  2.07it/s]\n"
     ]
    },
    {
     "name": "stdout",
     "output_type": "stream",
     "text": [
      "Finished.\n",
      "--------------------\n",
      "--------------------\n",
      "[ 62/80 ]\n",
      "Starting: 2011-03-16. Using data from the previous 200 days to train.\n"
     ]
    },
    {
     "name": "stderr",
     "output_type": "stream",
     "text": [
      "100%|██████████| 86/86 [01:24<00:00,  1.01it/s]\n",
      "100%|██████████| 86/86 [00:00<00:00, 104.50it/s]\n"
     ]
    },
    {
     "name": "stdout",
     "output_type": "stream",
     "text": [
      "Predictions not detected. Calculating and saving...\n"
     ]
    },
    {
     "name": "stderr",
     "output_type": "stream",
     "text": [
      "100%|██████████| 86/86 [00:47<00:00,  1.79it/s]\n"
     ]
    },
    {
     "name": "stdout",
     "output_type": "stream",
     "text": [
      "Finished.\n",
      "--------------------\n",
      "--------------------\n",
      "[ 63/80 ]\n",
      "Starting: 2011-03-30. Using data from the previous 200 days to train.\n"
     ]
    },
    {
     "name": "stderr",
     "output_type": "stream",
     "text": [
      "100%|██████████| 87/87 [02:04<00:00,  1.43s/it]\n",
      "100%|██████████| 87/87 [00:00<00:00, 93.73it/s] \n"
     ]
    },
    {
     "name": "stdout",
     "output_type": "stream",
     "text": [
      "Predictions not detected. Calculating and saving...\n"
     ]
    },
    {
     "name": "stderr",
     "output_type": "stream",
     "text": [
      "100%|██████████| 87/87 [00:50<00:00,  1.74it/s]"
     ]
    },
    {
     "name": "stdout",
     "output_type": "stream",
     "text": [
      "Finished.\n",
      "--------------------\n",
      "--------------------\n",
      "[ 64/80 ]\n",
      "Starting: 2011-04-13. Using data from the previous 200 days to train.\n"
     ]
    },
    {
     "name": "stderr",
     "output_type": "stream",
     "text": [
      "\n",
      "100%|██████████| 87/87 [01:28<00:00,  1.02s/it]\n",
      "100%|██████████| 87/87 [00:00<00:00, 98.47it/s] \n"
     ]
    },
    {
     "name": "stdout",
     "output_type": "stream",
     "text": [
      "Predictions not detected. Calculating and saving...\n"
     ]
    },
    {
     "name": "stderr",
     "output_type": "stream",
     "text": [
      "100%|██████████| 87/87 [00:43<00:00,  2.01it/s]"
     ]
    },
    {
     "name": "stdout",
     "output_type": "stream",
     "text": [
      "Finished.\n",
      "--------------------\n",
      "--------------------\n",
      "[ 65/80 ]\n",
      "Starting: 2011-04-28. Using data from the previous 200 days to train.\n"
     ]
    },
    {
     "name": "stderr",
     "output_type": "stream",
     "text": [
      "\n",
      "100%|██████████| 87/87 [01:23<00:00,  1.04it/s]\n",
      "100%|██████████| 87/87 [00:00<00:00, 95.60it/s]\n"
     ]
    },
    {
     "name": "stdout",
     "output_type": "stream",
     "text": [
      "Predictions not detected. Calculating and saving...\n"
     ]
    },
    {
     "name": "stderr",
     "output_type": "stream",
     "text": [
      "100%|██████████| 87/87 [00:47<00:00,  1.82it/s]\n"
     ]
    },
    {
     "name": "stdout",
     "output_type": "stream",
     "text": [
      "Finished.\n",
      "--------------------\n",
      "--------------------\n",
      "[ 66/80 ]\n",
      "Starting: 2011-05-12. Using data from the previous 200 days to train.\n"
     ]
    },
    {
     "name": "stderr",
     "output_type": "stream",
     "text": [
      "100%|██████████| 87/87 [01:24<00:00,  1.03it/s]\n",
      "100%|██████████| 87/87 [00:00<00:00, 96.97it/s]\n"
     ]
    },
    {
     "name": "stdout",
     "output_type": "stream",
     "text": [
      "Predictions not detected. Calculating and saving...\n"
     ]
    },
    {
     "name": "stderr",
     "output_type": "stream",
     "text": [
      "100%|██████████| 87/87 [00:51<00:00,  1.70it/s]"
     ]
    },
    {
     "name": "stdout",
     "output_type": "stream",
     "text": [
      "Finished.\n",
      "--------------------\n",
      "--------------------\n",
      "[ 67/80 ]\n",
      "Starting: 2011-05-26. Using data from the previous 200 days to train.\n"
     ]
    },
    {
     "name": "stderr",
     "output_type": "stream",
     "text": [
      "\n",
      "100%|██████████| 87/87 [01:26<00:00,  1.00it/s]\n",
      "100%|██████████| 87/87 [00:00<00:00, 99.70it/s] \n"
     ]
    },
    {
     "name": "stdout",
     "output_type": "stream",
     "text": [
      "Predictions not detected. Calculating and saving...\n"
     ]
    },
    {
     "name": "stderr",
     "output_type": "stream",
     "text": [
      "100%|██████████| 87/87 [00:41<00:00,  2.09it/s]\n"
     ]
    },
    {
     "name": "stdout",
     "output_type": "stream",
     "text": [
      "Finished.\n",
      "--------------------\n",
      "--------------------\n",
      "[ 68/80 ]\n",
      "Starting: 2011-06-10. Using data from the previous 200 days to train.\n"
     ]
    },
    {
     "name": "stderr",
     "output_type": "stream",
     "text": [
      "100%|██████████| 87/87 [01:22<00:00,  1.06it/s]\n",
      "100%|██████████| 87/87 [00:00<00:00, 90.23it/s]\n"
     ]
    },
    {
     "name": "stdout",
     "output_type": "stream",
     "text": [
      "Predictions not detected. Calculating and saving...\n"
     ]
    },
    {
     "name": "stderr",
     "output_type": "stream",
     "text": [
      "100%|██████████| 87/87 [00:42<00:00,  2.05it/s]"
     ]
    },
    {
     "name": "stdout",
     "output_type": "stream",
     "text": [
      "Finished.\n",
      "--------------------\n",
      "--------------------\n",
      "[ 69/80 ]\n",
      "Starting: 2011-06-24. Using data from the previous 200 days to train.\n"
     ]
    },
    {
     "name": "stderr",
     "output_type": "stream",
     "text": [
      "\n",
      "100%|██████████| 87/87 [01:22<00:00,  1.06it/s]\n",
      "100%|██████████| 87/87 [00:00<00:00, 101.64it/s]\n"
     ]
    },
    {
     "name": "stdout",
     "output_type": "stream",
     "text": [
      "Predictions not detected. Calculating and saving...\n"
     ]
    },
    {
     "name": "stderr",
     "output_type": "stream",
     "text": [
      "100%|██████████| 87/87 [00:42<00:00,  2.06it/s]\n"
     ]
    },
    {
     "name": "stdout",
     "output_type": "stream",
     "text": [
      "Finished.\n",
      "--------------------\n",
      "--------------------\n",
      "[ 70/80 ]\n",
      "Starting: 2011-07-11. Using data from the previous 200 days to train.\n"
     ]
    },
    {
     "name": "stderr",
     "output_type": "stream",
     "text": [
      "100%|██████████| 87/87 [01:26<00:00,  1.00it/s]\n",
      "100%|██████████| 87/87 [00:00<00:00, 99.26it/s] "
     ]
    },
    {
     "name": "stdout",
     "output_type": "stream",
     "text": [
      "Predictions not detected. Calculating and saving...\n"
     ]
    },
    {
     "name": "stderr",
     "output_type": "stream",
     "text": [
      "\n",
      "100%|██████████| 87/87 [00:40<00:00,  2.14it/s]\n"
     ]
    },
    {
     "name": "stdout",
     "output_type": "stream",
     "text": [
      "Finished.\n",
      "--------------------\n",
      "--------------------\n",
      "[ 71/80 ]\n",
      "Starting: 2011-07-25. Using data from the previous 200 days to train.\n"
     ]
    },
    {
     "name": "stderr",
     "output_type": "stream",
     "text": [
      "100%|██████████| 87/87 [01:22<00:00,  1.05it/s]\n",
      "100%|██████████| 87/87 [00:00<00:00, 120.81it/s]\n"
     ]
    },
    {
     "name": "stdout",
     "output_type": "stream",
     "text": [
      "Predictions not detected. Calculating and saving...\n"
     ]
    },
    {
     "name": "stderr",
     "output_type": "stream",
     "text": [
      "100%|██████████| 87/87 [00:42<00:00,  2.04it/s]"
     ]
    },
    {
     "name": "stdout",
     "output_type": "stream",
     "text": [
      "Finished.\n",
      "--------------------\n",
      "--------------------\n",
      "[ 72/80 ]\n",
      "Starting: 2011-08-08. Using data from the previous 200 days to train.\n"
     ]
    },
    {
     "name": "stderr",
     "output_type": "stream",
     "text": [
      "\n",
      "100%|██████████| 87/87 [01:23<00:00,  1.05it/s]\n",
      "100%|██████████| 87/87 [00:00<00:00, 97.09it/s]"
     ]
    },
    {
     "name": "stdout",
     "output_type": "stream",
     "text": [
      "Predictions not detected. Calculating and saving...\n"
     ]
    },
    {
     "name": "stderr",
     "output_type": "stream",
     "text": [
      "\n",
      "100%|██████████| 87/87 [00:41<00:00,  2.08it/s]"
     ]
    },
    {
     "name": "stdout",
     "output_type": "stream",
     "text": [
      "Finished.\n",
      "--------------------\n",
      "--------------------\n",
      "[ 73/80 ]\n",
      "Starting: 2011-08-22. Using data from the previous 200 days to train.\n"
     ]
    },
    {
     "name": "stderr",
     "output_type": "stream",
     "text": [
      "\n",
      "100%|██████████| 87/87 [01:27<00:00,  1.01s/it]\n",
      "100%|██████████| 87/87 [00:00<00:00, 90.28it/s]"
     ]
    },
    {
     "name": "stdout",
     "output_type": "stream",
     "text": [
      "Predictions not detected. Calculating and saving...\n"
     ]
    },
    {
     "name": "stderr",
     "output_type": "stream",
     "text": [
      "\n",
      "100%|██████████| 87/87 [00:42<00:00,  2.06it/s]"
     ]
    },
    {
     "name": "stdout",
     "output_type": "stream",
     "text": [
      "Finished.\n",
      "--------------------\n",
      "--------------------\n",
      "[ 74/80 ]\n",
      "Starting: 2011-09-06. Using data from the previous 200 days to train.\n"
     ]
    },
    {
     "name": "stderr",
     "output_type": "stream",
     "text": [
      "\n",
      "100%|██████████| 87/87 [01:23<00:00,  1.04it/s]\n",
      "100%|██████████| 87/87 [00:00<00:00, 103.89it/s]\n"
     ]
    },
    {
     "name": "stdout",
     "output_type": "stream",
     "text": [
      "Predictions not detected. Calculating and saving...\n"
     ]
    },
    {
     "name": "stderr",
     "output_type": "stream",
     "text": [
      "100%|██████████| 87/87 [00:41<00:00,  2.09it/s]\n"
     ]
    },
    {
     "name": "stdout",
     "output_type": "stream",
     "text": [
      "Finished.\n",
      "--------------------\n",
      "--------------------\n",
      "[ 75/80 ]\n",
      "Starting: 2011-09-20. Using data from the previous 200 days to train.\n"
     ]
    },
    {
     "name": "stderr",
     "output_type": "stream",
     "text": [
      "100%|██████████| 87/87 [01:22<00:00,  1.06it/s]\n",
      "100%|██████████| 87/87 [00:00<00:00, 92.01it/s]\n"
     ]
    },
    {
     "name": "stdout",
     "output_type": "stream",
     "text": [
      "Predictions not detected. Calculating and saving...\n"
     ]
    },
    {
     "name": "stderr",
     "output_type": "stream",
     "text": [
      "100%|██████████| 87/87 [00:42<00:00,  2.04it/s]\n"
     ]
    },
    {
     "name": "stdout",
     "output_type": "stream",
     "text": [
      "Finished.\n",
      "--------------------\n",
      "--------------------\n",
      "[ 76/80 ]\n",
      "Starting: 2011-10-04. Using data from the previous 200 days to train.\n"
     ]
    },
    {
     "name": "stderr",
     "output_type": "stream",
     "text": [
      "100%|██████████| 87/87 [01:21<00:00,  1.07it/s]\n",
      "100%|██████████| 87/87 [00:00<00:00, 97.75it/s]\n"
     ]
    },
    {
     "name": "stdout",
     "output_type": "stream",
     "text": [
      "Predictions not detected. Calculating and saving...\n"
     ]
    },
    {
     "name": "stderr",
     "output_type": "stream",
     "text": [
      "100%|██████████| 87/87 [00:42<00:00,  2.04it/s]"
     ]
    },
    {
     "name": "stdout",
     "output_type": "stream",
     "text": [
      "Finished.\n",
      "--------------------\n",
      "--------------------\n",
      "[ 77/80 ]\n",
      "Starting: 2011-10-18. Using data from the previous 200 days to train.\n"
     ]
    },
    {
     "name": "stderr",
     "output_type": "stream",
     "text": [
      "\n",
      "100%|██████████| 87/87 [01:22<00:00,  1.05it/s]\n",
      "100%|██████████| 87/87 [00:00<00:00, 96.71it/s] \n"
     ]
    },
    {
     "name": "stdout",
     "output_type": "stream",
     "text": [
      "Predictions not detected. Calculating and saving...\n"
     ]
    },
    {
     "name": "stderr",
     "output_type": "stream",
     "text": [
      "100%|██████████| 87/87 [00:42<00:00,  2.06it/s]"
     ]
    },
    {
     "name": "stdout",
     "output_type": "stream",
     "text": [
      "Finished.\n",
      "--------------------\n",
      "--------------------\n",
      "[ 78/80 ]\n",
      "Starting: 2011-11-01. Using data from the previous 200 days to train.\n"
     ]
    },
    {
     "name": "stderr",
     "output_type": "stream",
     "text": [
      "\n",
      "100%|██████████| 87/87 [01:21<00:00,  1.07it/s]\n",
      "100%|██████████| 87/87 [00:00<00:00, 95.90it/s] "
     ]
    },
    {
     "name": "stdout",
     "output_type": "stream",
     "text": [
      "Predictions not detected. Calculating and saving...\n"
     ]
    },
    {
     "name": "stderr",
     "output_type": "stream",
     "text": [
      "\n",
      "100%|██████████| 87/87 [00:41<00:00,  2.08it/s]"
     ]
    },
    {
     "name": "stdout",
     "output_type": "stream",
     "text": [
      "Finished.\n",
      "--------------------\n",
      "--------------------\n",
      "[ 79/80 ]\n",
      "Starting: 2011-11-15. Using data from the previous 200 days to train.\n"
     ]
    },
    {
     "name": "stderr",
     "output_type": "stream",
     "text": [
      "\n",
      "100%|██████████| 87/87 [01:22<00:00,  1.05it/s]\n",
      "100%|██████████| 87/87 [00:00<00:00, 106.84it/s]\n"
     ]
    },
    {
     "name": "stdout",
     "output_type": "stream",
     "text": [
      "Predictions not detected. Calculating and saving...\n"
     ]
    },
    {
     "name": "stderr",
     "output_type": "stream",
     "text": [
      "100%|██████████| 87/87 [00:41<00:00,  2.08it/s]"
     ]
    },
    {
     "name": "stdout",
     "output_type": "stream",
     "text": [
      "Finished.\n",
      "--------------------\n",
      "--------------------\n",
      "[ 80/80 ]\n",
      "Starting: 2011-11-30. Using data from the previous 200 days to train.\n"
     ]
    },
    {
     "name": "stderr",
     "output_type": "stream",
     "text": [
      "\n",
      "100%|██████████| 87/87 [01:28<00:00,  1.02s/it]\n",
      "100%|██████████| 87/87 [00:00<00:00, 97.46it/s] "
     ]
    },
    {
     "name": "stdout",
     "output_type": "stream",
     "text": [
      "Predictions not detected. Calculating and saving...\n"
     ]
    },
    {
     "name": "stderr",
     "output_type": "stream",
     "text": [
      "\n",
      "100%|██████████| 87/87 [00:41<00:00,  2.08it/s]\n"
     ]
    },
    {
     "name": "stdout",
     "output_type": "stream",
     "text": [
      "Finished.\n",
      "--------------------\n"
     ]
    }
   ],
   "source": [
    "# Trains and saves models\n",
    "# Creates and saves predictions\n",
    "# Display the process in a somewhat nice format\n",
    "\n",
    "num_days_back = 200\n",
    "for index, end_date in enumerate(dates):\n",
    "    parent_path = os.path.join('models', end_date + \"-linear-\" + str(num_days_back))\n",
    "    \n",
    "    print(\"--------------------\")\n",
    "    print(\"[\", str(index + 1) + \"/\" + str(len(dates)), \"]\")\n",
    "    print(\"Starting:\", end_date + \".\", \"Using data from the previous\", num_days_back, \"days to train.\")\n",
    "    \n",
    "    if not os.path.isfile(os.path.join(parent_path, 'completed.txt')):\n",
    "        stock_selection.make_and_store_linear_models(end_date, num_days_back, force_overwrite=True)\n",
    "    else:\n",
    "        print(\"Model already trained and saved. Loading directly...\")\n",
    "    \n",
    "    lrmodels = stock_selection.load_models(end_date, num_days_back)\n",
    "    stock_selection.get_predictions(lrmodels, end_date, num_days_back)\n",
    "    \n",
    "    print(\"Finished.\")\n",
    "    print(\"--------------------\")"
   ]
  },
  {
   "cell_type": "code",
   "execution_count": 4,
   "id": "ad23ebc7",
   "metadata": {},
   "outputs": [
    {
     "name": "stderr",
     "output_type": "stream",
     "text": [
      "100%|██████████| 80/80 [00:01<00:00, 41.50it/s]\n"
     ]
    }
   ],
   "source": [
    "# Gets the predictions from the saved files.\n",
    "\n",
    "all_predictions = dict.fromkeys(dates)\n",
    "\n",
    "num_days_back = 200\n",
    "for end_date in tqdm(dates):\n",
    "    all_predictions[end_date] = stock_selection.get_predictions(None, end_date, num_days_back)"
   ]
  },
  {
   "cell_type": "code",
   "execution_count": 5,
   "id": "2b9e0c29",
   "metadata": {},
   "outputs": [],
   "source": [
    "all_returns = pd.DataFrame(index=dates)\n",
    "\n",
    "for date in dates:\n",
    "    predictions = all_predictions[date]\n",
    "    buy_sell = stock_selection.get_buy_sell(predictions)\n",
    "    all_returns.loc[date, \"actual next day returns\"] = stock_selection.get_actual_overall_pct_chg(buy_sell)"
   ]
  },
  {
   "cell_type": "code",
   "execution_count": 6,
   "id": "a2fcc684",
   "metadata": {},
   "outputs": [
    {
     "data": {
      "text/html": [
       "<div>\n",
       "<style scoped>\n",
       "    .dataframe tbody tr th:only-of-type {\n",
       "        vertical-align: middle;\n",
       "    }\n",
       "\n",
       "    .dataframe tbody tr th {\n",
       "        vertical-align: top;\n",
       "    }\n",
       "\n",
       "    .dataframe thead th {\n",
       "        text-align: right;\n",
       "    }\n",
       "</style>\n",
       "<table border=\"1\" class=\"dataframe\">\n",
       "  <thead>\n",
       "    <tr style=\"text-align: right;\">\n",
       "      <th></th>\n",
       "      <th>actual next day returns</th>\n",
       "      <th>cumulative returns</th>\n",
       "    </tr>\n",
       "  </thead>\n",
       "  <tbody>\n",
       "    <tr>\n",
       "      <th>2008-10-13</th>\n",
       "      <td>-0.006278</td>\n",
       "      <td>-0.006278</td>\n",
       "    </tr>\n",
       "    <tr>\n",
       "      <th>2008-10-27</th>\n",
       "      <td>-0.000193</td>\n",
       "      <td>-0.006470</td>\n",
       "    </tr>\n",
       "    <tr>\n",
       "      <th>2008-11-10</th>\n",
       "      <td>-0.000812</td>\n",
       "      <td>-0.007277</td>\n",
       "    </tr>\n",
       "    <tr>\n",
       "      <th>2008-11-24</th>\n",
       "      <td>-0.005309</td>\n",
       "      <td>-0.012548</td>\n",
       "    </tr>\n",
       "    <tr>\n",
       "      <th>2008-12-09</th>\n",
       "      <td>0.009638</td>\n",
       "      <td>-0.003030</td>\n",
       "    </tr>\n",
       "    <tr>\n",
       "      <th>2008-12-23</th>\n",
       "      <td>0.006198</td>\n",
       "      <td>0.003149</td>\n",
       "    </tr>\n",
       "    <tr>\n",
       "      <th>2009-01-08</th>\n",
       "      <td>-0.001498</td>\n",
       "      <td>0.001646</td>\n",
       "    </tr>\n",
       "    <tr>\n",
       "      <th>2009-01-23</th>\n",
       "      <td>-0.012886</td>\n",
       "      <td>-0.011260</td>\n",
       "    </tr>\n",
       "    <tr>\n",
       "      <th>2009-02-06</th>\n",
       "      <td>0.007337</td>\n",
       "      <td>-0.004007</td>\n",
       "    </tr>\n",
       "    <tr>\n",
       "      <th>2009-02-23</th>\n",
       "      <td>0.008879</td>\n",
       "      <td>0.004837</td>\n",
       "    </tr>\n",
       "    <tr>\n",
       "      <th>2009-03-09</th>\n",
       "      <td>-0.015651</td>\n",
       "      <td>-0.010890</td>\n",
       "    </tr>\n",
       "    <tr>\n",
       "      <th>2009-03-23</th>\n",
       "      <td>0.015879</td>\n",
       "      <td>0.004816</td>\n",
       "    </tr>\n",
       "    <tr>\n",
       "      <th>2009-04-06</th>\n",
       "      <td>0.018882</td>\n",
       "      <td>0.023789</td>\n",
       "    </tr>\n",
       "    <tr>\n",
       "      <th>2009-04-21</th>\n",
       "      <td>0.000000</td>\n",
       "      <td>0.023789</td>\n",
       "    </tr>\n",
       "    <tr>\n",
       "      <th>2009-05-05</th>\n",
       "      <td>0.013342</td>\n",
       "      <td>0.037448</td>\n",
       "    </tr>\n",
       "    <tr>\n",
       "      <th>2009-05-19</th>\n",
       "      <td>-0.005370</td>\n",
       "      <td>0.031877</td>\n",
       "    </tr>\n",
       "    <tr>\n",
       "      <th>2009-06-03</th>\n",
       "      <td>-0.004122</td>\n",
       "      <td>0.027624</td>\n",
       "    </tr>\n",
       "    <tr>\n",
       "      <th>2009-06-17</th>\n",
       "      <td>0.012933</td>\n",
       "      <td>0.040914</td>\n",
       "    </tr>\n",
       "    <tr>\n",
       "      <th>2009-07-01</th>\n",
       "      <td>0.009168</td>\n",
       "      <td>0.050456</td>\n",
       "    </tr>\n",
       "    <tr>\n",
       "      <th>2009-07-16</th>\n",
       "      <td>-0.009064</td>\n",
       "      <td>0.040935</td>\n",
       "    </tr>\n",
       "    <tr>\n",
       "      <th>2009-07-30</th>\n",
       "      <td>-0.006735</td>\n",
       "      <td>0.033924</td>\n",
       "    </tr>\n",
       "    <tr>\n",
       "      <th>2009-08-13</th>\n",
       "      <td>0.005592</td>\n",
       "      <td>0.039706</td>\n",
       "    </tr>\n",
       "    <tr>\n",
       "      <th>2009-08-27</th>\n",
       "      <td>-0.003040</td>\n",
       "      <td>0.036545</td>\n",
       "    </tr>\n",
       "    <tr>\n",
       "      <th>2009-09-11</th>\n",
       "      <td>0.007285</td>\n",
       "      <td>0.044097</td>\n",
       "    </tr>\n",
       "    <tr>\n",
       "      <th>2009-09-25</th>\n",
       "      <td>-0.008861</td>\n",
       "      <td>0.034846</td>\n",
       "    </tr>\n",
       "    <tr>\n",
       "      <th>2009-10-09</th>\n",
       "      <td>-0.007379</td>\n",
       "      <td>0.027210</td>\n",
       "    </tr>\n",
       "    <tr>\n",
       "      <th>2009-10-23</th>\n",
       "      <td>-0.010825</td>\n",
       "      <td>0.016090</td>\n",
       "    </tr>\n",
       "    <tr>\n",
       "      <th>2009-11-06</th>\n",
       "      <td>0.009110</td>\n",
       "      <td>0.025347</td>\n",
       "    </tr>\n",
       "    <tr>\n",
       "      <th>2009-11-20</th>\n",
       "      <td>0.003440</td>\n",
       "      <td>0.028874</td>\n",
       "    </tr>\n",
       "    <tr>\n",
       "      <th>2009-12-07</th>\n",
       "      <td>0.002184</td>\n",
       "      <td>0.031121</td>\n",
       "    </tr>\n",
       "    <tr>\n",
       "      <th>2009-12-21</th>\n",
       "      <td>0.002395</td>\n",
       "      <td>0.033591</td>\n",
       "    </tr>\n",
       "    <tr>\n",
       "      <th>2010-01-06</th>\n",
       "      <td>-0.002207</td>\n",
       "      <td>0.031310</td>\n",
       "    </tr>\n",
       "    <tr>\n",
       "      <th>2010-01-21</th>\n",
       "      <td>0.008858</td>\n",
       "      <td>0.040445</td>\n",
       "    </tr>\n",
       "    <tr>\n",
       "      <th>2010-02-04</th>\n",
       "      <td>0.011082</td>\n",
       "      <td>0.051975</td>\n",
       "    </tr>\n",
       "    <tr>\n",
       "      <th>2010-02-19</th>\n",
       "      <td>-0.004243</td>\n",
       "      <td>0.047511</td>\n",
       "    </tr>\n",
       "    <tr>\n",
       "      <th>2010-03-05</th>\n",
       "      <td>-0.010776</td>\n",
       "      <td>0.036223</td>\n",
       "    </tr>\n",
       "    <tr>\n",
       "      <th>2010-03-19</th>\n",
       "      <td>0.000000</td>\n",
       "      <td>0.036223</td>\n",
       "    </tr>\n",
       "    <tr>\n",
       "      <th>2010-04-05</th>\n",
       "      <td>0.000121</td>\n",
       "      <td>0.036348</td>\n",
       "    </tr>\n",
       "    <tr>\n",
       "      <th>2010-04-19</th>\n",
       "      <td>-0.000759</td>\n",
       "      <td>0.035562</td>\n",
       "    </tr>\n",
       "    <tr>\n",
       "      <th>2010-05-03</th>\n",
       "      <td>0.000185</td>\n",
       "      <td>0.035754</td>\n",
       "    </tr>\n",
       "    <tr>\n",
       "      <th>2010-05-17</th>\n",
       "      <td>0.002490</td>\n",
       "      <td>0.038334</td>\n",
       "    </tr>\n",
       "    <tr>\n",
       "      <th>2010-06-01</th>\n",
       "      <td>0.002122</td>\n",
       "      <td>0.040537</td>\n",
       "    </tr>\n",
       "    <tr>\n",
       "      <th>2010-06-15</th>\n",
       "      <td>0.000000</td>\n",
       "      <td>0.040537</td>\n",
       "    </tr>\n",
       "    <tr>\n",
       "      <th>2010-06-29</th>\n",
       "      <td>-0.010643</td>\n",
       "      <td>0.029462</td>\n",
       "    </tr>\n",
       "    <tr>\n",
       "      <th>2010-07-14</th>\n",
       "      <td>-0.003393</td>\n",
       "      <td>0.025969</td>\n",
       "    </tr>\n",
       "    <tr>\n",
       "      <th>2010-07-28</th>\n",
       "      <td>0.002305</td>\n",
       "      <td>0.028335</td>\n",
       "    </tr>\n",
       "    <tr>\n",
       "      <th>2010-08-11</th>\n",
       "      <td>-0.002730</td>\n",
       "      <td>0.025528</td>\n",
       "    </tr>\n",
       "    <tr>\n",
       "      <th>2010-08-25</th>\n",
       "      <td>0.005659</td>\n",
       "      <td>0.031332</td>\n",
       "    </tr>\n",
       "    <tr>\n",
       "      <th>2010-09-09</th>\n",
       "      <td>0.005601</td>\n",
       "      <td>0.037108</td>\n",
       "    </tr>\n",
       "    <tr>\n",
       "      <th>2010-09-23</th>\n",
       "      <td>0.000000</td>\n",
       "      <td>0.037108</td>\n",
       "    </tr>\n",
       "    <tr>\n",
       "      <th>2010-10-07</th>\n",
       "      <td>0.004459</td>\n",
       "      <td>0.041733</td>\n",
       "    </tr>\n",
       "    <tr>\n",
       "      <th>2010-10-21</th>\n",
       "      <td>0.005405</td>\n",
       "      <td>0.047364</td>\n",
       "    </tr>\n",
       "    <tr>\n",
       "      <th>2010-11-04</th>\n",
       "      <td>-0.000773</td>\n",
       "      <td>0.046554</td>\n",
       "    </tr>\n",
       "    <tr>\n",
       "      <th>2010-11-18</th>\n",
       "      <td>-0.006794</td>\n",
       "      <td>0.039444</td>\n",
       "    </tr>\n",
       "    <tr>\n",
       "      <th>2010-12-03</th>\n",
       "      <td>-0.004404</td>\n",
       "      <td>0.034866</td>\n",
       "    </tr>\n",
       "    <tr>\n",
       "      <th>2010-12-17</th>\n",
       "      <td>-0.003454</td>\n",
       "      <td>0.031292</td>\n",
       "    </tr>\n",
       "    <tr>\n",
       "      <th>2011-01-03</th>\n",
       "      <td>0.000256</td>\n",
       "      <td>0.031556</td>\n",
       "    </tr>\n",
       "    <tr>\n",
       "      <th>2011-01-18</th>\n",
       "      <td>-0.007905</td>\n",
       "      <td>0.023401</td>\n",
       "    </tr>\n",
       "    <tr>\n",
       "      <th>2011-02-01</th>\n",
       "      <td>0.000226</td>\n",
       "      <td>0.023633</td>\n",
       "    </tr>\n",
       "    <tr>\n",
       "      <th>2011-02-15</th>\n",
       "      <td>0.003604</td>\n",
       "      <td>0.027322</td>\n",
       "    </tr>\n",
       "    <tr>\n",
       "      <th>2011-03-02</th>\n",
       "      <td>0.010873</td>\n",
       "      <td>0.038492</td>\n",
       "    </tr>\n",
       "    <tr>\n",
       "      <th>2011-03-16</th>\n",
       "      <td>-0.004489</td>\n",
       "      <td>0.033830</td>\n",
       "    </tr>\n",
       "    <tr>\n",
       "      <th>2011-03-30</th>\n",
       "      <td>0.000929</td>\n",
       "      <td>0.034790</td>\n",
       "    </tr>\n",
       "    <tr>\n",
       "      <th>2011-04-13</th>\n",
       "      <td>0.003765</td>\n",
       "      <td>0.038686</td>\n",
       "    </tr>\n",
       "    <tr>\n",
       "      <th>2011-04-28</th>\n",
       "      <td>0.007105</td>\n",
       "      <td>0.046065</td>\n",
       "    </tr>\n",
       "    <tr>\n",
       "      <th>2011-05-12</th>\n",
       "      <td>0.035421</td>\n",
       "      <td>0.083118</td>\n",
       "    </tr>\n",
       "    <tr>\n",
       "      <th>2011-05-26</th>\n",
       "      <td>-0.001212</td>\n",
       "      <td>0.081805</td>\n",
       "    </tr>\n",
       "    <tr>\n",
       "      <th>2011-06-10</th>\n",
       "      <td>0.008983</td>\n",
       "      <td>0.091523</td>\n",
       "    </tr>\n",
       "    <tr>\n",
       "      <th>2011-06-24</th>\n",
       "      <td>0.004850</td>\n",
       "      <td>0.096816</td>\n",
       "    </tr>\n",
       "    <tr>\n",
       "      <th>2011-07-11</th>\n",
       "      <td>0.000118</td>\n",
       "      <td>0.096945</td>\n",
       "    </tr>\n",
       "    <tr>\n",
       "      <th>2011-07-25</th>\n",
       "      <td>0.006322</td>\n",
       "      <td>0.103880</td>\n",
       "    </tr>\n",
       "    <tr>\n",
       "      <th>2011-08-08</th>\n",
       "      <td>0.000000</td>\n",
       "      <td>0.103880</td>\n",
       "    </tr>\n",
       "    <tr>\n",
       "      <th>2011-08-22</th>\n",
       "      <td>-0.004534</td>\n",
       "      <td>0.098875</td>\n",
       "    </tr>\n",
       "    <tr>\n",
       "      <th>2011-09-06</th>\n",
       "      <td>0.005328</td>\n",
       "      <td>0.104730</td>\n",
       "    </tr>\n",
       "    <tr>\n",
       "      <th>2011-09-20</th>\n",
       "      <td>-0.009475</td>\n",
       "      <td>0.094263</td>\n",
       "    </tr>\n",
       "    <tr>\n",
       "      <th>2011-10-04</th>\n",
       "      <td>0.009302</td>\n",
       "      <td>0.104442</td>\n",
       "    </tr>\n",
       "    <tr>\n",
       "      <th>2011-10-18</th>\n",
       "      <td>-0.009514</td>\n",
       "      <td>0.093934</td>\n",
       "    </tr>\n",
       "    <tr>\n",
       "      <th>2011-11-01</th>\n",
       "      <td>0.004996</td>\n",
       "      <td>0.099400</td>\n",
       "    </tr>\n",
       "    <tr>\n",
       "      <th>2011-11-15</th>\n",
       "      <td>0.000949</td>\n",
       "      <td>0.100443</td>\n",
       "    </tr>\n",
       "    <tr>\n",
       "      <th>2011-11-30</th>\n",
       "      <td>0.009812</td>\n",
       "      <td>0.111240</td>\n",
       "    </tr>\n",
       "  </tbody>\n",
       "</table>\n",
       "</div>"
      ],
      "text/plain": [
       "            actual next day returns  cumulative returns\n",
       "2008-10-13                -0.006278           -0.006278\n",
       "2008-10-27                -0.000193           -0.006470\n",
       "2008-11-10                -0.000812           -0.007277\n",
       "2008-11-24                -0.005309           -0.012548\n",
       "2008-12-09                 0.009638           -0.003030\n",
       "2008-12-23                 0.006198            0.003149\n",
       "2009-01-08                -0.001498            0.001646\n",
       "2009-01-23                -0.012886           -0.011260\n",
       "2009-02-06                 0.007337           -0.004007\n",
       "2009-02-23                 0.008879            0.004837\n",
       "2009-03-09                -0.015651           -0.010890\n",
       "2009-03-23                 0.015879            0.004816\n",
       "2009-04-06                 0.018882            0.023789\n",
       "2009-04-21                 0.000000            0.023789\n",
       "2009-05-05                 0.013342            0.037448\n",
       "2009-05-19                -0.005370            0.031877\n",
       "2009-06-03                -0.004122            0.027624\n",
       "2009-06-17                 0.012933            0.040914\n",
       "2009-07-01                 0.009168            0.050456\n",
       "2009-07-16                -0.009064            0.040935\n",
       "2009-07-30                -0.006735            0.033924\n",
       "2009-08-13                 0.005592            0.039706\n",
       "2009-08-27                -0.003040            0.036545\n",
       "2009-09-11                 0.007285            0.044097\n",
       "2009-09-25                -0.008861            0.034846\n",
       "2009-10-09                -0.007379            0.027210\n",
       "2009-10-23                -0.010825            0.016090\n",
       "2009-11-06                 0.009110            0.025347\n",
       "2009-11-20                 0.003440            0.028874\n",
       "2009-12-07                 0.002184            0.031121\n",
       "2009-12-21                 0.002395            0.033591\n",
       "2010-01-06                -0.002207            0.031310\n",
       "2010-01-21                 0.008858            0.040445\n",
       "2010-02-04                 0.011082            0.051975\n",
       "2010-02-19                -0.004243            0.047511\n",
       "2010-03-05                -0.010776            0.036223\n",
       "2010-03-19                 0.000000            0.036223\n",
       "2010-04-05                 0.000121            0.036348\n",
       "2010-04-19                -0.000759            0.035562\n",
       "2010-05-03                 0.000185            0.035754\n",
       "2010-05-17                 0.002490            0.038334\n",
       "2010-06-01                 0.002122            0.040537\n",
       "2010-06-15                 0.000000            0.040537\n",
       "2010-06-29                -0.010643            0.029462\n",
       "2010-07-14                -0.003393            0.025969\n",
       "2010-07-28                 0.002305            0.028335\n",
       "2010-08-11                -0.002730            0.025528\n",
       "2010-08-25                 0.005659            0.031332\n",
       "2010-09-09                 0.005601            0.037108\n",
       "2010-09-23                 0.000000            0.037108\n",
       "2010-10-07                 0.004459            0.041733\n",
       "2010-10-21                 0.005405            0.047364\n",
       "2010-11-04                -0.000773            0.046554\n",
       "2010-11-18                -0.006794            0.039444\n",
       "2010-12-03                -0.004404            0.034866\n",
       "2010-12-17                -0.003454            0.031292\n",
       "2011-01-03                 0.000256            0.031556\n",
       "2011-01-18                -0.007905            0.023401\n",
       "2011-02-01                 0.000226            0.023633\n",
       "2011-02-15                 0.003604            0.027322\n",
       "2011-03-02                 0.010873            0.038492\n",
       "2011-03-16                -0.004489            0.033830\n",
       "2011-03-30                 0.000929            0.034790\n",
       "2011-04-13                 0.003765            0.038686\n",
       "2011-04-28                 0.007105            0.046065\n",
       "2011-05-12                 0.035421            0.083118\n",
       "2011-05-26                -0.001212            0.081805\n",
       "2011-06-10                 0.008983            0.091523\n",
       "2011-06-24                 0.004850            0.096816\n",
       "2011-07-11                 0.000118            0.096945\n",
       "2011-07-25                 0.006322            0.103880\n",
       "2011-08-08                 0.000000            0.103880\n",
       "2011-08-22                -0.004534            0.098875\n",
       "2011-09-06                 0.005328            0.104730\n",
       "2011-09-20                -0.009475            0.094263\n",
       "2011-10-04                 0.009302            0.104442\n",
       "2011-10-18                -0.009514            0.093934\n",
       "2011-11-01                 0.004996            0.099400\n",
       "2011-11-15                 0.000949            0.100443\n",
       "2011-11-30                 0.009812            0.111240"
      ]
     },
     "execution_count": 6,
     "metadata": {},
     "output_type": "execute_result"
    }
   ],
   "source": [
    "all_returns[\"cumulative returns\"] = [((np.array(all_returns.iloc[0 : idx+1, 0]) + 1).prod() - 1) for idx in range(0, all_returns.shape[0])]\n",
    "all_returns"
   ]
  },
  {
   "cell_type": "code",
   "execution_count": 12,
   "id": "c59d95aa",
   "metadata": {},
   "outputs": [],
   "source": [
    "end_date = \"2011-12-13\"\n",
    "num_days_back = 200\n",
    "pred = stock_selection.get_predictions(None, end_date, num_days_back)\n",
    "buy_sell = stock_selection.get_buy_sell(pred)\n",
    "analysis = stock_selection.get_buy_sell_analysis(buy_sell)\n",
    "# pred\n",
    "analysis\n",
    "# How Percent Change is Calculated\n",
    "# (analysis.iloc[0:5, 1].mean() - analysis.iloc[5:10, 1].mean())/2"
   ]
  },
  {
   "cell_type": "code",
   "execution_count": 10,
   "id": "6ff48021",
   "metadata": {},
   "outputs": [
    {
     "name": "stdout",
     "output_type": "stream",
     "text": [
      "TRADING ON THE FOLLOWING DATES:\n",
      " ['2008-10-13' '2008-10-27' '2008-11-10' '2008-11-24' '2008-12-09'\n",
      " '2008-12-23' '2009-01-08' '2009-01-23' '2009-02-06' '2009-02-23'\n",
      " '2009-03-09' '2009-03-23' '2009-04-06' '2009-04-21' '2009-05-05'\n",
      " '2009-05-19' '2009-06-03' '2009-06-17' '2009-07-01' '2009-07-16'\n",
      " '2009-07-30' '2009-08-13' '2009-08-27' '2009-09-11' '2009-09-25'\n",
      " '2009-10-09' '2009-10-23' '2009-11-06' '2009-11-20' '2009-12-07'\n",
      " '2009-12-21' '2010-01-06' '2010-01-21' '2010-02-04' '2010-02-19'\n",
      " '2010-03-05' '2010-03-19' '2010-04-05' '2010-04-19' '2010-05-03'\n",
      " '2010-05-17' '2010-06-01' '2010-06-15' '2010-06-29' '2010-07-14'\n",
      " '2010-07-28' '2010-08-11' '2010-08-25' '2010-09-09' '2010-09-23'\n",
      " '2010-10-07' '2010-10-21' '2010-11-04' '2010-11-18' '2010-12-03'\n",
      " '2010-12-17' '2011-01-03' '2011-01-18' '2011-02-01' '2011-02-15'\n",
      " '2011-03-02' '2011-03-16' '2011-03-30' '2011-04-13' '2011-04-28'\n",
      " '2011-05-12' '2011-05-26' '2011-06-10' '2011-06-24' '2011-07-11'\n",
      " '2011-07-25' '2011-08-08' '2011-08-22' '2011-09-06' '2011-09-20'\n",
      " '2011-10-04' '2011-10-18' '2011-11-01' '2011-11-15' '2011-11-30'] \n",
      "\n",
      "If starting with 100 dollars,\n",
      "You'd end up with 111.12399297610197 dollars\n",
      "\n",
      "Overall percent change: 11.123992976101974%\n"
     ]
    }
   ],
   "source": [
    "starting_amount = 100\n",
    "\n",
    "end_amount = starting_amount\n",
    "for date in dates:\n",
    "    end_amount *= 1 + all_returns.loc[date, \"actual next day returns\"]\n",
    "\n",
    "print(\"TRADING ON THE FOLLOWING DATES:\\n\", dates, \"\\n\")\n",
    "print(\"If starting with\", starting_amount, \"dollars,\\nYou'd end up with\", end_amount, \"dollars\")\n",
    "print()\n",
    "print(\"Overall percent change:\", str(100 * (end_amount - starting_amount)/(starting_amount)) + \"%\")"
   ]
  },
  {
   "cell_type": "code",
   "execution_count": 11,
   "id": "c3bd265b",
   "metadata": {
    "scrolled": true
   },
   "outputs": [
    {
     "data": {
      "application/javascript": [
       "/* Put everything inside the global mpl namespace */\n",
       "/* global mpl */\n",
       "window.mpl = {};\n",
       "\n",
       "mpl.get_websocket_type = function () {\n",
       "    if (typeof WebSocket !== 'undefined') {\n",
       "        return WebSocket;\n",
       "    } else if (typeof MozWebSocket !== 'undefined') {\n",
       "        return MozWebSocket;\n",
       "    } else {\n",
       "        alert(\n",
       "            'Your browser does not have WebSocket support. ' +\n",
       "                'Please try Chrome, Safari or Firefox ≥ 6. ' +\n",
       "                'Firefox 4 and 5 are also supported but you ' +\n",
       "                'have to enable WebSockets in about:config.'\n",
       "        );\n",
       "    }\n",
       "};\n",
       "\n",
       "mpl.figure = function (figure_id, websocket, ondownload, parent_element) {\n",
       "    this.id = figure_id;\n",
       "\n",
       "    this.ws = websocket;\n",
       "\n",
       "    this.supports_binary = this.ws.binaryType !== undefined;\n",
       "\n",
       "    if (!this.supports_binary) {\n",
       "        var warnings = document.getElementById('mpl-warnings');\n",
       "        if (warnings) {\n",
       "            warnings.style.display = 'block';\n",
       "            warnings.textContent =\n",
       "                'This browser does not support binary websocket messages. ' +\n",
       "                'Performance may be slow.';\n",
       "        }\n",
       "    }\n",
       "\n",
       "    this.imageObj = new Image();\n",
       "\n",
       "    this.context = undefined;\n",
       "    this.message = undefined;\n",
       "    this.canvas = undefined;\n",
       "    this.rubberband_canvas = undefined;\n",
       "    this.rubberband_context = undefined;\n",
       "    this.format_dropdown = undefined;\n",
       "\n",
       "    this.image_mode = 'full';\n",
       "\n",
       "    this.root = document.createElement('div');\n",
       "    this.root.setAttribute('style', 'display: inline-block');\n",
       "    this._root_extra_style(this.root);\n",
       "\n",
       "    parent_element.appendChild(this.root);\n",
       "\n",
       "    this._init_header(this);\n",
       "    this._init_canvas(this);\n",
       "    this._init_toolbar(this);\n",
       "\n",
       "    var fig = this;\n",
       "\n",
       "    this.waiting = false;\n",
       "\n",
       "    this.ws.onopen = function () {\n",
       "        fig.send_message('supports_binary', { value: fig.supports_binary });\n",
       "        fig.send_message('send_image_mode', {});\n",
       "        if (fig.ratio !== 1) {\n",
       "            fig.send_message('set_dpi_ratio', { dpi_ratio: fig.ratio });\n",
       "        }\n",
       "        fig.send_message('refresh', {});\n",
       "    };\n",
       "\n",
       "    this.imageObj.onload = function () {\n",
       "        if (fig.image_mode === 'full') {\n",
       "            // Full images could contain transparency (where diff images\n",
       "            // almost always do), so we need to clear the canvas so that\n",
       "            // there is no ghosting.\n",
       "            fig.context.clearRect(0, 0, fig.canvas.width, fig.canvas.height);\n",
       "        }\n",
       "        fig.context.drawImage(fig.imageObj, 0, 0);\n",
       "    };\n",
       "\n",
       "    this.imageObj.onunload = function () {\n",
       "        fig.ws.close();\n",
       "    };\n",
       "\n",
       "    this.ws.onmessage = this._make_on_message_function(this);\n",
       "\n",
       "    this.ondownload = ondownload;\n",
       "};\n",
       "\n",
       "mpl.figure.prototype._init_header = function () {\n",
       "    var titlebar = document.createElement('div');\n",
       "    titlebar.classList =\n",
       "        'ui-dialog-titlebar ui-widget-header ui-corner-all ui-helper-clearfix';\n",
       "    var titletext = document.createElement('div');\n",
       "    titletext.classList = 'ui-dialog-title';\n",
       "    titletext.setAttribute(\n",
       "        'style',\n",
       "        'width: 100%; text-align: center; padding: 3px;'\n",
       "    );\n",
       "    titlebar.appendChild(titletext);\n",
       "    this.root.appendChild(titlebar);\n",
       "    this.header = titletext;\n",
       "};\n",
       "\n",
       "mpl.figure.prototype._canvas_extra_style = function (_canvas_div) {};\n",
       "\n",
       "mpl.figure.prototype._root_extra_style = function (_canvas_div) {};\n",
       "\n",
       "mpl.figure.prototype._init_canvas = function () {\n",
       "    var fig = this;\n",
       "\n",
       "    var canvas_div = (this.canvas_div = document.createElement('div'));\n",
       "    canvas_div.setAttribute(\n",
       "        'style',\n",
       "        'border: 1px solid #ddd;' +\n",
       "            'box-sizing: content-box;' +\n",
       "            'clear: both;' +\n",
       "            'min-height: 1px;' +\n",
       "            'min-width: 1px;' +\n",
       "            'outline: 0;' +\n",
       "            'overflow: hidden;' +\n",
       "            'position: relative;' +\n",
       "            'resize: both;'\n",
       "    );\n",
       "\n",
       "    function on_keyboard_event_closure(name) {\n",
       "        return function (event) {\n",
       "            return fig.key_event(event, name);\n",
       "        };\n",
       "    }\n",
       "\n",
       "    canvas_div.addEventListener(\n",
       "        'keydown',\n",
       "        on_keyboard_event_closure('key_press')\n",
       "    );\n",
       "    canvas_div.addEventListener(\n",
       "        'keyup',\n",
       "        on_keyboard_event_closure('key_release')\n",
       "    );\n",
       "\n",
       "    this._canvas_extra_style(canvas_div);\n",
       "    this.root.appendChild(canvas_div);\n",
       "\n",
       "    var canvas = (this.canvas = document.createElement('canvas'));\n",
       "    canvas.classList.add('mpl-canvas');\n",
       "    canvas.setAttribute('style', 'box-sizing: content-box;');\n",
       "\n",
       "    this.context = canvas.getContext('2d');\n",
       "\n",
       "    var backingStore =\n",
       "        this.context.backingStorePixelRatio ||\n",
       "        this.context.webkitBackingStorePixelRatio ||\n",
       "        this.context.mozBackingStorePixelRatio ||\n",
       "        this.context.msBackingStorePixelRatio ||\n",
       "        this.context.oBackingStorePixelRatio ||\n",
       "        this.context.backingStorePixelRatio ||\n",
       "        1;\n",
       "\n",
       "    this.ratio = (window.devicePixelRatio || 1) / backingStore;\n",
       "\n",
       "    var rubberband_canvas = (this.rubberband_canvas = document.createElement(\n",
       "        'canvas'\n",
       "    ));\n",
       "    rubberband_canvas.setAttribute(\n",
       "        'style',\n",
       "        'box-sizing: content-box; position: absolute; left: 0; top: 0; z-index: 1;'\n",
       "    );\n",
       "\n",
       "    // Apply a ponyfill if ResizeObserver is not implemented by browser.\n",
       "    if (this.ResizeObserver === undefined) {\n",
       "        if (window.ResizeObserver !== undefined) {\n",
       "            this.ResizeObserver = window.ResizeObserver;\n",
       "        } else {\n",
       "            var obs = _JSXTOOLS_RESIZE_OBSERVER({});\n",
       "            this.ResizeObserver = obs.ResizeObserver;\n",
       "        }\n",
       "    }\n",
       "\n",
       "    this.resizeObserverInstance = new this.ResizeObserver(function (entries) {\n",
       "        var nentries = entries.length;\n",
       "        for (var i = 0; i < nentries; i++) {\n",
       "            var entry = entries[i];\n",
       "            var width, height;\n",
       "            if (entry.contentBoxSize) {\n",
       "                if (entry.contentBoxSize instanceof Array) {\n",
       "                    // Chrome 84 implements new version of spec.\n",
       "                    width = entry.contentBoxSize[0].inlineSize;\n",
       "                    height = entry.contentBoxSize[0].blockSize;\n",
       "                } else {\n",
       "                    // Firefox implements old version of spec.\n",
       "                    width = entry.contentBoxSize.inlineSize;\n",
       "                    height = entry.contentBoxSize.blockSize;\n",
       "                }\n",
       "            } else {\n",
       "                // Chrome <84 implements even older version of spec.\n",
       "                width = entry.contentRect.width;\n",
       "                height = entry.contentRect.height;\n",
       "            }\n",
       "\n",
       "            // Keep the size of the canvas and rubber band canvas in sync with\n",
       "            // the canvas container.\n",
       "            if (entry.devicePixelContentBoxSize) {\n",
       "                // Chrome 84 implements new version of spec.\n",
       "                canvas.setAttribute(\n",
       "                    'width',\n",
       "                    entry.devicePixelContentBoxSize[0].inlineSize\n",
       "                );\n",
       "                canvas.setAttribute(\n",
       "                    'height',\n",
       "                    entry.devicePixelContentBoxSize[0].blockSize\n",
       "                );\n",
       "            } else {\n",
       "                canvas.setAttribute('width', width * fig.ratio);\n",
       "                canvas.setAttribute('height', height * fig.ratio);\n",
       "            }\n",
       "            canvas.setAttribute(\n",
       "                'style',\n",
       "                'width: ' + width + 'px; height: ' + height + 'px;'\n",
       "            );\n",
       "\n",
       "            rubberband_canvas.setAttribute('width', width);\n",
       "            rubberband_canvas.setAttribute('height', height);\n",
       "\n",
       "            // And update the size in Python. We ignore the initial 0/0 size\n",
       "            // that occurs as the element is placed into the DOM, which should\n",
       "            // otherwise not happen due to the minimum size styling.\n",
       "            if (fig.ws.readyState == 1 && width != 0 && height != 0) {\n",
       "                fig.request_resize(width, height);\n",
       "            }\n",
       "        }\n",
       "    });\n",
       "    this.resizeObserverInstance.observe(canvas_div);\n",
       "\n",
       "    function on_mouse_event_closure(name) {\n",
       "        return function (event) {\n",
       "            return fig.mouse_event(event, name);\n",
       "        };\n",
       "    }\n",
       "\n",
       "    rubberband_canvas.addEventListener(\n",
       "        'mousedown',\n",
       "        on_mouse_event_closure('button_press')\n",
       "    );\n",
       "    rubberband_canvas.addEventListener(\n",
       "        'mouseup',\n",
       "        on_mouse_event_closure('button_release')\n",
       "    );\n",
       "    // Throttle sequential mouse events to 1 every 20ms.\n",
       "    rubberband_canvas.addEventListener(\n",
       "        'mousemove',\n",
       "        on_mouse_event_closure('motion_notify')\n",
       "    );\n",
       "\n",
       "    rubberband_canvas.addEventListener(\n",
       "        'mouseenter',\n",
       "        on_mouse_event_closure('figure_enter')\n",
       "    );\n",
       "    rubberband_canvas.addEventListener(\n",
       "        'mouseleave',\n",
       "        on_mouse_event_closure('figure_leave')\n",
       "    );\n",
       "\n",
       "    canvas_div.addEventListener('wheel', function (event) {\n",
       "        if (event.deltaY < 0) {\n",
       "            event.step = 1;\n",
       "        } else {\n",
       "            event.step = -1;\n",
       "        }\n",
       "        on_mouse_event_closure('scroll')(event);\n",
       "    });\n",
       "\n",
       "    canvas_div.appendChild(canvas);\n",
       "    canvas_div.appendChild(rubberband_canvas);\n",
       "\n",
       "    this.rubberband_context = rubberband_canvas.getContext('2d');\n",
       "    this.rubberband_context.strokeStyle = '#000000';\n",
       "\n",
       "    this._resize_canvas = function (width, height, forward) {\n",
       "        if (forward) {\n",
       "            canvas_div.style.width = width + 'px';\n",
       "            canvas_div.style.height = height + 'px';\n",
       "        }\n",
       "    };\n",
       "\n",
       "    // Disable right mouse context menu.\n",
       "    this.rubberband_canvas.addEventListener('contextmenu', function (_e) {\n",
       "        event.preventDefault();\n",
       "        return false;\n",
       "    });\n",
       "\n",
       "    function set_focus() {\n",
       "        canvas.focus();\n",
       "        canvas_div.focus();\n",
       "    }\n",
       "\n",
       "    window.setTimeout(set_focus, 100);\n",
       "};\n",
       "\n",
       "mpl.figure.prototype._init_toolbar = function () {\n",
       "    var fig = this;\n",
       "\n",
       "    var toolbar = document.createElement('div');\n",
       "    toolbar.classList = 'mpl-toolbar';\n",
       "    this.root.appendChild(toolbar);\n",
       "\n",
       "    function on_click_closure(name) {\n",
       "        return function (_event) {\n",
       "            return fig.toolbar_button_onclick(name);\n",
       "        };\n",
       "    }\n",
       "\n",
       "    function on_mouseover_closure(tooltip) {\n",
       "        return function (event) {\n",
       "            if (!event.currentTarget.disabled) {\n",
       "                return fig.toolbar_button_onmouseover(tooltip);\n",
       "            }\n",
       "        };\n",
       "    }\n",
       "\n",
       "    fig.buttons = {};\n",
       "    var buttonGroup = document.createElement('div');\n",
       "    buttonGroup.classList = 'mpl-button-group';\n",
       "    for (var toolbar_ind in mpl.toolbar_items) {\n",
       "        var name = mpl.toolbar_items[toolbar_ind][0];\n",
       "        var tooltip = mpl.toolbar_items[toolbar_ind][1];\n",
       "        var image = mpl.toolbar_items[toolbar_ind][2];\n",
       "        var method_name = mpl.toolbar_items[toolbar_ind][3];\n",
       "\n",
       "        if (!name) {\n",
       "            /* Instead of a spacer, we start a new button group. */\n",
       "            if (buttonGroup.hasChildNodes()) {\n",
       "                toolbar.appendChild(buttonGroup);\n",
       "            }\n",
       "            buttonGroup = document.createElement('div');\n",
       "            buttonGroup.classList = 'mpl-button-group';\n",
       "            continue;\n",
       "        }\n",
       "\n",
       "        var button = (fig.buttons[name] = document.createElement('button'));\n",
       "        button.classList = 'mpl-widget';\n",
       "        button.setAttribute('role', 'button');\n",
       "        button.setAttribute('aria-disabled', 'false');\n",
       "        button.addEventListener('click', on_click_closure(method_name));\n",
       "        button.addEventListener('mouseover', on_mouseover_closure(tooltip));\n",
       "\n",
       "        var icon_img = document.createElement('img');\n",
       "        icon_img.src = '_images/' + image + '.png';\n",
       "        icon_img.srcset = '_images/' + image + '_large.png 2x';\n",
       "        icon_img.alt = tooltip;\n",
       "        button.appendChild(icon_img);\n",
       "\n",
       "        buttonGroup.appendChild(button);\n",
       "    }\n",
       "\n",
       "    if (buttonGroup.hasChildNodes()) {\n",
       "        toolbar.appendChild(buttonGroup);\n",
       "    }\n",
       "\n",
       "    var fmt_picker = document.createElement('select');\n",
       "    fmt_picker.classList = 'mpl-widget';\n",
       "    toolbar.appendChild(fmt_picker);\n",
       "    this.format_dropdown = fmt_picker;\n",
       "\n",
       "    for (var ind in mpl.extensions) {\n",
       "        var fmt = mpl.extensions[ind];\n",
       "        var option = document.createElement('option');\n",
       "        option.selected = fmt === mpl.default_extension;\n",
       "        option.innerHTML = fmt;\n",
       "        fmt_picker.appendChild(option);\n",
       "    }\n",
       "\n",
       "    var status_bar = document.createElement('span');\n",
       "    status_bar.classList = 'mpl-message';\n",
       "    toolbar.appendChild(status_bar);\n",
       "    this.message = status_bar;\n",
       "};\n",
       "\n",
       "mpl.figure.prototype.request_resize = function (x_pixels, y_pixels) {\n",
       "    // Request matplotlib to resize the figure. Matplotlib will then trigger a resize in the client,\n",
       "    // which will in turn request a refresh of the image.\n",
       "    this.send_message('resize', { width: x_pixels, height: y_pixels });\n",
       "};\n",
       "\n",
       "mpl.figure.prototype.send_message = function (type, properties) {\n",
       "    properties['type'] = type;\n",
       "    properties['figure_id'] = this.id;\n",
       "    this.ws.send(JSON.stringify(properties));\n",
       "};\n",
       "\n",
       "mpl.figure.prototype.send_draw_message = function () {\n",
       "    if (!this.waiting) {\n",
       "        this.waiting = true;\n",
       "        this.ws.send(JSON.stringify({ type: 'draw', figure_id: this.id }));\n",
       "    }\n",
       "};\n",
       "\n",
       "mpl.figure.prototype.handle_save = function (fig, _msg) {\n",
       "    var format_dropdown = fig.format_dropdown;\n",
       "    var format = format_dropdown.options[format_dropdown.selectedIndex].value;\n",
       "    fig.ondownload(fig, format);\n",
       "};\n",
       "\n",
       "mpl.figure.prototype.handle_resize = function (fig, msg) {\n",
       "    var size = msg['size'];\n",
       "    if (size[0] !== fig.canvas.width || size[1] !== fig.canvas.height) {\n",
       "        fig._resize_canvas(size[0], size[1], msg['forward']);\n",
       "        fig.send_message('refresh', {});\n",
       "    }\n",
       "};\n",
       "\n",
       "mpl.figure.prototype.handle_rubberband = function (fig, msg) {\n",
       "    var x0 = msg['x0'] / fig.ratio;\n",
       "    var y0 = (fig.canvas.height - msg['y0']) / fig.ratio;\n",
       "    var x1 = msg['x1'] / fig.ratio;\n",
       "    var y1 = (fig.canvas.height - msg['y1']) / fig.ratio;\n",
       "    x0 = Math.floor(x0) + 0.5;\n",
       "    y0 = Math.floor(y0) + 0.5;\n",
       "    x1 = Math.floor(x1) + 0.5;\n",
       "    y1 = Math.floor(y1) + 0.5;\n",
       "    var min_x = Math.min(x0, x1);\n",
       "    var min_y = Math.min(y0, y1);\n",
       "    var width = Math.abs(x1 - x0);\n",
       "    var height = Math.abs(y1 - y0);\n",
       "\n",
       "    fig.rubberband_context.clearRect(\n",
       "        0,\n",
       "        0,\n",
       "        fig.canvas.width / fig.ratio,\n",
       "        fig.canvas.height / fig.ratio\n",
       "    );\n",
       "\n",
       "    fig.rubberband_context.strokeRect(min_x, min_y, width, height);\n",
       "};\n",
       "\n",
       "mpl.figure.prototype.handle_figure_label = function (fig, msg) {\n",
       "    // Updates the figure title.\n",
       "    fig.header.textContent = msg['label'];\n",
       "};\n",
       "\n",
       "mpl.figure.prototype.handle_cursor = function (fig, msg) {\n",
       "    var cursor = msg['cursor'];\n",
       "    switch (cursor) {\n",
       "        case 0:\n",
       "            cursor = 'pointer';\n",
       "            break;\n",
       "        case 1:\n",
       "            cursor = 'default';\n",
       "            break;\n",
       "        case 2:\n",
       "            cursor = 'crosshair';\n",
       "            break;\n",
       "        case 3:\n",
       "            cursor = 'move';\n",
       "            break;\n",
       "    }\n",
       "    fig.rubberband_canvas.style.cursor = cursor;\n",
       "};\n",
       "\n",
       "mpl.figure.prototype.handle_message = function (fig, msg) {\n",
       "    fig.message.textContent = msg['message'];\n",
       "};\n",
       "\n",
       "mpl.figure.prototype.handle_draw = function (fig, _msg) {\n",
       "    // Request the server to send over a new figure.\n",
       "    fig.send_draw_message();\n",
       "};\n",
       "\n",
       "mpl.figure.prototype.handle_image_mode = function (fig, msg) {\n",
       "    fig.image_mode = msg['mode'];\n",
       "};\n",
       "\n",
       "mpl.figure.prototype.handle_history_buttons = function (fig, msg) {\n",
       "    for (var key in msg) {\n",
       "        if (!(key in fig.buttons)) {\n",
       "            continue;\n",
       "        }\n",
       "        fig.buttons[key].disabled = !msg[key];\n",
       "        fig.buttons[key].setAttribute('aria-disabled', !msg[key]);\n",
       "    }\n",
       "};\n",
       "\n",
       "mpl.figure.prototype.handle_navigate_mode = function (fig, msg) {\n",
       "    if (msg['mode'] === 'PAN') {\n",
       "        fig.buttons['Pan'].classList.add('active');\n",
       "        fig.buttons['Zoom'].classList.remove('active');\n",
       "    } else if (msg['mode'] === 'ZOOM') {\n",
       "        fig.buttons['Pan'].classList.remove('active');\n",
       "        fig.buttons['Zoom'].classList.add('active');\n",
       "    } else {\n",
       "        fig.buttons['Pan'].classList.remove('active');\n",
       "        fig.buttons['Zoom'].classList.remove('active');\n",
       "    }\n",
       "};\n",
       "\n",
       "mpl.figure.prototype.updated_canvas_event = function () {\n",
       "    // Called whenever the canvas gets updated.\n",
       "    this.send_message('ack', {});\n",
       "};\n",
       "\n",
       "// A function to construct a web socket function for onmessage handling.\n",
       "// Called in the figure constructor.\n",
       "mpl.figure.prototype._make_on_message_function = function (fig) {\n",
       "    return function socket_on_message(evt) {\n",
       "        if (evt.data instanceof Blob) {\n",
       "            /* FIXME: We get \"Resource interpreted as Image but\n",
       "             * transferred with MIME type text/plain:\" errors on\n",
       "             * Chrome.  But how to set the MIME type?  It doesn't seem\n",
       "             * to be part of the websocket stream */\n",
       "            evt.data.type = 'image/png';\n",
       "\n",
       "            /* Free the memory for the previous frames */\n",
       "            if (fig.imageObj.src) {\n",
       "                (window.URL || window.webkitURL).revokeObjectURL(\n",
       "                    fig.imageObj.src\n",
       "                );\n",
       "            }\n",
       "\n",
       "            fig.imageObj.src = (window.URL || window.webkitURL).createObjectURL(\n",
       "                evt.data\n",
       "            );\n",
       "            fig.updated_canvas_event();\n",
       "            fig.waiting = false;\n",
       "            return;\n",
       "        } else if (\n",
       "            typeof evt.data === 'string' &&\n",
       "            evt.data.slice(0, 21) === 'data:image/png;base64'\n",
       "        ) {\n",
       "            fig.imageObj.src = evt.data;\n",
       "            fig.updated_canvas_event();\n",
       "            fig.waiting = false;\n",
       "            return;\n",
       "        }\n",
       "\n",
       "        var msg = JSON.parse(evt.data);\n",
       "        var msg_type = msg['type'];\n",
       "\n",
       "        // Call the  \"handle_{type}\" callback, which takes\n",
       "        // the figure and JSON message as its only arguments.\n",
       "        try {\n",
       "            var callback = fig['handle_' + msg_type];\n",
       "        } catch (e) {\n",
       "            console.log(\n",
       "                \"No handler for the '\" + msg_type + \"' message type: \",\n",
       "                msg\n",
       "            );\n",
       "            return;\n",
       "        }\n",
       "\n",
       "        if (callback) {\n",
       "            try {\n",
       "                // console.log(\"Handling '\" + msg_type + \"' message: \", msg);\n",
       "                callback(fig, msg);\n",
       "            } catch (e) {\n",
       "                console.log(\n",
       "                    \"Exception inside the 'handler_\" + msg_type + \"' callback:\",\n",
       "                    e,\n",
       "                    e.stack,\n",
       "                    msg\n",
       "                );\n",
       "            }\n",
       "        }\n",
       "    };\n",
       "};\n",
       "\n",
       "// from http://stackoverflow.com/questions/1114465/getting-mouse-location-in-canvas\n",
       "mpl.findpos = function (e) {\n",
       "    //this section is from http://www.quirksmode.org/js/events_properties.html\n",
       "    var targ;\n",
       "    if (!e) {\n",
       "        e = window.event;\n",
       "    }\n",
       "    if (e.target) {\n",
       "        targ = e.target;\n",
       "    } else if (e.srcElement) {\n",
       "        targ = e.srcElement;\n",
       "    }\n",
       "    if (targ.nodeType === 3) {\n",
       "        // defeat Safari bug\n",
       "        targ = targ.parentNode;\n",
       "    }\n",
       "\n",
       "    // pageX,Y are the mouse positions relative to the document\n",
       "    var boundingRect = targ.getBoundingClientRect();\n",
       "    var x = e.pageX - (boundingRect.left + document.body.scrollLeft);\n",
       "    var y = e.pageY - (boundingRect.top + document.body.scrollTop);\n",
       "\n",
       "    return { x: x, y: y };\n",
       "};\n",
       "\n",
       "/*\n",
       " * return a copy of an object with only non-object keys\n",
       " * we need this to avoid circular references\n",
       " * http://stackoverflow.com/a/24161582/3208463\n",
       " */\n",
       "function simpleKeys(original) {\n",
       "    return Object.keys(original).reduce(function (obj, key) {\n",
       "        if (typeof original[key] !== 'object') {\n",
       "            obj[key] = original[key];\n",
       "        }\n",
       "        return obj;\n",
       "    }, {});\n",
       "}\n",
       "\n",
       "mpl.figure.prototype.mouse_event = function (event, name) {\n",
       "    var canvas_pos = mpl.findpos(event);\n",
       "\n",
       "    if (name === 'button_press') {\n",
       "        this.canvas.focus();\n",
       "        this.canvas_div.focus();\n",
       "    }\n",
       "\n",
       "    var x = canvas_pos.x * this.ratio;\n",
       "    var y = canvas_pos.y * this.ratio;\n",
       "\n",
       "    this.send_message(name, {\n",
       "        x: x,\n",
       "        y: y,\n",
       "        button: event.button,\n",
       "        step: event.step,\n",
       "        guiEvent: simpleKeys(event),\n",
       "    });\n",
       "\n",
       "    /* This prevents the web browser from automatically changing to\n",
       "     * the text insertion cursor when the button is pressed.  We want\n",
       "     * to control all of the cursor setting manually through the\n",
       "     * 'cursor' event from matplotlib */\n",
       "    event.preventDefault();\n",
       "    return false;\n",
       "};\n",
       "\n",
       "mpl.figure.prototype._key_event_extra = function (_event, _name) {\n",
       "    // Handle any extra behaviour associated with a key event\n",
       "};\n",
       "\n",
       "mpl.figure.prototype.key_event = function (event, name) {\n",
       "    // Prevent repeat events\n",
       "    if (name === 'key_press') {\n",
       "        if (event.which === this._key) {\n",
       "            return;\n",
       "        } else {\n",
       "            this._key = event.which;\n",
       "        }\n",
       "    }\n",
       "    if (name === 'key_release') {\n",
       "        this._key = null;\n",
       "    }\n",
       "\n",
       "    var value = '';\n",
       "    if (event.ctrlKey && event.which !== 17) {\n",
       "        value += 'ctrl+';\n",
       "    }\n",
       "    if (event.altKey && event.which !== 18) {\n",
       "        value += 'alt+';\n",
       "    }\n",
       "    if (event.shiftKey && event.which !== 16) {\n",
       "        value += 'shift+';\n",
       "    }\n",
       "\n",
       "    value += 'k';\n",
       "    value += event.which.toString();\n",
       "\n",
       "    this._key_event_extra(event, name);\n",
       "\n",
       "    this.send_message(name, { key: value, guiEvent: simpleKeys(event) });\n",
       "    return false;\n",
       "};\n",
       "\n",
       "mpl.figure.prototype.toolbar_button_onclick = function (name) {\n",
       "    if (name === 'download') {\n",
       "        this.handle_save(this, null);\n",
       "    } else {\n",
       "        this.send_message('toolbar_button', { name: name });\n",
       "    }\n",
       "};\n",
       "\n",
       "mpl.figure.prototype.toolbar_button_onmouseover = function (tooltip) {\n",
       "    this.message.textContent = tooltip;\n",
       "};\n",
       "\n",
       "///////////////// REMAINING CONTENT GENERATED BY embed_js.py /////////////////\n",
       "// prettier-ignore\n",
       "var _JSXTOOLS_RESIZE_OBSERVER=function(A){var t,i=new WeakMap,n=new WeakMap,a=new WeakMap,r=new WeakMap,o=new Set;function s(e){if(!(this instanceof s))throw new TypeError(\"Constructor requires 'new' operator\");i.set(this,e)}function h(){throw new TypeError(\"Function is not a constructor\")}function c(e,t,i,n){e=0 in arguments?Number(arguments[0]):0,t=1 in arguments?Number(arguments[1]):0,i=2 in arguments?Number(arguments[2]):0,n=3 in arguments?Number(arguments[3]):0,this.right=(this.x=this.left=e)+(this.width=i),this.bottom=(this.y=this.top=t)+(this.height=n),Object.freeze(this)}function d(){t=requestAnimationFrame(d);var s=new WeakMap,p=new Set;o.forEach((function(t){r.get(t).forEach((function(i){var r=t instanceof window.SVGElement,o=a.get(t),d=r?0:parseFloat(o.paddingTop),f=r?0:parseFloat(o.paddingRight),l=r?0:parseFloat(o.paddingBottom),u=r?0:parseFloat(o.paddingLeft),g=r?0:parseFloat(o.borderTopWidth),m=r?0:parseFloat(o.borderRightWidth),w=r?0:parseFloat(o.borderBottomWidth),b=u+f,F=d+l,v=(r?0:parseFloat(o.borderLeftWidth))+m,W=g+w,y=r?0:t.offsetHeight-W-t.clientHeight,E=r?0:t.offsetWidth-v-t.clientWidth,R=b+v,z=F+W,M=r?t.width:parseFloat(o.width)-R-E,O=r?t.height:parseFloat(o.height)-z-y;if(n.has(t)){var k=n.get(t);if(k[0]===M&&k[1]===O)return}n.set(t,[M,O]);var S=Object.create(h.prototype);S.target=t,S.contentRect=new c(u,d,M,O),s.has(i)||(s.set(i,[]),p.add(i)),s.get(i).push(S)}))})),p.forEach((function(e){i.get(e).call(e,s.get(e),e)}))}return s.prototype.observe=function(i){if(i instanceof window.Element){r.has(i)||(r.set(i,new Set),o.add(i),a.set(i,window.getComputedStyle(i)));var n=r.get(i);n.has(this)||n.add(this),cancelAnimationFrame(t),t=requestAnimationFrame(d)}},s.prototype.unobserve=function(i){if(i instanceof window.Element&&r.has(i)){var n=r.get(i);n.has(this)&&(n.delete(this),n.size||(r.delete(i),o.delete(i))),n.size||r.delete(i),o.size||cancelAnimationFrame(t)}},A.DOMRectReadOnly=c,A.ResizeObserver=s,A.ResizeObserverEntry=h,A}; // eslint-disable-line\n",
       "mpl.toolbar_items = [[\"Home\", \"Reset original view\", \"fa fa-home icon-home\", \"home\"], [\"Back\", \"Back to previous view\", \"fa fa-arrow-left icon-arrow-left\", \"back\"], [\"Forward\", \"Forward to next view\", \"fa fa-arrow-right icon-arrow-right\", \"forward\"], [\"\", \"\", \"\", \"\"], [\"Pan\", \"Left button pans, Right button zooms\\nx/y fixes axis, CTRL fixes aspect\", \"fa fa-arrows icon-move\", \"pan\"], [\"Zoom\", \"Zoom to rectangle\\nx/y fixes axis, CTRL fixes aspect\", \"fa fa-square-o icon-check-empty\", \"zoom\"], [\"\", \"\", \"\", \"\"], [\"Download\", \"Download plot\", \"fa fa-floppy-o icon-save\", \"download\"]];\n",
       "\n",
       "mpl.extensions = [\"eps\", \"jpeg\", \"pdf\", \"png\", \"ps\", \"raw\", \"svg\", \"tif\"];\n",
       "\n",
       "mpl.default_extension = \"png\";/* global mpl */\n",
       "\n",
       "var comm_websocket_adapter = function (comm) {\n",
       "    // Create a \"websocket\"-like object which calls the given IPython comm\n",
       "    // object with the appropriate methods. Currently this is a non binary\n",
       "    // socket, so there is still some room for performance tuning.\n",
       "    var ws = {};\n",
       "\n",
       "    ws.close = function () {\n",
       "        comm.close();\n",
       "    };\n",
       "    ws.send = function (m) {\n",
       "        //console.log('sending', m);\n",
       "        comm.send(m);\n",
       "    };\n",
       "    // Register the callback with on_msg.\n",
       "    comm.on_msg(function (msg) {\n",
       "        //console.log('receiving', msg['content']['data'], msg);\n",
       "        // Pass the mpl event to the overridden (by mpl) onmessage function.\n",
       "        ws.onmessage(msg['content']['data']);\n",
       "    });\n",
       "    return ws;\n",
       "};\n",
       "\n",
       "mpl.mpl_figure_comm = function (comm, msg) {\n",
       "    // This is the function which gets called when the mpl process\n",
       "    // starts-up an IPython Comm through the \"matplotlib\" channel.\n",
       "\n",
       "    var id = msg.content.data.id;\n",
       "    // Get hold of the div created by the display call when the Comm\n",
       "    // socket was opened in Python.\n",
       "    var element = document.getElementById(id);\n",
       "    var ws_proxy = comm_websocket_adapter(comm);\n",
       "\n",
       "    function ondownload(figure, _format) {\n",
       "        window.open(figure.canvas.toDataURL());\n",
       "    }\n",
       "\n",
       "    var fig = new mpl.figure(id, ws_proxy, ondownload, element);\n",
       "\n",
       "    // Call onopen now - mpl needs it, as it is assuming we've passed it a real\n",
       "    // web socket which is closed, not our websocket->open comm proxy.\n",
       "    ws_proxy.onopen();\n",
       "\n",
       "    fig.parent_element = element;\n",
       "    fig.cell_info = mpl.find_output_cell(\"<div id='\" + id + \"'></div>\");\n",
       "    if (!fig.cell_info) {\n",
       "        console.error('Failed to find cell for figure', id, fig);\n",
       "        return;\n",
       "    }\n",
       "    fig.cell_info[0].output_area.element.on(\n",
       "        'cleared',\n",
       "        { fig: fig },\n",
       "        fig._remove_fig_handler\n",
       "    );\n",
       "};\n",
       "\n",
       "mpl.figure.prototype.handle_close = function (fig, msg) {\n",
       "    var width = fig.canvas.width / fig.ratio;\n",
       "    fig.cell_info[0].output_area.element.off(\n",
       "        'cleared',\n",
       "        fig._remove_fig_handler\n",
       "    );\n",
       "    fig.resizeObserverInstance.unobserve(fig.canvas_div);\n",
       "\n",
       "    // Update the output cell to use the data from the current canvas.\n",
       "    fig.push_to_output();\n",
       "    var dataURL = fig.canvas.toDataURL();\n",
       "    // Re-enable the keyboard manager in IPython - without this line, in FF,\n",
       "    // the notebook keyboard shortcuts fail.\n",
       "    IPython.keyboard_manager.enable();\n",
       "    fig.parent_element.innerHTML =\n",
       "        '<img src=\"' + dataURL + '\" width=\"' + width + '\">';\n",
       "    fig.close_ws(fig, msg);\n",
       "};\n",
       "\n",
       "mpl.figure.prototype.close_ws = function (fig, msg) {\n",
       "    fig.send_message('closing', msg);\n",
       "    // fig.ws.close()\n",
       "};\n",
       "\n",
       "mpl.figure.prototype.push_to_output = function (_remove_interactive) {\n",
       "    // Turn the data on the canvas into data in the output cell.\n",
       "    var width = this.canvas.width / this.ratio;\n",
       "    var dataURL = this.canvas.toDataURL();\n",
       "    this.cell_info[1]['text/html'] =\n",
       "        '<img src=\"' + dataURL + '\" width=\"' + width + '\">';\n",
       "};\n",
       "\n",
       "mpl.figure.prototype.updated_canvas_event = function () {\n",
       "    // Tell IPython that the notebook contents must change.\n",
       "    IPython.notebook.set_dirty(true);\n",
       "    this.send_message('ack', {});\n",
       "    var fig = this;\n",
       "    // Wait a second, then push the new image to the DOM so\n",
       "    // that it is saved nicely (might be nice to debounce this).\n",
       "    setTimeout(function () {\n",
       "        fig.push_to_output();\n",
       "    }, 1000);\n",
       "};\n",
       "\n",
       "mpl.figure.prototype._init_toolbar = function () {\n",
       "    var fig = this;\n",
       "\n",
       "    var toolbar = document.createElement('div');\n",
       "    toolbar.classList = 'btn-toolbar';\n",
       "    this.root.appendChild(toolbar);\n",
       "\n",
       "    function on_click_closure(name) {\n",
       "        return function (_event) {\n",
       "            return fig.toolbar_button_onclick(name);\n",
       "        };\n",
       "    }\n",
       "\n",
       "    function on_mouseover_closure(tooltip) {\n",
       "        return function (event) {\n",
       "            if (!event.currentTarget.disabled) {\n",
       "                return fig.toolbar_button_onmouseover(tooltip);\n",
       "            }\n",
       "        };\n",
       "    }\n",
       "\n",
       "    fig.buttons = {};\n",
       "    var buttonGroup = document.createElement('div');\n",
       "    buttonGroup.classList = 'btn-group';\n",
       "    var button;\n",
       "    for (var toolbar_ind in mpl.toolbar_items) {\n",
       "        var name = mpl.toolbar_items[toolbar_ind][0];\n",
       "        var tooltip = mpl.toolbar_items[toolbar_ind][1];\n",
       "        var image = mpl.toolbar_items[toolbar_ind][2];\n",
       "        var method_name = mpl.toolbar_items[toolbar_ind][3];\n",
       "\n",
       "        if (!name) {\n",
       "            /* Instead of a spacer, we start a new button group. */\n",
       "            if (buttonGroup.hasChildNodes()) {\n",
       "                toolbar.appendChild(buttonGroup);\n",
       "            }\n",
       "            buttonGroup = document.createElement('div');\n",
       "            buttonGroup.classList = 'btn-group';\n",
       "            continue;\n",
       "        }\n",
       "\n",
       "        button = fig.buttons[name] = document.createElement('button');\n",
       "        button.classList = 'btn btn-default';\n",
       "        button.href = '#';\n",
       "        button.title = name;\n",
       "        button.innerHTML = '<i class=\"fa ' + image + ' fa-lg\"></i>';\n",
       "        button.addEventListener('click', on_click_closure(method_name));\n",
       "        button.addEventListener('mouseover', on_mouseover_closure(tooltip));\n",
       "        buttonGroup.appendChild(button);\n",
       "    }\n",
       "\n",
       "    if (buttonGroup.hasChildNodes()) {\n",
       "        toolbar.appendChild(buttonGroup);\n",
       "    }\n",
       "\n",
       "    // Add the status bar.\n",
       "    var status_bar = document.createElement('span');\n",
       "    status_bar.classList = 'mpl-message pull-right';\n",
       "    toolbar.appendChild(status_bar);\n",
       "    this.message = status_bar;\n",
       "\n",
       "    // Add the close button to the window.\n",
       "    var buttongrp = document.createElement('div');\n",
       "    buttongrp.classList = 'btn-group inline pull-right';\n",
       "    button = document.createElement('button');\n",
       "    button.classList = 'btn btn-mini btn-primary';\n",
       "    button.href = '#';\n",
       "    button.title = 'Stop Interaction';\n",
       "    button.innerHTML = '<i class=\"fa fa-power-off icon-remove icon-large\"></i>';\n",
       "    button.addEventListener('click', function (_evt) {\n",
       "        fig.handle_close(fig, {});\n",
       "    });\n",
       "    button.addEventListener(\n",
       "        'mouseover',\n",
       "        on_mouseover_closure('Stop Interaction')\n",
       "    );\n",
       "    buttongrp.appendChild(button);\n",
       "    var titlebar = this.root.querySelector('.ui-dialog-titlebar');\n",
       "    titlebar.insertBefore(buttongrp, titlebar.firstChild);\n",
       "};\n",
       "\n",
       "mpl.figure.prototype._remove_fig_handler = function (event) {\n",
       "    var fig = event.data.fig;\n",
       "    if (event.target !== this) {\n",
       "        // Ignore bubbled events from children.\n",
       "        return;\n",
       "    }\n",
       "    fig.close_ws(fig, {});\n",
       "};\n",
       "\n",
       "mpl.figure.prototype._root_extra_style = function (el) {\n",
       "    el.style.boxSizing = 'content-box'; // override notebook setting of border-box.\n",
       "};\n",
       "\n",
       "mpl.figure.prototype._canvas_extra_style = function (el) {\n",
       "    // this is important to make the div 'focusable\n",
       "    el.setAttribute('tabindex', 0);\n",
       "    // reach out to IPython and tell the keyboard manager to turn it's self\n",
       "    // off when our div gets focus\n",
       "\n",
       "    // location in version 3\n",
       "    if (IPython.notebook.keyboard_manager) {\n",
       "        IPython.notebook.keyboard_manager.register_events(el);\n",
       "    } else {\n",
       "        // location in version 2\n",
       "        IPython.keyboard_manager.register_events(el);\n",
       "    }\n",
       "};\n",
       "\n",
       "mpl.figure.prototype._key_event_extra = function (event, _name) {\n",
       "    var manager = IPython.notebook.keyboard_manager;\n",
       "    if (!manager) {\n",
       "        manager = IPython.keyboard_manager;\n",
       "    }\n",
       "\n",
       "    // Check for shift+enter\n",
       "    if (event.shiftKey && event.which === 13) {\n",
       "        this.canvas_div.blur();\n",
       "        // select the cell after this one\n",
       "        var index = IPython.notebook.find_cell_index(this.cell_info[0]);\n",
       "        IPython.notebook.select(index + 1);\n",
       "    }\n",
       "};\n",
       "\n",
       "mpl.figure.prototype.handle_save = function (fig, _msg) {\n",
       "    fig.ondownload(fig, null);\n",
       "};\n",
       "\n",
       "mpl.find_output_cell = function (html_output) {\n",
       "    // Return the cell and output element which can be found *uniquely* in the notebook.\n",
       "    // Note - this is a bit hacky, but it is done because the \"notebook_saving.Notebook\"\n",
       "    // IPython event is triggered only after the cells have been serialised, which for\n",
       "    // our purposes (turning an active figure into a static one), is too late.\n",
       "    var cells = IPython.notebook.get_cells();\n",
       "    var ncells = cells.length;\n",
       "    for (var i = 0; i < ncells; i++) {\n",
       "        var cell = cells[i];\n",
       "        if (cell.cell_type === 'code') {\n",
       "            for (var j = 0; j < cell.output_area.outputs.length; j++) {\n",
       "                var data = cell.output_area.outputs[j];\n",
       "                if (data.data) {\n",
       "                    // IPython >= 3 moved mimebundle to data attribute of output\n",
       "                    data = data.data;\n",
       "                }\n",
       "                if (data['text/html'] === html_output) {\n",
       "                    return [cell, data, j];\n",
       "                }\n",
       "            }\n",
       "        }\n",
       "    }\n",
       "};\n",
       "\n",
       "// Register the function which deals with the matplotlib target/channel.\n",
       "// The kernel may be null if the page has been refreshed.\n",
       "if (IPython.notebook.kernel !== null) {\n",
       "    IPython.notebook.kernel.comm_manager.register_target(\n",
       "        'matplotlib',\n",
       "        mpl.mpl_figure_comm\n",
       "    );\n",
       "}\n"
      ],
      "text/plain": [
       "<IPython.core.display.Javascript object>"
      ]
     },
     "metadata": {},
     "output_type": "display_data"
    },
    {
     "data": {
      "text/html": [
       "<img src=\"data:image/png;base64,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\" width=\"640\">"
      ],
      "text/plain": [
       "<IPython.core.display.HTML object>"
      ]
     },
     "metadata": {},
     "output_type": "display_data"
    }
   ],
   "source": [
    "# Plot cumulative returns\n",
    "import matplotlib.pyplot as plt\n",
    "%matplotlib notebook\n",
    "\n",
    "percent_returns = 100 * all_returns\n",
    "\n",
    "percent_returns[\"cumulative returns\"].plot(legend=True)\n",
    "\n",
    "moving_average_periods = [5, 10]\n",
    "for moving_average_period in moving_average_periods:\n",
    "    percent_returns[str(moving_average_period) + \" day moving average\"] = percent_returns[\"cumulative returns\"].rolling(window=moving_average_period).mean()\n",
    "    percent_returns[str(moving_average_period) + \" day moving average\"].plot(legend=True)\n",
    "\n",
    "plt.xticks(rotation=45)\n",
    "plt.tight_layout()"
   ]
  },
  {
   "cell_type": "code",
   "execution_count": null,
   "id": "2a0990b6",
   "metadata": {},
   "outputs": [],
   "source": []
  }
 ],
 "metadata": {
  "kernelspec": {
   "display_name": "Python 3",
   "language": "python",
   "name": "python3"
  },
  "language_info": {
   "codemirror_mode": {
    "name": "ipython",
    "version": 3
   },
   "file_extension": ".py",
   "mimetype": "text/x-python",
   "name": "python",
   "nbconvert_exporter": "python",
   "pygments_lexer": "ipython3",
   "version": "3.7.4"
  }
 },
 "nbformat": 4,
 "nbformat_minor": 5
}
