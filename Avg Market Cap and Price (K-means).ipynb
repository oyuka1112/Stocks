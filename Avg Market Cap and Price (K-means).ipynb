{
 "cells": [
  {
   "cell_type": "code",
   "execution_count": 18,
   "metadata": {},
   "outputs": [],
   "source": [
    "import pandas as pd\n",
    "import numpy as np\n",
    "import matplotlib.pyplot as plt\n",
    "import datetime\n",
    "import seaborn as sns\n",
    "import warnings\n",
    "warnings.filterwarnings('ignore')"
   ]
  },
  {
   "cell_type": "code",
   "execution_count": 59,
   "metadata": {},
   "outputs": [],
   "source": [
    "market_caps = pd.read_csv(\"../data/stock_mktcaps.csv\")\n",
    "prices = pd.read_csv(\"../data/stock_prices.csv\")\n"
   ]
  },
  {
   "cell_type": "code",
   "execution_count": 60,
   "metadata": {},
   "outputs": [],
   "source": [
    "missing = market_caps.isna().sum()\n",
    "for i in missing.index:    \n",
    "    if missing[i] >= 1:\n",
    "        market_caps = market_caps.drop(columns=[i])\n",
    "        \n",
    "missing_price = prices.isna().sum()\n",
    "for i in missing_price.index:    \n",
    "    if missing[i] >= 1:\n",
    "        prices = prices.drop(columns=[i])"
   ]
  },
  {
   "cell_type": "code",
   "execution_count": 61,
   "metadata": {},
   "outputs": [],
   "source": [
    "market_caps[\"date\"] = pd.to_datetime(market_caps['date'])\n",
    "\n",
    "market_caps = market_caps.set_index(\"date\")\n",
    "\n",
    "prices[\"date\"] = pd.to_datetime(prices['date'])\n",
    "\n",
    "prices = prices.set_index(\"date\")"
   ]
  },
  {
   "cell_type": "code",
   "execution_count": 104,
   "metadata": {},
   "outputs": [
    {
     "data": {
      "text/html": [
       "<div>\n",
       "<style scoped>\n",
       "    .dataframe tbody tr th:only-of-type {\n",
       "        vertical-align: middle;\n",
       "    }\n",
       "\n",
       "    .dataframe tbody tr th {\n",
       "        vertical-align: top;\n",
       "    }\n",
       "\n",
       "    .dataframe thead th {\n",
       "        text-align: right;\n",
       "    }\n",
       "</style>\n",
       "<table border=\"1\" class=\"dataframe\">\n",
       "  <thead>\n",
       "    <tr style=\"text-align: right;\">\n",
       "      <th></th>\n",
       "      <th>930060</th>\n",
       "      <th>699903</th>\n",
       "      <th>879841</th>\n",
       "      <th>314909</th>\n",
       "      <th>15362F</th>\n",
       "      <th>315452</th>\n",
       "      <th>884570</th>\n",
       "      <th>992762</th>\n",
       "      <th>879650</th>\n",
       "      <th>315449</th>\n",
       "      <th>...</th>\n",
       "      <th>687286</th>\n",
       "      <th>936980</th>\n",
       "      <th>361367</th>\n",
       "      <th>152198</th>\n",
       "      <th>871347</th>\n",
       "      <th>362603</th>\n",
       "      <th>502585</th>\n",
       "      <th>152288</th>\n",
       "      <th>779661</th>\n",
       "      <th>317449</th>\n",
       "    </tr>\n",
       "    <tr>\n",
       "      <th>date</th>\n",
       "      <th></th>\n",
       "      <th></th>\n",
       "      <th></th>\n",
       "      <th></th>\n",
       "      <th></th>\n",
       "      <th></th>\n",
       "      <th></th>\n",
       "      <th></th>\n",
       "      <th></th>\n",
       "      <th></th>\n",
       "      <th></th>\n",
       "      <th></th>\n",
       "      <th></th>\n",
       "      <th></th>\n",
       "      <th></th>\n",
       "      <th></th>\n",
       "      <th></th>\n",
       "      <th></th>\n",
       "      <th></th>\n",
       "      <th></th>\n",
       "      <th></th>\n",
       "    </tr>\n",
       "  </thead>\n",
       "  <tbody>\n",
       "    <tr>\n",
       "      <td>2003-01-02</td>\n",
       "      <td>2658.66</td>\n",
       "      <td>547.34</td>\n",
       "      <td>674.37</td>\n",
       "      <td>20901.61</td>\n",
       "      <td>392.39</td>\n",
       "      <td>268.07</td>\n",
       "      <td>1983.24</td>\n",
       "      <td>2784.07</td>\n",
       "      <td>483.04</td>\n",
       "      <td>1585.67</td>\n",
       "      <td>...</td>\n",
       "      <td>155.26</td>\n",
       "      <td>2240.00</td>\n",
       "      <td>16.35</td>\n",
       "      <td>26.20</td>\n",
       "      <td>53.90</td>\n",
       "      <td>214.82</td>\n",
       "      <td>20.54</td>\n",
       "      <td>14.10</td>\n",
       "      <td>2835.91</td>\n",
       "      <td>1195.35</td>\n",
       "    </tr>\n",
       "    <tr>\n",
       "      <td>2003-01-03</td>\n",
       "      <td>2679.51</td>\n",
       "      <td>547.34</td>\n",
       "      <td>674.37</td>\n",
       "      <td>21305.57</td>\n",
       "      <td>388.42</td>\n",
       "      <td>268.07</td>\n",
       "      <td>1937.44</td>\n",
       "      <td>2858.64</td>\n",
       "      <td>483.04</td>\n",
       "      <td>1609.16</td>\n",
       "      <td>...</td>\n",
       "      <td>161.01</td>\n",
       "      <td>2240.00</td>\n",
       "      <td>16.35</td>\n",
       "      <td>26.20</td>\n",
       "      <td>53.90</td>\n",
       "      <td>214.82</td>\n",
       "      <td>20.54</td>\n",
       "      <td>14.10</td>\n",
       "      <td>2855.47</td>\n",
       "      <td>1195.35</td>\n",
       "    </tr>\n",
       "    <tr>\n",
       "      <td>2003-01-06</td>\n",
       "      <td>2669.09</td>\n",
       "      <td>547.34</td>\n",
       "      <td>674.37</td>\n",
       "      <td>21729.07</td>\n",
       "      <td>388.42</td>\n",
       "      <td>270.19</td>\n",
       "      <td>1937.44</td>\n",
       "      <td>2982.93</td>\n",
       "      <td>483.04</td>\n",
       "      <td>1609.16</td>\n",
       "      <td>...</td>\n",
       "      <td>155.26</td>\n",
       "      <td>2240.00</td>\n",
       "      <td>16.35</td>\n",
       "      <td>18.71</td>\n",
       "      <td>53.90</td>\n",
       "      <td>240.75</td>\n",
       "      <td>20.54</td>\n",
       "      <td>14.10</td>\n",
       "      <td>2865.25</td>\n",
       "      <td>1195.35</td>\n",
       "    </tr>\n",
       "    <tr>\n",
       "      <td>2003-01-07</td>\n",
       "      <td>2658.66</td>\n",
       "      <td>547.34</td>\n",
       "      <td>668.55</td>\n",
       "      <td>23129.91</td>\n",
       "      <td>388.42</td>\n",
       "      <td>270.19</td>\n",
       "      <td>1937.44</td>\n",
       "      <td>3082.36</td>\n",
       "      <td>483.04</td>\n",
       "      <td>1585.67</td>\n",
       "      <td>...</td>\n",
       "      <td>149.51</td>\n",
       "      <td>2240.00</td>\n",
       "      <td>19.32</td>\n",
       "      <td>18.71</td>\n",
       "      <td>53.90</td>\n",
       "      <td>240.75</td>\n",
       "      <td>20.54</td>\n",
       "      <td>14.10</td>\n",
       "      <td>2884.80</td>\n",
       "      <td>1195.35</td>\n",
       "    </tr>\n",
       "    <tr>\n",
       "      <td>2003-01-08</td>\n",
       "      <td>2658.66</td>\n",
       "      <td>547.34</td>\n",
       "      <td>668.55</td>\n",
       "      <td>22308.95</td>\n",
       "      <td>388.42</td>\n",
       "      <td>270.19</td>\n",
       "      <td>1937.44</td>\n",
       "      <td>3057.51</td>\n",
       "      <td>483.04</td>\n",
       "      <td>1550.43</td>\n",
       "      <td>...</td>\n",
       "      <td>143.76</td>\n",
       "      <td>2240.00</td>\n",
       "      <td>19.32</td>\n",
       "      <td>18.71</td>\n",
       "      <td>53.90</td>\n",
       "      <td>240.75</td>\n",
       "      <td>20.65</td>\n",
       "      <td>14.10</td>\n",
       "      <td>2894.58</td>\n",
       "      <td>1157.99</td>\n",
       "    </tr>\n",
       "    <tr>\n",
       "      <td>...</td>\n",
       "      <td>...</td>\n",
       "      <td>...</td>\n",
       "      <td>...</td>\n",
       "      <td>...</td>\n",
       "      <td>...</td>\n",
       "      <td>...</td>\n",
       "      <td>...</td>\n",
       "      <td>...</td>\n",
       "      <td>...</td>\n",
       "      <td>...</td>\n",
       "      <td>...</td>\n",
       "      <td>...</td>\n",
       "      <td>...</td>\n",
       "      <td>...</td>\n",
       "      <td>...</td>\n",
       "      <td>...</td>\n",
       "      <td>...</td>\n",
       "      <td>...</td>\n",
       "      <td>...</td>\n",
       "      <td>...</td>\n",
       "      <td>...</td>\n",
       "    </tr>\n",
       "    <tr>\n",
       "      <td>2021-06-24</td>\n",
       "      <td>10915.28</td>\n",
       "      <td>86.36</td>\n",
       "      <td>760.07</td>\n",
       "      <td>113598.50</td>\n",
       "      <td>13739.52</td>\n",
       "      <td>659.73</td>\n",
       "      <td>2658.56</td>\n",
       "      <td>556.53</td>\n",
       "      <td>545.55</td>\n",
       "      <td>2607.55</td>\n",
       "      <td>...</td>\n",
       "      <td>130.03</td>\n",
       "      <td>44604.41</td>\n",
       "      <td>1680.98</td>\n",
       "      <td>132.46</td>\n",
       "      <td>2873.02</td>\n",
       "      <td>1431.21</td>\n",
       "      <td>622.73</td>\n",
       "      <td>2599.43</td>\n",
       "      <td>37927.40</td>\n",
       "      <td>21410.80</td>\n",
       "    </tr>\n",
       "    <tr>\n",
       "      <td>2021-06-25</td>\n",
       "      <td>10884.50</td>\n",
       "      <td>86.36</td>\n",
       "      <td>760.07</td>\n",
       "      <td>114861.70</td>\n",
       "      <td>13739.52</td>\n",
       "      <td>661.93</td>\n",
       "      <td>2658.56</td>\n",
       "      <td>556.53</td>\n",
       "      <td>545.55</td>\n",
       "      <td>2607.55</td>\n",
       "      <td>...</td>\n",
       "      <td>130.03</td>\n",
       "      <td>44604.41</td>\n",
       "      <td>1715.28</td>\n",
       "      <td>132.46</td>\n",
       "      <td>2873.02</td>\n",
       "      <td>1374.83</td>\n",
       "      <td>622.73</td>\n",
       "      <td>2530.42</td>\n",
       "      <td>37405.35</td>\n",
       "      <td>21212.56</td>\n",
       "    </tr>\n",
       "    <tr>\n",
       "      <td>2021-06-28</td>\n",
       "      <td>10736.07</td>\n",
       "      <td>86.36</td>\n",
       "      <td>760.07</td>\n",
       "      <td>111606.30</td>\n",
       "      <td>13739.52</td>\n",
       "      <td>625.64</td>\n",
       "      <td>2658.56</td>\n",
       "      <td>556.53</td>\n",
       "      <td>545.55</td>\n",
       "      <td>2607.55</td>\n",
       "      <td>...</td>\n",
       "      <td>130.03</td>\n",
       "      <td>44604.41</td>\n",
       "      <td>1654.02</td>\n",
       "      <td>132.46</td>\n",
       "      <td>2873.02</td>\n",
       "      <td>1379.17</td>\n",
       "      <td>622.73</td>\n",
       "      <td>2530.42</td>\n",
       "      <td>37146.55</td>\n",
       "      <td>21225.77</td>\n",
       "    </tr>\n",
       "    <tr>\n",
       "      <td>2021-06-29</td>\n",
       "      <td>10920.78</td>\n",
       "      <td>86.36</td>\n",
       "      <td>760.07</td>\n",
       "      <td>114514.10</td>\n",
       "      <td>13739.52</td>\n",
       "      <td>648.73</td>\n",
       "      <td>2658.56</td>\n",
       "      <td>556.53</td>\n",
       "      <td>545.55</td>\n",
       "      <td>2607.55</td>\n",
       "      <td>...</td>\n",
       "      <td>130.03</td>\n",
       "      <td>44604.41</td>\n",
       "      <td>1651.57</td>\n",
       "      <td>132.46</td>\n",
       "      <td>2873.02</td>\n",
       "      <td>1379.17</td>\n",
       "      <td>622.73</td>\n",
       "      <td>2507.41</td>\n",
       "      <td>37371.88</td>\n",
       "      <td>21291.86</td>\n",
       "    </tr>\n",
       "    <tr>\n",
       "      <td>2021-06-30</td>\n",
       "      <td>10808.63</td>\n",
       "      <td>86.36</td>\n",
       "      <td>760.07</td>\n",
       "      <td>115056.60</td>\n",
       "      <td>13739.52</td>\n",
       "      <td>571.76</td>\n",
       "      <td>2658.56</td>\n",
       "      <td>556.53</td>\n",
       "      <td>545.55</td>\n",
       "      <td>2607.55</td>\n",
       "      <td>...</td>\n",
       "      <td>130.03</td>\n",
       "      <td>44604.41</td>\n",
       "      <td>1694.46</td>\n",
       "      <td>132.46</td>\n",
       "      <td>2873.02</td>\n",
       "      <td>1370.49</td>\n",
       "      <td>619.42</td>\n",
       "      <td>2541.92</td>\n",
       "      <td>37258.10</td>\n",
       "      <td>22031.98</td>\n",
       "    </tr>\n",
       "  </tbody>\n",
       "</table>\n",
       "<p>4656 rows × 224 columns</p>\n",
       "</div>"
      ],
      "text/plain": [
       "              930060  699903  879841     314909    15362F  315452   884570  \\\n",
       "date                                                                         \n",
       "2003-01-02   2658.66  547.34  674.37   20901.61    392.39  268.07  1983.24   \n",
       "2003-01-03   2679.51  547.34  674.37   21305.57    388.42  268.07  1937.44   \n",
       "2003-01-06   2669.09  547.34  674.37   21729.07    388.42  270.19  1937.44   \n",
       "2003-01-07   2658.66  547.34  668.55   23129.91    388.42  270.19  1937.44   \n",
       "2003-01-08   2658.66  547.34  668.55   22308.95    388.42  270.19  1937.44   \n",
       "...              ...     ...     ...        ...       ...     ...      ...   \n",
       "2021-06-24  10915.28   86.36  760.07  113598.50  13739.52  659.73  2658.56   \n",
       "2021-06-25  10884.50   86.36  760.07  114861.70  13739.52  661.93  2658.56   \n",
       "2021-06-28  10736.07   86.36  760.07  111606.30  13739.52  625.64  2658.56   \n",
       "2021-06-29  10920.78   86.36  760.07  114514.10  13739.52  648.73  2658.56   \n",
       "2021-06-30  10808.63   86.36  760.07  115056.60  13739.52  571.76  2658.56   \n",
       "\n",
       "             992762  879650   315449  ...  687286    936980   361367  152198  \\\n",
       "date                                  ...                                      \n",
       "2003-01-02  2784.07  483.04  1585.67  ...  155.26   2240.00    16.35   26.20   \n",
       "2003-01-03  2858.64  483.04  1609.16  ...  161.01   2240.00    16.35   26.20   \n",
       "2003-01-06  2982.93  483.04  1609.16  ...  155.26   2240.00    16.35   18.71   \n",
       "2003-01-07  3082.36  483.04  1585.67  ...  149.51   2240.00    19.32   18.71   \n",
       "2003-01-08  3057.51  483.04  1550.43  ...  143.76   2240.00    19.32   18.71   \n",
       "...             ...     ...      ...  ...     ...       ...      ...     ...   \n",
       "2021-06-24   556.53  545.55  2607.55  ...  130.03  44604.41  1680.98  132.46   \n",
       "2021-06-25   556.53  545.55  2607.55  ...  130.03  44604.41  1715.28  132.46   \n",
       "2021-06-28   556.53  545.55  2607.55  ...  130.03  44604.41  1654.02  132.46   \n",
       "2021-06-29   556.53  545.55  2607.55  ...  130.03  44604.41  1651.57  132.46   \n",
       "2021-06-30   556.53  545.55  2607.55  ...  130.03  44604.41  1694.46  132.46   \n",
       "\n",
       "             871347   362603  502585   152288    779661    317449  \n",
       "date                                                               \n",
       "2003-01-02    53.90   214.82   20.54    14.10   2835.91   1195.35  \n",
       "2003-01-03    53.90   214.82   20.54    14.10   2855.47   1195.35  \n",
       "2003-01-06    53.90   240.75   20.54    14.10   2865.25   1195.35  \n",
       "2003-01-07    53.90   240.75   20.54    14.10   2884.80   1195.35  \n",
       "2003-01-08    53.90   240.75   20.65    14.10   2894.58   1157.99  \n",
       "...             ...      ...     ...      ...       ...       ...  \n",
       "2021-06-24  2873.02  1431.21  622.73  2599.43  37927.40  21410.80  \n",
       "2021-06-25  2873.02  1374.83  622.73  2530.42  37405.35  21212.56  \n",
       "2021-06-28  2873.02  1379.17  622.73  2530.42  37146.55  21225.77  \n",
       "2021-06-29  2873.02  1379.17  622.73  2507.41  37371.88  21291.86  \n",
       "2021-06-30  2873.02  1370.49  619.42  2541.92  37258.10  22031.98  \n",
       "\n",
       "[4656 rows x 224 columns]"
      ]
     },
     "execution_count": 104,
     "metadata": {},
     "output_type": "execute_result"
    }
   ],
   "source": [
    "market_caps"
   ]
  },
  {
   "cell_type": "code",
   "execution_count": 121,
   "metadata": {},
   "outputs": [],
   "source": [
    "filtered_market_cap = market_caps[\"2003-01-02\":\"2021-06-30\"]\n",
    "filtered_price = prices[\"2003-01-02\":\"2021-06-30\"]"
   ]
  },
  {
   "cell_type": "code",
   "execution_count": 122,
   "metadata": {},
   "outputs": [],
   "source": [
    "filtered_market_cap = filtered_market_cap.agg(np.mean).to_frame().reset_index()\n",
    "filtered_price = filtered_price.agg(np.mean).to_frame().reset_index()"
   ]
  },
  {
   "cell_type": "code",
   "execution_count": 123,
   "metadata": {},
   "outputs": [],
   "source": [
    "filtered_market_cap = filtered_market_cap.rename(columns={\"index\":\"stock\", 0:\"avg market cap\"})\n",
    "filtered_price = filtered_price.rename(columns={\"index\":\"stock\", 0:\"avg price\"})\n"
   ]
  },
  {
   "cell_type": "code",
   "execution_count": 124,
   "metadata": {},
   "outputs": [],
   "source": [
    "combined = pd.merge(filtered_market_cap, filtered_price, on=\"stock\", how=\"inner\")"
   ]
  },
  {
   "cell_type": "code",
   "execution_count": 125,
   "metadata": {},
   "outputs": [
    {
     "data": {
      "text/plain": [
       "0       9644.891265\n",
       "1        245.113918\n",
       "2        757.682350\n",
       "3      96858.343673\n",
       "4       7691.867893\n",
       "           ...     \n",
       "219     1000.644530\n",
       "220      736.351823\n",
       "221     1295.501050\n",
       "222    18738.034564\n",
       "223     8243.148226\n",
       "Name: avg market cap, Length: 224, dtype: float64"
      ]
     },
     "execution_count": 125,
     "metadata": {},
     "output_type": "execute_result"
    }
   ],
   "source": [
    "combined[\"avg market cap\"]"
   ]
  },
  {
   "cell_type": "code",
   "execution_count": 126,
   "metadata": {},
   "outputs": [],
   "source": [
    "from sklearn.cluster import KMeans"
   ]
  },
  {
   "cell_type": "code",
   "execution_count": 128,
   "metadata": {},
   "outputs": [
    {
     "data": {
      "text/plain": [
       "KMeans(algorithm='auto', copy_x=True, init='k-means++', max_iter=300,\n",
       "       n_clusters=5, n_init=10, n_jobs=None, precompute_distances='auto',\n",
       "       random_state=None, tol=0.0001, verbose=0)"
      ]
     },
     "execution_count": 128,
     "metadata": {},
     "output_type": "execute_result"
    }
   ],
   "source": [
    "km = KMeans(n_clusters=5)\n",
    "km.fit(combined[[\"avg market cap\", \"avg price\"]])"
   ]
  },
  {
   "cell_type": "code",
   "execution_count": 129,
   "metadata": {},
   "outputs": [],
   "source": [
    "clusters = pd.DataFrame(km.cluster_centers_, columns=[\"avg market cap\", \"avg price\"], index=['Cluster1', 'Cluster2', 'Cluster3', 'Cluster4', 'Cluster5'])"
   ]
  },
  {
   "cell_type": "code",
   "execution_count": 130,
   "metadata": {},
   "outputs": [
    {
     "data": {
      "text/plain": [
       "array([1, 4, 3, 2, 5])"
      ]
     },
     "execution_count": 130,
     "metadata": {},
     "output_type": "execute_result"
    }
   ],
   "source": [
    "combined['Cluster'] = km.labels_ + 1\n",
    "combined[\"Cluster\"].unique()"
   ]
  },
  {
   "cell_type": "code",
   "execution_count": 114,
   "metadata": {},
   "outputs": [],
   "source": [
    "inertia = []\n",
    "for k in range(1 , 21):\n",
    "    estimator = KMeans(n_clusters=k)\n",
    "    estimator.fit(combined[[\"avg market cap\", \"avg price\"]])\n",
    "    inertia.append(estimator.inertia_)"
   ]
  },
  {
   "cell_type": "code",
   "execution_count": 115,
   "metadata": {},
   "outputs": [
    {
     "data": {
      "text/plain": [
       "<matplotlib.axes._subplots.AxesSubplot at 0x1a21311710>"
      ]
     },
     "execution_count": 115,
     "metadata": {},
     "output_type": "execute_result"
    },
    {
     "data": {
      "image/png": "[encoded data removed]",
      "text/plain": [
       "<Figure size 432x288 with 1 Axes>"
      ]
     },
     "metadata": {
      "needs_background": "light"
     },
     "output_type": "display_data"
    }
   ],
   "source": [
    "sns.pointplot(np.arange(1,21), inertia)"
   ]
  },
  {
   "cell_type": "code",
   "execution_count": 136,
   "metadata": {},
   "outputs": [
    {
     "data": {
      "text/plain": [
       "<seaborn.axisgrid.FacetGrid at 0x1a23663ed0>"
      ]
     },
     "execution_count": 136,
     "metadata": {},
     "output_type": "execute_result"
    },
    {
     "data": {
      "image/png": "[encoded data removed]",
      "text/plain": [
       "<Figure size 431.5x360 with 1 Axes>"
      ]
     },
     "metadata": {
      "needs_background": "light"
     },
     "output_type": "display_data"
    }
   ],
   "source": [
    "sns.relplot(y=\"avg market cap\", x=\"avg price\", data=combined, hue=\"Cluster\")"
   ]
  },
  {
   "cell_type": "code",
   "execution_count": 134,
   "metadata": {},
   "outputs": [
    {
     "data": {
      "text/plain": [
       "<seaborn.axisgrid.FacetGrid at 0x1a2333f450>"
      ]
     },
     "execution_count": 134,
     "metadata": {},
     "output_type": "execute_result"
    },
    {
     "data": {
      "image/png": "[encoded data removed]",
      "text/plain": [
       "<Figure size 360x360 with 1 Axes>"
      ]
     },
     "metadata": {
      "needs_background": "light"
     },
     "output_type": "display_data"
    }
   ],
   "source": [
    "sns.relplot(x=\"Cluster\", y=\"avg market cap\", data=combined)"
   ]
  },
  {
   "cell_type": "code",
   "execution_count": 137,
   "metadata": {},
   "outputs": [
    {
     "data": {
      "text/html": [
       "<div>\n",
       "<style scoped>\n",
       "    .dataframe tbody tr th:only-of-type {\n",
       "        vertical-align: middle;\n",
       "    }\n",
       "\n",
       "    .dataframe tbody tr th {\n",
       "        vertical-align: top;\n",
       "    }\n",
       "\n",
       "    .dataframe thead th {\n",
       "        text-align: right;\n",
       "    }\n",
       "</style>\n",
       "<table border=\"1\" class=\"dataframe\">\n",
       "  <thead>\n",
       "    <tr style=\"text-align: right;\">\n",
       "      <th></th>\n",
       "      <th>stock</th>\n",
       "      <th>avg market cap</th>\n",
       "      <th>avg price</th>\n",
       "      <th>Cluster</th>\n",
       "    </tr>\n",
       "  </thead>\n",
       "  <tbody>\n",
       "    <tr>\n",
       "      <td>0</td>\n",
       "      <td>930060</td>\n",
       "      <td>9644.891265</td>\n",
       "      <td>79.413144</td>\n",
       "      <td>1</td>\n",
       "    </tr>\n",
       "    <tr>\n",
       "      <td>1</td>\n",
       "      <td>699903</td>\n",
       "      <td>245.113918</td>\n",
       "      <td>0.502768</td>\n",
       "      <td>1</td>\n",
       "    </tr>\n",
       "    <tr>\n",
       "      <td>2</td>\n",
       "      <td>879841</td>\n",
       "      <td>757.682350</td>\n",
       "      <td>7.549040</td>\n",
       "      <td>1</td>\n",
       "    </tr>\n",
       "    <tr>\n",
       "      <td>3</td>\n",
       "      <td>314909</td>\n",
       "      <td>96858.343673</td>\n",
       "      <td>125.330075</td>\n",
       "      <td>4</td>\n",
       "    </tr>\n",
       "    <tr>\n",
       "      <td>4</td>\n",
       "      <td>15362F</td>\n",
       "      <td>7691.867893</td>\n",
       "      <td>39.402792</td>\n",
       "      <td>1</td>\n",
       "    </tr>\n",
       "    <tr>\n",
       "      <td>...</td>\n",
       "      <td>...</td>\n",
       "      <td>...</td>\n",
       "      <td>...</td>\n",
       "      <td>...</td>\n",
       "    </tr>\n",
       "    <tr>\n",
       "      <td>219</td>\n",
       "      <td>362603</td>\n",
       "      <td>1000.644530</td>\n",
       "      <td>2.284512</td>\n",
       "      <td>1</td>\n",
       "    </tr>\n",
       "    <tr>\n",
       "      <td>220</td>\n",
       "      <td>502585</td>\n",
       "      <td>736.351823</td>\n",
       "      <td>3.532150</td>\n",
       "      <td>1</td>\n",
       "    </tr>\n",
       "    <tr>\n",
       "      <td>221</td>\n",
       "      <td>152288</td>\n",
       "      <td>1295.501050</td>\n",
       "      <td>3.207751</td>\n",
       "      <td>1</td>\n",
       "    </tr>\n",
       "    <tr>\n",
       "      <td>222</td>\n",
       "      <td>779661</td>\n",
       "      <td>18738.034564</td>\n",
       "      <td>87.490292</td>\n",
       "      <td>1</td>\n",
       "    </tr>\n",
       "    <tr>\n",
       "      <td>223</td>\n",
       "      <td>317449</td>\n",
       "      <td>8243.148226</td>\n",
       "      <td>7.357704</td>\n",
       "      <td>1</td>\n",
       "    </tr>\n",
       "  </tbody>\n",
       "</table>\n",
       "<p>224 rows × 4 columns</p>\n",
       "</div>"
      ],
      "text/plain": [
       "      stock  avg market cap   avg price  Cluster\n",
       "0    930060     9644.891265   79.413144        1\n",
       "1    699903      245.113918    0.502768        1\n",
       "2    879841      757.682350    7.549040        1\n",
       "3    314909    96858.343673  125.330075        4\n",
       "4    15362F     7691.867893   39.402792        1\n",
       "..      ...             ...         ...      ...\n",
       "219  362603     1000.644530    2.284512        1\n",
       "220  502585      736.351823    3.532150        1\n",
       "221  152288     1295.501050    3.207751        1\n",
       "222  779661    18738.034564   87.490292        1\n",
       "223  317449     8243.148226    7.357704        1\n",
       "\n",
       "[224 rows x 4 columns]"
      ]
     },
     "execution_count": 137,
     "metadata": {},
     "output_type": "execute_result"
    }
   ],
   "source": [
    "combined"
   ]
  },
  {
   "cell_type": "code",
   "execution_count": null,
   "metadata": {},
   "outputs": [],
   "source": []
  }
 ],
 "metadata": {
  "kernelspec": {
   "display_name": "Python 3",
   "language": "python",
   "name": "python3"
  },
  "language_info": {
   "codemirror_mode": {
    "name": "ipython",
    "version": 3
   },
   "file_extension": ".py",
   "mimetype": "text/x-python",
   "name": "python",
   "nbconvert_exporter": "python",
   "pygments_lexer": "ipython3",
   "version": "3.7.4"
  }
 },
 "nbformat": 4,
 "nbformat_minor": 2
}
